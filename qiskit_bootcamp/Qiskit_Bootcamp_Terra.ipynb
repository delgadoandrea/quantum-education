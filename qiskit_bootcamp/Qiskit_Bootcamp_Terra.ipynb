{
 "cells": [
  {
   "cell_type": "markdown",
   "metadata": {
    "slideshow": {
     "slide_type": "skip"
    }
   },
   "source": [
    "# [Qiskit Bootcamp Part 0: Introduction to Qiskit and IBM Q](https://docs.google.com/presentation/d/1Y--23RhBtemLSxkFG40uhmMKpX-QJw6xL9WpA1ZUq2s/edit#slide=id.p)\n",
    "\n",
    "Note: Search for the 📒emoji to see all the notebooks linked in this deck."
   ]
  },
  {
   "cell_type": "markdown",
   "metadata": {
    "slideshow": {
     "slide_type": "slide"
    }
   },
   "source": [
    "![Qiskit](https://github.com/Qiskit/qiskit-tutorials/raw/115c78962dda85bac29d679063b7d0d0ab1d1ab4/images/qiskit-heading.gif)"
   ]
  },
  {
   "cell_type": "markdown",
   "metadata": {
    "slideshow": {
     "slide_type": "-"
    }
   },
   "source": [
    "# Qiskit Bootcamp Parts I & II: Building and Executing Quantum Circuits with Terra, Aer, & IBM Q\n",
    "\n",
    "donny@ibm.com <br>_23-Apr-19_"
   ]
  },
  {
   "cell_type": "code",
   "execution_count": 1,
   "metadata": {
    "slideshow": {
     "slide_type": "skip"
    }
   },
   "outputs": [],
   "source": [
    "# **Note:** This notebook can be presented as a deck by uncommenting and running:\n",
    "#!jupyter nbconvert ./Qiskit_Bootcamp_Terra.ipynb --to slides --post serve\n",
    "\n",
    "# Or by installing RISE: https://damianavila.github.io/RISE/."
   ]
  },
  {
   "cell_type": "markdown",
   "metadata": {
    "slideshow": {
     "slide_type": "slide"
    }
   },
   "source": [
    "# Gameplan\n",
    "\n",
    "* Part I: Constructing and Compiling Circuits in Terra\n",
    "    * Circuit Construction Basics\n",
    "    * Structural Elements\n",
    "    * Compilation Flow, Transpilation\n",
    "* Part II: Executing Circuits on Aer, BasicAer, and IBMQ\n",
    "  * Aer basics\n",
    "    * Ideal simulation\n",
    "    * Noiseless sampling simulation\n",
    "  * IBM Q Basics\n",
    "    * Browsing device info\n",
    "    * Building and executing noise model from device properties\n",
    "    * Executing on quantum hardware\n",
    "* Tips and tricks\n",
    "* Learning More, Resources\n",
    "* Resources for Quantum Algorithm Building Blocks"
   ]
  },
  {
   "cell_type": "markdown",
   "metadata": {
    "slideshow": {
     "slide_type": "slide"
    }
   },
   "source": [
    "But first, install Terra, Aer, and IBM Q (and Ignis):"
   ]
  },
  {
   "cell_type": "code",
   "execution_count": 2,
   "metadata": {
    "slideshow": {
     "slide_type": "fragment"
    }
   },
   "outputs": [],
   "source": [
    "#!pip install qiskit"
   ]
  },
  {
   "cell_type": "markdown",
   "metadata": {
    "slideshow": {
     "slide_type": "slide"
    }
   },
   "source": [
    "# Part I: Constructing and Compiling Circuits in Terra"
   ]
  },
  {
   "cell_type": "markdown",
   "metadata": {
    "slideshow": {
     "slide_type": "slide"
    }
   },
   "source": [
    "# What is Terra?\n",
    "\n",
    "Right now (Version ~0.8) Terra’s core service is the construction and compilation of Quantum executables (circuits and pulse schedules) for arbitrary backends\n",
    "   * Terra includes interfaces for the construction of OpenQASM-compliant circuits and OpenPulse-compliant pulse schedules - see the [paper here](https://arxiv.org/abs/1809.03452)\n",
    "   * Terra can take a single circuit or pulse object and compile it to run on any OpenQASM or OpenPulse compliant Quantum hardware or simulator\n",
    "   * Terra also optimizes circuits, and allows for plug-and-play transpilation options\n",
    "   \n",
    "**Today we will only focus on circuits, not pulse schedules, because pulse v0 is being released presently.**"
   ]
  },
  {
   "cell_type": "markdown",
   "metadata": {
    "slideshow": {
     "slide_type": "slide"
    }
   },
   "source": [
    "In the future, Terra will include:\n",
    "\n",
    "  * More convenience operations for constructing sophisticated circuits\n",
    "  * Richer set of tools for Quantum Information (Operators, Channels, States, etc.)\n",
    "\n",
    "Keep in mind:\n",
    "\n",
    "  * Terra is not a language per se, but more of a large piece of infrastructure. Some code may seem unnecessary for the one thing you’re doing, but in many cases it’s necessary for Qiskit to be robust.\n",
    "  * Qiskit is very much a work in progress. It is changing rapidly to converge toward the needs of its users. \n",
    "\n",
    "🎉**You are now in the inner circle of people who have a strong voice about the direction of Qiskit.** 🎉"
   ]
  },
  {
   "cell_type": "code",
   "execution_count": 3,
   "metadata": {
    "slideshow": {
     "slide_type": "slide"
    }
   },
   "outputs": [],
   "source": [
    "# Housekeeping: uncomment this to suppress deprecation warnings\n",
    "import warnings\n",
    "warnings.filterwarnings('ignore')"
   ]
  },
  {
   "cell_type": "markdown",
   "metadata": {
    "slideshow": {
     "slide_type": "slide"
    }
   },
   "source": [
    "# Structural Elements\n",
    "\n",
    "Let's start building circuits to get acquainted with Terra's structural elements."
   ]
  },
  {
   "cell_type": "code",
   "execution_count": 4,
   "metadata": {
    "slideshow": {
     "slide_type": "fragment"
    }
   },
   "outputs": [],
   "source": [
    "from qiskit import QuantumRegister, ClassicalRegister, QuantumCircuit\n",
    "import numpy as np"
   ]
  },
  {
   "cell_type": "code",
   "execution_count": 5,
   "metadata": {
    "slideshow": {
     "slide_type": "fragment"
    }
   },
   "outputs": [],
   "source": [
    "# Create a Quantum Register with 3 qubits\n",
    "qr = QuantumRegister(3)\n",
    "\n",
    "# Create a Classical Register with 3 bits\n",
    "# Only necessary if you want to do measurement!\n",
    "cr = ClassicalRegister(3)\n",
    "\n",
    "# Create a Quantum Circuit acting on the qr and cr register\n",
    "bell = QuantumCircuit(qr, cr)"
   ]
  },
  {
   "cell_type": "markdown",
   "metadata": {
    "slideshow": {
     "slide_type": "slide"
    }
   },
   "source": [
    "# QuantumCircuits are the primary unit of computation in Terra\n",
    "* QuantumCircuits are backend agnostic\n",
    "* They contain 3 instance variables:\n",
    "  * `name` - for referencing the circuit later (e.g. in the results object)\n",
    "  * `data` - a 1d list of tuples containing `Instructions` in the circuit and the registers they act upon\n",
    "  * `regs` - the `QuantumRegisters` and `ClassicalRegisters` in the instructions of the circuit\n",
    "    * Behind the scenes these are mostly labels, they do not have any fancy instance methods\n"
   ]
  },
  {
   "cell_type": "markdown",
   "metadata": {
    "slideshow": {
     "slide_type": "slide"
    }
   },
   "source": [
    "# I highly recommend scrolling through the `QuantumCircuit` module to gain a feel for what it can do:"
   ]
  },
  {
   "cell_type": "code",
   "execution_count": 6,
   "metadata": {},
   "outputs": [
    {
     "name": "stdout",
     "output_type": "stream",
     "text": [
      "Help on class QuantumCircuit in module qiskit.circuit.quantumcircuit:\n",
      "\n",
      "class QuantumCircuit(builtins.object)\n",
      " |  Quantum circuit.\n",
      " |  \n",
      " |  Methods defined here:\n",
      " |  \n",
      " |  __add__(self, rhs)\n",
      " |      Overload + to implement self.combine.\n",
      " |  \n",
      " |  __eq__(self, other)\n",
      " |      Return self==value.\n",
      " |  \n",
      " |  __getitem__(self, item)\n",
      " |      Return indexed operation.\n",
      " |  \n",
      " |  __iadd__(self, rhs)\n",
      " |      Overload += to implement self.extend.\n",
      " |  \n",
      " |  __init__(self, *regs, name=None)\n",
      " |      Create a new circuit.\n",
      " |      A circuit is a list of instructions bound to some registers.\n",
      " |      Args:\n",
      " |          *regs (list(Register) or list(Int)): To be included in the circuit.\n",
      " |                - If [Register], the QuantumRegister and/or ClassicalRegister\n",
      " |                  to include in the circuit.\n",
      " |                  E.g.: QuantumCircuit(QuantumRegister(4))\n",
      " |                        QuantumCircuit(QuantumRegister(4), ClassicalRegister(3))\n",
      " |                        QuantumCircuit(QuantumRegister(4, 'qr0'), QuantumRegister(2, 'qr1'))\n",
      " |                - If [Int], the amount of qubits and/or classical bits to include\n",
      " |                in the circuit. It can be (Int, ) or (Int, Int).\n",
      " |                  E.g.: QuantumCircuit(4) # A QuantumCircuit with 4 qubits\n",
      " |                        QuantumCircuit(4, 3) # A QuantumCircuit with 4 qubits and 3 classical bits\n",
      " |          name (str or None): the name of the quantum circuit. If\n",
      " |              None, an automatically generated string will be assigned.\n",
      " |      \n",
      " |      Raises:\n",
      " |          QiskitError: if the circuit name, if given, is not valid.\n",
      " |  \n",
      " |  __len__(self)\n",
      " |      Return number of operations in circuit.\n",
      " |  \n",
      " |  __str__(self)\n",
      " |      Return str(self).\n",
      " |  \n",
      " |  add_register(self, *regs)\n",
      " |      Add registers.\n",
      " |  \n",
      " |  append(self, instruction, qargs=None, cargs=None)\n",
      " |      Append an instruction to the end of the circuit, modifying\n",
      " |      the circuit in place.\n",
      " |      \n",
      " |      Args:\n",
      " |          instruction (Instruction): Instruction instance to append\n",
      " |          qargs (list(tuple)): qubits to attach instruction to\n",
      " |          cargs (list(tuple)): clbits to attach instruction to\n",
      " |      \n",
      " |      Returns:\n",
      " |          Instruction: a handle to the instruction that was just added\n",
      " |      \n",
      " |      Raises:\n",
      " |          QiskitError: if the gate is of a different shape than the wires\n",
      " |              it is being attached to.\n",
      " |  \n",
      " |  assign_variables(self, value_dict)\n",
      " |      Assign variables to values yielding a new circuit.\n",
      " |      \n",
      " |      Args:\n",
      " |          value_dict (dict): {variable: value, ...}\n",
      " |      \n",
      " |      Returns:\n",
      " |          QuantumCircuit: copy of self with assignment substitution.\n",
      " |  \n",
      " |  barrier(self, *qargs)\n",
      " |      Apply barrier to circuit.\n",
      " |      If qargs is None, applies to all the qbits.\n",
      " |      Args is a list of QuantumRegister or single qubits.\n",
      " |      For QuantumRegister, applies barrier to all the qubits in that register.\n",
      " |  \n",
      " |  ccx(self, ctl1, ctl2, tgt)\n",
      " |      Apply Toffoli to from ctl1 and ctl2 to tgt.\n",
      " |  \n",
      " |  ch(self, ctl, tgt)\n",
      " |      Apply CH from ctl to tgt.\n",
      " |  \n",
      " |  clbits(self)\n",
      " |      Returns a list of classical bits in the order that the registers had been added.\n",
      " |  \n",
      " |  combine(self, rhs)\n",
      " |      Append rhs to self if self contains compatible registers.\n",
      " |      \n",
      " |      Two circuits are compatible if they contain the same registers\n",
      " |      or if they contain different registers with unique names. The\n",
      " |      returned circuit will contain all unique registers between both\n",
      " |      circuits.\n",
      " |      \n",
      " |      Return self + rhs as a new object.\n",
      " |  \n",
      " |  copy(self, name=None)\n",
      " |      Args:\n",
      " |        name (str): name to be given to the copied circuit, if None then the name stays the same\n",
      " |      Returns:\n",
      " |        QuantumCircuit: a deepcopy of the current circuit, with the name updated if\n",
      " |                        it was provided\n",
      " |  \n",
      " |  count_ops(self)\n",
      " |      Count each operation kind in the circuit.\n",
      " |      \n",
      " |      Returns:\n",
      " |          dict: a breakdown of how many operations of each kind.\n",
      " |  \n",
      " |  crz(self, theta, ctl, tgt)\n",
      " |      Apply crz from ctl to tgt with angle theta.\n",
      " |  \n",
      " |  cswap(self, ctl, tgt1, tgt2)\n",
      " |      Apply Fredkin to circuit.\n",
      " |  \n",
      " |  cu1(self, theta, ctl, tgt)\n",
      " |      Apply cu1 from ctl to tgt with angle theta.\n",
      " |  \n",
      " |  cu3(self, theta, phi, lam, ctl, tgt)\n",
      " |      Apply cu3 from ctl to tgt with angle theta, phi, lam.\n",
      " |  \n",
      " |  cx(self, ctl, tgt)\n",
      " |      Apply CX from ctl to tgt.\n",
      " |  \n",
      " |  cx_base(self, ctl, tgt)\n",
      " |      Apply CX ctl, tgt.\n",
      " |  \n",
      " |  cy(self, ctl, tgt)\n",
      " |      Apply CY to circuit.\n",
      " |  \n",
      " |  cz(self, ctl, tgt)\n",
      " |      Apply CZ to circuit.\n",
      " |  \n",
      " |  decompose(self)\n",
      " |      Call a decomposition pass on this circuit,\n",
      " |      to decompose one level (shallow decompose).\n",
      " |      \n",
      " |      Returns:\n",
      " |          QuantumCircuit: a circuit one level decomposed\n",
      " |  \n",
      " |  depth(self)\n",
      " |      Return circuit depth (i.e. length of critical path).\n",
      " |      This does not include compiler or simulator directives\n",
      " |      such as 'barrier' or 'snapshot'.\n",
      " |      \n",
      " |      Returns:\n",
      " |          int: Depth of circuit.\n",
      " |      \n",
      " |      Notes:\n",
      " |          The circuit depth and the DAG depth need not bt the\n",
      " |          same.\n",
      " |  \n",
      " |  draw(self, scale=0.7, filename=None, style=None, output='text', interactive=False, line_length=None, plot_barriers=True, reverse_bits=False, justify=None)\n",
      " |      Draw the quantum circuit\n",
      " |      \n",
      " |      Using the output parameter you can specify the format. The choices are:\n",
      " |      0. text: ASCII art string\n",
      " |      1. latex: high-quality images, but heavy external software dependencies\n",
      " |      2. matplotlib: purely in Python with no external dependencies\n",
      " |      \n",
      " |      Defaults to an overcomplete basis, in order to not alter gates.\n",
      " |      \n",
      " |      Args:\n",
      " |          scale (float): scale of image to draw (shrink if < 1)\n",
      " |          filename (str): file path to save image to\n",
      " |          style (dict or str): dictionary of style or file name of style\n",
      " |              file. You can refer to the\n",
      " |              :ref:`Style Dict Doc <style-dict-doc>` for more information\n",
      " |              on the contents.\n",
      " |          output (str): Select the output method to use for drawing the\n",
      " |              circuit. Valid choices are `text`, `latex`, `latex_source`,\n",
      " |              `mpl`.\n",
      " |          interactive (bool): when set true show the circuit in a new window\n",
      " |              (for `mpl` this depends on the matplotlib backend being used\n",
      " |              supporting this). Note when used with either the `text` or the\n",
      " |              `latex_source` output type this has no effect and will be\n",
      " |              silently ignored.\n",
      " |          line_length (int): sets the length of the lines generated by `text`\n",
      " |          reverse_bits (bool): When set to True reverse the bit order inside\n",
      " |              registers for the output visualization.\n",
      " |          plot_barriers (bool): Enable/disable drawing barriers in the output\n",
      " |              circuit. Defaults to True.\n",
      " |          justify (string): Options are `left`, `right` or `none`, if anything\n",
      " |              else is supplied it defaults to left justified. It refers to where\n",
      " |              gates should be placed in the output circuit if there is an option.\n",
      " |              `none` results in each gate being placed in its own column. Currently\n",
      " |              only supported by text drawer.\n",
      " |      \n",
      " |      Returns:\n",
      " |          PIL.Image or matplotlib.figure or str or TextDrawing:\n",
      " |              * PIL.Image: (output `latex`) an in-memory representation of the\n",
      " |                image of the circuit diagram.\n",
      " |              * matplotlib.figure: (output `mpl`) a matplotlib figure object\n",
      " |                for the circuit diagram.\n",
      " |              * str: (output `latex_source`). The LaTeX source code.\n",
      " |              * TextDrawing: (output `text`). A drawing that can be printed as\n",
      " |                ascii art\n",
      " |      \n",
      " |      Raises:\n",
      " |          VisualizationError: when an invalid output method is selected\n",
      " |  \n",
      " |  extend(self, rhs)\n",
      " |      Append rhs to self if self contains compatible registers.\n",
      " |      \n",
      " |      Two circuits are compatible if they contain the same registers\n",
      " |      or if they contain different registers with unique names. The\n",
      " |      returned circuit will contain all unique registers between both\n",
      " |      circuits.\n",
      " |      \n",
      " |      Modify and return self.\n",
      " |  \n",
      " |  h(self, q)\n",
      " |      Apply H to q.\n",
      " |  \n",
      " |  has_register(self, register)\n",
      " |      Test if this circuit has the register r.\n",
      " |      \n",
      " |      Args:\n",
      " |          register (Register): a quantum or classical register.\n",
      " |      \n",
      " |      Returns:\n",
      " |          bool: True if the register is contained in this circuit.\n",
      " |  \n",
      " |  iden(self, q)\n",
      " |      Apply Identity to q.\n",
      " |  \n",
      " |  initialize(self, params, qubits)\n",
      " |      Apply initialize to circuit.\n",
      " |  \n",
      " |  inverse(self)\n",
      " |      Invert this circuit.\n",
      " |      \n",
      " |      This is done by recursively inverting all gates.\n",
      " |      \n",
      " |      Returns:\n",
      " |          QuantumCircuit: the inverted circuit\n",
      " |      \n",
      " |      Raises:\n",
      " |          QiskitError: if the circuit cannot be inverted.\n",
      " |  \n",
      " |  measure(self, qubit, cbit)\n",
      " |      Measure quantum bit into classical bit (tuples).\n",
      " |      \n",
      " |      Args:\n",
      " |          qubit (QuantumRegister|list|tuple): quantum register\n",
      " |          cbit (ClassicalRegister|list|tuple): classical register\n",
      " |      \n",
      " |      Returns:\n",
      " |          qiskit.Instruction: the attached measure instruction.\n",
      " |      \n",
      " |      Raises:\n",
      " |          QiskitError: if qubit is not in this circuit or bad format;\n",
      " |              if cbit is not in this circuit or not creg.\n",
      " |  \n",
      " |  mirror(self)\n",
      " |      Mirror the circuit by reversing the instructions.\n",
      " |      \n",
      " |      This is done by recursively mirroring all instructions.\n",
      " |      It does not invert any gate.\n",
      " |      \n",
      " |      Returns:\n",
      " |          QuantumCircuit: the mirrored circuit\n",
      " |  \n",
      " |  num_connected_components(self, unitary_only=False)\n",
      " |      How many non-entangled subcircuits can the circuit be factored to.\n",
      " |      \n",
      " |      Args:\n",
      " |          unitary_only (bool): Compute only unitary part of graph.\n",
      " |      \n",
      " |      Returns:\n",
      " |          int: Number of connected components in circuit.\n",
      " |  \n",
      " |  num_tensor_factors(self)\n",
      " |      Computes the number of tensor factors in the unitary\n",
      " |      (quantum) part of the circuit only.\n",
      " |      \n",
      " |      Notes:\n",
      " |          This is here for backwards compatibility, and will be\n",
      " |          removed in a future release of qiskit. You should call\n",
      " |          `num_unitary_factors` instead.\n",
      " |  \n",
      " |  num_unitary_factors(self)\n",
      " |      Computes the number of tensor factors in the unitary\n",
      " |      (quantum) part of the circuit only.\n",
      " |  \n",
      " |  qasm(self)\n",
      " |      Return OpenQASM string.\n",
      " |  \n",
      " |  qubits(self)\n",
      " |      Returns a list of quantum bits in the order that the registers had been added.\n",
      " |  \n",
      " |  reset(self, qubit)\n",
      " |      Reset q.\n",
      " |  \n",
      " |  rx(self, theta, q)\n",
      " |      Apply Rx to q.\n",
      " |  \n",
      " |  ry(self, theta, q)\n",
      " |      Apply Ry to q.\n",
      " |  \n",
      " |  rz(self, phi, q)\n",
      " |      Apply Rz to q.\n",
      " |  \n",
      " |  rzz(self, theta, qubit1, qubit2)\n",
      " |      Apply RZZ to circuit.\n",
      " |  \n",
      " |  s(self, q)\n",
      " |      Apply S to q.\n",
      " |  \n",
      " |  sdg(self, q)\n",
      " |      Apply Sdg to q.\n",
      " |  \n",
      " |  size(self)\n",
      " |      Returns total number of gate operations in circuit.\n",
      " |      \n",
      " |      Returns:\n",
      " |          int: Total number of gate operations.\n",
      " |  \n",
      " |  swap(self, qubit1, qubit2)\n",
      " |      Apply SWAP from qubit1 to qubit2.\n",
      " |  \n",
      " |  t(self, q)\n",
      " |      Apply T to q.\n",
      " |  \n",
      " |  tdg(self, q)\n",
      " |      Apply Tdg to q.\n",
      " |  \n",
      " |  to_instruction(self)\n",
      " |      Create an Instruction out of this circuit.\n",
      " |      \n",
      " |      Returns:\n",
      " |          Instruction: a composite instruction encapsulating this circuit\n",
      " |              (can be decomposed back)\n",
      " |  \n",
      " |  u0(self, m, q)\n",
      " |      Apply u0 with length m to q.\n",
      " |  \n",
      " |  u1(self, theta, q)\n",
      " |      Apply u1 with angle theta to q.\n",
      " |  \n",
      " |  u2(self, phi, lam, q)\n",
      " |      Apply u2 to q.\n",
      " |  \n",
      " |  u3(self, theta, phi, lam, q)\n",
      " |      Apply u3 to q.\n",
      " |  \n",
      " |  u_base(self, theta, phi, lam, q)\n",
      " |      Apply U to q.\n",
      " |  \n",
      " |  width(self)\n",
      " |      Return number of qubits plus clbits in circuit.\n",
      " |      \n",
      " |      Returns:\n",
      " |          int: Width of circuit.\n",
      " |  \n",
      " |  x(self, q)\n",
      " |      Apply X to q.\n",
      " |  \n",
      " |  y(self, q)\n",
      " |      Apply Y to q.\n",
      " |  \n",
      " |  z(self, q)\n",
      " |      Apply Z to q.\n",
      " |  \n",
      " |  ----------------------------------------------------------------------\n",
      " |  Class methods defined here:\n",
      " |  \n",
      " |  cls_instances() from builtins.type\n",
      " |      Return the current number of instances of this class,\n",
      " |      useful for auto naming.\n",
      " |  \n",
      " |  cls_prefix() from builtins.type\n",
      " |      Return the prefix to use for auto naming.\n",
      " |  \n",
      " |  ----------------------------------------------------------------------\n",
      " |  Static methods defined here:\n",
      " |  \n",
      " |  from_qasm_file(path)\n",
      " |      Take in a QASM file and generate a QuantumCircuit object.\n",
      " |      \n",
      " |      Args:\n",
      " |        path (str): Path to the file for a QASM program\n",
      " |      Return:\n",
      " |        QuantumCircuit: The QuantumCircuit object for the input QASM\n",
      " |  \n",
      " |  from_qasm_str(qasm_str)\n",
      " |      Take in a QASM string and generate a QuantumCircuit object.\n",
      " |      \n",
      " |      Args:\n",
      " |        qasm_str (str): A QASM program string\n",
      " |      Return:\n",
      " |        QuantumCircuit: The QuantumCircuit object for the input QASM\n",
      " |  \n",
      " |  ----------------------------------------------------------------------\n",
      " |  Data descriptors defined here:\n",
      " |  \n",
      " |  __dict__\n",
      " |      dictionary for instance variables (if defined)\n",
      " |  \n",
      " |  __weakref__\n",
      " |      list of weak references to the object (if defined)\n",
      " |  \n",
      " |  unassigned_variables\n",
      " |      Returns a set containing any variables which have not yet been assigned.\n",
      " |  \n",
      " |  variable_table\n",
      " |      get the circuit variable table\n",
      " |  \n",
      " |  variables\n",
      " |      convenience function to get the variables defined in the variable table\n",
      " |  \n",
      " |  ----------------------------------------------------------------------\n",
      " |  Data and other attributes defined here:\n",
      " |  \n",
      " |  __hash__ = None\n",
      " |  \n",
      " |  extension_lib = 'include \"qelib1.inc\";'\n",
      " |  \n",
      " |  header = 'OPENQASM 2.0;'\n",
      " |  \n",
      " |  instances = 1\n",
      " |  \n",
      " |  prefix = 'circuit'\n",
      "\n"
     ]
    }
   ],
   "source": [
    "help(QuantumCircuit)"
   ]
  },
  {
   "cell_type": "markdown",
   "metadata": {
    "slideshow": {
     "slide_type": "slide"
    }
   },
   "source": [
    "# Gates! There are many. And they're called `Instructions`.\n",
    "\n",
    "Qiskit supports many gates. They are located in the `qiskit/extensions/standard directory`, but are loaded in sneakily so you don’t need to import them one by one.\n",
    "\n",
    "The basis gateset of the IBM Q devices is {u1, u2, u3, CX}, so you might find that a lot of code uses u3 for all single-qubit operations, rather than rx, ry, or rz.\n",
    "\n",
    "Gates are technically objects, but in practice you're likely to use them in the form of static functions on the circuit object. Don't go looking for these functions in the QuantumCircuit class, they're dynamically added by each gate module import 🙈. More info on gates [here](https://github.com/Qiskit/qiskit-tutorial/blob/master/qiskit/terra/summary_of_quantum_operations.ipynb) 📒."
   ]
  },
  {
   "cell_type": "markdown",
   "metadata": {
    "slideshow": {
     "slide_type": "slide"
    }
   },
   "source": [
    "After we add some gates, we can print our circuit's Qasm:"
   ]
  },
  {
   "cell_type": "code",
   "execution_count": 7,
   "metadata": {
    "slideshow": {
     "slide_type": "fragment"
    }
   },
   "outputs": [
    {
     "name": "stdout",
     "output_type": "stream",
     "text": [
      "OPENQASM 2.0;\n",
      "include \"qelib1.inc\";\n",
      "qreg q0[3];\n",
      "creg c0[3];\n",
      "h q0[0];\n",
      "cx q0[0],q0[1];\n",
      "\n"
     ]
    }
   ],
   "source": [
    "# Hadamard gate on qubit 0\n",
    "bell.h(qr[0])\n",
    "\n",
    "# CNOT (Controlled-NOT) gate from qubit 0 to qubit 1\n",
    "bell.cx(qr[0], qr[1])\n",
    "\n",
    "print(bell.qasm())"
   ]
  },
  {
   "cell_type": "markdown",
   "metadata": {},
   "source": [
    "Here we've added an H gate to qubit 0 in register `qr`, and a CX gate from qubit 0 to qubit 1 in register `qr`. Composing circuits by adding gates one by one like this can be tedious, and fancier 🎩, more powerful 💪 methods will be arriving in 0.9 (some with most of the groundwork already in 0.8)."
   ]
  },
  {
   "cell_type": "markdown",
   "metadata": {
    "slideshow": {
     "slide_type": "slide"
    }
   },
   "source": [
    "# Seeing what's inside a QuantumCircuit\n",
    "\n",
    "The contents of the circuit sits inside `circuit.data`, but I wouldn't recommend doing much in there. It's considered \"behind the scenes\" and likely to change often (as it just did from 0.7 to 0.8).\n",
    "\n",
    "The standard way to visualize a circuit is to `draw` it (`print(circuit)` also works):"
   ]
  },
  {
   "cell_type": "code",
   "execution_count": 8,
   "metadata": {
    "slideshow": {
     "slide_type": "fragment"
    }
   },
   "outputs": [
    {
     "data": {
      "text/html": [
       "<pre style=\"word-wrap: normal;white-space: pre;line-height: 15px;\">         ┌───┐     \n",
       "q0_0: |0>┤ H ├──■──\n",
       "         └───┘┌─┴─┐\n",
       "q0_1: |0>─────┤ X ├\n",
       "              └───┘\n",
       "q0_2: |0>──────────\n",
       "                   \n",
       " c0_0: 0 ══════════\n",
       "                   \n",
       " c0_1: 0 ══════════\n",
       "                   \n",
       " c0_2: 0 ══════════\n",
       "                   </pre>"
      ],
      "text/plain": [
       "<qiskit.visualization.text.TextDrawing at 0x116fb2080>"
      ]
     },
     "execution_count": 8,
     "metadata": {},
     "output_type": "execute_result"
    }
   ],
   "source": [
    "bell.draw()"
   ]
  },
  {
   "cell_type": "markdown",
   "metadata": {
    "slideshow": {
     "slide_type": "fragment"
    }
   },
   "source": [
    "## Guess what? There's more info about visualizing circuits [here](https://github.com/Qiskit/qiskit-tutorials/blob/master/qiskit/terra/visualizing_a_quantum_circuit.ipynb) 📒"
   ]
  },
  {
   "cell_type": "markdown",
   "metadata": {
    "slideshow": {
     "slide_type": "slide"
    }
   },
   "source": [
    "# What's the deal with Registers?\n",
    "\n",
    "Registers are in a sort of in-between state for the moment. They are useful for grouping qubits, such as making some group \"anc\" and calling `qc.h(anc)` on all anc qubits, or knowing which qubits line up where if you're composing circuits together:"
   ]
  },
  {
   "cell_type": "code",
   "execution_count": 9,
   "metadata": {},
   "outputs": [
    {
     "name": "stdout",
     "output_type": "stream",
     "text": [
      "         ┌───┐     ┌───┐     ┌───┐     ┌───┐     \n",
      "q0_0: |0>┤ H ├──■──┤ H ├──■──┤ H ├──■──┤ H ├──■──\n",
      "         └───┘┌─┴─┐└───┘┌─┴─┐└───┘┌─┴─┐└───┘┌─┴─┐\n",
      "q0_1: |0>─────┤ X ├─────┤ X ├─────┤ X ├─────┤ X ├\n",
      "              └───┘     └───┘     └───┘     └───┘\n",
      "q0_2: |0>────────────────────────────────────────\n",
      "                                                 \n",
      " c0_0: 0 ════════════════════════════════════════\n",
      "                                                 \n",
      " c0_1: 0 ════════════════════════════════════════\n",
      "                                                 \n",
      " c0_2: 0 ════════════════════════════════════════\n",
      "                                                 \n"
     ]
    }
   ],
   "source": [
    "print(bell + bell + bell + bell)"
   ]
  },
  {
   "cell_type": "markdown",
   "metadata": {},
   "source": [
    "But they are also a bit tedious, having to be declared and kept track of all the time. By 0.9, the form factor for constructing and gluing circuits together will be clearer, and registers shouldn't be as in the way."
   ]
  },
  {
   "cell_type": "markdown",
   "metadata": {
    "slideshow": {
     "slide_type": "slide"
    }
   },
   "source": [
    "Now, we already have enough to run the circuit if we like. Let's import a backend, in this case a simulator, and run the circuit."
   ]
  },
  {
   "cell_type": "code",
   "execution_count": 10,
   "metadata": {
    "slideshow": {
     "slide_type": "fragment"
    }
   },
   "outputs": [
    {
     "name": "stderr",
     "output_type": "stream",
     "text": [
      "No measurements in circuit \"circuit0\": count data will return all zeros.\n"
     ]
    },
    {
     "data": {
      "text/plain": [
       "{'000': 1024}"
      ]
     },
     "execution_count": 10,
     "metadata": {},
     "output_type": "execute_result"
    }
   ],
   "source": [
    "from qiskit import Aer, execute\n",
    "qasm_backend = Aer.get_backend('qasm_simulator')\n",
    "\n",
    "job = execute(bell, qasm_backend)\n",
    "\n",
    "result = job.result()\n",
    "result.get_counts(bell)"
   ]
  },
  {
   "cell_type": "markdown",
   "metadata": {
    "slideshow": {
     "slide_type": "slide"
    }
   },
   "source": [
    "Whoops! We forgot to measure. Let's do that."
   ]
  },
  {
   "cell_type": "code",
   "execution_count": 11,
   "metadata": {},
   "outputs": [
    {
     "data": {
      "text/plain": [
       "{'011': 513, '000': 511}"
      ]
     },
     "execution_count": 11,
     "metadata": {},
     "output_type": "execute_result"
    }
   ],
   "source": [
    "bell.measure(qr, cr)\n",
    "\n",
    "job = execute(bell, qasm_backend)\n",
    "\n",
    "result = job.result()\n",
    "result.get_counts(bell)"
   ]
  },
  {
   "cell_type": "markdown",
   "metadata": {
    "slideshow": {
     "slide_type": "-"
    }
   },
   "source": [
    "**Note** that Terra .8 treats the rightmost qubit as qubit 0 (!), which is consistent with binary endianness, but slightly counterintuitive."
   ]
  },
  {
   "cell_type": "markdown",
   "metadata": {
    "slideshow": {
     "slide_type": "slide"
    }
   },
   "source": [
    "# DAGs, Passes, Qobjs, Jobs\n",
    "\n",
    "We've actually skipped a few steps that happen under the hood within `execute`. Let's look at them in more detail. \n",
    "\n",
    "```\n",
    "transpile(circuits, backend=None, basis_gates=None, coupling_map=None,\n",
    "              initial_layout=None, seed_mapper=None, pass_manager=None)\n",
    "```\n",
    "\n",
    "`execute` calls `transpile` on the circuits and a `PassManager` of transpiler passes, which converts the circuit into a Directed Acyclic Graph, or `DAG`, of gates, executes the passes on the `DAG`, and the converts the `DAG` back into a circuit. There are over 30 different passes in Terra and counting, including:\n",
    "* cx_cancellation, optimize_1q_gates\n",
    "* **12** different mapping passes for rearranging qubits to fit on a particular backend, including `NoiseAdaptiveLayout`\n",
    "* Unroller - Unroll to an abitrary (sufficient) basis!\n",
    "   \n",
    "```\n",
    "qobj = assemble_circuits(new_circuits, qobj_header=qobj_header, run_config=run_config) \n",
    "```\n",
    "\n",
    "`execute` then calls `assemble_circuits` to produce a `Qobj`, an object which is executable by OpenQASM-compliant backends. Standard execution settings, such as the number of shots or memory, are packaged in the `Qobj`.\n",
    "\n",
    "```\n",
    "return backend.run(qobj, **kwargs)\n",
    "```\n",
    "\n",
    "Finally, `execute` passes the `Qobj` to the user-specified `backend` object for execution, and returns a `Job`, not the result proper (as some executions can take a long time).\n"
   ]
  },
  {
   "cell_type": "markdown",
   "metadata": {
    "slideshow": {
     "slide_type": "slide"
    }
   },
   "source": [
    "As mentioned above, the PassManager is a container of transpiler passes to be executed on the circuit.  It's worthwhile to take a brief look at the default PassManager, which is constructed when `pass_manager=None` in the execute call:\n",
    "```\n",
    "def default_pass_manager(basis_gates, coupling_map, initial_layout,\n",
    "                         skip_numeric_passes, seed_mapper):\n",
    "    \"\"\"\n",
    "    The default pass manager that maps to the coupling map.\n",
    "\n",
    "    Args:\n",
    "        basis_gates (list[str]): list of basis gate names supported by the\n",
    "            target. Default: ['u1','u2','u3','cx','id']\n",
    "        initial_layout (Layout or None): If None, trivial layout will be chosen.\n",
    "        skip_numeric_passes (bool): If true, skip passes which require fixed parameter values\n",
    "        coupling_map (CouplingMap): coupling map (perhaps custom) to target\n",
    "            in mapping.\n",
    "        seed_mapper (int or None): random seed for the swap_mapper.\n",
    "\n",
    "    Returns:\n",
    "        PassManager: A pass manager to map and optimize.\n",
    "    \"\"\"\n",
    "    pass_manager = PassManager()\n",
    "    pass_manager.property_set['layout'] = initial_layout\n",
    "\n",
    "    pass_manager.append(Unroller(basis_gates))\n",
    "\n",
    "    # Use the trivial layout if no layouto is found\n",
    "    pass_manager.append(TrivialLayout(coupling_map),\n",
    "                        condition=lambda property_set: not property_set['layout'])\n",
    "\n",
    "    # if the circuit and layout already satisfy the coupling_constraints, use that layout\n",
    "    # otherwise layout on the most densely connected physical qubit subset\n",
    "    pass_manager.append(CheckMap(coupling_map))\n",
    "    pass_manager.append(DenseLayout(coupling_map),\n",
    "                        condition=lambda property_set: not property_set['is_swap_mapped'])\n",
    "\n",
    "    # Extend the the dag/layout with ancillas using the full coupling map\n",
    "    pass_manager.append(FullAncillaAllocation(coupling_map))\n",
    "    pass_manager.append(EnlargeWithAncilla())\n",
    "\n",
    "    # Swap mapper\n",
    "    pass_manager.append(LegacySwap(coupling_map, trials=20, seed=seed_mapper))\n",
    "\n",
    "    # Expand swaps\n",
    "    pass_manager.append(Decompose(SwapGate))\n",
    "\n",
    "    # Change CX directions\n",
    "    pass_manager.append(CXDirection(coupling_map))\n",
    "\n",
    "    # Unroll to the basis\n",
    "    pass_manager.append(Unroller(['u1', 'u2', 'u3', 'id', 'cx']))\n",
    "\n",
    "    # Simplify single qubit gates and CXs\n",
    "    if not skip_numeric_passes:\n",
    "        simplification_passes = [Optimize1qGates(), CXCancellation()]\n",
    "    else:\n",
    "        simplification_passes = [CXCancellation()]\n",
    "\n",
    "    pass_manager.append(simplification_passes + [Depth(), FixedPoint('depth')],\n",
    "                        do_while=lambda property_set: not property_set['depth_fixed_point'])\n",
    "\n",
    "    return pass_manager\n",
    "```"
   ]
  },
  {
   "cell_type": "markdown",
   "metadata": {
    "slideshow": {
     "slide_type": "slide"
    }
   },
   "source": [
    "# Notes on Transpilation\n",
    "\n",
    " * You can disable all transpilation (**at your own risk**) by passing an empty pass manager to the execute call\n",
    "   ```\n",
    "   execute(circuits, backend, pass_manager=PassMananger()):\n",
    "   ```\n",
    " * However, backends each accept only a particular set of gates and follow a strict topology for 2-qubit connectivity. For example, the IBM Q backends only accept ['u1', 'u2', 'u3', 'id', 'cx'] gates, and submitting an `RZ` gate will throw an error. If you submit a circuit with 2-qubit gates which are not present on the chip, the backend will yell at you.\n",
    "  * Note that backends will dutifully execute the instructions exactly as specified in the Qobj. As of now there is no further rearranging or unrolling once a `Qobj` is submitted.\n",
    "  * If you are doing fancy things that require less aggressive transpilation, you should probably build a `PassManager` with a restricted set of passes rather than try to hand-compile.\n",
    "\n",
    " * You can call `transpile` yourself and print your circuit if you want to see what the transpiler did!"
   ]
  },
  {
   "cell_type": "code",
   "execution_count": 12,
   "metadata": {
    "slideshow": {
     "slide_type": "fragment"
    }
   },
   "outputs": [],
   "source": [
    "from qiskit.transpiler import transpile"
   ]
  },
  {
   "cell_type": "code",
   "execution_count": 13,
   "metadata": {
    "slideshow": {
     "slide_type": "fragment"
    }
   },
   "outputs": [
    {
     "name": "stdout",
     "output_type": "stream",
     "text": [
      "                              ░       ┌─┐\n",
      "q_0: |0>──────────────────────░───────┤M├\n",
      "        ┌──────────────┐      ░ ┌─┐   └╥┘\n",
      "q_1: |0>┤ U2(0,3.1416) ├──■───░─┤M├────╫─\n",
      "        └──────────────┘┌─┴─┐ ░ └╥┘┌─┐ ║ \n",
      "q_2: |0>────────────────┤ X ├─░──╫─┤M├─╫─\n",
      "                        └───┘ ░  ║ └╥┘ ║ \n",
      "c0_0: 0 ═════════════════════════╩══╬══╬═\n",
      "                                    ║  ║ \n",
      "c0_1: 0 ════════════════════════════╩══╬═\n",
      "                                       ║ \n",
      "c0_2: 0 ═══════════════════════════════╩═\n",
      "                                         \n"
     ]
    }
   ],
   "source": [
    "chewed_circuit = transpile(bell, backend=qasm_backend, \n",
    "                           basis_gates=['u1','u2','u3','cx','id'], \n",
    "                           coupling_map=[[0, 2], [1, 2]])\n",
    "print(chewed_circuit)"
   ]
  },
  {
   "cell_type": "markdown",
   "metadata": {
    "slideshow": {
     "slide_type": "slide"
    }
   },
   "source": [
    "# Execution Settings, All Together Now - a Good Picture of Terra’s robustness"
   ]
  },
  {
   "cell_type": "code",
   "execution_count": 14,
   "metadata": {},
   "outputs": [
    {
     "name": "stdout",
     "output_type": "stream",
     "text": [
      "Help on function execute in module qiskit.execute:\n",
      "\n",
      "execute(circuits, backend, qobj_header=None, config=None, basis_gates=None, coupling_map=None, initial_layout=None, shots=1024, max_credits=10, seed=None, qobj_id=None, seed_mapper=None, pass_manager=None, memory=False, **kwargs)\n",
      "    Executes a set of circuits.\n",
      "    \n",
      "    Args:\n",
      "        circuits (QuantumCircuit or list[QuantumCircuit]): circuits to execute\n",
      "        backend (BaseBackend): a backend to execute the circuits on\n",
      "        qobj_header (QobjHeader or dict): user input to go into the header\n",
      "        config (dict): dictionary of parameters (e.g. noise) used by runner\n",
      "        basis_gates (list[str]): list of basis gate names supported by the\n",
      "            target. Default: ['u1','u2','u3','cx','id']\n",
      "        coupling_map (list): coupling map (perhaps custom) to target in mapping\n",
      "        initial_layout (list): initial layout of qubits in mapping\n",
      "        shots (int): number of repetitions of each circuit, for sampling\n",
      "        max_credits (int): maximum credits to use\n",
      "        seed (int): random seed for simulators\n",
      "        seed_mapper (int): random seed for swapper mapper\n",
      "        qobj_id (int): identifier for the generated qobj\n",
      "        pass_manager (PassManager): a pass manger for the transpiler pipeline\n",
      "        memory (bool): if True, per-shot measurement bitstrings are returned as well.\n",
      "        kwargs: extra arguments used by AER for running configurable backends.\n",
      "                Refer to the backend documentation for details on these arguments\n",
      "    \n",
      "    Returns:\n",
      "        BaseJob: returns job instance derived from BaseJob\n",
      "\n"
     ]
    }
   ],
   "source": [
    "help(execute)"
   ]
  },
  {
   "cell_type": "markdown",
   "metadata": {
    "slideshow": {
     "slide_type": "slide"
    }
   },
   "source": [
    "# Computational Flow\n",
    "\n",
    "Let's review our running count of Terra's core objects:\n",
    "* QuantumCircuit\n",
    "* QuantumRegister, ClassicalRegister\n",
    "* Instruction\n",
    "* Backend\n",
    "* DAG\n",
    "* Qobj\n",
    "* Job, result\n",
    "\n",
    "And the computational flow of Terra is:\n",
    "* Instructions are added to QuantumCircuits\n",
    "* QuantumCircuits are converted into DAGs, transpiled, and converted back into circuits\n",
    "* Circuits are assembled into Qobjs\n",
    "* Qobjs are sent to backends\n",
    "* Backends return results"
   ]
  },
  {
   "cell_type": "markdown",
   "metadata": {
    "slideshow": {
     "slide_type": "slide"
    }
   },
   "source": [
    "So far we've run a very vanilla Bell state. Let's do some more interesting things."
   ]
  },
  {
   "cell_type": "code",
   "execution_count": 15,
   "metadata": {
    "slideshow": {
     "slide_type": "fragment"
    }
   },
   "outputs": [
    {
     "data": {
      "text/html": [
       "<pre style=\"word-wrap: normal;white-space: pre;line-height: 15px;\">         ┌────────────┐      ░      ┌───┐ ░ ┌─┐   \n",
       "q0_0: |0>┤ Ry(1.5708) ├──────░───■──┤ H ├─░─┤M├───\n",
       "         ├────────────┤      ░ ┌─┴─┐└───┘ ░ └╥┘┌─┐\n",
       "q0_1: |0>┤     H      ├──■───░─┤ X ├──────░──╫─┤M├\n",
       "         └────────────┘┌─┴─┐ ░ └───┘      ░  ║ └╥┘\n",
       "q0_2: |0>──────────────┤ X ├─░────────────░──╫──╫─\n",
       "                       └───┘ ░            ░  ║  ║ \n",
       " c0_0: 0 ════════════════════════════════════╩══╬═\n",
       "                                                ║ \n",
       " c0_1: 0 ═══════════════════════════════════════╩═\n",
       "                                                  \n",
       " c0_2: 0 ═════════════════════════════════════════\n",
       "                                                  </pre>"
      ],
      "text/plain": [
       "<qiskit.visualization.text.TextDrawing at 0x11829d710>"
      ]
     },
     "execution_count": 15,
     "metadata": {},
     "output_type": "execute_result"
    }
   ],
   "source": [
    "tele = QuantumCircuit(qr, cr)\n",
    "tele.ry(np.pi/2, qr[0])\n",
    "tele.h(qr[1])\n",
    "tele.cx(qr[1], qr[2])\n",
    "tele.barrier()\n",
    "\n",
    "tele.cx(qr[0], qr[1])\n",
    "tele.h(qr[0])\n",
    "tele.barrier()\n",
    "\n",
    "tele.measure(qr[0], cr[0])\n",
    "tele.measure(qr[1], cr[1])\n",
    "\n",
    "tele.draw()"
   ]
  },
  {
   "cell_type": "markdown",
   "metadata": {
    "slideshow": {
     "slide_type": "slide"
    }
   },
   "source": [
    "Qiskit allows conditional gates in simulation, but not on the real quantum hardware (yet)."
   ]
  },
  {
   "cell_type": "code",
   "execution_count": 16,
   "metadata": {
    "slideshow": {
     "slide_type": "fragment"
    }
   },
   "outputs": [
    {
     "data": {
      "text/html": [
       "<pre style=\"word-wrap: normal;white-space: pre;line-height: 15px;\">         ┌────────────┐      ░      ┌───┐ ░ ┌─┐                           \n",
       "q0_0: |0>┤ Ry(1.5708) ├──────░───■──┤ H ├─░─┤M├───────────────────────────\n",
       "         ├────────────┤      ░ ┌─┴─┐└───┘ ░ └╥┘┌─┐                        \n",
       "q0_1: |0>┤     H      ├──■───░─┤ X ├──────░──╫─┤M├────────────────────────\n",
       "         └────────────┘┌─┴─┐ ░ └───┘      ░  ║ └╥┘┌─────┐┌─────┐┌─────┐┌─┐\n",
       "q0_2: |0>──────────────┤ X ├─░────────────░──╫──╫─┤  Z  ├┤  X  ├┤  Y  ├┤M├\n",
       "                       └───┘ ░            ░  ║  ║ ├──┴──┤├──┴──┤├──┴──┤└╥┘\n",
       " c0_0: 0 ════════════════════════════════════╩══╬═╡     ╞╡     ╞╡     ╞═╬═\n",
       "                                                ║ │     ││     ││     │ ║ \n",
       " c0_1: 0 ═══════════════════════════════════════╩═╡ = 1 ╞╡ = 2 ╞╡ = 3 ╞═╬═\n",
       "                                                  │     ││     ││     │ ║ \n",
       " c0_2: 0 ═════════════════════════════════════════╡     ╞╡     ╞╡     ╞═╩═\n",
       "                                                  └─────┘└─────┘└─────┘   </pre>"
      ],
      "text/plain": [
       "<qiskit.visualization.text.TextDrawing at 0x1081785f8>"
      ]
     },
     "execution_count": 16,
     "metadata": {},
     "output_type": "execute_result"
    }
   ],
   "source": [
    "tele.z(qr[2]).c_if(cr, 1)\n",
    "tele.x(qr[2]).c_if(cr, 2)\n",
    "tele.y(qr[2]).c_if(cr, 3) # Note that ZX =iY\n",
    "tele.measure(qr[2], cr[2])\n",
    "tele.draw()"
   ]
  },
  {
   "cell_type": "markdown",
   "metadata": {
    "slideshow": {
     "slide_type": "slide"
    }
   },
   "source": [
    "You might recognize this as Qauntum Teleportation. You can find a more in depth guide to teleportation in Anna Phan's notebook on the topic, [here](https://github.com/Qiskit/qiskit-tutorial/blob/master/community/terra/qis_intro/teleportation_superdensecoding.ipynb) 📒.\n",
    "\n",
    "Let's see what pops out."
   ]
  },
  {
   "cell_type": "code",
   "execution_count": 17,
   "metadata": {
    "slideshow": {
     "slide_type": "fragment"
    }
   },
   "outputs": [
    {
     "data": {
      "text/plain": [
       "{'101': 112,\n",
       " '100': 133,\n",
       " '011': 128,\n",
       " '111': 116,\n",
       " '110': 129,\n",
       " '001': 128,\n",
       " '010': 135,\n",
       " '000': 143}"
      ]
     },
     "execution_count": 17,
     "metadata": {},
     "output_type": "execute_result"
    }
   ],
   "source": [
    "job = execute(tele, qasm_backend)\n",
    "\n",
    "result = job.result()\n",
    "result.get_counts(tele)"
   ]
  },
  {
   "cell_type": "markdown",
   "metadata": {
    "slideshow": {
     "slide_type": "slide"
    }
   },
   "source": [
    "Maybe this isn't accurate enough to tell what we encoded on qubit 1. Let's increase the number of shots."
   ]
  },
  {
   "cell_type": "code",
   "execution_count": 18,
   "metadata": {
    "slideshow": {
     "slide_type": "fragment"
    }
   },
   "outputs": [
    {
     "data": {
      "text/plain": [
       "{'101': 1293,\n",
       " '100': 1242,\n",
       " '011': 1201,\n",
       " '111': 1247,\n",
       " '110': 1215,\n",
       " '001': 1261,\n",
       " '010': 1272,\n",
       " '000': 1269}"
      ]
     },
     "execution_count": 18,
     "metadata": {},
     "output_type": "execute_result"
    }
   ],
   "source": [
    "job = execute(tele, qasm_backend, shots = 10000)\n",
    "\n",
    "result = job.result()\n",
    "result.get_counts(tele)"
   ]
  },
  {
   "cell_type": "markdown",
   "metadata": {
    "slideshow": {
     "slide_type": "slide"
    }
   },
   "source": [
    "Now let's visualize those results as a histogram"
   ]
  },
  {
   "cell_type": "code",
   "execution_count": 19,
   "metadata": {
    "slideshow": {
     "slide_type": "fragment"
    }
   },
   "outputs": [],
   "source": [
    "from qiskit.tools.visualization import plot_histogram"
   ]
  },
  {
   "cell_type": "code",
   "execution_count": 20,
   "metadata": {
    "slideshow": {
     "slide_type": "fragment"
    }
   },
   "outputs": [
    {
     "data": {
      "image/png": "[encoded data removed]",
      "text/plain": [
       "<Figure size 504x360 with 1 Axes>"
      ]
     },
     "execution_count": 20,
     "metadata": {},
     "output_type": "execute_result"
    }
   ],
   "source": [
    "plot_histogram(result.get_counts(tele))"
   ]
  },
  {
   "cell_type": "markdown",
   "metadata": {
    "slideshow": {
     "slide_type": "slide"
    }
   },
   "source": [
    "And now, calculating the percentage of shots with $|0\\rangle$ measured on qubit 2 (but qubit 0 in our results)."
   ]
  },
  {
   "cell_type": "code",
   "execution_count": 21,
   "metadata": {
    "slideshow": {
     "slide_type": "fragment"
    }
   },
   "outputs": [
    {
     "data": {
      "text/plain": [
       "0.5003"
      ]
     },
     "execution_count": 21,
     "metadata": {},
     "output_type": "execute_result"
    }
   ],
   "source": [
    "counts = result.get_counts(tele)\n",
    "qubit3_p0 = sum([v for k, v in counts.items() if k[0]=='0'])/10000\n",
    "qubit3_p0"
   ]
  },
  {
   "cell_type": "markdown",
   "metadata": {
    "slideshow": {
     "slide_type": "slide"
    }
   },
   "source": [
    "Our probability of finding 0 is 50%, which is correct, because $ry(\\pi / 2)$ should put qubit 0 in the $|+\\rangle$ state. \n",
    "\n",
    "But how do we know that we're not in the $|-\\rangle$ state, or any other state along the equator of the Bloch sphere? Let's use a Hadamard to see whether our phase is correct. We'll need to delete the final measurement and add the Hadamard to do this."
   ]
  },
  {
   "cell_type": "code",
   "execution_count": 22,
   "metadata": {
    "slideshow": {
     "slide_type": "fragment"
    }
   },
   "outputs": [
    {
     "data": {
      "text/html": [
       "<pre style=\"word-wrap: normal;white-space: pre;line-height: 15px;\">         ┌────────────┐      ░      ┌───┐ ░ ┌─┐                                \n",
       "q0_0: |0>┤ Ry(1.5708) ├──────░───■──┤ H ├─░─┤M├────────────────────────────────\n",
       "         ├────────────┤      ░ ┌─┴─┐└───┘ ░ └╥┘┌─┐                             \n",
       "q0_1: |0>┤     H      ├──■───░─┤ X ├──────░──╫─┤M├─────────────────────────────\n",
       "         └────────────┘┌─┴─┐ ░ └───┘      ░  ║ └╥┘┌─────┐┌─────┐┌─────┐┌───┐┌─┐\n",
       "q0_2: |0>──────────────┤ X ├─░────────────░──╫──╫─┤  Z  ├┤  X  ├┤  Y  ├┤ H ├┤M├\n",
       "                       └───┘ ░            ░  ║  ║ ├──┴──┤├──┴──┤├──┴──┤└───┘└╥┘\n",
       " c0_0: 0 ════════════════════════════════════╩══╬═╡     ╞╡     ╞╡     ╞══════╬═\n",
       "                                                ║ │     ││     ││     │      ║ \n",
       " c0_1: 0 ═══════════════════════════════════════╩═╡ = 1 ╞╡ = 2 ╞╡ = 3 ╞══════╬═\n",
       "                                                  │     ││     ││     │      ║ \n",
       " c0_2: 0 ═════════════════════════════════════════╡     ╞╡     ╞╡     ╞══════╩═\n",
       "                                                  └─────┘└─────┘└─────┘        </pre>"
      ],
      "text/plain": [
       "<qiskit.visualization.text.TextDrawing at 0x11a381d30>"
      ]
     },
     "execution_count": 22,
     "metadata": {},
     "output_type": "execute_result"
    }
   ],
   "source": [
    "del(tele.data[-1])\n",
    "tele.h(qr[2])\n",
    "tele.measure(qr[2], cr[2])\n",
    "tele.draw(line_length=200)"
   ]
  },
  {
   "cell_type": "code",
   "execution_count": 23,
   "metadata": {
    "slideshow": {
     "slide_type": "fragment"
    }
   },
   "outputs": [
    {
     "data": {
      "text/plain": [
       "1.0"
      ]
     },
     "execution_count": 23,
     "metadata": {},
     "output_type": "execute_result"
    }
   ],
   "source": [
    "shots = 100000\n",
    "job = execute(tele, qasm_backend, shots=shots)\n",
    "\n",
    "result = job.result()\n",
    "result.get_counts(tele)\n",
    "counts = result.get_counts(tele)\n",
    "qubit3_p0 = sum([v for k, v in counts.items() if k[0]=='0'])/100000\n",
    "qubit3_p0"
   ]
  },
  {
   "cell_type": "markdown",
   "metadata": {
    "slideshow": {
     "slide_type": "fragment"
    }
   },
   "source": [
    "Looks like our final state is indeed $|+\\rangle$, because our P($\\langle\\phi|H|0\\rangle$) = 100%. "
   ]
  },
  {
   "cell_type": "markdown",
   "metadata": {
    "slideshow": {
     "slide_type": "slide"
    }
   },
   "source": [
    "# Part II: Providers and Backends - Aer, IBM Q, and 3P Providers"
   ]
  },
  {
   "cell_type": "markdown",
   "metadata": {
    "slideshow": {
     "slide_type": "slide"
    }
   },
   "source": [
    "## Our Running Example: Phase Estimation\n",
    "\n",
    "All this talk of checking phases is making me want to check my phases robustly. Let's see if we can work out a small phase estimation function, and sanity check it on simulators before trying it on the quantum hardware. We'll start with a QFT circuit which I've copied out of `qiskit_terra/examples/python/`. I'm also going to use the Pauli X as my controlled unitary, which simplifies things a lot. Then I'll start defining a function to give me my circuit."
   ]
  },
  {
   "cell_type": "code",
   "execution_count": 24,
   "metadata": {
    "slideshow": {
     "slide_type": "fragment"
    }
   },
   "outputs": [],
   "source": [
    "def qft(circ, q, n):\n",
    "    \"\"\"n-qubit QFT on q in circ.\"\"\"\n",
    "    for j in range(n):\n",
    "        for k in range(j):\n",
    "            circ.cu1(np.pi / float(2**(j - k)), q[j], q[k])\n",
    "        circ.h(q[j])"
   ]
  },
  {
   "cell_type": "code",
   "execution_count": 25,
   "metadata": {
    "slideshow": {
     "slide_type": "fragment"
    }
   },
   "outputs": [],
   "source": [
    "#Takes in a circuit with an operator on qubit n and appends the qpe circuit\n",
    "def x_qpe(circ, q, n):\n",
    "    for i in range(n-1):\n",
    "        circ.h(q[i])\n",
    "    for j in range(0, n-1, 2): # Only place a CX^n on every other qubit, because CX^n = I for n even\n",
    "        circ.cx(q[j], q[n-1])\n",
    "    circ.barrier()\n",
    "    qft(circ, q, n-1)"
   ]
  },
  {
   "cell_type": "markdown",
   "metadata": {
    "slideshow": {
     "slide_type": "slide"
    }
   },
   "source": [
    "Now let's build and print a circuit using these functions. Play around with the ancilla number, the operator, the initial state, etc. below, see what happens:"
   ]
  },
  {
   "cell_type": "code",
   "execution_count": 26,
   "metadata": {
    "slideshow": {
     "slide_type": "-"
    }
   },
   "outputs": [],
   "source": [
    "# n-1 is the number of ancilla\n",
    "n = 4\n",
    "qr = QuantumRegister(n)\n",
    "cr = ClassicalRegister(n)\n",
    "x_qpe_qc = QuantumCircuit(qr, cr)\n",
    "x_qpe_qc.rx(np.pi/2, qr[n-1])\n",
    "x_qpe_qc.barrier()\n",
    "x_qpe(x_qpe_qc, qr, n)"
   ]
  },
  {
   "cell_type": "code",
   "execution_count": 27,
   "metadata": {
    "slideshow": {
     "slide_type": "fragment"
    }
   },
   "outputs": [
    {
     "data": {
      "text/html": [
       "<pre style=\"word-wrap: normal;white-space: pre;line-height: 15px;\">                        ░ ┌───┐           ░ ┌───┐                                     \n",
       "q1_0: |0>───────────────░─┤ H ├──■────────░─┤ H ├─■────────■──────────────────────────\n",
       "                        ░ ├───┤  │        ░ └───┘ │1.5708  │       ┌───┐              \n",
       "q1_1: |0>───────────────░─┤ H ├──┼────────░───────■────────┼───────┤ H ├─■────────────\n",
       "                        ░ ├───┤  │        ░                │0.7854 └───┘ │1.5708 ┌───┐\n",
       "q1_2: |0>───────────────░─┤ H ├──┼────■───░────────────────■─────────────■───────┤ H ├\n",
       "         ┌────────────┐ ░ └───┘┌─┴─┐┌─┴─┐ ░                                      └───┘\n",
       "q1_3: |0>┤ Rx(1.5708) ├─░──────┤ X ├┤ X ├─░───────────────────────────────────────────\n",
       "         └────────────┘ ░      └───┘└───┘ ░                                           \n",
       " c1_0: 0 ═════════════════════════════════════════════════════════════════════════════\n",
       "                                                                                      \n",
       " c1_1: 0 ═════════════════════════════════════════════════════════════════════════════\n",
       "                                                                                      \n",
       " c1_2: 0 ═════════════════════════════════════════════════════════════════════════════\n",
       "                                                                                      \n",
       " c1_3: 0 ═════════════════════════════════════════════════════════════════════════════\n",
       "                                                                                      </pre>"
      ],
      "text/plain": [
       "<qiskit.visualization.text.TextDrawing at 0x11827bf98>"
      ]
     },
     "execution_count": 27,
     "metadata": {},
     "output_type": "execute_result"
    }
   ],
   "source": [
    "x_qpe_qc.draw(line_length=200)"
   ]
  },
  {
   "cell_type": "markdown",
   "metadata": {},
   "source": [
    "Now that we have our basic algorithm, let's start trying to test and validate it in some quantum execution environments, or **backends**."
   ]
  },
  {
   "cell_type": "markdown",
   "metadata": {
    "slideshow": {
     "slide_type": "slide"
    }
   },
   "source": [
    "# Interlude: Providers and Backends\n",
    "\n",
    "Qiskit offers connectors into three core execution `providers`, each providing several `backends`:\n",
    "\n",
    "* Aer: Qiskit's suite of simulators\n",
    "* BasicAer: Simple and lightweight numpy-based simulators built into Terra for convenience\n",
    "* IBMQ: IBM's Quantum devices, and an HPC simulator\n",
    "\n",
    "In addition, there are several other non-core or 3P providers:\n",
    "* [QCGPU](https://qcgpu.github.io/)\n",
    "* [JKU](https://github.com/Qiskit/qiskit-jku-provider)\n",
    "* [ProjectQ Provider](https://github.com/Qiskit/qiskit-projectq-provider)\n",
    "\n",
    "As we saw above, you ask a provider library for a backend object like this:\n",
    "```\n",
    "Aer.get_backend('statevector_simulator')\n",
    "IBMQ.get_backend('ibmqx4')\n",
    "```"
   ]
  },
  {
   "cell_type": "code",
   "execution_count": 28,
   "metadata": {
    "slideshow": {
     "slide_type": "fragment"
    }
   },
   "outputs": [],
   "source": [
    "from qiskit import IBMQ, Aer, BasicAer"
   ]
  },
  {
   "cell_type": "markdown",
   "metadata": {
    "slideshow": {
     "slide_type": "slide"
    }
   },
   "source": [
    "# Aer and BasicAer Simuators\n",
    "\n",
    "* **qasm_simulator** - cpp simulator, old faithful - a shot-based simulator\n",
    "  * Input: a Qobj and execution config\n",
    "  * Output: a results object containing a dictionary with basis states and shots per state\n",
    "    * {‘00’: 425, ‘01’: 267, ‘11’: 90}\n",
    "  * You can specify a random seed so the probabilistic measurement and noise stays the same\n",
    "  * Noise - In Aer (not BasicAer), includes sophisticated noise models, which you can find more info about [here](https://github.com/Qiskit/qiskit-terra/blob/0.7.0/src/qasm-simulator-cpp/README.md) 📒\n",
    "    * Unfortunately, the noise modelling in Aer does not yet have public documentation.\n",
    "    * **🚨Note that non-noisy simulation runs a single monte carlo to produce the final wavefunction and samples from it randomly to produce counts. For noisy simulation we _do not_ simulate density matrices, so noisy simulation runs one monte carlo per shot and is O(shots) slower than noiseless!**\n",
    "  * `pip install qiskit` comes with binaries for many platforms so you don’t need to compile cpp\n",
    "  * If you’re running on another platform, check out the [Aer contributing file on github](https://github.com/Qiskit/qiskit-aer/blob/master/.github/CONTRIBUTING.md#install-from-source) for make instructions. Like any C++ compilation, it might take some finagling\n",
    "* **statevector_simulator** - This is the qasm_simulator with a statevector snapshot at the end\n",
    "  * Returns a result object containing a dictionary of computational basis states with **complex amplitudes** for each, not counts\n",
    "* **unitary_simulator** - Returns a matrix of your circuit!\n",
    "* **ibmq_qasm_simulator** - a public simulator on an HPC machine run by IBM (Note, this is under the `IBMQ Provider`)"
   ]
  },
  {
   "cell_type": "code",
   "execution_count": 29,
   "metadata": {
    "slideshow": {
     "slide_type": "fragment"
    }
   },
   "outputs": [
    {
     "name": "stdout",
     "output_type": "stream",
     "text": [
      "qasm_simulator\n"
     ]
    }
   ],
   "source": [
    "backend = Aer.get_backend(\"qasm_simulator\")\n",
    "print(backend)"
   ]
  },
  {
   "cell_type": "markdown",
   "metadata": {
    "slideshow": {
     "slide_type": "slide"
    }
   },
   "source": [
    "## The Qunatum Algorithm Testing Flow\n",
    "\n",
    "Most of our researchers follow a sort of backend-execution-difficulty continuum as we're testing new algorithms and applications.\n",
    "1. We start by testing on the statevector_simulator to verify that the algorithm works in the most idealized possible environment, and with high transparency if something is wrong\n",
    "1. Then we test on the qasm_simulator with no noise, to validate that the algoirthm works in the presence of sampling noise, but not simulated physical noise. This helps us distinguish between possible sources of error. If we also tested with simulated physical noise at this stage, we'd be unable to tell whether any issues were rooted in sampling noise or physical noise.\n",
    "1. Next we test in simulation with basic noise models, in most cases to obtain a very rough read of whether to spend time running on quantum hardware (because this is quite slow).\n",
    "1. Finally we test our algorithm on Quantum hardware."
   ]
  },
  {
   "cell_type": "markdown",
   "metadata": {
    "slideshow": {
     "slide_type": "slide"
    }
   },
   "source": [
    "## Putting Our Phase Estimation Circuit Through the Gauntlet:"
   ]
  },
  {
   "cell_type": "markdown",
   "metadata": {
    "slideshow": {
     "slide_type": "-"
    }
   },
   "source": [
    "First, we'll run on the statevector simulator to verify that the core of our algorithm works in the ideal case, where complete state is preserved and no noise is present, including shot noise."
   ]
  },
  {
   "cell_type": "code",
   "execution_count": 30,
   "metadata": {
    "slideshow": {
     "slide_type": "fragment"
    }
   },
   "outputs": [
    {
     "name": "stdout",
     "output_type": "stream",
     "text": [
      "statevector_simulator\n"
     ]
    }
   ],
   "source": [
    "sv_backend = BasicAer.get_backend('statevector_simulator')\n",
    "print(sv_backend)"
   ]
  },
  {
   "cell_type": "code",
   "execution_count": 31,
   "metadata": {
    "slideshow": {
     "slide_type": "fragment"
    }
   },
   "outputs": [
    {
     "data": {
      "text/plain": [
       "0.5"
      ]
     },
     "execution_count": 31,
     "metadata": {},
     "output_type": "execute_result"
    }
   ],
   "source": [
    "job = execute(x_qpe_qc, sv_backend)\n",
    "\n",
    "result = job.result()\n",
    "amps = result.get_statevector(x_qpe_qc)\n",
    "probs = np.absolute(amps)**2\n",
    "probs_anc = probs[0:2**(n-1)] + probs[2**(n-1):]\n",
    "angles = probs_anc * range(0, 2**(n-1)) / (2**(n-1))\n",
    "res = 2*sum(angles)\n",
    "np.around(res, decimals=5)"
   ]
  },
  {
   "cell_type": "markdown",
   "metadata": {},
   "source": [
    "This is saying that our algorithm estimates the phase difference between $ry(\\pi/2)|0\\rangle$ and $X ry(\\pi/2)|0\\rangle$ to be $.5*2\\pi$, or just $\\pi$. We know this to be correct by thinking about the Bloch sphere."
   ]
  },
  {
   "cell_type": "markdown",
   "metadata": {
    "slideshow": {
     "slide_type": "slide"
    }
   },
   "source": [
    "Let's also run our single unitary on the statevector simulator to check that we have the right phase difference."
   ]
  },
  {
   "cell_type": "code",
   "execution_count": 32,
   "metadata": {
    "slideshow": {
     "slide_type": "fragment"
    }
   },
   "outputs": [
    {
     "data": {
      "text/plain": [
       "0.5"
      ]
     },
     "execution_count": 32,
     "metadata": {},
     "output_type": "execute_result"
    }
   ],
   "source": [
    "x_qr = QuantumRegister(1)\n",
    "x_cr = ClassicalRegister(1)\n",
    "x_circuit = QuantumCircuit(x_qr, x_cr)\n",
    "x_circuit.rx(np.pi/2, x_qr[0])\n",
    "job = execute(x_circuit, sv_backend)\n",
    "\n",
    "result = job.result()\n",
    "angles = np.angle(result.get_statevector(x_circuit))/(2*np.pi)\n",
    "p0 = angles[1] - angles[0]\n",
    "\n",
    "x_circuit.x(x_qr[0])\n",
    "job = execute(x_circuit, sv_backend)\n",
    "\n",
    "result = job.result()\n",
    "angles = np.angle(result.get_statevector(x_circuit))/(2*np.pi)\n",
    "p1 = angles[1] - angles[0]\n",
    "\n",
    "difference = p1-p0\n",
    "\n",
    "res = difference if difference > 0 else difference+1\n",
    "res"
   ]
  },
  {
   "cell_type": "markdown",
   "metadata": {
    "slideshow": {
     "slide_type": "fragment"
    }
   },
   "source": [
    "👍"
   ]
  },
  {
   "cell_type": "markdown",
   "metadata": {
    "slideshow": {
     "slide_type": "slide"
    }
   },
   "source": [
    "Now let's introduce shot noise by running on the qasm_simulator:"
   ]
  },
  {
   "cell_type": "code",
   "execution_count": 33,
   "metadata": {
    "slideshow": {
     "slide_type": "fragment"
    }
   },
   "outputs": [],
   "source": [
    "qasm_backend = Aer.get_backend('qasm_simulator')"
   ]
  },
  {
   "cell_type": "markdown",
   "metadata": {
    "slideshow": {
     "slide_type": "fragment"
    }
   },
   "source": [
    "Don't forget to measure! Recall that we don't measure our $|u\\rangle$ qubit."
   ]
  },
  {
   "cell_type": "code",
   "execution_count": 34,
   "metadata": {
    "slideshow": {
     "slide_type": "fragment"
    }
   },
   "outputs": [],
   "source": [
    "x_qpe_qc.barrier()\n",
    "for i in range(n-1):\n",
    "    x_qpe_qc.measure(qr[i], cr[i])"
   ]
  },
  {
   "cell_type": "code",
   "execution_count": 35,
   "metadata": {
    "slideshow": {
     "slide_type": "fragment"
    }
   },
   "outputs": [
    {
     "data": {
      "text/plain": [
       "0.5066"
      ]
     },
     "execution_count": 35,
     "metadata": {},
     "output_type": "execute_result"
    }
   ],
   "source": [
    "shots = 10000\n",
    "job = execute(x_qpe_qc, qasm_backend, shots = shots)\n",
    "\n",
    "result = job.result()\n",
    "counts = result.get_counts(x_qpe_qc)\n",
    "angles = np.array([v*int(k, 2) for k, v in counts.items()]) / shots / 2**(n-1)\n",
    "res = 2*sum(angles)\n",
    "np.around(res, decimals=5)"
   ]
  },
  {
   "cell_type": "code",
   "execution_count": 36,
   "metadata": {
    "slideshow": {
     "slide_type": "slide"
    }
   },
   "outputs": [
    {
     "data": {
      "image/png": "[encoded data removed]",
      "text/plain": [
       "<Figure size 504x360 with 1 Axes>"
      ]
     },
     "execution_count": 36,
     "metadata": {},
     "output_type": "execute_result"
    }
   ],
   "source": [
    "plot_histogram(counts)"
   ]
  },
  {
   "cell_type": "markdown",
   "metadata": {
    "slideshow": {
     "slide_type": "-"
    }
   },
   "source": [
    "Not bad - but this only includes shot noise. Let's introduce some physical noise into the simulation based on the callibration data from a real device."
   ]
  },
  {
   "cell_type": "markdown",
   "metadata": {
    "slideshow": {
     "slide_type": "slide"
    }
   },
   "source": [
    "## The IBMQ Provider: Pulling Device Information and Executing on Quantum Hardware\n",
    "\n",
    "The IBMQ Provider has a few core functionalities:\n",
    "* Providing the IBMQ quantum hardware and cloud simulator backend objects, which include hooks into the APIs necessary to interact with these execution environments\n",
    "* Providing system information for user consumption and for use in transpilation (e.g. coupling map, basis set)\n",
    "* Providing quantum hardware properties based on callibration data\n",
    "\n",
    "To use the Q provider, you'll either get your Q Network API token and URL from the [console](https://q-console.mybluemix.net/) (if you are are a member of the Q Network), or you'll need to get an IBM Q Experience API token from the [Q Experience accounts page](https://quantumexperience.ng.bluemix.net/qx/account/advanced).\n",
    "\n",
    "Below we'll obtain for a hardware backend object, pull some data, build a noise model based on the hardware data, execute a noisy simulation with our model, and finally execute on the real device."
   ]
  },
  {
   "cell_type": "markdown",
   "metadata": {
    "slideshow": {
     "slide_type": "slide"
    }
   },
   "source": [
    "### First, load up your Q accounts and pull the list of backends to which you have access (more info [here](https://github.com/Qiskit/qiskit-tutorials/blob/master/qiskit/basics/the_ibmq_provider.ipynb) 📒):"
   ]
  },
  {
   "cell_type": "code",
   "execution_count": 37,
   "metadata": {},
   "outputs": [
    {
     "name": "stdout",
     "output_type": "stream",
     "text": [
      "Available backends:\n"
     ]
    },
    {
     "data": {
      "text/plain": [
       "[<IBMQBackend('ibmq_20_tokyo') from IBMQ(ibm-q-dev, support, default)>,\n",
       " <IBMQBackend('ibmq_poughkeepsie') from IBMQ(ibm-q-dev, support, default)>,\n",
       " <IBMQSimulator('ibmq_qasm_simulator') from IBMQ(ibm-q-dev, support, default)>,\n",
       " <IBMQBackend('ibmqx4') from IBMQ()>,\n",
       " <IBMQBackend('ibmqx2') from IBMQ()>,\n",
       " <IBMQBackend('ibmq_16_melbourne') from IBMQ()>,\n",
       " <IBMQSimulator('ibmq_qasm_simulator') from IBMQ()>]"
      ]
     },
     "execution_count": 37,
     "metadata": {},
     "output_type": "execute_result"
    }
   ],
   "source": [
    "# IBMQ.enable_account('<key>')\n",
    "# uncomment this ^^^ and insert your API key. Add a 'url' argument for Q Network users\n",
    "\n",
    "# Or you can use:\n",
    "IBMQ.load_accounts()\n",
    "\n",
    "print(\"Available backends:\")\n",
    "IBMQ.backends()"
   ]
  },
  {
   "cell_type": "markdown",
   "metadata": {},
   "source": [
    "Next, let's grab a backend:"
   ]
  },
  {
   "cell_type": "code",
   "execution_count": 38,
   "metadata": {},
   "outputs": [],
   "source": [
    "q_backend = IBMQ.get_backend('ibmq_poughkeepsie')"
   ]
  },
  {
   "cell_type": "markdown",
   "metadata": {
    "slideshow": {
     "slide_type": "slide"
    }
   },
   "source": [
    "# Visualizing Devices, and Pulling Device Info\n",
    "\n",
    "We can pull a relatively large quantity of data about a particular backend from the IBMQ API, but it's very difficult to read. Luckily, Terra has some neat built-in Jupyter magics for browsing this device information, such as qubit error, job queues for public devices, coupling maps, and more. More info [here](https://github.com/Qiskit/qiskit-tutorials/blob/master/qiskit/jupyter/jupyter_backend_tools.ipynb) 📒.\n",
    "\n",
    "Let's start by pulling the raw data just to see what it looks like, and because we'll need it to build our noise model later:"
   ]
  },
  {
   "cell_type": "code",
   "execution_count": 39,
   "metadata": {},
   "outputs": [
    {
     "name": "stdout",
     "output_type": "stream",
     "text": [
      "BackendConfiguration(acquisition_latency=[], allow_q_object=True, backend_name='ibmq_poughkeepsie', backend_version='1.1.1', basis_gates=['u1', 'u2', 'u3', 'cx', 'id'], conditional=False, conditional_latency=[], coupling_map=[[0, 1], [0, 5], [1, 0], [1, 2], [2, 1], [2, 3], [3, 2], [3, 4], [4, 3], [4, 9], [5, 0], [5, 6], [5, 10], [6, 5], [6, 7], [7, 6], [7, 8], [7, 12], [8, 7], [8, 9], [9, 4], [9, 8], [9, 14], [10, 5], [10, 11], [10, 15], [11, 10], [11, 12], [12, 7], [12, 11], [12, 13], [13, 12], [13, 14], [14, 9], [14, 13], [14, 19], [15, 10], [15, 16], [16, 15], [16, 17], [17, 16], [17, 18], [18, 17], [18, 19], [19, 14], [19, 18]], credits_required=True, defaults={'cmd_def': [{'qubits': [0, 1], 'name': 'cx', 'sequence': [{'name': 'fc', 'ch': 'd0', 'phase': 'np.pi*0.5', 't0': 0}, {'ch': 'd0', 'name': 'Ym_d0', 't0': 0}, {'ch': 'd1', 'name': 'X90p_d1', 't0': 0}, {'ch': 'u0', 'name': 'CR90p_u0', 't0': 29}, {'ch': 'd0', 'name': 'Xp_d0', 't0': 64}, {'ch': 'u0', 'name': 'CR90m_u0', 't0': 93}]}, {'qubits': [0, 5], 'name': 'cx', 'sequence': [{'name': 'fc', 'ch': 'd5', 'phase': '-np.pi*0.5', 't0': 0}, {'ch': 'd5', 'name': 'X90p_d5', 't0': 0}, {'name': 'fc', 'ch': 'd0', 'phase': '-np.pi', 't0': 0}, {'ch': 'd0', 'name': 'Y90p_d0', 't0': 0}, {'ch': 'u10', 'name': 'CR90p_u10', 't0': 29}, {'ch': 'd5', 'name': 'Xp_d5', 't0': 61}, {'ch': 'u10', 'name': 'CR90m_u10', 't0': 90}, {'ch': 'd5', 'name': 'Y90m_d5', 't0': 122}, {'name': 'fc', 'ch': 'd0', 'phase': '-np.pi*0.5', 't0': 122}, {'ch': 'd0', 'name': 'X90p_d0', 't0': 122}]}, {'qubits': [1, 0], 'name': 'cx', 'sequence': [{'name': 'fc', 'ch': 'd0', 'phase': '-np.pi*0.5', 't0': 0}, {'ch': 'd0', 'name': 'X90p_d0', 't0': 0}, {'name': 'fc', 'ch': 'd1', 'phase': '-np.pi', 't0': 0}, {'ch': 'd1', 'name': 'Y90p_d1', 't0': 0}, {'ch': 'u0', 'name': 'CR90p_u0', 't0': 29}, {'ch': 'd0', 'name': 'Xp_d0', 't0': 64}, {'ch': 'u0', 'name': 'CR90m_u0', 't0': 93}, {'ch': 'd0', 'name': 'Y90m_d0', 't0': 128}, {'name': 'fc', 'ch': 'd1', 'phase': '-np.pi*0.5', 't0': 128}, {'ch': 'd1', 'name': 'X90p_d1', 't0': 128}]}, {'qubits': [1, 2], 'name': 'cx', 'sequence': [{'name': 'fc', 'ch': 'd2', 'phase': '-np.pi*0.5', 't0': 0}, {'ch': 'd2', 'name': 'X90p_d2', 't0': 0}, {'name': 'fc', 'ch': 'd1', 'phase': '-np.pi', 't0': 0}, {'ch': 'd1', 'name': 'Y90p_d1', 't0': 0}, {'ch': 'u4', 'name': 'CR90p_u4', 't0': 29}, {'ch': 'd2', 'name': 'Xp_d2', 't0': 59}, {'ch': 'u4', 'name': 'CR90m_u4', 't0': 88}, {'ch': 'd2', 'name': 'Y90m_d2', 't0': 118}, {'name': 'fc', 'ch': 'd1', 'phase': '-np.pi*0.5', 't0': 118}, {'ch': 'd1', 'name': 'X90p_d1', 't0': 118}]}, {'qubits': [2, 1], 'name': 'cx', 'sequence': [{'name': 'fc', 'ch': 'd2', 'phase': 'np.pi*0.5', 't0': 0}, {'ch': 'd2', 'name': 'Ym_d2', 't0': 0}, {'ch': 'd1', 'name': 'X90p_d1', 't0': 0}, {'ch': 'u4', 'name': 'CR90p_u4', 't0': 29}, {'ch': 'd2', 'name': 'Xp_d2', 't0': 59}, {'ch': 'u4', 'name': 'CR90m_u4', 't0': 88}]}, {'qubits': [2, 3], 'name': 'cx', 'sequence': [{'name': 'fc', 'ch': 'd3', 'phase': '-np.pi*0.5', 't0': 0}, {'ch': 'd3', 'name': 'X90p_d3', 't0': 0}, {'name': 'fc', 'ch': 'd2', 'phase': '-np.pi', 't0': 0}, {'ch': 'd2', 'name': 'Y90p_d2', 't0': 0}, {'ch': 'u6', 'name': 'CR90p_u6', 't0': 29}, {'name': 'fc', 'ch': 'u6', 'phase': -0.032, 't0': 29}, {'ch': 'd3', 'name': 'Xp_d3', 't0': 119}, {'ch': 'u6', 'name': 'CR90m_u6', 't0': 148}, {'name': 'fc', 'ch': 'u6', 'phase': -0.032, 't0': 148}, {'ch': 'd3', 'name': 'Y90m_d3', 't0': 238}, {'name': 'fc', 'ch': 'd2', 'phase': '-np.pi*0.5', 't0': 238}, {'ch': 'd2', 'name': 'X90p_d2', 't0': 238}]}, {'qubits': [3, 2], 'name': 'cx', 'sequence': [{'name': 'fc', 'ch': 'd3', 'phase': 'np.pi*0.5', 't0': 0}, {'ch': 'd3', 'name': 'Ym_d3', 't0': 0}, {'ch': 'd2', 'name': 'X90p_d2', 't0': 0}, {'ch': 'u6', 'name': 'CR90p_u6', 't0': 29}, {'name': 'fc', 'ch': 'u6', 'phase': -0.032, 't0': 29}, {'ch': 'd3', 'name': 'Xp_d3', 't0': 119}, {'ch': 'u6', 'name': 'CR90m_u6', 't0': 148}, {'name': 'fc', 'ch': 'u6', 'phase': -0.032, 't0': 148}]}, {'qubits': [3, 4], 'name': 'cx', 'sequence': [{'name': 'fc', 'ch': 'd4', 'phase': '-np.pi*0.5', 't0': 0}, {'ch': 'd4', 'name': 'X90p_d4', 't0': 0}, {'name': 'fc', 'ch': 'd3', 'phase': '-np.pi', 't0': 0}, {'ch': 'd3', 'name': 'Y90p_d3', 't0': 0}, {'ch': 'u8', 'name': 'CR90p_u8', 't0': 29}, {'ch': 'd4', 'name': 'Xp_d4', 't0': 117}, {'ch': 'u8', 'name': 'CR90m_u8', 't0': 146}, {'ch': 'd4', 'name': 'Y90m_d4', 't0': 234}, {'name': 'fc', 'ch': 'd3', 'phase': '-np.pi*0.5', 't0': 234}, {'ch': 'd3', 'name': 'X90p_d3', 't0': 234}]}, {'qubits': [4, 3], 'name': 'cx', 'sequence': [{'name': 'fc', 'ch': 'd4', 'phase': 'np.pi*0.5', 't0': 0}, {'ch': 'd4', 'name': 'Ym_d4', 't0': 0}, {'ch': 'd3', 'name': 'X90p_d3', 't0': 0}, {'ch': 'u8', 'name': 'CR90p_u8', 't0': 29}, {'ch': 'd4', 'name': 'Xp_d4', 't0': 117}, {'ch': 'u8', 'name': 'CR90m_u8', 't0': 146}]}, {'qubits': [4, 9], 'name': 'cx', 'sequence': [{'name': 'fc', 'ch': 'd9', 'phase': '-np.pi*0.5', 't0': 0}, {'ch': 'd9', 'name': 'X90p_d9', 't0': 0}, {'name': 'fc', 'ch': 'd4', 'phase': '-np.pi', 't0': 0}, {'ch': 'd4', 'name': 'Y90p_d4', 't0': 0}, {'ch': 'u20', 'name': 'CR90p_u20', 't0': 29}, {'ch': 'd9', 'name': 'Xp_d9', 't0': 125}, {'ch': 'u20', 'name': 'CR90m_u20', 't0': 154}, {'ch': 'd9', 'name': 'Y90m_d9', 't0': 250}, {'name': 'fc', 'ch': 'd4', 'phase': '-np.pi*0.5', 't0': 250}, {'ch': 'd4', 'name': 'X90p_d4', 't0': 250}]}, {'qubits': [5, 0], 'name': 'cx', 'sequence': [{'name': 'fc', 'ch': 'd5', 'phase': 'np.pi*0.5', 't0': 0}, {'ch': 'd5', 'name': 'Ym_d5', 't0': 0}, {'ch': 'd0', 'name': 'X90p_d0', 't0': 0}, {'ch': 'u10', 'name': 'CR90p_u10', 't0': 29}, {'ch': 'd5', 'name': 'Xp_d5', 't0': 61}, {'ch': 'u10', 'name': 'CR90m_u10', 't0': 90}]}, {'qubits': [5, 6], 'name': 'cx', 'sequence': [{'name': 'fc', 'ch': 'd5', 'phase': 'np.pi*0.5', 't0': 0}, {'ch': 'd5', 'name': 'Ym_d5', 't0': 0}, {'ch': 'd6', 'name': 'X90p_d6', 't0': 0}, {'ch': 'u11', 'name': 'CR90p_u11', 't0': 29}, {'ch': 'd5', 'name': 'Xp_d5', 't0': 64}, {'ch': 'u11', 'name': 'CR90m_u11', 't0': 93}]}, {'qubits': [5, 10], 'name': 'cx', 'sequence': [{'name': 'fc', 'ch': 'd5', 'phase': 'np.pi*0.5', 't0': 0}, {'ch': 'd5', 'name': 'Ym_d5', 't0': 0}, {'ch': 'd10', 'name': 'X90p_d10', 't0': 0}, {'ch': 'u12', 'name': 'CR90p_u12', 't0': 29}, {'ch': 'd5', 'name': 'Xp_d5', 't0': 65}, {'ch': 'u12', 'name': 'CR90m_u12', 't0': 94}]}, {'qubits': [6, 5], 'name': 'cx', 'sequence': [{'name': 'fc', 'ch': 'd5', 'phase': '-np.pi*0.5', 't0': 0}, {'ch': 'd5', 'name': 'X90p_d5', 't0': 0}, {'name': 'fc', 'ch': 'd6', 'phase': '-np.pi', 't0': 0}, {'ch': 'd6', 'name': 'Y90p_d6', 't0': 0}, {'ch': 'u11', 'name': 'CR90p_u11', 't0': 29}, {'ch': 'd5', 'name': 'Xp_d5', 't0': 64}, {'ch': 'u11', 'name': 'CR90m_u11', 't0': 93}, {'ch': 'd5', 'name': 'Y90m_d5', 't0': 128}, {'name': 'fc', 'ch': 'd6', 'phase': '-np.pi*0.5', 't0': 128}, {'ch': 'd6', 'name': 'X90p_d6', 't0': 128}]}, {'qubits': [6, 7], 'name': 'cx', 'sequence': [{'name': 'fc', 'ch': 'd7', 'phase': '-np.pi*0.5', 't0': 0}, {'ch': 'd7', 'name': 'X90p_d7', 't0': 0}, {'name': 'fc', 'ch': 'd6', 'phase': '-np.pi', 't0': 0}, {'ch': 'd6', 'name': 'Y90p_d6', 't0': 0}, {'ch': 'u15', 'name': 'CR90p_u15', 't0': 29}, {'ch': 'd7', 'name': 'Xp_d7', 't0': 87}, {'ch': 'u15', 'name': 'CR90m_u15', 't0': 116}, {'ch': 'd7', 'name': 'Y90m_d7', 't0': 174}, {'name': 'fc', 'ch': 'd6', 'phase': '-np.pi*0.5', 't0': 174}, {'ch': 'd6', 'name': 'X90p_d6', 't0': 174}]}, {'qubits': [7, 6], 'name': 'cx', 'sequence': [{'name': 'fc', 'ch': 'd7', 'phase': 'np.pi*0.5', 't0': 0}, {'ch': 'd7', 'name': 'Ym_d7', 't0': 0}, {'ch': 'd6', 'name': 'X90p_d6', 't0': 0}, {'ch': 'u15', 'name': 'CR90p_u15', 't0': 29}, {'ch': 'd7', 'name': 'Xp_d7', 't0': 87}, {'ch': 'u15', 'name': 'CR90m_u15', 't0': 116}]}, {'qubits': [7, 8], 'name': 'cx', 'sequence': [{'name': 'fc', 'ch': 'd8', 'phase': '-np.pi*0.5', 't0': 0}, {'ch': 'd8', 'name': 'X90p_d8', 't0': 0}, {'name': 'fc', 'ch': 'd7', 'phase': '-np.pi', 't0': 0}, {'ch': 'd7', 'name': 'Y90p_d7', 't0': 0}, {'ch': 'u18', 'name': 'CR90p_u18', 't0': 29}, {'ch': 'd8', 'name': 'Xp_d8', 't0': 56}, {'ch': 'u18', 'name': 'CR90m_u18', 't0': 85}, {'ch': 'd8', 'name': 'Y90m_d8', 't0': 112}, {'name': 'fc', 'ch': 'd7', 'phase': '-np.pi*0.5', 't0': 112}, {'ch': 'd7', 'name': 'X90p_d7', 't0': 112}]}, {'qubits': [7, 12], 'name': 'cx', 'sequence': [{'name': 'fc', 'ch': 'd7', 'phase': 'np.pi*0.5', 't0': 0}, {'ch': 'd7', 'name': 'Ym_d7', 't0': 0}, {'ch': 'd12', 'name': 'X90p_d12', 't0': 0}, {'ch': 'u17', 'name': 'CR90p_u17', 't0': 29}, {'ch': 'd7', 'name': 'Xp_d7', 't0': 78}, {'ch': 'u17', 'name': 'CR90m_u17', 't0': 107}]}, {'qubits': [8, 7], 'name': 'cx', 'sequence': [{'name': 'fc', 'ch': 'd8', 'phase': 'np.pi*0.5', 't0': 0}, {'ch': 'd8', 'name': 'Ym_d8', 't0': 0}, {'ch': 'd7', 'name': 'X90p_d7', 't0': 0}, {'ch': 'u18', 'name': 'CR90p_u18', 't0': 29}, {'ch': 'd8', 'name': 'Xp_d8', 't0': 56}, {'ch': 'u18', 'name': 'CR90m_u18', 't0': 85}]}, {'qubits': [8, 9], 'name': 'cx', 'sequence': [{'name': 'fc', 'ch': 'd9', 'phase': '-np.pi*0.5', 't0': 0}, {'ch': 'd9', 'name': 'X90p_d9', 't0': 0}, {'name': 'fc', 'ch': 'd8', 'phase': '-np.pi', 't0': 0}, {'ch': 'd8', 'name': 'Y90p_d8', 't0': 0}, {'ch': 'u21', 'name': 'CR90p_u21', 't0': 29}, {'name': 'fc', 'ch': 'u21', 'phase': -0.036, 't0': 29}, {'ch': 'd9', 'name': 'Xp_d9', 't0': 61}, {'ch': 'u21', 'name': 'CR90m_u21', 't0': 90}, {'name': 'fc', 'ch': 'u21', 'phase': -0.036, 't0': 90}, {'ch': 'd9', 'name': 'Y90m_d9', 't0': 122}, {'name': 'fc', 'ch': 'd8', 'phase': '-np.pi*0.5', 't0': 122}, {'ch': 'd8', 'name': 'X90p_d8', 't0': 122}]}, {'qubits': [9, 4], 'name': 'cx', 'sequence': [{'name': 'fc', 'ch': 'd9', 'phase': 'np.pi*0.5', 't0': 0}, {'ch': 'd9', 'name': 'Ym_d9', 't0': 0}, {'ch': 'd4', 'name': 'X90p_d4', 't0': 0}, {'ch': 'u20', 'name': 'CR90p_u20', 't0': 29}, {'ch': 'd9', 'name': 'Xp_d9', 't0': 125}, {'ch': 'u20', 'name': 'CR90m_u20', 't0': 154}]}, {'qubits': [9, 8], 'name': 'cx', 'sequence': [{'name': 'fc', 'ch': 'd9', 'phase': 'np.pi*0.5', 't0': 0}, {'ch': 'd9', 'name': 'Ym_d9', 't0': 0}, {'ch': 'd8', 'name': 'X90p_d8', 't0': 0}, {'ch': 'u21', 'name': 'CR90p_u21', 't0': 29}, {'name': 'fc', 'ch': 'u21', 'phase': -0.036, 't0': 29}, {'ch': 'd9', 'name': 'Xp_d9', 't0': 61}, {'ch': 'u21', 'name': 'CR90m_u21', 't0': 90}, {'name': 'fc', 'ch': 'u21', 'phase': -0.036, 't0': 90}]}, {'qubits': [9, 14], 'name': 'cx', 'sequence': [{'name': 'fc', 'ch': 'd9', 'phase': 'np.pi*0.5', 't0': 0}, {'ch': 'd9', 'name': 'Ym_d9', 't0': 0}, {'ch': 'd14', 'name': 'X90p_d14', 't0': 0}, {'ch': 'u22', 'name': 'CR90p_u22', 't0': 29}, {'ch': 'd9', 'name': 'Xp_d9', 't0': 80}, {'ch': 'u22', 'name': 'CR90m_u22', 't0': 109}]}, {'qubits': [10, 5], 'name': 'cx', 'sequence': [{'name': 'fc', 'ch': 'd5', 'phase': '-np.pi*0.5', 't0': 0}, {'ch': 'd5', 'name': 'X90p_d5', 't0': 0}, {'name': 'fc', 'ch': 'd10', 'phase': '-np.pi', 't0': 0}, {'ch': 'd10', 'name': 'Y90p_d10', 't0': 0}, {'ch': 'u12', 'name': 'CR90p_u12', 't0': 29}, {'ch': 'd5', 'name': 'Xp_d5', 't0': 65}, {'ch': 'u12', 'name': 'CR90m_u12', 't0': 94}, {'ch': 'd5', 'name': 'Y90m_d5', 't0': 130}, {'name': 'fc', 'ch': 'd10', 'phase': '-np.pi*0.5', 't0': 130}, {'ch': 'd10', 'name': 'X90p_d10', 't0': 130}]}, {'qubits': [10, 11], 'name': 'cx', 'sequence': [{'name': 'fc', 'ch': 'd10', 'phase': 'np.pi*0.5', 't0': 0}, {'ch': 'd10', 'name': 'Ym_d10', 't0': 0}, {'ch': 'd11', 'name': 'X90p_d11', 't0': 0}, {'ch': 'u24', 'name': 'CR90p_u24', 't0': 29}, {'ch': 'd10', 'name': 'Xp_d10', 't0': 93}, {'ch': 'u24', 'name': 'CR90m_u24', 't0': 122}]}, {'qubits': [10, 15], 'name': 'cx', 'sequence': [{'name': 'fc', 'ch': 'd15', 'phase': '-np.pi*0.5', 't0': 0}, {'ch': 'd15', 'name': 'X90p_d15', 't0': 0}, {'name': 'fc', 'ch': 'd10', 'phase': '-np.pi', 't0': 0}, {'ch': 'd10', 'name': 'Y90p_d10', 't0': 0}, {'ch': 'u36', 'name': 'CR90p_u36', 't0': 29}, {'ch': 'd15', 'name': 'Xp_d15', 't0': 67}, {'ch': 'u36', 'name': 'CR90m_u36', 't0': 96}, {'ch': 'd15', 'name': 'Y90m_d15', 't0': 134}, {'name': 'fc', 'ch': 'd10', 'phase': '-np.pi*0.5', 't0': 134}, {'ch': 'd10', 'name': 'X90p_d10', 't0': 134}]}, {'qubits': [11, 10], 'name': 'cx', 'sequence': [{'name': 'fc', 'ch': 'd10', 'phase': '-np.pi*0.5', 't0': 0}, {'ch': 'd10', 'name': 'X90p_d10', 't0': 0}, {'name': 'fc', 'ch': 'd11', 'phase': '-np.pi', 't0': 0}, {'ch': 'd11', 'name': 'Y90p_d11', 't0': 0}, {'ch': 'u24', 'name': 'CR90p_u24', 't0': 29}, {'ch': 'd10', 'name': 'Xp_d10', 't0': 93}, {'ch': 'u24', 'name': 'CR90m_u24', 't0': 122}, {'ch': 'd10', 'name': 'Y90m_d10', 't0': 186}, {'name': 'fc', 'ch': 'd11', 'phase': '-np.pi*0.5', 't0': 186}, {'ch': 'd11', 'name': 'X90p_d11', 't0': 186}]}, {'qubits': [11, 12], 'name': 'cx', 'sequence': [{'name': 'fc', 'ch': 'd11', 'phase': 'np.pi*0.5', 't0': 0}, {'ch': 'd11', 'name': 'Ym_d11', 't0': 0}, {'ch': 'd12', 'name': 'X90p_d12', 't0': 0}, {'ch': 'u27', 'name': 'CR90p_u27', 't0': 29}, {'ch': 'd11', 'name': 'Xp_d11', 't0': 63}, {'ch': 'u27', 'name': 'CR90m_u27', 't0': 92}]}, {'qubits': [12, 7], 'name': 'cx', 'sequence': [{'name': 'fc', 'ch': 'd7', 'phase': '-np.pi*0.5', 't0': 0}, {'ch': 'd7', 'name': 'X90p_d7', 't0': 0}, {'name': 'fc', 'ch': 'd12', 'phase': '-np.pi', 't0': 0}, {'ch': 'd12', 'name': 'Y90p_d12', 't0': 0}, {'ch': 'u17', 'name': 'CR90p_u17', 't0': 29}, {'ch': 'd7', 'name': 'Xp_d7', 't0': 78}, {'ch': 'u17', 'name': 'CR90m_u17', 't0': 107}, {'ch': 'd7', 'name': 'Y90m_d7', 't0': 156}, {'name': 'fc', 'ch': 'd12', 'phase': '-np.pi*0.5', 't0': 156}, {'ch': 'd12', 'name': 'X90p_d12', 't0': 156}]}, {'qubits': [12, 11], 'name': 'cx', 'sequence': [{'name': 'fc', 'ch': 'd11', 'phase': '-np.pi*0.5', 't0': 0}, {'ch': 'd11', 'name': 'X90p_d11', 't0': 0}, {'name': 'fc', 'ch': 'd12', 'phase': '-np.pi', 't0': 0}, {'ch': 'd12', 'name': 'Y90p_d12', 't0': 0}, {'ch': 'u27', 'name': 'CR90p_u27', 't0': 29}, {'ch': 'd11', 'name': 'Xp_d11', 't0': 63}, {'ch': 'u27', 'name': 'CR90m_u27', 't0': 92}, {'ch': 'd11', 'name': 'Y90m_d11', 't0': 126}, {'name': 'fc', 'ch': 'd12', 'phase': '-np.pi*0.5', 't0': 126}, {'ch': 'd12', 'name': 'X90p_d12', 't0': 126}]}, {'qubits': [12, 13], 'name': 'cx', 'sequence': [{'name': 'fc', 'ch': 'd12', 'phase': 'np.pi*0.5', 't0': 0}, {'ch': 'd12', 'name': 'Ym_d12', 't0': 0}, {'ch': 'd13', 'name': 'X90p_d13', 't0': 0}, {'ch': 'u30', 'name': 'CR90p_u30', 't0': 29}, {'name': 'fc', 'ch': 'u30', 'phase': -0.295, 't0': 29}, {'ch': 'd12', 'name': 'Xp_d12', 't0': 88}, {'ch': 'u30', 'name': 'CR90m_u30', 't0': 117}, {'name': 'fc', 'ch': 'u30', 'phase': -0.295, 't0': 117}]}, {'qubits': [13, 12], 'name': 'cx', 'sequence': [{'name': 'fc', 'ch': 'd12', 'phase': '-np.pi*0.5', 't0': 0}, {'ch': 'd12', 'name': 'X90p_d12', 't0': 0}, {'name': 'fc', 'ch': 'd13', 'phase': '-np.pi', 't0': 0}, {'ch': 'd13', 'name': 'Y90p_d13', 't0': 0}, {'ch': 'u30', 'name': 'CR90p_u30', 't0': 29}, {'name': 'fc', 'ch': 'u30', 'phase': -0.295, 't0': 29}, {'ch': 'd12', 'name': 'Xp_d12', 't0': 88}, {'ch': 'u30', 'name': 'CR90m_u30', 't0': 117}, {'name': 'fc', 'ch': 'u30', 'phase': -0.295, 't0': 117}, {'ch': 'd12', 'name': 'Y90m_d12', 't0': 176}, {'name': 'fc', 'ch': 'd13', 'phase': '-np.pi*0.5', 't0': 176}, {'ch': 'd13', 'name': 'X90p_d13', 't0': 176}]}, {'qubits': [13, 14], 'name': 'cx', 'sequence': [{'name': 'fc', 'ch': 'd13', 'phase': 'np.pi*0.5', 't0': 0}, {'ch': 'd13', 'name': 'Ym_d13', 't0': 0}, {'ch': 'd14', 'name': 'X90p_d14', 't0': 0}, {'ch': 'u32', 'name': 'CR90p_u32', 't0': 29}, {'ch': 'd13', 'name': 'Xp_d13', 't0': 56}, {'ch': 'u32', 'name': 'CR90m_u32', 't0': 85}]}, {'qubits': [14, 9], 'name': 'cx', 'sequence': [{'name': 'fc', 'ch': 'd9', 'phase': '-np.pi*0.5', 't0': 0}, {'ch': 'd9', 'name': 'X90p_d9', 't0': 0}, {'name': 'fc', 'ch': 'd14', 'phase': '-np.pi', 't0': 0}, {'ch': 'd14', 'name': 'Y90p_d14', 't0': 0}, {'ch': 'u22', 'name': 'CR90p_u22', 't0': 29}, {'ch': 'd9', 'name': 'Xp_d9', 't0': 80}, {'ch': 'u22', 'name': 'CR90m_u22', 't0': 109}, {'ch': 'd9', 'name': 'Y90m_d9', 't0': 160}, {'name': 'fc', 'ch': 'd14', 'phase': '-np.pi*0.5', 't0': 160}, {'ch': 'd14', 'name': 'X90p_d14', 't0': 160}]}, {'qubits': [14, 13], 'name': 'cx', 'sequence': [{'name': 'fc', 'ch': 'd13', 'phase': '-np.pi*0.5', 't0': 0}, {'ch': 'd13', 'name': 'X90p_d13', 't0': 0}, {'name': 'fc', 'ch': 'd14', 'phase': '-np.pi', 't0': 0}, {'ch': 'd14', 'name': 'Y90p_d14', 't0': 0}, {'ch': 'u32', 'name': 'CR90p_u32', 't0': 29}, {'ch': 'd13', 'name': 'Xp_d13', 't0': 56}, {'ch': 'u32', 'name': 'CR90m_u32', 't0': 85}, {'ch': 'd13', 'name': 'Y90m_d13', 't0': 112}, {'name': 'fc', 'ch': 'd14', 'phase': '-np.pi*0.5', 't0': 112}, {'ch': 'd14', 'name': 'X90p_d14', 't0': 112}]}, {'qubits': [14, 19], 'name': 'cx', 'sequence': [{'name': 'fc', 'ch': 'd14', 'phase': 'np.pi*0.5', 't0': 0}, {'ch': 'd14', 'name': 'Ym_d14', 't0': 0}, {'ch': 'd19', 'name': 'X90p_d19', 't0': 0}, {'ch': 'u35', 'name': 'CR90p_u35', 't0': 29}, {'ch': 'd14', 'name': 'Xp_d14', 't0': 66}, {'ch': 'u35', 'name': 'CR90m_u35', 't0': 95}]}, {'qubits': [15, 10], 'name': 'cx', 'sequence': [{'name': 'fc', 'ch': 'd15', 'phase': 'np.pi*0.5', 't0': 0}, {'ch': 'd15', 'name': 'Ym_d15', 't0': 0}, {'ch': 'd10', 'name': 'X90p_d10', 't0': 0}, {'ch': 'u36', 'name': 'CR90p_u36', 't0': 29}, {'ch': 'd15', 'name': 'Xp_d15', 't0': 67}, {'ch': 'u36', 'name': 'CR90m_u36', 't0': 96}]}, {'qubits': [15, 16], 'name': 'cx', 'sequence': [{'name': 'fc', 'ch': 'd16', 'phase': '-np.pi*0.5', 't0': 0}, {'ch': 'd16', 'name': 'X90p_d16', 't0': 0}, {'name': 'fc', 'ch': 'd15', 'phase': '-np.pi', 't0': 0}, {'ch': 'd15', 'name': 'Y90p_d15', 't0': 0}, {'ch': 'u38', 'name': 'CR90p_u38', 't0': 29}, {'ch': 'd16', 'name': 'Xp_d16', 't0': 111}, {'ch': 'u38', 'name': 'CR90m_u38', 't0': 140}, {'ch': 'd16', 'name': 'Y90m_d16', 't0': 222}, {'name': 'fc', 'ch': 'd15', 'phase': '-np.pi*0.5', 't0': 222}, {'ch': 'd15', 'name': 'X90p_d15', 't0': 222}]}, {'qubits': [16, 15], 'name': 'cx', 'sequence': [{'name': 'fc', 'ch': 'd16', 'phase': 'np.pi*0.5', 't0': 0}, {'ch': 'd16', 'name': 'Ym_d16', 't0': 0}, {'ch': 'd15', 'name': 'X90p_d15', 't0': 0}, {'ch': 'u38', 'name': 'CR90p_u38', 't0': 29}, {'ch': 'd16', 'name': 'Xp_d16', 't0': 111}, {'ch': 'u38', 'name': 'CR90m_u38', 't0': 140}]}, {'qubits': [16, 17], 'name': 'cx', 'sequence': [{'name': 'fc', 'ch': 'd16', 'phase': 'np.pi*0.5', 't0': 0}, {'ch': 'd16', 'name': 'Ym_d16', 't0': 0}, {'ch': 'd17', 'name': 'X90p_d17', 't0': 0}, {'ch': 'u39', 'name': 'CR90p_u39', 't0': 29}, {'ch': 'd16', 'name': 'Xp_d16', 't0': 99}, {'ch': 'u39', 'name': 'CR90m_u39', 't0': 128}]}, {'qubits': [17, 16], 'name': 'cx', 'sequence': [{'name': 'fc', 'ch': 'd16', 'phase': '-np.pi*0.5', 't0': 0}, {'ch': 'd16', 'name': 'X90p_d16', 't0': 0}, {'name': 'fc', 'ch': 'd17', 'phase': '-np.pi', 't0': 0}, {'ch': 'd17', 'name': 'Y90p_d17', 't0': 0}, {'ch': 'u39', 'name': 'CR90p_u39', 't0': 29}, {'ch': 'd16', 'name': 'Xp_d16', 't0': 99}, {'ch': 'u39', 'name': 'CR90m_u39', 't0': 128}, {'ch': 'd16', 'name': 'Y90m_d16', 't0': 198}, {'name': 'fc', 'ch': 'd17', 'phase': '-np.pi*0.5', 't0': 198}, {'ch': 'd17', 'name': 'X90p_d17', 't0': 198}]}, {'qubits': [17, 18], 'name': 'cx', 'sequence': [{'name': 'fc', 'ch': 'd18', 'phase': '-np.pi*0.5', 't0': 0}, {'ch': 'd18', 'name': 'X90p_d18', 't0': 0}, {'name': 'fc', 'ch': 'd17', 'phase': '-np.pi', 't0': 0}, {'ch': 'd17', 'name': 'Y90p_d17', 't0': 0}, {'ch': 'u42', 'name': 'CR90p_u42', 't0': 29}, {'ch': 'd18', 'name': 'Xp_d18', 't0': 94}, {'ch': 'u42', 'name': 'CR90m_u42', 't0': 123}, {'ch': 'd18', 'name': 'Y90m_d18', 't0': 188}, {'name': 'fc', 'ch': 'd17', 'phase': '-np.pi*0.5', 't0': 188}, {'ch': 'd17', 'name': 'X90p_d17', 't0': 188}]}, {'qubits': [18, 17], 'name': 'cx', 'sequence': [{'name': 'fc', 'ch': 'd18', 'phase': 'np.pi*0.5', 't0': 0}, {'ch': 'd18', 'name': 'Ym_d18', 't0': 0}, {'ch': 'd17', 'name': 'X90p_d17', 't0': 0}, {'ch': 'u42', 'name': 'CR90p_u42', 't0': 29}, {'ch': 'd18', 'name': 'Xp_d18', 't0': 94}, {'ch': 'u42', 'name': 'CR90m_u42', 't0': 123}]}, {'qubits': [18, 19], 'name': 'cx', 'sequence': [{'name': 'fc', 'ch': 'd19', 'phase': '-np.pi*0.5', 't0': 0}, {'ch': 'd19', 'name': 'X90p_d19', 't0': 0}, {'name': 'fc', 'ch': 'd18', 'phase': '-np.pi', 't0': 0}, {'ch': 'd18', 'name': 'Y90p_d18', 't0': 0}, {'ch': 'u45', 'name': 'CR90p_u45', 't0': 29}, {'ch': 'd19', 'name': 'Xp_d19', 't0': 59}, {'ch': 'u45', 'name': 'CR90m_u45', 't0': 88}, {'ch': 'd19', 'name': 'Y90m_d19', 't0': 118}, {'name': 'fc', 'ch': 'd18', 'phase': '-np.pi*0.5', 't0': 118}, {'ch': 'd18', 'name': 'X90p_d18', 't0': 118}]}, {'qubits': [19, 14], 'name': 'cx', 'sequence': [{'name': 'fc', 'ch': 'd14', 'phase': '-np.pi*0.5', 't0': 0}, {'ch': 'd14', 'name': 'X90p_d14', 't0': 0}, {'name': 'fc', 'ch': 'd19', 'phase': '-np.pi', 't0': 0}, {'ch': 'd19', 'name': 'Y90p_d19', 't0': 0}, {'ch': 'u35', 'name': 'CR90p_u35', 't0': 29}, {'ch': 'd14', 'name': 'Xp_d14', 't0': 66}, {'ch': 'u35', 'name': 'CR90m_u35', 't0': 95}, {'ch': 'd14', 'name': 'Y90m_d14', 't0': 132}, {'name': 'fc', 'ch': 'd19', 'phase': '-np.pi*0.5', 't0': 132}, {'ch': 'd19', 'name': 'X90p_d19', 't0': 132}]}, {'qubits': [19, 18], 'name': 'cx', 'sequence': [{'name': 'fc', 'ch': 'd19', 'phase': 'np.pi*0.5', 't0': 0}, {'ch': 'd19', 'name': 'Ym_d19', 't0': 0}, {'ch': 'd18', 'name': 'X90p_d18', 't0': 0}, {'ch': 'u45', 'name': 'CR90p_u45', 't0': 29}, {'ch': 'd19', 'name': 'Xp_d19', 't0': 59}, {'ch': 'u45', 'name': 'CR90m_u45', 't0': 88}]}, {'qubits': [0], 'name': 'id', 'sequence': [{'ch': 'd0', 'name': 'QId_d0', 't0': 0}]}, {'qubits': [1], 'name': 'id', 'sequence': [{'ch': 'd1', 'name': 'QId_d1', 't0': 0}]}, {'qubits': [2], 'name': 'id', 'sequence': [{'ch': 'd2', 'name': 'QId_d2', 't0': 0}]}, {'qubits': [3], 'name': 'id', 'sequence': [{'ch': 'd3', 'name': 'QId_d3', 't0': 0}]}, {'qubits': [4], 'name': 'id', 'sequence': [{'ch': 'd4', 'name': 'QId_d4', 't0': 0}]}, {'qubits': [5], 'name': 'id', 'sequence': [{'ch': 'd5', 'name': 'QId_d5', 't0': 0}]}, {'qubits': [6], 'name': 'id', 'sequence': [{'ch': 'd6', 'name': 'QId_d6', 't0': 0}]}, {'qubits': [7], 'name': 'id', 'sequence': [{'ch': 'd7', 'name': 'QId_d7', 't0': 0}]}, {'qubits': [8], 'name': 'id', 'sequence': [{'ch': 'd8', 'name': 'QId_d8', 't0': 0}]}, {'qubits': [9], 'name': 'id', 'sequence': [{'ch': 'd9', 'name': 'QId_d9', 't0': 0}]}, {'qubits': [10], 'name': 'id', 'sequence': [{'ch': 'd10', 'name': 'QId_d10', 't0': 0}]}, {'qubits': [11], 'name': 'id', 'sequence': [{'ch': 'd11', 'name': 'QId_d11', 't0': 0}]}, {'qubits': [12], 'name': 'id', 'sequence': [{'ch': 'd12', 'name': 'QId_d12', 't0': 0}]}, {'qubits': [13], 'name': 'id', 'sequence': [{'ch': 'd13', 'name': 'QId_d13', 't0': 0}]}, {'qubits': [14], 'name': 'id', 'sequence': [{'ch': 'd14', 'name': 'QId_d14', 't0': 0}]}, {'qubits': [15], 'name': 'id', 'sequence': [{'ch': 'd15', 'name': 'QId_d15', 't0': 0}]}, {'qubits': [16], 'name': 'id', 'sequence': [{'ch': 'd16', 'name': 'QId_d16', 't0': 0}]}, {'qubits': [17], 'name': 'id', 'sequence': [{'ch': 'd17', 'name': 'QId_d17', 't0': 0}]}, {'qubits': [18], 'name': 'id', 'sequence': [{'ch': 'd18', 'name': 'QId_d18', 't0': 0}]}, {'qubits': [19], 'name': 'id', 'sequence': [{'ch': 'd19', 'name': 'QId_d19', 't0': 0}]}, {'qubits': [0], 'name': 'u1', 'sequence': [{'name': 'fc', 'ch': 'd0', 'phase': '-(P1)', 't0': 0}]}, {'qubits': [1], 'name': 'u1', 'sequence': [{'name': 'fc', 'ch': 'd1', 'phase': '-(P1)', 't0': 0}]}, {'qubits': [2], 'name': 'u1', 'sequence': [{'name': 'fc', 'ch': 'd2', 'phase': '-(P1)', 't0': 0}]}, {'qubits': [3], 'name': 'u1', 'sequence': [{'name': 'fc', 'ch': 'd3', 'phase': '-(P1)', 't0': 0}]}, {'qubits': [4], 'name': 'u1', 'sequence': [{'name': 'fc', 'ch': 'd4', 'phase': '-(P1)', 't0': 0}]}, {'qubits': [5], 'name': 'u1', 'sequence': [{'name': 'fc', 'ch': 'd5', 'phase': '-(P1)', 't0': 0}]}, {'qubits': [6], 'name': 'u1', 'sequence': [{'name': 'fc', 'ch': 'd6', 'phase': '-(P1)', 't0': 0}]}, {'qubits': [7], 'name': 'u1', 'sequence': [{'name': 'fc', 'ch': 'd7', 'phase': '-(P1)', 't0': 0}]}, {'qubits': [8], 'name': 'u1', 'sequence': [{'name': 'fc', 'ch': 'd8', 'phase': '-(P1)', 't0': 0}]}, {'qubits': [9], 'name': 'u1', 'sequence': [{'name': 'fc', 'ch': 'd9', 'phase': '-(P1)', 't0': 0}]}, {'qubits': [10], 'name': 'u1', 'sequence': [{'name': 'fc', 'ch': 'd10', 'phase': '-(P1)', 't0': 0}]}, {'qubits': [11], 'name': 'u1', 'sequence': [{'name': 'fc', 'ch': 'd11', 'phase': '-(P1)', 't0': 0}]}, {'qubits': [12], 'name': 'u1', 'sequence': [{'name': 'fc', 'ch': 'd12', 'phase': '-(P1)', 't0': 0}]}, {'qubits': [13], 'name': 'u1', 'sequence': [{'name': 'fc', 'ch': 'd13', 'phase': '-(P1)', 't0': 0}]}, {'qubits': [14], 'name': 'u1', 'sequence': [{'name': 'fc', 'ch': 'd14', 'phase': '-(P1)', 't0': 0}]}, {'qubits': [15], 'name': 'u1', 'sequence': [{'name': 'fc', 'ch': 'd15', 'phase': '-(P1)', 't0': 0}]}, {'qubits': [16], 'name': 'u1', 'sequence': [{'name': 'fc', 'ch': 'd16', 'phase': '-(P1)', 't0': 0}]}, {'qubits': [17], 'name': 'u1', 'sequence': [{'name': 'fc', 'ch': 'd17', 'phase': '-(P1)', 't0': 0}]}, {'qubits': [18], 'name': 'u1', 'sequence': [{'name': 'fc', 'ch': 'd18', 'phase': '-(P1)', 't0': 0}]}, {'qubits': [19], 'name': 'u1', 'sequence': [{'name': 'fc', 'ch': 'd19', 'phase': '-(P1)', 't0': 0}]}, {'qubits': [0], 'name': 'u2', 'sequence': [{'name': 'fc', 'ch': 'd0', 'phase': '-(P2)', 't0': 0}, {'ch': 'd0', 'name': 'Y90p_d0', 't0': 0}, {'name': 'fc', 'ch': 'd0', 'phase': '-(P1)', 't0': 29}]}, {'qubits': [1], 'name': 'u2', 'sequence': [{'name': 'fc', 'ch': 'd1', 'phase': '-(P2)', 't0': 0}, {'ch': 'd1', 'name': 'Y90p_d1', 't0': 0}, {'name': 'fc', 'ch': 'd1', 'phase': '-(P1)', 't0': 29}]}, {'qubits': [2], 'name': 'u2', 'sequence': [{'name': 'fc', 'ch': 'd2', 'phase': '-(P2)', 't0': 0}, {'ch': 'd2', 'name': 'Y90p_d2', 't0': 0}, {'name': 'fc', 'ch': 'd2', 'phase': '-(P1)', 't0': 29}]}, {'qubits': [3], 'name': 'u2', 'sequence': [{'name': 'fc', 'ch': 'd3', 'phase': '-(P2)', 't0': 0}, {'ch': 'd3', 'name': 'Y90p_d3', 't0': 0}, {'name': 'fc', 'ch': 'd3', 'phase': '-(P1)', 't0': 29}]}, {'qubits': [4], 'name': 'u2', 'sequence': [{'name': 'fc', 'ch': 'd4', 'phase': '-(P2)', 't0': 0}, {'ch': 'd4', 'name': 'Y90p_d4', 't0': 0}, {'name': 'fc', 'ch': 'd4', 'phase': '-(P1)', 't0': 29}]}, {'qubits': [5], 'name': 'u2', 'sequence': [{'name': 'fc', 'ch': 'd5', 'phase': '-(P2)', 't0': 0}, {'ch': 'd5', 'name': 'Y90p_d5', 't0': 0}, {'name': 'fc', 'ch': 'd5', 'phase': '-(P1)', 't0': 29}]}, {'qubits': [6], 'name': 'u2', 'sequence': [{'name': 'fc', 'ch': 'd6', 'phase': '-(P2)', 't0': 0}, {'ch': 'd6', 'name': 'Y90p_d6', 't0': 0}, {'name': 'fc', 'ch': 'd6', 'phase': '-(P1)', 't0': 29}]}, {'qubits': [7], 'name': 'u2', 'sequence': [{'name': 'fc', 'ch': 'd7', 'phase': '-(P2)', 't0': 0}, {'ch': 'd7', 'name': 'Y90p_d7', 't0': 0}, {'name': 'fc', 'ch': 'd7', 'phase': '-(P1)', 't0': 29}]}, {'qubits': [8], 'name': 'u2', 'sequence': [{'name': 'fc', 'ch': 'd8', 'phase': '-(P2)', 't0': 0}, {'ch': 'd8', 'name': 'Y90p_d8', 't0': 0}, {'name': 'fc', 'ch': 'd8', 'phase': '-(P1)', 't0': 29}]}, {'qubits': [9], 'name': 'u2', 'sequence': [{'name': 'fc', 'ch': 'd9', 'phase': '-(P2)', 't0': 0}, {'ch': 'd9', 'name': 'Y90p_d9', 't0': 0}, {'name': 'fc', 'ch': 'd9', 'phase': '-(P1)', 't0': 29}]}, {'qubits': [10], 'name': 'u2', 'sequence': [{'name': 'fc', 'ch': 'd10', 'phase': '-(P2)', 't0': 0}, {'ch': 'd10', 'name': 'Y90p_d10', 't0': 0}, {'name': 'fc', 'ch': 'd10', 'phase': '-(P1)', 't0': 29}]}, {'qubits': [11], 'name': 'u2', 'sequence': [{'name': 'fc', 'ch': 'd11', 'phase': '-(P2)', 't0': 0}, {'ch': 'd11', 'name': 'Y90p_d11', 't0': 0}, {'name': 'fc', 'ch': 'd11', 'phase': '-(P1)', 't0': 29}]}, {'qubits': [12], 'name': 'u2', 'sequence': [{'name': 'fc', 'ch': 'd12', 'phase': '-(P2)', 't0': 0}, {'ch': 'd12', 'name': 'Y90p_d12', 't0': 0}, {'name': 'fc', 'ch': 'd12', 'phase': '-(P1)', 't0': 29}]}, {'qubits': [13], 'name': 'u2', 'sequence': [{'name': 'fc', 'ch': 'd13', 'phase': '-(P2)', 't0': 0}, {'ch': 'd13', 'name': 'Y90p_d13', 't0': 0}, {'name': 'fc', 'ch': 'd13', 'phase': '-(P1)', 't0': 29}]}, {'qubits': [14], 'name': 'u2', 'sequence': [{'name': 'fc', 'ch': 'd14', 'phase': '-(P2)', 't0': 0}, {'ch': 'd14', 'name': 'Y90p_d14', 't0': 0}, {'name': 'fc', 'ch': 'd14', 'phase': '-(P1)', 't0': 29}]}, {'qubits': [15], 'name': 'u2', 'sequence': [{'name': 'fc', 'ch': 'd15', 'phase': '-(P2)', 't0': 0}, {'ch': 'd15', 'name': 'Y90p_d15', 't0': 0}, {'name': 'fc', 'ch': 'd15', 'phase': '-(P1)', 't0': 29}]}, {'qubits': [16], 'name': 'u2', 'sequence': [{'name': 'fc', 'ch': 'd16', 'phase': '-(P2)', 't0': 0}, {'ch': 'd16', 'name': 'Y90p_d16', 't0': 0}, {'name': 'fc', 'ch': 'd16', 'phase': '-(P1)', 't0': 29}]}, {'qubits': [17], 'name': 'u2', 'sequence': [{'name': 'fc', 'ch': 'd17', 'phase': '-(P2)', 't0': 0}, {'ch': 'd17', 'name': 'Y90p_d17', 't0': 0}, {'name': 'fc', 'ch': 'd17', 'phase': '-(P1)', 't0': 29}]}, {'qubits': [18], 'name': 'u2', 'sequence': [{'name': 'fc', 'ch': 'd18', 'phase': '-(P2)', 't0': 0}, {'ch': 'd18', 'name': 'Y90p_d18', 't0': 0}, {'name': 'fc', 'ch': 'd18', 'phase': '-(P1)', 't0': 29}]}, {'qubits': [19], 'name': 'u2', 'sequence': [{'name': 'fc', 'ch': 'd19', 'phase': '-(P2)', 't0': 0}, {'ch': 'd19', 'name': 'Y90p_d19', 't0': 0}, {'name': 'fc', 'ch': 'd19', 'phase': '-(P1)', 't0': 29}]}, {'qubits': [0], 'name': 'u3', 'sequence': [{'name': 'fc', 'ch': 'd0', 'phase': '-(P3)', 't0': 0}, {'ch': 'd0', 'name': 'X90p_d0', 't0': 0}, {'name': 'fc', 'ch': 'd0', 'phase': '-(P1)', 't0': 29}, {'ch': 'd0', 'name': 'X90m_d0', 't0': 29}, {'name': 'fc', 'ch': 'd0', 'phase': '-(P2)', 't0': 58}]}, {'qubits': [1], 'name': 'u3', 'sequence': [{'name': 'fc', 'ch': 'd1', 'phase': '-(P3)', 't0': 0}, {'ch': 'd1', 'name': 'X90p_d1', 't0': 0}, {'name': 'fc', 'ch': 'd1', 'phase': '-(P1)', 't0': 29}, {'ch': 'd1', 'name': 'X90m_d1', 't0': 29}, {'name': 'fc', 'ch': 'd1', 'phase': '-(P2)', 't0': 58}]}, {'qubits': [2], 'name': 'u3', 'sequence': [{'name': 'fc', 'ch': 'd2', 'phase': '-(P3)', 't0': 0}, {'ch': 'd2', 'name': 'X90p_d2', 't0': 0}, {'name': 'fc', 'ch': 'd2', 'phase': '-(P1)', 't0': 29}, {'ch': 'd2', 'name': 'X90m_d2', 't0': 29}, {'name': 'fc', 'ch': 'd2', 'phase': '-(P2)', 't0': 58}]}, {'qubits': [3], 'name': 'u3', 'sequence': [{'name': 'fc', 'ch': 'd3', 'phase': '-(P3)', 't0': 0}, {'ch': 'd3', 'name': 'X90p_d3', 't0': 0}, {'name': 'fc', 'ch': 'd3', 'phase': '-(P1)', 't0': 29}, {'ch': 'd3', 'name': 'X90m_d3', 't0': 29}, {'name': 'fc', 'ch': 'd3', 'phase': '-(P2)', 't0': 58}]}, {'qubits': [4], 'name': 'u3', 'sequence': [{'name': 'fc', 'ch': 'd4', 'phase': '-(P3)', 't0': 0}, {'ch': 'd4', 'name': 'X90p_d4', 't0': 0}, {'name': 'fc', 'ch': 'd4', 'phase': '-(P1)', 't0': 29}, {'ch': 'd4', 'name': 'X90m_d4', 't0': 29}, {'name': 'fc', 'ch': 'd4', 'phase': '-(P2)', 't0': 58}]}, {'qubits': [5], 'name': 'u3', 'sequence': [{'name': 'fc', 'ch': 'd5', 'phase': '-(P3)', 't0': 0}, {'ch': 'd5', 'name': 'X90p_d5', 't0': 0}, {'name': 'fc', 'ch': 'd5', 'phase': '-(P1)', 't0': 29}, {'ch': 'd5', 'name': 'X90m_d5', 't0': 29}, {'name': 'fc', 'ch': 'd5', 'phase': '-(P2)', 't0': 58}]}, {'qubits': [6], 'name': 'u3', 'sequence': [{'name': 'fc', 'ch': 'd6', 'phase': '-(P3)', 't0': 0}, {'ch': 'd6', 'name': 'X90p_d6', 't0': 0}, {'name': 'fc', 'ch': 'd6', 'phase': '-(P1)', 't0': 29}, {'ch': 'd6', 'name': 'X90m_d6', 't0': 29}, {'name': 'fc', 'ch': 'd6', 'phase': '-(P2)', 't0': 58}]}, {'qubits': [7], 'name': 'u3', 'sequence': [{'name': 'fc', 'ch': 'd7', 'phase': '-(P3)', 't0': 0}, {'ch': 'd7', 'name': 'X90p_d7', 't0': 0}, {'name': 'fc', 'ch': 'd7', 'phase': '-(P1)', 't0': 29}, {'ch': 'd7', 'name': 'X90m_d7', 't0': 29}, {'name': 'fc', 'ch': 'd7', 'phase': '-(P2)', 't0': 58}]}, {'qubits': [8], 'name': 'u3', 'sequence': [{'name': 'fc', 'ch': 'd8', 'phase': '-(P3)', 't0': 0}, {'ch': 'd8', 'name': 'X90p_d8', 't0': 0}, {'name': 'fc', 'ch': 'd8', 'phase': '-(P1)', 't0': 29}, {'ch': 'd8', 'name': 'X90m_d8', 't0': 29}, {'name': 'fc', 'ch': 'd8', 'phase': '-(P2)', 't0': 58}]}, {'qubits': [9], 'name': 'u3', 'sequence': [{'name': 'fc', 'ch': 'd9', 'phase': '-(P3)', 't0': 0}, {'ch': 'd9', 'name': 'X90p_d9', 't0': 0}, {'name': 'fc', 'ch': 'd9', 'phase': '-(P1)', 't0': 29}, {'ch': 'd9', 'name': 'X90m_d9', 't0': 29}, {'name': 'fc', 'ch': 'd9', 'phase': '-(P2)', 't0': 58}]}, {'qubits': [10], 'name': 'u3', 'sequence': [{'name': 'fc', 'ch': 'd10', 'phase': '-(P3)', 't0': 0}, {'ch': 'd10', 'name': 'X90p_d10', 't0': 0}, {'name': 'fc', 'ch': 'd10', 'phase': '-(P1)', 't0': 29}, {'ch': 'd10', 'name': 'X90m_d10', 't0': 29}, {'name': 'fc', 'ch': 'd10', 'phase': '-(P2)', 't0': 58}]}, {'qubits': [11], 'name': 'u3', 'sequence': [{'name': 'fc', 'ch': 'd11', 'phase': '-(P3)', 't0': 0}, {'ch': 'd11', 'name': 'X90p_d11', 't0': 0}, {'name': 'fc', 'ch': 'd11', 'phase': '-(P1)', 't0': 29}, {'ch': 'd11', 'name': 'X90m_d11', 't0': 29}, {'name': 'fc', 'ch': 'd11', 'phase': '-(P2)', 't0': 58}]}, {'qubits': [12], 'name': 'u3', 'sequence': [{'name': 'fc', 'ch': 'd12', 'phase': '-(P3)', 't0': 0}, {'ch': 'd12', 'name': 'X90p_d12', 't0': 0}, {'name': 'fc', 'ch': 'd12', 'phase': '-(P1)', 't0': 29}, {'ch': 'd12', 'name': 'X90m_d12', 't0': 29}, {'name': 'fc', 'ch': 'd12', 'phase': '-(P2)', 't0': 58}]}, {'qubits': [13], 'name': 'u3', 'sequence': [{'name': 'fc', 'ch': 'd13', 'phase': '-(P3)', 't0': 0}, {'ch': 'd13', 'name': 'X90p_d13', 't0': 0}, {'name': 'fc', 'ch': 'd13', 'phase': '-(P1)', 't0': 29}, {'ch': 'd13', 'name': 'X90m_d13', 't0': 29}, {'name': 'fc', 'ch': 'd13', 'phase': '-(P2)', 't0': 58}]}, {'qubits': [14], 'name': 'u3', 'sequence': [{'name': 'fc', 'ch': 'd14', 'phase': '-(P3)', 't0': 0}, {'ch': 'd14', 'name': 'X90p_d14', 't0': 0}, {'name': 'fc', 'ch': 'd14', 'phase': '-(P1)', 't0': 29}, {'ch': 'd14', 'name': 'X90m_d14', 't0': 29}, {'name': 'fc', 'ch': 'd14', 'phase': '-(P2)', 't0': 58}]}, {'qubits': [15], 'name': 'u3', 'sequence': [{'name': 'fc', 'ch': 'd15', 'phase': '-(P3)', 't0': 0}, {'ch': 'd15', 'name': 'X90p_d15', 't0': 0}, {'name': 'fc', 'ch': 'd15', 'phase': '-(P1)', 't0': 29}, {'ch': 'd15', 'name': 'X90m_d15', 't0': 29}, {'name': 'fc', 'ch': 'd15', 'phase': '-(P2)', 't0': 58}]}, {'qubits': [16], 'name': 'u3', 'sequence': [{'name': 'fc', 'ch': 'd16', 'phase': '-(P3)', 't0': 0}, {'ch': 'd16', 'name': 'X90p_d16', 't0': 0}, {'name': 'fc', 'ch': 'd16', 'phase': '-(P1)', 't0': 29}, {'ch': 'd16', 'name': 'X90m_d16', 't0': 29}, {'name': 'fc', 'ch': 'd16', 'phase': '-(P2)', 't0': 58}]}, {'qubits': [17], 'name': 'u3', 'sequence': [{'name': 'fc', 'ch': 'd17', 'phase': '-(P3)', 't0': 0}, {'ch': 'd17', 'name': 'X90p_d17', 't0': 0}, {'name': 'fc', 'ch': 'd17', 'phase': '-(P1)', 't0': 29}, {'ch': 'd17', 'name': 'X90m_d17', 't0': 29}, {'name': 'fc', 'ch': 'd17', 'phase': '-(P2)', 't0': 58}]}, {'qubits': [18], 'name': 'u3', 'sequence': [{'name': 'fc', 'ch': 'd18', 'phase': '-(P3)', 't0': 0}, {'ch': 'd18', 'name': 'X90p_d18', 't0': 0}, {'name': 'fc', 'ch': 'd18', 'phase': '-(P1)', 't0': 29}, {'ch': 'd18', 'name': 'X90m_d18', 't0': 29}, {'name': 'fc', 'ch': 'd18', 'phase': '-(P2)', 't0': 58}]}, {'qubits': [19], 'name': 'u3', 'sequence': [{'name': 'fc', 'ch': 'd19', 'phase': '-(P3)', 't0': 0}, {'ch': 'd19', 'name': 'X90p_d19', 't0': 0}, {'name': 'fc', 'ch': 'd19', 'phase': '-(P1)', 't0': 29}, {'ch': 'd19', 'name': 'X90m_d19', 't0': 29}, {'name': 'fc', 'ch': 'd19', 'phase': '-(P2)', 't0': 58}]}], 'discriminator': {'params': {'neighborhoods': [{'qubits': 1, 'channels': 1}, {'qubits': 2, 'channels': 2}, {'qubits': 4, 'channels': 4}, {'qubits': 8, 'channels': 8}, {'qubits': 16, 'channels': 16}, {'qubits': 32, 'channels': 32}, {'qubits': 64, 'channels': 64}, {'qubits': 128, 'channels': 128}, {'qubits': 256, 'channels': 256}, {'qubits': 512, 'channels': 512}, {'qubits': 1024, 'channels': 1024}, {'qubits': 2048, 'channels': 2048}, {'qubits': 4096, 'channels': 4096}, {'qubits': 8192, 'channels': 8192}, {'qubits': 16384, 'channels': 16384}, {'qubits': 32768, 'channels': 32768}, {'qubits': 65536, 'channels': 65536}, {'qubits': 131072, 'channels': 131072}, {'qubits': 262144, 'channels': 262144}, {'qubits': 524288, 'channels': 524288}], 'resample': False}, 'name': 'linear_discriminator'}, 'qubit_freq_est': [4.919988770911415, 4.831991003716688, 4.939785649195245, 4.515107848320361, 4.6626221320403545, 4.9571346644423295, 4.995405176199016, 4.811052728077037, 5.013342188743205, 5.056787467473498, 4.71969728542866, 4.900170100433895, 4.772408802120016, 5.110502519783276, 4.990631432800852, 4.806466223525763, 4.955897693043067, 4.59971279529418, 4.8283477151762915, 4.938435985822405], 'meas_kernel': {'params': {}, 'name': 'boxcar'}, 'meas_freq_est': [7.02304866, 6.988508651, 7.021087557, 6.914462388, 7.085532103, 6.949279909, 7.108946695, 6.909172065, 6.994924756, 6.901232112, 7.046906055, 7.002697717, 7.056662542, 6.944036858, 7.102260098, 6.942593417, 7.087802113, 6.89580952, 7.003100376, 6.89580523], 'pulse_library': [{'samples': [[-0.012084757909178734, -4.968131543137133e-05], [-0.028941169381141663, -0.00011897924559889361], [-0.05058499798178673, -0.00020795858290512115], [-0.07597517222166061, -0.0003123394271824509], [-0.10284503549337387, -0.0004228033940307796], [-0.12789656221866608, -0.0005257920711301267], [-0.14740616083145142, -0.000605997396633029], [-0.15950070321559906, -0.000655718962661922], [-0.15950070321559906, -0.000655718962661922], [-0.15950070321559906, -0.000655718962661922], [-0.15950070321559906, -0.000655718962661922], [-0.15950070321559906, -0.000655718962661922], [-0.15950070321559906, -0.000655718962661922], [-0.15950070321559906, -0.000655718962661922], [-0.15950070321559906, -0.000655718962661922], [-0.15950070321559906, -0.000655718962661922], [-0.15950070321559906, -0.000655718962661922], [-0.15950070321559906, -0.000655718962661922], [-0.15950070321559906, -0.000655718962661922], [-0.15950070321559906, -0.000655718962661922], [-0.15950070321559906, -0.000655718962661922], [-0.15950070321559906, -0.000655718962661922], [-0.15950070321559906, -0.000655718962661922], [-0.15950070321559906, -0.000655718962661922], [-0.15950070321559906, -0.000655718962661922], [-0.15950070321559906, -0.000655718962661922], [-0.15950070321559906, -0.000655718962661922], [-0.14740616083145142, -0.000605997396633029], [-0.12789656221866608, -0.0005257920711301267], [-0.10284503549337387, -0.0004228033940307796], [-0.07597517222166061, -0.0003123394271824509], [-0.05058499798178673, -0.00020795858290512115], [-0.028941169381141663, -0.00011897924559889361], [-0.012084757909178734, -4.968131543137133e-05]], 'name': 'CR90m_u0'}, {'samples': [[-0.010042497888207436, 0.0010622971458360553], [-0.024050265550613403, 0.002544041257351637], [-0.042036402970552444, 0.004446617793291807], [-0.06313576549291611, 0.006678512319922447], [-0.08546476811170578, 0.009040478616952896], [-0.10628273338079453, 0.011242605745792389], [-0.12249530106782913, 0.012957574799656868], [-0.13254593312740326, 0.014020731672644615], [-0.13254593312740326, 0.014020731672644615], [-0.13254593312740326, 0.014020731672644615], [-0.13254593312740326, 0.014020731672644615], [-0.13254593312740326, 0.014020731672644615], [-0.13254593312740326, 0.014020731672644615], [-0.13254593312740326, 0.014020731672644615], [-0.13254593312740326, 0.014020731672644615], [-0.13254593312740326, 0.014020731672644615], [-0.13254593312740326, 0.014020731672644615], [-0.13254593312740326, 0.014020731672644615], [-0.13254593312740326, 0.014020731672644615], [-0.13254593312740326, 0.014020731672644615], [-0.13254593312740326, 0.014020731672644615], [-0.13254593312740326, 0.014020731672644615], [-0.13254593312740326, 0.014020731672644615], [-0.13254593312740326, 0.014020731672644615], [-0.12249530106782913, 0.012957574799656868], [-0.10628273338079453, 0.011242605745792389], [-0.08546476811170578, 0.009040478616952896], [-0.06313576549291611, 0.006678512319922447], [-0.042036402970552444, 0.004446617793291807], [-0.024050265550613403, 0.002544041257351637], [-0.010042497888207436, 0.0010622971458360553]], 'name': 'CR90m_u10'}, {'samples': [[0, 0], [0, 0], [0, 0], [0, 0], [0, 0], [0, 0], [0, 0], [0, 0], [0, 0], [0, 0], [0, 0], [0, 0], [0, 0], [0, 0], [0, 0], [0, 0], [0, 0], [0, 0], [0, 0], [0, 0], [0, 0], [0, 0], [0, 0], [0, 0], [0, 0], [0, 0], [0, 0], [0, 0], [0, 0], [0, 0], [0, 0], [0, 0], [0, 0], [0, 0]], 'name': 'CR90m_u11'}, {'samples': [[-0.01679695025086403, -0.0005938094109296799], [-0.04022615775465965, -0.0014220838202163577], [-0.07030952721834183, -0.002485597738996148], [-0.10560004413127899, -0.003733195597305894], [-0.1429472416639328, -0.005053502041846514], [-0.1777670830488205, -0.006284460425376892], [-0.20488403737545013, -0.007243104744702578], [-0.22169455885887146, -0.007837394252419472], [-0.22169455885887146, -0.007837394252419472], [-0.22169455885887146, -0.007837394252419472], [-0.22169455885887146, -0.007837394252419472], [-0.22169455885887146, -0.007837394252419472], [-0.22169455885887146, -0.007837394252419472], [-0.22169455885887146, -0.007837394252419472], [-0.22169455885887146, -0.007837394252419472], [-0.22169455885887146, -0.007837394252419472], [-0.22169455885887146, -0.007837394252419472], [-0.22169455885887146, -0.007837394252419472], [-0.22169455885887146, -0.007837394252419472], [-0.22169455885887146, -0.007837394252419472], [-0.22169455885887146, -0.007837394252419472], [-0.22169455885887146, -0.007837394252419472], [-0.22169455885887146, -0.007837394252419472], [-0.22169455885887146, -0.007837394252419472], [-0.22169455885887146, -0.007837394252419472], [-0.22169455885887146, -0.007837394252419472], [-0.22169455885887146, -0.007837394252419472], [-0.22169455885887146, -0.007837394252419472], [-0.20488403737545013, -0.007243104744702578], [-0.1777670830488205, -0.006284460425376892], [-0.1429472416639328, -0.005053502041846514], [-0.10560004413127899, -0.003733195597305894], [-0.07030952721834183, -0.002485597738996148], [-0.04022615775465965, -0.0014220838202163577], [-0.01679695025086403, -0.0005938094109296799]], 'name': 'CR90m_u12'}, {'samples': [[0.018917106091976166, 0.024024605751037598], [0.04530361294746399, 0.05753530561923981], [0.07918418943881989, 0.1005634292960167], [0.1189291700720787, 0.15103930234909058], [0.16099043190479279, 0.2044568508863449], [0.20020532608032227, 0.25425952672958374], [0.23074506223201752, 0.293044775724411], [0.24967744946479797, 0.3170888125896454], [0.24967744946479797, 0.3170888125896454], [0.24967744946479797, 0.3170888125896454], [0.24967744946479797, 0.3170888125896454], [0.24967744946479797, 0.3170888125896454], [0.24967744946479797, 0.3170888125896454], [0.24967744946479797, 0.3170888125896454], [0.24967744946479797, 0.3170888125896454], [0.24967744946479797, 0.3170888125896454], [0.24967744946479797, 0.3170888125896454], [0.24967744946479797, 0.3170888125896454], [0.24967744946479797, 0.3170888125896454], [0.24967744946479797, 0.3170888125896454], [0.24967744946479797, 0.3170888125896454], [0.24967744946479797, 0.3170888125896454], [0.24967744946479797, 0.3170888125896454], [0.24967744946479797, 0.3170888125896454], [0.24967744946479797, 0.3170888125896454], [0.24967744946479797, 0.3170888125896454], [0.24967744946479797, 0.3170888125896454], [0.24967744946479797, 0.3170888125896454], [0.24967744946479797, 0.3170888125896454], [0.24967744946479797, 0.3170888125896454], [0.24967744946479797, 0.3170888125896454], [0.24967744946479797, 0.3170888125896454], [0.24967744946479797, 0.3170888125896454], [0.24967744946479797, 0.3170888125896454], [0.24967744946479797, 0.3170888125896454], [0.24967744946479797, 0.3170888125896454], [0.24967744946479797, 0.3170888125896454], [0.24967744946479797, 0.3170888125896454], [0.24967744946479797, 0.3170888125896454], [0.24967744946479797, 0.3170888125896454], [0.24967744946479797, 0.3170888125896454], [0.24967744946479797, 0.3170888125896454], [0.24967744946479797, 0.3170888125896454], [0.24967744946479797, 0.3170888125896454], [0.24967744946479797, 0.3170888125896454], [0.24967744946479797, 0.3170888125896454], [0.24967744946479797, 0.3170888125896454], [0.24967744946479797, 0.3170888125896454], [0.24967744946479797, 0.3170888125896454], [0.24967744946479797, 0.3170888125896454], [0.23074506223201752, 0.293044775724411], [0.20020532608032227, 0.25425952672958374], [0.16099043190479279, 0.2044568508863449], [0.1189291700720787, 0.15103930234909058], [0.07918418943881989, 0.1005634292960167], [0.04530361294746399, 0.05753530561923981], [0.018917106091976166, 0.024024605751037598]], 'name': 'CR90m_u15'}, {'samples': [[-0.004329166375100613, -0.00013989326544106007], [-0.009498320519924164, -0.0003069300146307796], [-0.01554787065833807, -0.0005024159909226], [-0.022482577711343765, -0.000726505066268146], [-0.03026256524026394, -0.0009779086103662848], [-0.038796041160821915, -0.001253660535439849], [-0.04793490096926689, -0.001548974891193211], [-0.05747419595718384, -0.0018572289263829589], [-0.06715627014636993, -0.0021700968500226736], [-0.07667993009090424, -0.0024778456427156925], [-0.08571451157331467, -0.0027697901241481304], [-0.09391802549362183, -0.0030348796863108873], [-0.10095825791358948, -0.003262378741055727], [-0.10653483122587204, -0.003442581044510007], [-0.11040044575929642, -0.0035674949176609516], [-0.11262853443622589, -0.003639493603259325], [-0.11262853443622589, -0.003639493603259325], [-0.11262853443622589, -0.003639493603259325], [-0.11262853443622589, -0.003639493603259325], [-0.11262853443622589, -0.003639493603259325], [-0.11262853443622589, -0.003639493603259325], [-0.11262853443622589, -0.003639493603259325], [-0.11262853443622589, -0.003639493603259325], [-0.11262853443622589, -0.003639493603259325], [-0.11262853443622589, -0.003639493603259325], [-0.11262853443622589, -0.003639493603259325], [-0.11262853443622589, -0.003639493603259325], [-0.11262853443622589, -0.003639493603259325], [-0.11262853443622589, -0.003639493603259325], [-0.11262853443622589, -0.003639493603259325], [-0.11262853443622589, -0.003639493603259325], [-0.11262853443622589, -0.003639493603259325], [-0.11262853443622589, -0.003639493603259325], [-0.11040044575929642, -0.0035674949176609516], [-0.10653483122587204, -0.003442581044510007], [-0.10095825791358948, -0.003262378741055727], [-0.09391802549362183, -0.0030348796863108873], [-0.08571451157331467, -0.0027697901241481304], [-0.07667993009090424, -0.0024778456427156925], [-0.06715627014636993, -0.0021700968500226736], [-0.05747419595718384, -0.0018572289263829589], [-0.04793490096926689, -0.001548974891193211], [-0.038796041160821915, -0.001253660535439849], [-0.03026256524026394, -0.0009779086103662848], [-0.022482577711343765, -0.000726505066268146], [-0.01554787065833807, -0.0005024159909226], [-0.009498320519924164, -0.0003069300146307796], [-0.004329166375100613, -0.00013989326544106007]], 'name': 'CR90m_u17'}, {'samples': [[-0.030447760596871376, 0.01035692822188139], [-0.07291778922080994, 0.0248032808303833], [-0.12744979560375214, 0.04335256293416023], [-0.191420778632164, 0.06511254608631134], [-0.2591198980808258, 0.08814067393541336], [-0.32223767042160034, 0.10961044579744339], [-0.37139245867729187, 0.1263306438922882], [-0.4018648862838745, 0.1366959512233734], [-0.4018648862838745, 0.1366959512233734], [-0.4018648862838745, 0.1366959512233734], [-0.4018648862838745, 0.1366959512233734], [-0.4018648862838745, 0.1366959512233734], [-0.4018648862838745, 0.1366959512233734], [-0.4018648862838745, 0.1366959512233734], [-0.4018648862838745, 0.1366959512233734], [-0.4018648862838745, 0.1366959512233734], [-0.4018648862838745, 0.1366959512233734], [-0.4018648862838745, 0.1366959512233734], [-0.4018648862838745, 0.1366959512233734], [-0.37139245867729187, 0.1263306438922882], [-0.32223767042160034, 0.10961044579744339], [-0.2591198980808258, 0.08814067393541336], [-0.191420778632164, 0.06511254608631134], [-0.12744979560375214, 0.04335256293416023], [-0.07291778922080994, 0.0248032808303833], [-0.030447760596871376, 0.01035692822188139]], 'name': 'CR90m_u18'}, {'samples': [[0.009925833903253078, -0.007065447047352791], [0.023770872503519058, -0.016920678317546844], [0.04154806584119797, -0.029574910178780556], [0.06240231543779373, -0.044419463723897934], [0.0844719186425209, -0.06012914329767227], [0.1050480455160141, -0.07477571815252304], [0.12107227742671967, -0.08618215471506119], [0.1310061365365982, -0.09325331449508667], [0.1310061365365982, -0.09325331449508667], [0.1310061365365982, -0.09325331449508667], [0.1310061365365982, -0.09325331449508667], [0.1310061365365982, -0.09325331449508667], [0.1310061365365982, -0.09325331449508667], [0.1310061365365982, -0.09325331449508667], [0.1310061365365982, -0.09325331449508667], [0.1310061365365982, -0.09325331449508667], [0.1310061365365982, -0.09325331449508667], [0.1310061365365982, -0.09325331449508667], [0.1310061365365982, -0.09325331449508667], [0.1310061365365982, -0.09325331449508667], [0.1310061365365982, -0.09325331449508667], [0.1310061365365982, -0.09325331449508667], [0.1310061365365982, -0.09325331449508667], [0.1310061365365982, -0.09325331449508667], [0.1310061365365982, -0.09325331449508667], [0.1310061365365982, -0.09325331449508667], [0.1310061365365982, -0.09325331449508667], [0.1310061365365982, -0.09325331449508667], [0.1310061365365982, -0.09325331449508667], [0.1310061365365982, -0.09325331449508667], [0.1310061365365982, -0.09325331449508667], [0.1310061365365982, -0.09325331449508667], [0.1310061365365982, -0.09325331449508667], [0.1310061365365982, -0.09325331449508667], [0.1310061365365982, -0.09325331449508667], [0.1310061365365982, -0.09325331449508667], [0.1310061365365982, -0.09325331449508667], [0.1310061365365982, -0.09325331449508667], [0.1310061365365982, -0.09325331449508667], [0.1310061365365982, -0.09325331449508667], [0.1310061365365982, -0.09325331449508667], [0.1310061365365982, -0.09325331449508667], [0.1310061365365982, -0.09325331449508667], [0.1310061365365982, -0.09325331449508667], [0.1310061365365982, -0.09325331449508667], [0.1310061365365982, -0.09325331449508667], [0.1310061365365982, -0.09325331449508667], [0.1310061365365982, -0.09325331449508667], [0.1310061365365982, -0.09325331449508667], [0.1310061365365982, -0.09325331449508667], [0.1310061365365982, -0.09325331449508667], [0.1310061365365982, -0.09325331449508667], [0.1310061365365982, -0.09325331449508667], [0.1310061365365982, -0.09325331449508667], [0.1310061365365982, -0.09325331449508667], [0.1310061365365982, -0.09325331449508667], [0.1310061365365982, -0.09325331449508667], [0.1310061365365982, -0.09325331449508667], [0.1310061365365982, -0.09325331449508667], [0.1310061365365982, -0.09325331449508667], [0.1310061365365982, -0.09325331449508667], [0.1310061365365982, -0.09325331449508667], [0.1310061365365982, -0.09325331449508667], [0.1310061365365982, -0.09325331449508667], [0.1310061365365982, -0.09325331449508667], [0.1310061365365982, -0.09325331449508667], [0.1310061365365982, -0.09325331449508667], [0.1310061365365982, -0.09325331449508667], [0.1310061365365982, -0.09325331449508667], [0.1310061365365982, -0.09325331449508667], [0.1310061365365982, -0.09325331449508667], [0.1310061365365982, -0.09325331449508667], [0.1310061365365982, -0.09325331449508667], [0.1310061365365982, -0.09325331449508667], [0.1310061365365982, -0.09325331449508667], [0.1310061365365982, -0.09325331449508667], [0.1310061365365982, -0.09325331449508667], [0.1310061365365982, -0.09325331449508667], [0.1310061365365982, -0.09325331449508667], [0.1310061365365982, -0.09325331449508667], [0.1310061365365982, -0.09325331449508667], [0.1310061365365982, -0.09325331449508667], [0.1310061365365982, -0.09325331449508667], [0.1310061365365982, -0.09325331449508667], [0.1310061365365982, -0.09325331449508667], [0.1310061365365982, -0.09325331449508667], [0.1310061365365982, -0.09325331449508667], [0.1310061365365982, -0.09325331449508667], [0.12107227742671967, -0.08618215471506119], [0.1050480455160141, -0.07477571815252304], [0.0844719186425209, -0.06012914329767227], [0.06240231543779373, -0.044419463723897934], [0.04154806584119797, -0.029574910178780556], [0.023770872503519058, -0.016920678317546844], [0.009925833903253078, -0.007065447047352791]], 'name': 'CR90m_u20'}, {'samples': [[-0.006368641741573811, 0.0007947157719172537], [-0.015251935459673405, 0.0019032243872061372], [-0.026658188551664352, 0.0033265622332692146], [-0.040038757026195526, 0.004996266216039658], [-0.05419911816716194, 0.006763278041034937], [-0.067401222884655, 0.008410712704062462], [-0.0776827409863472, 0.009693699888885021], [-0.0840565413236618, 0.010489058680832386], [-0.0840565413236618, 0.010489058680832386], [-0.0840565413236618, 0.010489058680832386], [-0.0840565413236618, 0.010489058680832386], [-0.0840565413236618, 0.010489058680832386], [-0.0840565413236618, 0.010489058680832386], [-0.0840565413236618, 0.010489058680832386], [-0.0840565413236618, 0.010489058680832386], [-0.0840565413236618, 0.010489058680832386], [-0.0840565413236618, 0.010489058680832386], [-0.0840565413236618, 0.010489058680832386], [-0.0840565413236618, 0.010489058680832386], [-0.0840565413236618, 0.010489058680832386], [-0.0840565413236618, 0.010489058680832386], [-0.0840565413236618, 0.010489058680832386], [-0.0840565413236618, 0.010489058680832386], [-0.0840565413236618, 0.010489058680832386], [-0.0776827409863472, 0.009693699888885021], [-0.067401222884655, 0.008410712704062462], [-0.05419911816716194, 0.006763278041034937], [-0.040038757026195526, 0.004996266216039658], [-0.026658188551664352, 0.0033265622332692146], [-0.015251935459673405, 0.0019032243872061372], [-0.006368641741573811, 0.0007947157719172537]], 'name': 'CR90m_u21'}, {'samples': [[-0.006383007857948542, -3.962887421948835e-05], [-0.015286339446902275, -9.490516094956547e-05], [-0.026718322187662125, -0.00016588057042099535], [-0.04012906923890114, -0.00024914112873375416], [-0.054321374744176865, -0.00033725399407558143], [-0.06755325943231583, -0.00041940409573726356], [-0.07785797119140625, -0.00048338083433918655], [-0.08424614369869232, -0.0005230417591519654], [-0.08424614369869232, -0.0005230417591519654], [-0.08424614369869232, -0.0005230417591519654], [-0.08424614369869232, -0.0005230417591519654], [-0.08424614369869232, -0.0005230417591519654], [-0.08424614369869232, -0.0005230417591519654], [-0.08424614369869232, -0.0005230417591519654], [-0.08424614369869232, -0.0005230417591519654], [-0.08424614369869232, -0.0005230417591519654], [-0.08424614369869232, -0.0005230417591519654], [-0.08424614369869232, -0.0005230417591519654], [-0.08424614369869232, -0.0005230417591519654], [-0.08424614369869232, -0.0005230417591519654], [-0.08424614369869232, -0.0005230417591519654], [-0.08424614369869232, -0.0005230417591519654], [-0.08424614369869232, -0.0005230417591519654], [-0.08424614369869232, -0.0005230417591519654], [-0.08424614369869232, -0.0005230417591519654], [-0.08424614369869232, -0.0005230417591519654], [-0.08424614369869232, -0.0005230417591519654], [-0.08424614369869232, -0.0005230417591519654], [-0.08424614369869232, -0.0005230417591519654], [-0.08424614369869232, -0.0005230417591519654], [-0.08424614369869232, -0.0005230417591519654], [-0.08424614369869232, -0.0005230417591519654], [-0.08424614369869232, -0.0005230417591519654], [-0.08424614369869232, -0.0005230417591519654], [-0.08424614369869232, -0.0005230417591519654], [-0.08424614369869232, -0.0005230417591519654], [-0.08424614369869232, -0.0005230417591519654], [-0.08424614369869232, -0.0005230417591519654], [-0.08424614369869232, -0.0005230417591519654], [-0.08424614369869232, -0.0005230417591519654], [-0.08424614369869232, -0.0005230417591519654], [-0.08424614369869232, -0.0005230417591519654], [-0.08424614369869232, -0.0005230417591519654], [-0.07785797119140625, -0.00048338083433918655], [-0.06755325943231583, -0.00041940409573726356], [-0.054321374744176865, -0.00033725399407558143], [-0.04012906923890114, -0.00024914112873375416], [-0.026718322187662125, -0.00016588057042099535], [-0.015286339446902275, -9.490516094956547e-05], [-0.006383007857948542, -3.962887421948835e-05]], 'name': 'CR90m_u22'}, {'samples': [[-0.005597677547484636, -0.0006656408659182489], [-0.013405592180788517, -0.0015941092278808355], [-0.023431045934557915, -0.0027862736023962498], [-0.03519181162118912, -0.004184790421277285], [-0.047637972980737686, -0.005664810072630644], [-0.0592418797314167, -0.00704467436298728], [-0.06827875226736069, -0.008119283244013786], [-0.07388095557689667, -0.008785462006926537], [-0.07388095557689667, -0.008785462006926537], [-0.07388095557689667, -0.008785462006926537], [-0.07388095557689667, -0.008785462006926537], [-0.07388095557689667, -0.008785462006926537], [-0.07388095557689667, -0.008785462006926537], [-0.07388095557689667, -0.008785462006926537], [-0.07388095557689667, -0.008785462006926537], [-0.07388095557689667, -0.008785462006926537], [-0.07388095557689667, -0.008785462006926537], [-0.07388095557689667, -0.008785462006926537], [-0.07388095557689667, -0.008785462006926537], [-0.07388095557689667, -0.008785462006926537], [-0.07388095557689667, -0.008785462006926537], [-0.07388095557689667, -0.008785462006926537], [-0.07388095557689667, -0.008785462006926537], [-0.07388095557689667, -0.008785462006926537], [-0.07388095557689667, -0.008785462006926537], [-0.07388095557689667, -0.008785462006926537], [-0.07388095557689667, -0.008785462006926537], [-0.07388095557689667, -0.008785462006926537], [-0.07388095557689667, -0.008785462006926537], [-0.07388095557689667, -0.008785462006926537], [-0.07388095557689667, -0.008785462006926537], [-0.07388095557689667, -0.008785462006926537], [-0.07388095557689667, -0.008785462006926537], [-0.07388095557689667, -0.008785462006926537], [-0.07388095557689667, -0.008785462006926537], [-0.07388095557689667, -0.008785462006926537], [-0.07388095557689667, -0.008785462006926537], [-0.07388095557689667, -0.008785462006926537], [-0.07388095557689667, -0.008785462006926537], [-0.07388095557689667, -0.008785462006926537], [-0.07388095557689667, -0.008785462006926537], [-0.07388095557689667, -0.008785462006926537], [-0.07388095557689667, -0.008785462006926537], [-0.07388095557689667, -0.008785462006926537], [-0.07388095557689667, -0.008785462006926537], [-0.07388095557689667, -0.008785462006926537], [-0.07388095557689667, -0.008785462006926537], [-0.07388095557689667, -0.008785462006926537], [-0.07388095557689667, -0.008785462006926537], [-0.07388095557689667, -0.008785462006926537], [-0.07388095557689667, -0.008785462006926537], [-0.07388095557689667, -0.008785462006926537], [-0.07388095557689667, -0.008785462006926537], [-0.07388095557689667, -0.008785462006926537], [-0.07388095557689667, -0.008785462006926537], [-0.07388095557689667, -0.008785462006926537], [-0.06827875226736069, -0.008119283244013786], [-0.0592418797314167, -0.00704467436298728], [-0.047637972980737686, -0.005664810072630644], [-0.03519181162118912, -0.004184790421277285], [-0.023431045934557915, -0.0027862736023962498], [-0.013405592180788517, -0.0015941092278808355], [-0.005597677547484636, -0.0006656408659182489]], 'name': 'CR90m_u24'}, {'samples': [[0, 0], [0, 0], [0, 0], [0, 0], [0, 0], [0, 0], [0, 0], [0, 0], [0, 0], [0, 0], [0, 0], [0, 0], [0, 0], [0, 0], [0, 0], [0, 0], [0, 0], [0, 0], [0, 0], [0, 0], [0, 0], [0, 0], [0, 0], [0, 0], [0, 0], [0, 0], [0, 0], [0, 0], [0, 0], [0, 0], [0, 0], [0, 0], [0, 0]], 'name': 'CR90m_u27'}, {'samples': [[-0.01372847892343998, 0.0032358819153159857], [-0.03798763453960419, 0.008953905664384365], [-0.06781408190727234, 0.015984172001481056], [-0.09243397414684296, 0.02178722247481346], [-0.09243397414684296, 0.02178722247481346], [-0.09243397414684296, 0.02178722247481346], [-0.09243397414684296, 0.02178722247481346], [-0.09243397414684296, 0.02178722247481346], [-0.09243397414684296, 0.02178722247481346], [-0.09243397414684296, 0.02178722247481346], [-0.09243397414684296, 0.02178722247481346], [-0.09243397414684296, 0.02178722247481346], [-0.09243397414684296, 0.02178722247481346], [-0.09243397414684296, 0.02178722247481346], [-0.09243397414684296, 0.02178722247481346], [-0.09243397414684296, 0.02178722247481346], [-0.09243397414684296, 0.02178722247481346], [-0.09243397414684296, 0.02178722247481346], [-0.09243397414684296, 0.02178722247481346], [-0.09243397414684296, 0.02178722247481346], [-0.09243397414684296, 0.02178722247481346], [-0.09243397414684296, 0.02178722247481346], [-0.09243397414684296, 0.02178722247481346], [-0.09243397414684296, 0.02178722247481346], [-0.09243397414684296, 0.02178722247481346], [-0.09243397414684296, 0.02178722247481346], [-0.09243397414684296, 0.02178722247481346], [-0.09243397414684296, 0.02178722247481346], [-0.09243397414684296, 0.02178722247481346], [-0.09243397414684296, 0.02178722247481346], [-0.09243397414684296, 0.02178722247481346], [-0.09243397414684296, 0.02178722247481346], [-0.09243397414684296, 0.02178722247481346], [-0.09243397414684296, 0.02178722247481346], [-0.09243397414684296, 0.02178722247481346], [-0.09243397414684296, 0.02178722247481346], [-0.09243397414684296, 0.02178722247481346], [-0.09243397414684296, 0.02178722247481346], [-0.09243397414684296, 0.02178722247481346], [-0.09243397414684296, 0.02178722247481346], [-0.09243397414684296, 0.02178722247481346], [-0.09243397414684296, 0.02178722247481346], [-0.09243397414684296, 0.02178722247481346], [-0.09243397414684296, 0.02178722247481346], [-0.09243397414684296, 0.02178722247481346], [-0.09243397414684296, 0.02178722247481346], [-0.09243397414684296, 0.02178722247481346], [-0.09243397414684296, 0.02178722247481346], [-0.09243397414684296, 0.02178722247481346], [-0.09243397414684296, 0.02178722247481346], [-0.09243397414684296, 0.02178722247481346], [-0.09243397414684296, 0.02178722247481346], [-0.09243397414684296, 0.02178722247481346], [-0.09243397414684296, 0.02178722247481346], [-0.09243397414684296, 0.02178722247481346], [-0.06781408190727234, 0.015984172001481056], [-0.03798763453960419, 0.008953905664384365], [-0.01372847892343998, 0.0032358819153159857]], 'name': 'CR90m_u30'}, {'samples': [[-0.014544084668159485, -0.0012881563743576407], [-0.034830886870622635, -0.0030849401373416185], [-0.06087937578558922, -0.005392031278461218], [-0.09143660217523575, -0.008098457008600235], [-0.12377467006444931, -0.010962610132992268], [-0.1539243459701538, -0.013632940128445625], [-0.1774042844772339, -0.015712536871433258], [-0.19196012616157532, -0.017001735046505928], [-0.19196012616157532, -0.017001735046505928], [-0.19196012616157532, -0.017001735046505928], [-0.19196012616157532, -0.017001735046505928], [-0.19196012616157532, -0.017001735046505928], [-0.19196012616157532, -0.017001735046505928], [-0.19196012616157532, -0.017001735046505928], [-0.19196012616157532, -0.017001735046505928], [-0.19196012616157532, -0.017001735046505928], [-0.19196012616157532, -0.017001735046505928], [-0.19196012616157532, -0.017001735046505928], [-0.19196012616157532, -0.017001735046505928], [-0.1774042844772339, -0.015712536871433258], [-0.1539243459701538, -0.013632940128445625], [-0.12377467006444931, -0.010962610132992268], [-0.09143660217523575, -0.008098457008600235], [-0.06087937578558922, -0.005392031278461218], [-0.034830886870622635, -0.0030849401373416185], [-0.014544084668159485, -0.0012881563743576407]], 'name': 'CR90m_u32'}, {'samples': [[-0.010875752195715904, -0.00024007006140891463], [-0.0260457843542099, -0.0005749315023422241], [-0.04552428051829338, -0.0010048975236713886], [-0.06837431341409683, -0.0015092864632606506], [-0.09255602955818176, -0.002043070737272501], [-0.11510130763053894, -0.0025407325010746717], [-0.13265909254550934, -0.002928300993517041], [-0.14354363083839417, -0.0031685649883002043], [-0.14354363083839417, -0.0031685649883002043], [-0.14354363083839417, -0.0031685649883002043], [-0.14354363083839417, -0.0031685649883002043], [-0.14354363083839417, -0.0031685649883002043], [-0.14354363083839417, -0.0031685649883002043], [-0.14354363083839417, -0.0031685649883002043], [-0.14354363083839417, -0.0031685649883002043], [-0.14354363083839417, -0.0031685649883002043], [-0.14354363083839417, -0.0031685649883002043], [-0.14354363083839417, -0.0031685649883002043], [-0.14354363083839417, -0.0031685649883002043], [-0.14354363083839417, -0.0031685649883002043], [-0.14354363083839417, -0.0031685649883002043], [-0.14354363083839417, -0.0031685649883002043], [-0.14354363083839417, -0.0031685649883002043], [-0.14354363083839417, -0.0031685649883002043], [-0.14354363083839417, -0.0031685649883002043], [-0.14354363083839417, -0.0031685649883002043], [-0.14354363083839417, -0.0031685649883002043], [-0.14354363083839417, -0.0031685649883002043], [-0.14354363083839417, -0.0031685649883002043], [-0.13265909254550934, -0.002928300993517041], [-0.11510130763053894, -0.0025407325010746717], [-0.09255602955818176, -0.002043070737272501], [-0.06837431341409683, -0.0015092864632606506], [-0.04552428051829338, -0.0010048975236713886], [-0.0260457843542099, -0.0005749315023422241], [-0.010875752195715904, -0.00024007006140891463]], 'name': 'CR90m_u35'}, {'samples': [[-0.030769802629947662, -0.01453988067805767], [-0.07368902862071991, -0.03482081741094589], [-0.12879781424999237, -0.060861777514219284], [-0.19344541430473328, -0.09141018241643906], [-0.26186057925224304, -0.12373889982700348], [-0.32564592361450195, -0.15387986600399017], [-0.3753206133842468, -0.17735300958156586], [-0.4061152935028076, -0.19190464913845062], [-0.4061152935028076, -0.19190464913845062], [-0.4061152935028076, -0.19190464913845062], [-0.4061152935028076, -0.19190464913845062], [-0.4061152935028076, -0.19190464913845062], [-0.4061152935028076, -0.19190464913845062], [-0.4061152935028076, -0.19190464913845062], [-0.4061152935028076, -0.19190464913845062], [-0.4061152935028076, -0.19190464913845062], [-0.4061152935028076, -0.19190464913845062], [-0.4061152935028076, -0.19190464913845062], [-0.4061152935028076, -0.19190464913845062], [-0.4061152935028076, -0.19190464913845062], [-0.4061152935028076, -0.19190464913845062], [-0.4061152935028076, -0.19190464913845062], [-0.4061152935028076, -0.19190464913845062], [-0.4061152935028076, -0.19190464913845062], [-0.4061152935028076, -0.19190464913845062], [-0.4061152935028076, -0.19190464913845062], [-0.4061152935028076, -0.19190464913845062], [-0.4061152935028076, -0.19190464913845062], [-0.4061152935028076, -0.19190464913845062], [-0.4061152935028076, -0.19190464913845062], [-0.3753206133842468, -0.17735300958156586], [-0.32564592361450195, -0.15387986600399017], [-0.26186057925224304, -0.12373889982700348], [-0.19344541430473328, -0.09141018241643906], [-0.12879781424999237, -0.060861777514219284], [-0.07368902862071991, -0.03482081741094589], [-0.030769802629947662, -0.01453988067805767]], 'name': 'CR90m_u36'}, {'samples': [[0.004718112759292126, -0.0067094191908836365], [0.01129916775971651, -0.016068045049905777], [0.019749317318201065, -0.02808462828397751], [0.029662108048796654, -0.042181167751550674], [0.04015260562300682, -0.05709923803806305], [0.049933187663555145, -0.07100776582956314], [0.0575500950217247, -0.0818394348025322], [0.062272023409605026, -0.08855428546667099], [0.062272023409605026, -0.08855428546667099], [0.062272023409605026, -0.08855428546667099], [0.062272023409605026, -0.08855428546667099], [0.062272023409605026, -0.08855428546667099], [0.062272023409605026, -0.08855428546667099], [0.062272023409605026, -0.08855428546667099], [0.062272023409605026, -0.08855428546667099], [0.062272023409605026, -0.08855428546667099], [0.062272023409605026, -0.08855428546667099], [0.062272023409605026, -0.08855428546667099], [0.062272023409605026, -0.08855428546667099], [0.062272023409605026, -0.08855428546667099], [0.062272023409605026, -0.08855428546667099], [0.062272023409605026, -0.08855428546667099], [0.062272023409605026, -0.08855428546667099], [0.062272023409605026, -0.08855428546667099], [0.062272023409605026, -0.08855428546667099], [0.062272023409605026, -0.08855428546667099], [0.062272023409605026, -0.08855428546667099], [0.062272023409605026, -0.08855428546667099], [0.062272023409605026, -0.08855428546667099], [0.062272023409605026, -0.08855428546667099], [0.062272023409605026, -0.08855428546667099], [0.062272023409605026, -0.08855428546667099], [0.062272023409605026, -0.08855428546667099], [0.062272023409605026, -0.08855428546667099], [0.062272023409605026, -0.08855428546667099], [0.062272023409605026, -0.08855428546667099], [0.062272023409605026, -0.08855428546667099], [0.062272023409605026, -0.08855428546667099], [0.062272023409605026, -0.08855428546667099], [0.062272023409605026, -0.08855428546667099], [0.062272023409605026, -0.08855428546667099], [0.062272023409605026, -0.08855428546667099], [0.062272023409605026, -0.08855428546667099], [0.062272023409605026, -0.08855428546667099], [0.062272023409605026, -0.08855428546667099], [0.062272023409605026, -0.08855428546667099], [0.062272023409605026, -0.08855428546667099], [0.062272023409605026, -0.08855428546667099], [0.062272023409605026, -0.08855428546667099], [0.062272023409605026, -0.08855428546667099], [0.062272023409605026, -0.08855428546667099], [0.062272023409605026, -0.08855428546667099], [0.062272023409605026, -0.08855428546667099], [0.062272023409605026, -0.08855428546667099], [0.062272023409605026, -0.08855428546667099], [0.062272023409605026, -0.08855428546667099], [0.062272023409605026, -0.08855428546667099], [0.062272023409605026, -0.08855428546667099], [0.062272023409605026, -0.08855428546667099], [0.062272023409605026, -0.08855428546667099], [0.062272023409605026, -0.08855428546667099], [0.062272023409605026, -0.08855428546667099], [0.062272023409605026, -0.08855428546667099], [0.062272023409605026, -0.08855428546667099], [0.062272023409605026, -0.08855428546667099], [0.062272023409605026, -0.08855428546667099], [0.062272023409605026, -0.08855428546667099], [0.062272023409605026, -0.08855428546667099], [0.062272023409605026, -0.08855428546667099], [0.062272023409605026, -0.08855428546667099], [0.062272023409605026, -0.08855428546667099], [0.062272023409605026, -0.08855428546667099], [0.062272023409605026, -0.08855428546667099], [0.062272023409605026, -0.08855428546667099], [0.0575500950217247, -0.0818394348025322], [0.049933187663555145, -0.07100776582956314], [0.04015260562300682, -0.05709923803806305], [0.029662108048796654, -0.042181167751550674], [0.019749317318201065, -0.02808462828397751], [0.01129916775971651, -0.016068045049905777], [0.004718112759292126, -0.0067094191908836365]], 'name': 'CR90m_u38'}, {'samples': [[-0.007267070468515158, 2.9835975510650314e-05], [-0.017403535544872284, 7.145266135921702e-05], [-0.030418874695897102, 0.00012488894572015852], [-0.04568704590201378, 0.00018757456564344466], [-0.061845019459724426, 0.0002539134002290666], [-0.07690955698490143, 0.0003157629689667374], [-0.08864149451255798, 0.0003639300703071058], [-0.09591444581747055, 0.00039379019290208817], [-0.09591444581747055, 0.00039379019290208817], [-0.09591444581747055, 0.00039379019290208817], [-0.09591444581747055, 0.00039379019290208817], [-0.09591444581747055, 0.00039379019290208817], [-0.09591444581747055, 0.00039379019290208817], [-0.09591444581747055, 0.00039379019290208817], [-0.09591444581747055, 0.00039379019290208817], [-0.09591444581747055, 0.00039379019290208817], [-0.09591444581747055, 0.00039379019290208817], [-0.09591444581747055, 0.00039379019290208817], [-0.09591444581747055, 0.00039379019290208817], [-0.09591444581747055, 0.00039379019290208817], [-0.09591444581747055, 0.00039379019290208817], [-0.09591444581747055, 0.00039379019290208817], [-0.09591444581747055, 0.00039379019290208817], [-0.09591444581747055, 0.00039379019290208817], [-0.09591444581747055, 0.00039379019290208817], [-0.09591444581747055, 0.00039379019290208817], [-0.09591444581747055, 0.00039379019290208817], [-0.09591444581747055, 0.00039379019290208817], [-0.09591444581747055, 0.00039379019290208817], [-0.09591444581747055, 0.00039379019290208817], [-0.09591444581747055, 0.00039379019290208817], [-0.09591444581747055, 0.00039379019290208817], [-0.09591444581747055, 0.00039379019290208817], [-0.09591444581747055, 0.00039379019290208817], [-0.09591444581747055, 0.00039379019290208817], [-0.09591444581747055, 0.00039379019290208817], [-0.09591444581747055, 0.00039379019290208817], [-0.09591444581747055, 0.00039379019290208817], [-0.09591444581747055, 0.00039379019290208817], [-0.09591444581747055, 0.00039379019290208817], [-0.09591444581747055, 0.00039379019290208817], [-0.09591444581747055, 0.00039379019290208817], [-0.09591444581747055, 0.00039379019290208817], [-0.09591444581747055, 0.00039379019290208817], [-0.09591444581747055, 0.00039379019290208817], [-0.09591444581747055, 0.00039379019290208817], [-0.09591444581747055, 0.00039379019290208817], [-0.09591444581747055, 0.00039379019290208817], [-0.09591444581747055, 0.00039379019290208817], [-0.09591444581747055, 0.00039379019290208817], [-0.09591444581747055, 0.00039379019290208817], [-0.09591444581747055, 0.00039379019290208817], [-0.09591444581747055, 0.00039379019290208817], [-0.09591444581747055, 0.00039379019290208817], [-0.09591444581747055, 0.00039379019290208817], [-0.09591444581747055, 0.00039379019290208817], [-0.09591444581747055, 0.00039379019290208817], [-0.09591444581747055, 0.00039379019290208817], [-0.09591444581747055, 0.00039379019290208817], [-0.09591444581747055, 0.00039379019290208817], [-0.09591444581747055, 0.00039379019290208817], [-0.09591444581747055, 0.00039379019290208817], [-0.08864149451255798, 0.0003639300703071058], [-0.07690955698490143, 0.0003157629689667374], [-0.061845019459724426, 0.0002539134002290666], [-0.04568704590201378, 0.00018757456564344466], [-0.030418874695897102, 0.00012488894572015852], [-0.017403535544872284, 7.145266135921702e-05], [-0.007267070468515158, 2.9835975510650314e-05]], 'name': 'CR90m_u39'}, {'samples': [[-0.016119662672281265, -0.010487671010196209], [-0.03860415890812874, -0.025116387754678726], [-0.06747450679540634, -0.04389982670545578], [-0.10134204477071762, -0.06593450158834457], [-0.1371833235025406, -0.08925332874059677], [-0.17059916257858276, -0.1109941229224205], [-0.19662269949913025, -0.12792539596557617], [-0.21275539696216583, -0.13842153549194336], [-0.21275539696216583, -0.13842153549194336], [-0.21275539696216583, -0.13842153549194336], [-0.21275539696216583, -0.13842153549194336], [-0.21275539696216583, -0.13842153549194336], [-0.21275539696216583, -0.13842153549194336], [-0.21275539696216583, -0.13842153549194336], [-0.21275539696216583, -0.13842153549194336], [-0.21275539696216583, -0.13842153549194336], [-0.21275539696216583, -0.13842153549194336], [-0.21275539696216583, -0.13842153549194336], [-0.21275539696216583, -0.13842153549194336], [-0.21275539696216583, -0.13842153549194336], [-0.21275539696216583, -0.13842153549194336], [-0.21275539696216583, -0.13842153549194336], [-0.19662269949913025, -0.12792539596557617], [-0.17059916257858276, -0.1109941229224205], [-0.1371833235025406, -0.08925332874059677], [-0.10134204477071762, -0.06593450158834457], [-0.06747450679540634, -0.04389982670545578], [-0.03860415890812874, -0.025116387754678726], [-0.016119662672281265, -0.010487671010196209]], 'name': 'CR90m_u4'}, {'samples': [[-0.0018318572547286749, 0.014172409661114216], [-0.004387021530419588, 0.03394078090786934], [-0.007667881902307272, 0.05932359769940376], [-0.011516627855598927, 0.0890999361872673], [-0.015589673072099686, 0.12061159312725067], [-0.01938708871603012, 0.14999081194400787], [-0.022344432771205902, 0.1728706955909729], [-0.02417777106165886, 0.1870545744895935], [-0.02417777106165886, 0.1870545744895935], [-0.02417777106165886, 0.1870545744895935], [-0.02417777106165886, 0.1870545744895935], [-0.02417777106165886, 0.1870545744895935], [-0.02417777106165886, 0.1870545744895935], [-0.02417777106165886, 0.1870545744895935], [-0.02417777106165886, 0.1870545744895935], [-0.02417777106165886, 0.1870545744895935], [-0.02417777106165886, 0.1870545744895935], [-0.02417777106165886, 0.1870545744895935], [-0.02417777106165886, 0.1870545744895935], [-0.02417777106165886, 0.1870545744895935], [-0.02417777106165886, 0.1870545744895935], [-0.02417777106165886, 0.1870545744895935], [-0.02417777106165886, 0.1870545744895935], [-0.02417777106165886, 0.1870545744895935], [-0.02417777106165886, 0.1870545744895935], [-0.02417777106165886, 0.1870545744895935], [-0.02417777106165886, 0.1870545744895935], [-0.02417777106165886, 0.1870545744895935], [-0.02417777106165886, 0.1870545744895935], [-0.02417777106165886, 0.1870545744895935], [-0.02417777106165886, 0.1870545744895935], [-0.02417777106165886, 0.1870545744895935], [-0.02417777106165886, 0.1870545744895935], [-0.02417777106165886, 0.1870545744895935], [-0.02417777106165886, 0.1870545744895935], [-0.02417777106165886, 0.1870545744895935], [-0.02417777106165886, 0.1870545744895935], [-0.02417777106165886, 0.1870545744895935], [-0.02417777106165886, 0.1870545744895935], [-0.02417777106165886, 0.1870545744895935], [-0.02417777106165886, 0.1870545744895935], [-0.02417777106165886, 0.1870545744895935], [-0.02417777106165886, 0.1870545744895935], [-0.02417777106165886, 0.1870545744895935], [-0.02417777106165886, 0.1870545744895935], [-0.02417777106165886, 0.1870545744895935], [-0.02417777106165886, 0.1870545744895935], [-0.02417777106165886, 0.1870545744895935], [-0.02417777106165886, 0.1870545744895935], [-0.02417777106165886, 0.1870545744895935], [-0.02417777106165886, 0.1870545744895935], [-0.02417777106165886, 0.1870545744895935], [-0.02417777106165886, 0.1870545744895935], [-0.02417777106165886, 0.1870545744895935], [-0.02417777106165886, 0.1870545744895935], [-0.02417777106165886, 0.1870545744895935], [-0.02417777106165886, 0.1870545744895935], [-0.022344432771205902, 0.1728706955909729], [-0.01938708871603012, 0.14999081194400787], [-0.015589673072099686, 0.12061159312725067], [-0.011516627855598927, 0.0890999361872673], [-0.007667881902307272, 0.05932359769940376], [-0.004387021530419588, 0.03394078090786934], [-0.0018318572547286749, 0.014172409661114216]], 'name': 'CR90m_u42'}, {'samples': [[0.03611171618103981, -0.011483805254101753], [0.08648210763931274, -0.02750197798013687], [0.15115825831890106, -0.04806949943304062], [0.2270292490720749, -0.07219705730676651], [0.3073218762874603, -0.09773074090480804], [0.38218095898628235, -0.1215365082025528], [0.4404796063899994, -0.1400759220123291], [0.47662052512168884, -0.15156900882720947], [0.47662052512168884, -0.15156900882720947], [0.47662052512168884, -0.15156900882720947], [0.47662052512168884, -0.15156900882720947], [0.47662052512168884, -0.15156900882720947], [0.47662052512168884, -0.15156900882720947], [0.47662052512168884, -0.15156900882720947], [0.47662052512168884, -0.15156900882720947], [0.47662052512168884, -0.15156900882720947], [0.47662052512168884, -0.15156900882720947], [0.47662052512168884, -0.15156900882720947], [0.47662052512168884, -0.15156900882720947], [0.47662052512168884, -0.15156900882720947], [0.47662052512168884, -0.15156900882720947], [0.47662052512168884, -0.15156900882720947], [0.4404796063899994, -0.1400759220123291], [0.38218095898628235, -0.1215365082025528], [0.3073218762874603, -0.09773074090480804], [0.2270292490720749, -0.07219705730676651], [0.15115825831890106, -0.04806949943304062], [0.08648210763931274, -0.02750197798013687], [0.03611171618103981, -0.011483805254101753]], 'name': 'CR90m_u45'}, {'samples': [[0.00878974236547947, 0.06123783066868782], [0.02105010487139225, 0.1466553509235382], [0.03679255023598671, 0.2563324272632599], [0.055259864777326584, 0.3849935829639435], [0.074803426861763, 0.521152913570404], [0.09302444010972977, 0.6480981111526489], [0.10721457004547119, 0.7469602227210999], [0.11601143330335617, 0.8082476258277893], [0.11601143330335617, 0.8082476258277893], [0.11601143330335617, 0.8082476258277893], [0.11601143330335617, 0.8082476258277893], [0.11601143330335617, 0.8082476258277893], [0.11601143330335617, 0.8082476258277893], [0.11601143330335617, 0.8082476258277893], [0.11601143330335617, 0.8082476258277893], [0.11601143330335617, 0.8082476258277893], [0.11601143330335617, 0.8082476258277893], [0.11601143330335617, 0.8082476258277893], [0.11601143330335617, 0.8082476258277893], [0.11601143330335617, 0.8082476258277893], [0.11601143330335617, 0.8082476258277893], [0.11601143330335617, 0.8082476258277893], [0.11601143330335617, 0.8082476258277893], [0.11601143330335617, 0.8082476258277893], [0.11601143330335617, 0.8082476258277893], [0.11601143330335617, 0.8082476258277893], [0.11601143330335617, 0.8082476258277893], [0.11601143330335617, 0.8082476258277893], [0.11601143330335617, 0.8082476258277893], [0.11601143330335617, 0.8082476258277893], [0.11601143330335617, 0.8082476258277893], [0.11601143330335617, 0.8082476258277893], [0.11601143330335617, 0.8082476258277893], [0.11601143330335617, 0.8082476258277893], [0.11601143330335617, 0.8082476258277893], [0.11601143330335617, 0.8082476258277893], [0.11601143330335617, 0.8082476258277893], [0.11601143330335617, 0.8082476258277893], [0.11601143330335617, 0.8082476258277893], [0.11601143330335617, 0.8082476258277893], [0.11601143330335617, 0.8082476258277893], [0.11601143330335617, 0.8082476258277893], [0.11601143330335617, 0.8082476258277893], [0.11601143330335617, 0.8082476258277893], [0.11601143330335617, 0.8082476258277893], [0.11601143330335617, 0.8082476258277893], [0.11601143330335617, 0.8082476258277893], [0.11601143330335617, 0.8082476258277893], [0.11601143330335617, 0.8082476258277893], [0.11601143330335617, 0.8082476258277893], [0.11601143330335617, 0.8082476258277893], [0.11601143330335617, 0.8082476258277893], [0.11601143330335617, 0.8082476258277893], [0.11601143330335617, 0.8082476258277893], [0.11601143330335617, 0.8082476258277893], [0.11601143330335617, 0.8082476258277893], [0.11601143330335617, 0.8082476258277893], [0.11601143330335617, 0.8082476258277893], [0.11601143330335617, 0.8082476258277893], [0.11601143330335617, 0.8082476258277893], [0.11601143330335617, 0.8082476258277893], [0.11601143330335617, 0.8082476258277893], [0.11601143330335617, 0.8082476258277893], [0.11601143330335617, 0.8082476258277893], [0.11601143330335617, 0.8082476258277893], [0.11601143330335617, 0.8082476258277893], [0.11601143330335617, 0.8082476258277893], [0.11601143330335617, 0.8082476258277893], [0.11601143330335617, 0.8082476258277893], [0.11601143330335617, 0.8082476258277893], [0.11601143330335617, 0.8082476258277893], [0.11601143330335617, 0.8082476258277893], [0.11601143330335617, 0.8082476258277893], [0.11601143330335617, 0.8082476258277893], [0.11601143330335617, 0.8082476258277893], [0.11601143330335617, 0.8082476258277893], [0.11601143330335617, 0.8082476258277893], [0.11601143330335617, 0.8082476258277893], [0.11601143330335617, 0.8082476258277893], [0.11601143330335617, 0.8082476258277893], [0.11601143330335617, 0.8082476258277893], [0.11601143330335617, 0.8082476258277893], [0.10721457004547119, 0.7469602227210999], [0.09302444010972977, 0.6480981111526489], [0.074803426861763, 0.521152913570404], [0.055259864777326584, 0.3849935829639435], [0.03679255023598671, 0.2563324272632599], [0.02105010487139225, 0.1466553509235382], [0.00878974236547947, 0.06123783066868782]], 'name': 'CR90m_u6'}, {'samples': [[0.008873694576323032, 0.014231360517442226], [0.024554114788770676, 0.039379142224788666], [0.04383307322859764, 0.07029814273118973], [0.05974666774272919, 0.0958198830485344], [0.05974666774272919, 0.0958198830485344], [0.05974666774272919, 0.0958198830485344], [0.05974666774272919, 0.0958198830485344], [0.05974666774272919, 0.0958198830485344], [0.05974666774272919, 0.0958198830485344], [0.05974666774272919, 0.0958198830485344], [0.05974666774272919, 0.0958198830485344], [0.05974666774272919, 0.0958198830485344], [0.05974666774272919, 0.0958198830485344], [0.05974666774272919, 0.0958198830485344], [0.05974666774272919, 0.0958198830485344], [0.05974666774272919, 0.0958198830485344], [0.05974666774272919, 0.0958198830485344], [0.05974666774272919, 0.0958198830485344], [0.05974666774272919, 0.0958198830485344], [0.05974666774272919, 0.0958198830485344], [0.05974666774272919, 0.0958198830485344], [0.05974666774272919, 0.0958198830485344], [0.05974666774272919, 0.0958198830485344], [0.05974666774272919, 0.0958198830485344], [0.05974666774272919, 0.0958198830485344], [0.05974666774272919, 0.0958198830485344], [0.05974666774272919, 0.0958198830485344], [0.05974666774272919, 0.0958198830485344], [0.05974666774272919, 0.0958198830485344], [0.05974666774272919, 0.0958198830485344], [0.05974666774272919, 0.0958198830485344], [0.05974666774272919, 0.0958198830485344], [0.05974666774272919, 0.0958198830485344], [0.05974666774272919, 0.0958198830485344], [0.05974666774272919, 0.0958198830485344], [0.05974666774272919, 0.0958198830485344], [0.05974666774272919, 0.0958198830485344], [0.05974666774272919, 0.0958198830485344], [0.05974666774272919, 0.0958198830485344], [0.05974666774272919, 0.0958198830485344], [0.05974666774272919, 0.0958198830485344], [0.05974666774272919, 0.0958198830485344], [0.05974666774272919, 0.0958198830485344], [0.05974666774272919, 0.0958198830485344], [0.05974666774272919, 0.0958198830485344], [0.05974666774272919, 0.0958198830485344], [0.05974666774272919, 0.0958198830485344], [0.05974666774272919, 0.0958198830485344], [0.05974666774272919, 0.0958198830485344], [0.05974666774272919, 0.0958198830485344], [0.05974666774272919, 0.0958198830485344], [0.05974666774272919, 0.0958198830485344], [0.05974666774272919, 0.0958198830485344], [0.05974666774272919, 0.0958198830485344], [0.05974666774272919, 0.0958198830485344], [0.05974666774272919, 0.0958198830485344], [0.05974666774272919, 0.0958198830485344], [0.05974666774272919, 0.0958198830485344], [0.05974666774272919, 0.0958198830485344], [0.05974666774272919, 0.0958198830485344], [0.05974666774272919, 0.0958198830485344], [0.05974666774272919, 0.0958198830485344], [0.05974666774272919, 0.0958198830485344], [0.05974666774272919, 0.0958198830485344], [0.05974666774272919, 0.0958198830485344], [0.05974666774272919, 0.0958198830485344], [0.05974666774272919, 0.0958198830485344], [0.05974666774272919, 0.0958198830485344], [0.05974666774272919, 0.0958198830485344], [0.05974666774272919, 0.0958198830485344], [0.05974666774272919, 0.0958198830485344], [0.05974666774272919, 0.0958198830485344], [0.05974666774272919, 0.0958198830485344], [0.05974666774272919, 0.0958198830485344], [0.05974666774272919, 0.0958198830485344], [0.05974666774272919, 0.0958198830485344], [0.05974666774272919, 0.0958198830485344], [0.05974666774272919, 0.0958198830485344], [0.05974666774272919, 0.0958198830485344], [0.05974666774272919, 0.0958198830485344], [0.05974666774272919, 0.0958198830485344], [0.05974666774272919, 0.0958198830485344], [0.05974666774272919, 0.0958198830485344], [0.05974666774272919, 0.0958198830485344], [0.04383307322859764, 0.07029814273118973], [0.024554114788770676, 0.039379142224788666], [0.008873694576323032, 0.014231360517442226]], 'name': 'CR90m_u8'}, {'samples': [[0.012084757909178734, 4.968131543137133e-05], [0.028941169381141663, 0.00011897924559889361], [0.05058499798178673, 0.00020795858290512115], [0.07597517222166061, 0.0003123394271824509], [0.10284503549337387, 0.0004228033940307796], [0.12789656221866608, 0.0005257920711301267], [0.14740616083145142, 0.000605997396633029], [0.15950070321559906, 0.000655718962661922], [0.15950070321559906, 0.000655718962661922], [0.15950070321559906, 0.000655718962661922], [0.15950070321559906, 0.000655718962661922], [0.15950070321559906, 0.000655718962661922], [0.15950070321559906, 0.000655718962661922], [0.15950070321559906, 0.000655718962661922], [0.15950070321559906, 0.000655718962661922], [0.15950070321559906, 0.000655718962661922], [0.15950070321559906, 0.000655718962661922], [0.15950070321559906, 0.000655718962661922], [0.15950070321559906, 0.000655718962661922], [0.15950070321559906, 0.000655718962661922], [0.15950070321559906, 0.000655718962661922], [0.15950070321559906, 0.000655718962661922], [0.15950070321559906, 0.000655718962661922], [0.15950070321559906, 0.000655718962661922], [0.15950070321559906, 0.000655718962661922], [0.15950070321559906, 0.000655718962661922], [0.15950070321559906, 0.000655718962661922], [0.14740616083145142, 0.000605997396633029], [0.12789656221866608, 0.0005257920711301267], [0.10284503549337387, 0.0004228033940307796], [0.07597517222166061, 0.0003123394271824509], [0.05058499798178673, 0.00020795858290512115], [0.028941169381141663, 0.00011897924559889361], [0.012084757909178734, 4.968131543137133e-05]], 'name': 'CR90p_u0'}, {'samples': [[0.010042497888207436, -0.0010622971458360553], [0.024050265550613403, -0.002544041257351637], [0.042036402970552444, -0.004446617793291807], [0.06313576549291611, -0.006678512319922447], [0.08546476811170578, -0.009040478616952896], [0.10628273338079453, -0.011242605745792389], [0.12249530106782913, -0.012957574799656868], [0.13254593312740326, -0.014020731672644615], [0.13254593312740326, -0.014020731672644615], [0.13254593312740326, -0.014020731672644615], [0.13254593312740326, -0.014020731672644615], [0.13254593312740326, -0.014020731672644615], [0.13254593312740326, -0.014020731672644615], [0.13254593312740326, -0.014020731672644615], [0.13254593312740326, -0.014020731672644615], [0.13254593312740326, -0.014020731672644615], [0.13254593312740326, -0.014020731672644615], [0.13254593312740326, -0.014020731672644615], [0.13254593312740326, -0.014020731672644615], [0.13254593312740326, -0.014020731672644615], [0.13254593312740326, -0.014020731672644615], [0.13254593312740326, -0.014020731672644615], [0.13254593312740326, -0.014020731672644615], [0.13254593312740326, -0.014020731672644615], [0.12249530106782913, -0.012957574799656868], [0.10628273338079453, -0.011242605745792389], [0.08546476811170578, -0.009040478616952896], [0.06313576549291611, -0.006678512319922447], [0.042036402970552444, -0.004446617793291807], [0.024050265550613403, -0.002544041257351637], [0.010042497888207436, -0.0010622971458360553]], 'name': 'CR90p_u10'}, {'samples': [[0, 0], [0, 0], [0, 0], [0, 0], [0, 0], [0, 0], [0, 0], [0, 0], [0, 0], [0, 0], [0, 0], [0, 0], [0, 0], [0, 0], [0, 0], [0, 0], [0, 0], [0, 0], [0, 0], [0, 0], [0, 0], [0, 0], [0, 0], [0, 0], [0, 0], [0, 0], [0, 0], [0, 0], [0, 0], [0, 0], [0, 0], [0, 0], [0, 0], [0, 0]], 'name': 'CR90p_u11'}, {'samples': [[0.01679695025086403, 0.0005938094109296799], [0.04022615775465965, 0.0014220838202163577], [0.07030952721834183, 0.002485597738996148], [0.10560004413127899, 0.003733195597305894], [0.1429472416639328, 0.005053502041846514], [0.1777670830488205, 0.006284460425376892], [0.20488403737545013, 0.007243104744702578], [0.22169455885887146, 0.007837394252419472], [0.22169455885887146, 0.007837394252419472], [0.22169455885887146, 0.007837394252419472], [0.22169455885887146, 0.007837394252419472], [0.22169455885887146, 0.007837394252419472], [0.22169455885887146, 0.007837394252419472], [0.22169455885887146, 0.007837394252419472], [0.22169455885887146, 0.007837394252419472], [0.22169455885887146, 0.007837394252419472], [0.22169455885887146, 0.007837394252419472], [0.22169455885887146, 0.007837394252419472], [0.22169455885887146, 0.007837394252419472], [0.22169455885887146, 0.007837394252419472], [0.22169455885887146, 0.007837394252419472], [0.22169455885887146, 0.007837394252419472], [0.22169455885887146, 0.007837394252419472], [0.22169455885887146, 0.007837394252419472], [0.22169455885887146, 0.007837394252419472], [0.22169455885887146, 0.007837394252419472], [0.22169455885887146, 0.007837394252419472], [0.22169455885887146, 0.007837394252419472], [0.20488403737545013, 0.007243104744702578], [0.1777670830488205, 0.006284460425376892], [0.1429472416639328, 0.005053502041846514], [0.10560004413127899, 0.003733195597305894], [0.07030952721834183, 0.002485597738996148], [0.04022615775465965, 0.0014220838202163577], [0.01679695025086403, 0.0005938094109296799]], 'name': 'CR90p_u12'}, {'samples': [[-0.018917106091976166, -0.024024605751037598], [-0.04530361294746399, -0.05753530561923981], [-0.07918418943881989, -0.1005634292960167], [-0.1189291700720787, -0.15103930234909058], [-0.16099043190479279, -0.2044568508863449], [-0.20020532608032227, -0.25425952672958374], [-0.23074506223201752, -0.293044775724411], [-0.24967744946479797, -0.3170888125896454], [-0.24967744946479797, -0.3170888125896454], [-0.24967744946479797, -0.3170888125896454], [-0.24967744946479797, -0.3170888125896454], [-0.24967744946479797, -0.3170888125896454], [-0.24967744946479797, -0.3170888125896454], [-0.24967744946479797, -0.3170888125896454], [-0.24967744946479797, -0.3170888125896454], [-0.24967744946479797, -0.3170888125896454], [-0.24967744946479797, -0.3170888125896454], [-0.24967744946479797, -0.3170888125896454], [-0.24967744946479797, -0.3170888125896454], [-0.24967744946479797, -0.3170888125896454], [-0.24967744946479797, -0.3170888125896454], [-0.24967744946479797, -0.3170888125896454], [-0.24967744946479797, -0.3170888125896454], [-0.24967744946479797, -0.3170888125896454], [-0.24967744946479797, -0.3170888125896454], [-0.24967744946479797, -0.3170888125896454], [-0.24967744946479797, -0.3170888125896454], [-0.24967744946479797, -0.3170888125896454], [-0.24967744946479797, -0.3170888125896454], [-0.24967744946479797, -0.3170888125896454], [-0.24967744946479797, -0.3170888125896454], [-0.24967744946479797, -0.3170888125896454], [-0.24967744946479797, -0.3170888125896454], [-0.24967744946479797, -0.3170888125896454], [-0.24967744946479797, -0.3170888125896454], [-0.24967744946479797, -0.3170888125896454], [-0.24967744946479797, -0.3170888125896454], [-0.24967744946479797, -0.3170888125896454], [-0.24967744946479797, -0.3170888125896454], [-0.24967744946479797, -0.3170888125896454], [-0.24967744946479797, -0.3170888125896454], [-0.24967744946479797, -0.3170888125896454], [-0.24967744946479797, -0.3170888125896454], [-0.24967744946479797, -0.3170888125896454], [-0.24967744946479797, -0.3170888125896454], [-0.24967744946479797, -0.3170888125896454], [-0.24967744946479797, -0.3170888125896454], [-0.24967744946479797, -0.3170888125896454], [-0.24967744946479797, -0.3170888125896454], [-0.24967744946479797, -0.3170888125896454], [-0.23074506223201752, -0.293044775724411], [-0.20020532608032227, -0.25425952672958374], [-0.16099043190479279, -0.2044568508863449], [-0.1189291700720787, -0.15103930234909058], [-0.07918418943881989, -0.1005634292960167], [-0.04530361294746399, -0.05753530561923981], [-0.018917106091976166, -0.024024605751037598]], 'name': 'CR90p_u15'}, {'samples': [[0.004329166375100613, 0.00013989326544106007], [0.009498320519924164, 0.0003069300146307796], [0.01554787065833807, 0.0005024159909226], [0.022482577711343765, 0.000726505066268146], [0.03026256524026394, 0.0009779086103662848], [0.038796041160821915, 0.001253660535439849], [0.04793490096926689, 0.001548974891193211], [0.05747419595718384, 0.0018572289263829589], [0.06715627014636993, 0.0021700968500226736], [0.07667993009090424, 0.0024778456427156925], [0.08571451157331467, 0.0027697901241481304], [0.09391802549362183, 0.0030348796863108873], [0.10095825791358948, 0.003262378741055727], [0.10653483122587204, 0.003442581044510007], [0.11040044575929642, 0.0035674949176609516], [0.11262853443622589, 0.003639493603259325], [0.11262853443622589, 0.003639493603259325], [0.11262853443622589, 0.003639493603259325], [0.11262853443622589, 0.003639493603259325], [0.11262853443622589, 0.003639493603259325], [0.11262853443622589, 0.003639493603259325], [0.11262853443622589, 0.003639493603259325], [0.11262853443622589, 0.003639493603259325], [0.11262853443622589, 0.003639493603259325], [0.11262853443622589, 0.003639493603259325], [0.11262853443622589, 0.003639493603259325], [0.11262853443622589, 0.003639493603259325], [0.11262853443622589, 0.003639493603259325], [0.11262853443622589, 0.003639493603259325], [0.11262853443622589, 0.003639493603259325], [0.11262853443622589, 0.003639493603259325], [0.11262853443622589, 0.003639493603259325], [0.11262853443622589, 0.003639493603259325], [0.11040044575929642, 0.0035674949176609516], [0.10653483122587204, 0.003442581044510007], [0.10095825791358948, 0.003262378741055727], [0.09391802549362183, 0.0030348796863108873], [0.08571451157331467, 0.0027697901241481304], [0.07667993009090424, 0.0024778456427156925], [0.06715627014636993, 0.0021700968500226736], [0.05747419595718384, 0.0018572289263829589], [0.04793490096926689, 0.001548974891193211], [0.038796041160821915, 0.001253660535439849], [0.03026256524026394, 0.0009779086103662848], [0.022482577711343765, 0.000726505066268146], [0.01554787065833807, 0.0005024159909226], [0.009498320519924164, 0.0003069300146307796], [0.004329166375100613, 0.00013989326544106007]], 'name': 'CR90p_u17'}, {'samples': [[0.030447760596871376, -0.01035692822188139], [0.07291778922080994, -0.0248032808303833], [0.12744979560375214, -0.04335256293416023], [0.191420778632164, -0.06511254608631134], [0.2591198980808258, -0.08814067393541336], [0.32223767042160034, -0.10961044579744339], [0.37139245867729187, -0.1263306438922882], [0.4018648862838745, -0.1366959512233734], [0.4018648862838745, -0.1366959512233734], [0.4018648862838745, -0.1366959512233734], [0.4018648862838745, -0.1366959512233734], [0.4018648862838745, -0.1366959512233734], [0.4018648862838745, -0.1366959512233734], [0.4018648862838745, -0.1366959512233734], [0.4018648862838745, -0.1366959512233734], [0.4018648862838745, -0.1366959512233734], [0.4018648862838745, -0.1366959512233734], [0.4018648862838745, -0.1366959512233734], [0.4018648862838745, -0.1366959512233734], [0.37139245867729187, -0.1263306438922882], [0.32223767042160034, -0.10961044579744339], [0.2591198980808258, -0.08814067393541336], [0.191420778632164, -0.06511254608631134], [0.12744979560375214, -0.04335256293416023], [0.07291778922080994, -0.0248032808303833], [0.030447760596871376, -0.01035692822188139]], 'name': 'CR90p_u18'}, {'samples': [[-0.009925833903253078, 0.007065447047352791], [-0.023770872503519058, 0.016920678317546844], [-0.04154806584119797, 0.029574910178780556], [-0.06240231543779373, 0.044419463723897934], [-0.0844719186425209, 0.06012914329767227], [-0.1050480455160141, 0.07477571815252304], [-0.12107227742671967, 0.08618215471506119], [-0.1310061365365982, 0.09325331449508667], [-0.1310061365365982, 0.09325331449508667], [-0.1310061365365982, 0.09325331449508667], [-0.1310061365365982, 0.09325331449508667], [-0.1310061365365982, 0.09325331449508667], [-0.1310061365365982, 0.09325331449508667], [-0.1310061365365982, 0.09325331449508667], [-0.1310061365365982, 0.09325331449508667], [-0.1310061365365982, 0.09325331449508667], [-0.1310061365365982, 0.09325331449508667], [-0.1310061365365982, 0.09325331449508667], [-0.1310061365365982, 0.09325331449508667], [-0.1310061365365982, 0.09325331449508667], [-0.1310061365365982, 0.09325331449508667], [-0.1310061365365982, 0.09325331449508667], [-0.1310061365365982, 0.09325331449508667], [-0.1310061365365982, 0.09325331449508667], [-0.1310061365365982, 0.09325331449508667], [-0.1310061365365982, 0.09325331449508667], [-0.1310061365365982, 0.09325331449508667], [-0.1310061365365982, 0.09325331449508667], [-0.1310061365365982, 0.09325331449508667], [-0.1310061365365982, 0.09325331449508667], [-0.1310061365365982, 0.09325331449508667], [-0.1310061365365982, 0.09325331449508667], [-0.1310061365365982, 0.09325331449508667], [-0.1310061365365982, 0.09325331449508667], [-0.1310061365365982, 0.09325331449508667], [-0.1310061365365982, 0.09325331449508667], [-0.1310061365365982, 0.09325331449508667], [-0.1310061365365982, 0.09325331449508667], [-0.1310061365365982, 0.09325331449508667], [-0.1310061365365982, 0.09325331449508667], [-0.1310061365365982, 0.09325331449508667], [-0.1310061365365982, 0.09325331449508667], [-0.1310061365365982, 0.09325331449508667], [-0.1310061365365982, 0.09325331449508667], [-0.1310061365365982, 0.09325331449508667], [-0.1310061365365982, 0.09325331449508667], [-0.1310061365365982, 0.09325331449508667], [-0.1310061365365982, 0.09325331449508667], [-0.1310061365365982, 0.09325331449508667], [-0.1310061365365982, 0.09325331449508667], [-0.1310061365365982, 0.09325331449508667], [-0.1310061365365982, 0.09325331449508667], [-0.1310061365365982, 0.09325331449508667], [-0.1310061365365982, 0.09325331449508667], [-0.1310061365365982, 0.09325331449508667], [-0.1310061365365982, 0.09325331449508667], [-0.1310061365365982, 0.09325331449508667], [-0.1310061365365982, 0.09325331449508667], [-0.1310061365365982, 0.09325331449508667], [-0.1310061365365982, 0.09325331449508667], [-0.1310061365365982, 0.09325331449508667], [-0.1310061365365982, 0.09325331449508667], [-0.1310061365365982, 0.09325331449508667], [-0.1310061365365982, 0.09325331449508667], [-0.1310061365365982, 0.09325331449508667], [-0.1310061365365982, 0.09325331449508667], [-0.1310061365365982, 0.09325331449508667], [-0.1310061365365982, 0.09325331449508667], [-0.1310061365365982, 0.09325331449508667], [-0.1310061365365982, 0.09325331449508667], [-0.1310061365365982, 0.09325331449508667], [-0.1310061365365982, 0.09325331449508667], [-0.1310061365365982, 0.09325331449508667], [-0.1310061365365982, 0.09325331449508667], [-0.1310061365365982, 0.09325331449508667], [-0.1310061365365982, 0.09325331449508667], [-0.1310061365365982, 0.09325331449508667], [-0.1310061365365982, 0.09325331449508667], [-0.1310061365365982, 0.09325331449508667], [-0.1310061365365982, 0.09325331449508667], [-0.1310061365365982, 0.09325331449508667], [-0.1310061365365982, 0.09325331449508667], [-0.1310061365365982, 0.09325331449508667], [-0.1310061365365982, 0.09325331449508667], [-0.1310061365365982, 0.09325331449508667], [-0.1310061365365982, 0.09325331449508667], [-0.1310061365365982, 0.09325331449508667], [-0.1310061365365982, 0.09325331449508667], [-0.12107227742671967, 0.08618215471506119], [-0.1050480455160141, 0.07477571815252304], [-0.0844719186425209, 0.06012914329767227], [-0.06240231543779373, 0.044419463723897934], [-0.04154806584119797, 0.029574910178780556], [-0.023770872503519058, 0.016920678317546844], [-0.009925833903253078, 0.007065447047352791]], 'name': 'CR90p_u20'}, {'samples': [[0.006368641741573811, -0.0007947157719172537], [0.015251935459673405, -0.0019032243872061372], [0.026658188551664352, -0.0033265622332692146], [0.040038757026195526, -0.004996266216039658], [0.05419911816716194, -0.006763278041034937], [0.067401222884655, -0.008410712704062462], [0.0776827409863472, -0.009693699888885021], [0.0840565413236618, -0.010489058680832386], [0.0840565413236618, -0.010489058680832386], [0.0840565413236618, -0.010489058680832386], [0.0840565413236618, -0.010489058680832386], [0.0840565413236618, -0.010489058680832386], [0.0840565413236618, -0.010489058680832386], [0.0840565413236618, -0.010489058680832386], [0.0840565413236618, -0.010489058680832386], [0.0840565413236618, -0.010489058680832386], [0.0840565413236618, -0.010489058680832386], [0.0840565413236618, -0.010489058680832386], [0.0840565413236618, -0.010489058680832386], [0.0840565413236618, -0.010489058680832386], [0.0840565413236618, -0.010489058680832386], [0.0840565413236618, -0.010489058680832386], [0.0840565413236618, -0.010489058680832386], [0.0840565413236618, -0.010489058680832386], [0.0776827409863472, -0.009693699888885021], [0.067401222884655, -0.008410712704062462], [0.05419911816716194, -0.006763278041034937], [0.040038757026195526, -0.004996266216039658], [0.026658188551664352, -0.0033265622332692146], [0.015251935459673405, -0.0019032243872061372], [0.006368641741573811, -0.0007947157719172537]], 'name': 'CR90p_u21'}, {'samples': [[0.006383007857948542, 3.962887421948835e-05], [0.015286339446902275, 9.490516094956547e-05], [0.026718322187662125, 0.00016588057042099535], [0.04012906923890114, 0.00024914112873375416], [0.054321374744176865, 0.00033725399407558143], [0.06755325943231583, 0.00041940409573726356], [0.07785797119140625, 0.00048338083433918655], [0.08424614369869232, 0.0005230417591519654], [0.08424614369869232, 0.0005230417591519654], [0.08424614369869232, 0.0005230417591519654], [0.08424614369869232, 0.0005230417591519654], [0.08424614369869232, 0.0005230417591519654], [0.08424614369869232, 0.0005230417591519654], [0.08424614369869232, 0.0005230417591519654], [0.08424614369869232, 0.0005230417591519654], [0.08424614369869232, 0.0005230417591519654], [0.08424614369869232, 0.0005230417591519654], [0.08424614369869232, 0.0005230417591519654], [0.08424614369869232, 0.0005230417591519654], [0.08424614369869232, 0.0005230417591519654], [0.08424614369869232, 0.0005230417591519654], [0.08424614369869232, 0.0005230417591519654], [0.08424614369869232, 0.0005230417591519654], [0.08424614369869232, 0.0005230417591519654], [0.08424614369869232, 0.0005230417591519654], [0.08424614369869232, 0.0005230417591519654], [0.08424614369869232, 0.0005230417591519654], [0.08424614369869232, 0.0005230417591519654], [0.08424614369869232, 0.0005230417591519654], [0.08424614369869232, 0.0005230417591519654], [0.08424614369869232, 0.0005230417591519654], [0.08424614369869232, 0.0005230417591519654], [0.08424614369869232, 0.0005230417591519654], [0.08424614369869232, 0.0005230417591519654], [0.08424614369869232, 0.0005230417591519654], [0.08424614369869232, 0.0005230417591519654], [0.08424614369869232, 0.0005230417591519654], [0.08424614369869232, 0.0005230417591519654], [0.08424614369869232, 0.0005230417591519654], [0.08424614369869232, 0.0005230417591519654], [0.08424614369869232, 0.0005230417591519654], [0.08424614369869232, 0.0005230417591519654], [0.08424614369869232, 0.0005230417591519654], [0.07785797119140625, 0.00048338083433918655], [0.06755325943231583, 0.00041940409573726356], [0.054321374744176865, 0.00033725399407558143], [0.04012906923890114, 0.00024914112873375416], [0.026718322187662125, 0.00016588057042099535], [0.015286339446902275, 9.490516094956547e-05], [0.006383007857948542, 3.962887421948835e-05]], 'name': 'CR90p_u22'}, {'samples': [[0.005597677547484636, 0.0006656408659182489], [0.013405592180788517, 0.0015941092278808355], [0.023431045934557915, 0.0027862736023962498], [0.03519181162118912, 0.004184790421277285], [0.047637972980737686, 0.005664810072630644], [0.0592418797314167, 0.00704467436298728], [0.06827875226736069, 0.008119283244013786], [0.07388095557689667, 0.008785462006926537], [0.07388095557689667, 0.008785462006926537], [0.07388095557689667, 0.008785462006926537], [0.07388095557689667, 0.008785462006926537], [0.07388095557689667, 0.008785462006926537], [0.07388095557689667, 0.008785462006926537], [0.07388095557689667, 0.008785462006926537], [0.07388095557689667, 0.008785462006926537], [0.07388095557689667, 0.008785462006926537], [0.07388095557689667, 0.008785462006926537], [0.07388095557689667, 0.008785462006926537], [0.07388095557689667, 0.008785462006926537], [0.07388095557689667, 0.008785462006926537], [0.07388095557689667, 0.008785462006926537], [0.07388095557689667, 0.008785462006926537], [0.07388095557689667, 0.008785462006926537], [0.07388095557689667, 0.008785462006926537], [0.07388095557689667, 0.008785462006926537], [0.07388095557689667, 0.008785462006926537], [0.07388095557689667, 0.008785462006926537], [0.07388095557689667, 0.008785462006926537], [0.07388095557689667, 0.008785462006926537], [0.07388095557689667, 0.008785462006926537], [0.07388095557689667, 0.008785462006926537], [0.07388095557689667, 0.008785462006926537], [0.07388095557689667, 0.008785462006926537], [0.07388095557689667, 0.008785462006926537], [0.07388095557689667, 0.008785462006926537], [0.07388095557689667, 0.008785462006926537], [0.07388095557689667, 0.008785462006926537], [0.07388095557689667, 0.008785462006926537], [0.07388095557689667, 0.008785462006926537], [0.07388095557689667, 0.008785462006926537], [0.07388095557689667, 0.008785462006926537], [0.07388095557689667, 0.008785462006926537], [0.07388095557689667, 0.008785462006926537], [0.07388095557689667, 0.008785462006926537], [0.07388095557689667, 0.008785462006926537], [0.07388095557689667, 0.008785462006926537], [0.07388095557689667, 0.008785462006926537], [0.07388095557689667, 0.008785462006926537], [0.07388095557689667, 0.008785462006926537], [0.07388095557689667, 0.008785462006926537], [0.07388095557689667, 0.008785462006926537], [0.07388095557689667, 0.008785462006926537], [0.07388095557689667, 0.008785462006926537], [0.07388095557689667, 0.008785462006926537], [0.07388095557689667, 0.008785462006926537], [0.07388095557689667, 0.008785462006926537], [0.06827875226736069, 0.008119283244013786], [0.0592418797314167, 0.00704467436298728], [0.047637972980737686, 0.005664810072630644], [0.03519181162118912, 0.004184790421277285], [0.023431045934557915, 0.0027862736023962498], [0.013405592180788517, 0.0015941092278808355], [0.005597677547484636, 0.0006656408659182489]], 'name': 'CR90p_u24'}, {'samples': [[0, 0], [0, 0], [0, 0], [0, 0], [0, 0], [0, 0], [0, 0], [0, 0], [0, 0], [0, 0], [0, 0], [0, 0], [0, 0], [0, 0], [0, 0], [0, 0], [0, 0], [0, 0], [0, 0], [0, 0], [0, 0], [0, 0], [0, 0], [0, 0], [0, 0], [0, 0], [0, 0], [0, 0], [0, 0], [0, 0], [0, 0], [0, 0], [0, 0]], 'name': 'CR90p_u27'}, {'samples': [[0.01372847892343998, -0.0032358819153159857], [0.03798763453960419, -0.008953905664384365], [0.06781408190727234, -0.015984172001481056], [0.09243397414684296, -0.02178722247481346], [0.09243397414684296, -0.02178722247481346], [0.09243397414684296, -0.02178722247481346], [0.09243397414684296, -0.02178722247481346], [0.09243397414684296, -0.02178722247481346], [0.09243397414684296, -0.02178722247481346], [0.09243397414684296, -0.02178722247481346], [0.09243397414684296, -0.02178722247481346], [0.09243397414684296, -0.02178722247481346], [0.09243397414684296, -0.02178722247481346], [0.09243397414684296, -0.02178722247481346], [0.09243397414684296, -0.02178722247481346], [0.09243397414684296, -0.02178722247481346], [0.09243397414684296, -0.02178722247481346], [0.09243397414684296, -0.02178722247481346], [0.09243397414684296, -0.02178722247481346], [0.09243397414684296, -0.02178722247481346], [0.09243397414684296, -0.02178722247481346], [0.09243397414684296, -0.02178722247481346], [0.09243397414684296, -0.02178722247481346], [0.09243397414684296, -0.02178722247481346], [0.09243397414684296, -0.02178722247481346], [0.09243397414684296, -0.02178722247481346], [0.09243397414684296, -0.02178722247481346], [0.09243397414684296, -0.02178722247481346], [0.09243397414684296, -0.02178722247481346], [0.09243397414684296, -0.02178722247481346], [0.09243397414684296, -0.02178722247481346], [0.09243397414684296, -0.02178722247481346], [0.09243397414684296, -0.02178722247481346], [0.09243397414684296, -0.02178722247481346], [0.09243397414684296, -0.02178722247481346], [0.09243397414684296, -0.02178722247481346], [0.09243397414684296, -0.02178722247481346], [0.09243397414684296, -0.02178722247481346], [0.09243397414684296, -0.02178722247481346], [0.09243397414684296, -0.02178722247481346], [0.09243397414684296, -0.02178722247481346], [0.09243397414684296, -0.02178722247481346], [0.09243397414684296, -0.02178722247481346], [0.09243397414684296, -0.02178722247481346], [0.09243397414684296, -0.02178722247481346], [0.09243397414684296, -0.02178722247481346], [0.09243397414684296, -0.02178722247481346], [0.09243397414684296, -0.02178722247481346], [0.09243397414684296, -0.02178722247481346], [0.09243397414684296, -0.02178722247481346], [0.09243397414684296, -0.02178722247481346], [0.09243397414684296, -0.02178722247481346], [0.09243397414684296, -0.02178722247481346], [0.09243397414684296, -0.02178722247481346], [0.09243397414684296, -0.02178722247481346], [0.06781408190727234, -0.015984172001481056], [0.03798763453960419, -0.008953905664384365], [0.01372847892343998, -0.0032358819153159857]], 'name': 'CR90p_u30'}, {'samples': [[0.014544084668159485, 0.0012881563743576407], [0.034830886870622635, 0.0030849401373416185], [0.06087937578558922, 0.005392031278461218], [0.09143660217523575, 0.008098457008600235], [0.12377467006444931, 0.010962610132992268], [0.1539243459701538, 0.013632940128445625], [0.1774042844772339, 0.015712536871433258], [0.19196012616157532, 0.017001735046505928], [0.19196012616157532, 0.017001735046505928], [0.19196012616157532, 0.017001735046505928], [0.19196012616157532, 0.017001735046505928], [0.19196012616157532, 0.017001735046505928], [0.19196012616157532, 0.017001735046505928], [0.19196012616157532, 0.017001735046505928], [0.19196012616157532, 0.017001735046505928], [0.19196012616157532, 0.017001735046505928], [0.19196012616157532, 0.017001735046505928], [0.19196012616157532, 0.017001735046505928], [0.19196012616157532, 0.017001735046505928], [0.1774042844772339, 0.015712536871433258], [0.1539243459701538, 0.013632940128445625], [0.12377467006444931, 0.010962610132992268], [0.09143660217523575, 0.008098457008600235], [0.06087937578558922, 0.005392031278461218], [0.034830886870622635, 0.0030849401373416185], [0.014544084668159485, 0.0012881563743576407]], 'name': 'CR90p_u32'}, {'samples': [[0.010875752195715904, 0.00024007006140891463], [0.0260457843542099, 0.0005749315023422241], [0.04552428051829338, 0.0010048975236713886], [0.06837431341409683, 0.0015092864632606506], [0.09255602955818176, 0.002043070737272501], [0.11510130763053894, 0.0025407325010746717], [0.13265909254550934, 0.002928300993517041], [0.14354363083839417, 0.0031685649883002043], [0.14354363083839417, 0.0031685649883002043], [0.14354363083839417, 0.0031685649883002043], [0.14354363083839417, 0.0031685649883002043], [0.14354363083839417, 0.0031685649883002043], [0.14354363083839417, 0.0031685649883002043], [0.14354363083839417, 0.0031685649883002043], [0.14354363083839417, 0.0031685649883002043], [0.14354363083839417, 0.0031685649883002043], [0.14354363083839417, 0.0031685649883002043], [0.14354363083839417, 0.0031685649883002043], [0.14354363083839417, 0.0031685649883002043], [0.14354363083839417, 0.0031685649883002043], [0.14354363083839417, 0.0031685649883002043], [0.14354363083839417, 0.0031685649883002043], [0.14354363083839417, 0.0031685649883002043], [0.14354363083839417, 0.0031685649883002043], [0.14354363083839417, 0.0031685649883002043], [0.14354363083839417, 0.0031685649883002043], [0.14354363083839417, 0.0031685649883002043], [0.14354363083839417, 0.0031685649883002043], [0.14354363083839417, 0.0031685649883002043], [0.13265909254550934, 0.002928300993517041], [0.11510130763053894, 0.0025407325010746717], [0.09255602955818176, 0.002043070737272501], [0.06837431341409683, 0.0015092864632606506], [0.04552428051829338, 0.0010048975236713886], [0.0260457843542099, 0.0005749315023422241], [0.010875752195715904, 0.00024007006140891463]], 'name': 'CR90p_u35'}, {'samples': [[0.030769802629947662, 0.01453988067805767], [0.07368902862071991, 0.03482081741094589], [0.12879781424999237, 0.060861777514219284], [0.19344541430473328, 0.09141018241643906], [0.26186057925224304, 0.12373889982700348], [0.32564592361450195, 0.15387986600399017], [0.3753206133842468, 0.17735300958156586], [0.4061152935028076, 0.19190464913845062], [0.4061152935028076, 0.19190464913845062], [0.4061152935028076, 0.19190464913845062], [0.4061152935028076, 0.19190464913845062], [0.4061152935028076, 0.19190464913845062], [0.4061152935028076, 0.19190464913845062], [0.4061152935028076, 0.19190464913845062], [0.4061152935028076, 0.19190464913845062], [0.4061152935028076, 0.19190464913845062], [0.4061152935028076, 0.19190464913845062], [0.4061152935028076, 0.19190464913845062], [0.4061152935028076, 0.19190464913845062], [0.4061152935028076, 0.19190464913845062], [0.4061152935028076, 0.19190464913845062], [0.4061152935028076, 0.19190464913845062], [0.4061152935028076, 0.19190464913845062], [0.4061152935028076, 0.19190464913845062], [0.4061152935028076, 0.19190464913845062], [0.4061152935028076, 0.19190464913845062], [0.4061152935028076, 0.19190464913845062], [0.4061152935028076, 0.19190464913845062], [0.4061152935028076, 0.19190464913845062], [0.4061152935028076, 0.19190464913845062], [0.3753206133842468, 0.17735300958156586], [0.32564592361450195, 0.15387986600399017], [0.26186057925224304, 0.12373889982700348], [0.19344541430473328, 0.09141018241643906], [0.12879781424999237, 0.060861777514219284], [0.07368902862071991, 0.03482081741094589], [0.030769802629947662, 0.01453988067805767]], 'name': 'CR90p_u36'}, {'samples': [[-0.004718112759292126, 0.0067094191908836365], [-0.01129916775971651, 0.016068045049905777], [-0.019749317318201065, 0.02808462828397751], [-0.029662108048796654, 0.042181167751550674], [-0.04015260562300682, 0.05709923803806305], [-0.049933187663555145, 0.07100776582956314], [-0.0575500950217247, 0.0818394348025322], [-0.062272023409605026, 0.08855428546667099], [-0.062272023409605026, 0.08855428546667099], [-0.062272023409605026, 0.08855428546667099], [-0.062272023409605026, 0.08855428546667099], [-0.062272023409605026, 0.08855428546667099], [-0.062272023409605026, 0.08855428546667099], [-0.062272023409605026, 0.08855428546667099], [-0.062272023409605026, 0.08855428546667099], [-0.062272023409605026, 0.08855428546667099], [-0.062272023409605026, 0.08855428546667099], [-0.062272023409605026, 0.08855428546667099], [-0.062272023409605026, 0.08855428546667099], [-0.062272023409605026, 0.08855428546667099], [-0.062272023409605026, 0.08855428546667099], [-0.062272023409605026, 0.08855428546667099], [-0.062272023409605026, 0.08855428546667099], [-0.062272023409605026, 0.08855428546667099], [-0.062272023409605026, 0.08855428546667099], [-0.062272023409605026, 0.08855428546667099], [-0.062272023409605026, 0.08855428546667099], [-0.062272023409605026, 0.08855428546667099], [-0.062272023409605026, 0.08855428546667099], [-0.062272023409605026, 0.08855428546667099], [-0.062272023409605026, 0.08855428546667099], [-0.062272023409605026, 0.08855428546667099], [-0.062272023409605026, 0.08855428546667099], [-0.062272023409605026, 0.08855428546667099], [-0.062272023409605026, 0.08855428546667099], [-0.062272023409605026, 0.08855428546667099], [-0.062272023409605026, 0.08855428546667099], [-0.062272023409605026, 0.08855428546667099], [-0.062272023409605026, 0.08855428546667099], [-0.062272023409605026, 0.08855428546667099], [-0.062272023409605026, 0.08855428546667099], [-0.062272023409605026, 0.08855428546667099], [-0.062272023409605026, 0.08855428546667099], [-0.062272023409605026, 0.08855428546667099], [-0.062272023409605026, 0.08855428546667099], [-0.062272023409605026, 0.08855428546667099], [-0.062272023409605026, 0.08855428546667099], [-0.062272023409605026, 0.08855428546667099], [-0.062272023409605026, 0.08855428546667099], [-0.062272023409605026, 0.08855428546667099], [-0.062272023409605026, 0.08855428546667099], [-0.062272023409605026, 0.08855428546667099], [-0.062272023409605026, 0.08855428546667099], [-0.062272023409605026, 0.08855428546667099], [-0.062272023409605026, 0.08855428546667099], [-0.062272023409605026, 0.08855428546667099], [-0.062272023409605026, 0.08855428546667099], [-0.062272023409605026, 0.08855428546667099], [-0.062272023409605026, 0.08855428546667099], [-0.062272023409605026, 0.08855428546667099], [-0.062272023409605026, 0.08855428546667099], [-0.062272023409605026, 0.08855428546667099], [-0.062272023409605026, 0.08855428546667099], [-0.062272023409605026, 0.08855428546667099], [-0.062272023409605026, 0.08855428546667099], [-0.062272023409605026, 0.08855428546667099], [-0.062272023409605026, 0.08855428546667099], [-0.062272023409605026, 0.08855428546667099], [-0.062272023409605026, 0.08855428546667099], [-0.062272023409605026, 0.08855428546667099], [-0.062272023409605026, 0.08855428546667099], [-0.062272023409605026, 0.08855428546667099], [-0.062272023409605026, 0.08855428546667099], [-0.062272023409605026, 0.08855428546667099], [-0.0575500950217247, 0.0818394348025322], [-0.049933187663555145, 0.07100776582956314], [-0.04015260562300682, 0.05709923803806305], [-0.029662108048796654, 0.042181167751550674], [-0.019749317318201065, 0.02808462828397751], [-0.01129916775971651, 0.016068045049905777], [-0.004718112759292126, 0.0067094191908836365]], 'name': 'CR90p_u38'}, {'samples': [[0.007267070468515158, -2.9835975510650314e-05], [0.017403535544872284, -7.145266135921702e-05], [0.030418874695897102, -0.00012488894572015852], [0.04568704590201378, -0.00018757456564344466], [0.061845019459724426, -0.0002539134002290666], [0.07690955698490143, -0.0003157629689667374], [0.08864149451255798, -0.0003639300703071058], [0.09591444581747055, -0.00039379019290208817], [0.09591444581747055, -0.00039379019290208817], [0.09591444581747055, -0.00039379019290208817], [0.09591444581747055, -0.00039379019290208817], [0.09591444581747055, -0.00039379019290208817], [0.09591444581747055, -0.00039379019290208817], [0.09591444581747055, -0.00039379019290208817], [0.09591444581747055, -0.00039379019290208817], [0.09591444581747055, -0.00039379019290208817], [0.09591444581747055, -0.00039379019290208817], [0.09591444581747055, -0.00039379019290208817], [0.09591444581747055, -0.00039379019290208817], [0.09591444581747055, -0.00039379019290208817], [0.09591444581747055, -0.00039379019290208817], [0.09591444581747055, -0.00039379019290208817], [0.09591444581747055, -0.00039379019290208817], [0.09591444581747055, -0.00039379019290208817], [0.09591444581747055, -0.00039379019290208817], [0.09591444581747055, -0.00039379019290208817], [0.09591444581747055, -0.00039379019290208817], [0.09591444581747055, -0.00039379019290208817], [0.09591444581747055, -0.00039379019290208817], [0.09591444581747055, -0.00039379019290208817], [0.09591444581747055, -0.00039379019290208817], [0.09591444581747055, -0.00039379019290208817], [0.09591444581747055, -0.00039379019290208817], [0.09591444581747055, -0.00039379019290208817], [0.09591444581747055, -0.00039379019290208817], [0.09591444581747055, -0.00039379019290208817], [0.09591444581747055, -0.00039379019290208817], [0.09591444581747055, -0.00039379019290208817], [0.09591444581747055, -0.00039379019290208817], [0.09591444581747055, -0.00039379019290208817], [0.09591444581747055, -0.00039379019290208817], [0.09591444581747055, -0.00039379019290208817], [0.09591444581747055, -0.00039379019290208817], [0.09591444581747055, -0.00039379019290208817], [0.09591444581747055, -0.00039379019290208817], [0.09591444581747055, -0.00039379019290208817], [0.09591444581747055, -0.00039379019290208817], [0.09591444581747055, -0.00039379019290208817], [0.09591444581747055, -0.00039379019290208817], [0.09591444581747055, -0.00039379019290208817], [0.09591444581747055, -0.00039379019290208817], [0.09591444581747055, -0.00039379019290208817], [0.09591444581747055, -0.00039379019290208817], [0.09591444581747055, -0.00039379019290208817], [0.09591444581747055, -0.00039379019290208817], [0.09591444581747055, -0.00039379019290208817], [0.09591444581747055, -0.00039379019290208817], [0.09591444581747055, -0.00039379019290208817], [0.09591444581747055, -0.00039379019290208817], [0.09591444581747055, -0.00039379019290208817], [0.09591444581747055, -0.00039379019290208817], [0.09591444581747055, -0.00039379019290208817], [0.08864149451255798, -0.0003639300703071058], [0.07690955698490143, -0.0003157629689667374], [0.061845019459724426, -0.0002539134002290666], [0.04568704590201378, -0.00018757456564344466], [0.030418874695897102, -0.00012488894572015852], [0.017403535544872284, -7.145266135921702e-05], [0.007267070468515158, -2.9835975510650314e-05]], 'name': 'CR90p_u39'}, {'samples': [[0.016119662672281265, 0.010487671010196209], [0.03860415890812874, 0.025116387754678726], [0.06747450679540634, 0.04389982670545578], [0.10134204477071762, 0.06593450158834457], [0.1371833235025406, 0.08925332874059677], [0.17059916257858276, 0.1109941229224205], [0.19662269949913025, 0.12792539596557617], [0.21275539696216583, 0.13842153549194336], [0.21275539696216583, 0.13842153549194336], [0.21275539696216583, 0.13842153549194336], [0.21275539696216583, 0.13842153549194336], [0.21275539696216583, 0.13842153549194336], [0.21275539696216583, 0.13842153549194336], [0.21275539696216583, 0.13842153549194336], [0.21275539696216583, 0.13842153549194336], [0.21275539696216583, 0.13842153549194336], [0.21275539696216583, 0.13842153549194336], [0.21275539696216583, 0.13842153549194336], [0.21275539696216583, 0.13842153549194336], [0.21275539696216583, 0.13842153549194336], [0.21275539696216583, 0.13842153549194336], [0.21275539696216583, 0.13842153549194336], [0.19662269949913025, 0.12792539596557617], [0.17059916257858276, 0.1109941229224205], [0.1371833235025406, 0.08925332874059677], [0.10134204477071762, 0.06593450158834457], [0.06747450679540634, 0.04389982670545578], [0.03860415890812874, 0.025116387754678726], [0.016119662672281265, 0.010487671010196209]], 'name': 'CR90p_u4'}, {'samples': [[0.0018318572547286749, -0.014172409661114216], [0.004387021530419588, -0.03394078090786934], [0.007667881902307272, -0.05932359769940376], [0.011516627855598927, -0.0890999361872673], [0.015589673072099686, -0.12061159312725067], [0.01938708871603012, -0.14999081194400787], [0.022344432771205902, -0.1728706955909729], [0.02417777106165886, -0.1870545744895935], [0.02417777106165886, -0.1870545744895935], [0.02417777106165886, -0.1870545744895935], [0.02417777106165886, -0.1870545744895935], [0.02417777106165886, -0.1870545744895935], [0.02417777106165886, -0.1870545744895935], [0.02417777106165886, -0.1870545744895935], [0.02417777106165886, -0.1870545744895935], [0.02417777106165886, -0.1870545744895935], [0.02417777106165886, -0.1870545744895935], [0.02417777106165886, -0.1870545744895935], [0.02417777106165886, -0.1870545744895935], [0.02417777106165886, -0.1870545744895935], [0.02417777106165886, -0.1870545744895935], [0.02417777106165886, -0.1870545744895935], [0.02417777106165886, -0.1870545744895935], [0.02417777106165886, -0.1870545744895935], [0.02417777106165886, -0.1870545744895935], [0.02417777106165886, -0.1870545744895935], [0.02417777106165886, -0.1870545744895935], [0.02417777106165886, -0.1870545744895935], [0.02417777106165886, -0.1870545744895935], [0.02417777106165886, -0.1870545744895935], [0.02417777106165886, -0.1870545744895935], [0.02417777106165886, -0.1870545744895935], [0.02417777106165886, -0.1870545744895935], [0.02417777106165886, -0.1870545744895935], [0.02417777106165886, -0.1870545744895935], [0.02417777106165886, -0.1870545744895935], [0.02417777106165886, -0.1870545744895935], [0.02417777106165886, -0.1870545744895935], [0.02417777106165886, -0.1870545744895935], [0.02417777106165886, -0.1870545744895935], [0.02417777106165886, -0.1870545744895935], [0.02417777106165886, -0.1870545744895935], [0.02417777106165886, -0.1870545744895935], [0.02417777106165886, -0.1870545744895935], [0.02417777106165886, -0.1870545744895935], [0.02417777106165886, -0.1870545744895935], [0.02417777106165886, -0.1870545744895935], [0.02417777106165886, -0.1870545744895935], [0.02417777106165886, -0.1870545744895935], [0.02417777106165886, -0.1870545744895935], [0.02417777106165886, -0.1870545744895935], [0.02417777106165886, -0.1870545744895935], [0.02417777106165886, -0.1870545744895935], [0.02417777106165886, -0.1870545744895935], [0.02417777106165886, -0.1870545744895935], [0.02417777106165886, -0.1870545744895935], [0.02417777106165886, -0.1870545744895935], [0.022344432771205902, -0.1728706955909729], [0.01938708871603012, -0.14999081194400787], [0.015589673072099686, -0.12061159312725067], [0.011516627855598927, -0.0890999361872673], [0.007667881902307272, -0.05932359769940376], [0.004387021530419588, -0.03394078090786934], [0.0018318572547286749, -0.014172409661114216]], 'name': 'CR90p_u42'}, {'samples': [[-0.03611171618103981, 0.011483805254101753], [-0.08648210763931274, 0.02750197798013687], [-0.15115825831890106, 0.04806949943304062], [-0.2270292490720749, 0.07219705730676651], [-0.3073218762874603, 0.09773074090480804], [-0.38218095898628235, 0.1215365082025528], [-0.4404796063899994, 0.1400759220123291], [-0.47662052512168884, 0.15156900882720947], [-0.47662052512168884, 0.15156900882720947], [-0.47662052512168884, 0.15156900882720947], [-0.47662052512168884, 0.15156900882720947], [-0.47662052512168884, 0.15156900882720947], [-0.47662052512168884, 0.15156900882720947], [-0.47662052512168884, 0.15156900882720947], [-0.47662052512168884, 0.15156900882720947], [-0.47662052512168884, 0.15156900882720947], [-0.47662052512168884, 0.15156900882720947], [-0.47662052512168884, 0.15156900882720947], [-0.47662052512168884, 0.15156900882720947], [-0.47662052512168884, 0.15156900882720947], [-0.47662052512168884, 0.15156900882720947], [-0.47662052512168884, 0.15156900882720947], [-0.4404796063899994, 0.1400759220123291], [-0.38218095898628235, 0.1215365082025528], [-0.3073218762874603, 0.09773074090480804], [-0.2270292490720749, 0.07219705730676651], [-0.15115825831890106, 0.04806949943304062], [-0.08648210763931274, 0.02750197798013687], [-0.03611171618103981, 0.011483805254101753]], 'name': 'CR90p_u45'}, {'samples': [[-0.00878974236547947, -0.06123783066868782], [-0.02105010487139225, -0.1466553509235382], [-0.03679255023598671, -0.2563324272632599], [-0.055259864777326584, -0.3849935829639435], [-0.074803426861763, -0.521152913570404], [-0.09302444010972977, -0.6480981111526489], [-0.10721457004547119, -0.7469602227210999], [-0.11601143330335617, -0.8082476258277893], [-0.11601143330335617, -0.8082476258277893], [-0.11601143330335617, -0.8082476258277893], [-0.11601143330335617, -0.8082476258277893], [-0.11601143330335617, -0.8082476258277893], [-0.11601143330335617, -0.8082476258277893], [-0.11601143330335617, -0.8082476258277893], [-0.11601143330335617, -0.8082476258277893], [-0.11601143330335617, -0.8082476258277893], [-0.11601143330335617, -0.8082476258277893], [-0.11601143330335617, -0.8082476258277893], [-0.11601143330335617, -0.8082476258277893], [-0.11601143330335617, -0.8082476258277893], [-0.11601143330335617, -0.8082476258277893], [-0.11601143330335617, -0.8082476258277893], [-0.11601143330335617, -0.8082476258277893], [-0.11601143330335617, -0.8082476258277893], [-0.11601143330335617, -0.8082476258277893], [-0.11601143330335617, -0.8082476258277893], [-0.11601143330335617, -0.8082476258277893], [-0.11601143330335617, -0.8082476258277893], [-0.11601143330335617, -0.8082476258277893], [-0.11601143330335617, -0.8082476258277893], [-0.11601143330335617, -0.8082476258277893], [-0.11601143330335617, -0.8082476258277893], [-0.11601143330335617, -0.8082476258277893], [-0.11601143330335617, -0.8082476258277893], [-0.11601143330335617, -0.8082476258277893], [-0.11601143330335617, -0.8082476258277893], [-0.11601143330335617, -0.8082476258277893], [-0.11601143330335617, -0.8082476258277893], [-0.11601143330335617, -0.8082476258277893], [-0.11601143330335617, -0.8082476258277893], [-0.11601143330335617, -0.8082476258277893], [-0.11601143330335617, -0.8082476258277893], [-0.11601143330335617, -0.8082476258277893], [-0.11601143330335617, -0.8082476258277893], [-0.11601143330335617, -0.8082476258277893], [-0.11601143330335617, -0.8082476258277893], [-0.11601143330335617, -0.8082476258277893], [-0.11601143330335617, -0.8082476258277893], [-0.11601143330335617, -0.8082476258277893], [-0.11601143330335617, -0.8082476258277893], [-0.11601143330335617, -0.8082476258277893], [-0.11601143330335617, -0.8082476258277893], [-0.11601143330335617, -0.8082476258277893], [-0.11601143330335617, -0.8082476258277893], [-0.11601143330335617, -0.8082476258277893], [-0.11601143330335617, -0.8082476258277893], [-0.11601143330335617, -0.8082476258277893], [-0.11601143330335617, -0.8082476258277893], [-0.11601143330335617, -0.8082476258277893], [-0.11601143330335617, -0.8082476258277893], [-0.11601143330335617, -0.8082476258277893], [-0.11601143330335617, -0.8082476258277893], [-0.11601143330335617, -0.8082476258277893], [-0.11601143330335617, -0.8082476258277893], [-0.11601143330335617, -0.8082476258277893], [-0.11601143330335617, -0.8082476258277893], [-0.11601143330335617, -0.8082476258277893], [-0.11601143330335617, -0.8082476258277893], [-0.11601143330335617, -0.8082476258277893], [-0.11601143330335617, -0.8082476258277893], [-0.11601143330335617, -0.8082476258277893], [-0.11601143330335617, -0.8082476258277893], [-0.11601143330335617, -0.8082476258277893], [-0.11601143330335617, -0.8082476258277893], [-0.11601143330335617, -0.8082476258277893], [-0.11601143330335617, -0.8082476258277893], [-0.11601143330335617, -0.8082476258277893], [-0.11601143330335617, -0.8082476258277893], [-0.11601143330335617, -0.8082476258277893], [-0.11601143330335617, -0.8082476258277893], [-0.11601143330335617, -0.8082476258277893], [-0.11601143330335617, -0.8082476258277893], [-0.10721457004547119, -0.7469602227210999], [-0.09302444010972977, -0.6480981111526489], [-0.074803426861763, -0.521152913570404], [-0.055259864777326584, -0.3849935829639435], [-0.03679255023598671, -0.2563324272632599], [-0.02105010487139225, -0.1466553509235382], [-0.00878974236547947, -0.06123783066868782]], 'name': 'CR90p_u6'}, {'samples': [[-0.008873694576323032, -0.014231360517442226], [-0.024554114788770676, -0.039379142224788666], [-0.04383307322859764, -0.07029814273118973], [-0.05974666774272919, -0.0958198830485344], [-0.05974666774272919, -0.0958198830485344], [-0.05974666774272919, -0.0958198830485344], [-0.05974666774272919, -0.0958198830485344], [-0.05974666774272919, -0.0958198830485344], [-0.05974666774272919, -0.0958198830485344], [-0.05974666774272919, -0.0958198830485344], [-0.05974666774272919, -0.0958198830485344], [-0.05974666774272919, -0.0958198830485344], [-0.05974666774272919, -0.0958198830485344], [-0.05974666774272919, -0.0958198830485344], [-0.05974666774272919, -0.0958198830485344], [-0.05974666774272919, -0.0958198830485344], [-0.05974666774272919, -0.0958198830485344], [-0.05974666774272919, -0.0958198830485344], [-0.05974666774272919, -0.0958198830485344], [-0.05974666774272919, -0.0958198830485344], [-0.05974666774272919, -0.0958198830485344], [-0.05974666774272919, -0.0958198830485344], [-0.05974666774272919, -0.0958198830485344], [-0.05974666774272919, -0.0958198830485344], [-0.05974666774272919, -0.0958198830485344], [-0.05974666774272919, -0.0958198830485344], [-0.05974666774272919, -0.0958198830485344], [-0.05974666774272919, -0.0958198830485344], [-0.05974666774272919, -0.0958198830485344], [-0.05974666774272919, -0.0958198830485344], [-0.05974666774272919, -0.0958198830485344], [-0.05974666774272919, -0.0958198830485344], [-0.05974666774272919, -0.0958198830485344], [-0.05974666774272919, -0.0958198830485344], [-0.05974666774272919, -0.0958198830485344], [-0.05974666774272919, -0.0958198830485344], [-0.05974666774272919, -0.0958198830485344], [-0.05974666774272919, -0.0958198830485344], [-0.05974666774272919, -0.0958198830485344], [-0.05974666774272919, -0.0958198830485344], [-0.05974666774272919, -0.0958198830485344], [-0.05974666774272919, -0.0958198830485344], [-0.05974666774272919, -0.0958198830485344], [-0.05974666774272919, -0.0958198830485344], [-0.05974666774272919, -0.0958198830485344], [-0.05974666774272919, -0.0958198830485344], [-0.05974666774272919, -0.0958198830485344], [-0.05974666774272919, -0.0958198830485344], [-0.05974666774272919, -0.0958198830485344], [-0.05974666774272919, -0.0958198830485344], [-0.05974666774272919, -0.0958198830485344], [-0.05974666774272919, -0.0958198830485344], [-0.05974666774272919, -0.0958198830485344], [-0.05974666774272919, -0.0958198830485344], [-0.05974666774272919, -0.0958198830485344], [-0.05974666774272919, -0.0958198830485344], [-0.05974666774272919, -0.0958198830485344], [-0.05974666774272919, -0.0958198830485344], [-0.05974666774272919, -0.0958198830485344], [-0.05974666774272919, -0.0958198830485344], [-0.05974666774272919, -0.0958198830485344], [-0.05974666774272919, -0.0958198830485344], [-0.05974666774272919, -0.0958198830485344], [-0.05974666774272919, -0.0958198830485344], [-0.05974666774272919, -0.0958198830485344], [-0.05974666774272919, -0.0958198830485344], [-0.05974666774272919, -0.0958198830485344], [-0.05974666774272919, -0.0958198830485344], [-0.05974666774272919, -0.0958198830485344], [-0.05974666774272919, -0.0958198830485344], [-0.05974666774272919, -0.0958198830485344], [-0.05974666774272919, -0.0958198830485344], [-0.05974666774272919, -0.0958198830485344], [-0.05974666774272919, -0.0958198830485344], [-0.05974666774272919, -0.0958198830485344], [-0.05974666774272919, -0.0958198830485344], [-0.05974666774272919, -0.0958198830485344], [-0.05974666774272919, -0.0958198830485344], [-0.05974666774272919, -0.0958198830485344], [-0.05974666774272919, -0.0958198830485344], [-0.05974666774272919, -0.0958198830485344], [-0.05974666774272919, -0.0958198830485344], [-0.05974666774272919, -0.0958198830485344], [-0.05974666774272919, -0.0958198830485344], [-0.04383307322859764, -0.07029814273118973], [-0.024554114788770676, -0.039379142224788666], [-0.008873694576323032, -0.014231360517442226]], 'name': 'CR90p_u8'}, {'samples': [[0, 0], [0, 0], [0, 0], [0, 0], [0, 0], [0, 0], [0, 0], [0, 0], [0, 0], [0, 0], [0, 0], [0, 0], [0, 0], [0, 0], [0, 0], [0, 0], [0, 0], [0, 0], [0, 0], [0, 0], [0, 0], [0, 0], [0, 0], [0, 0], [0, 0], [0, 0], [0, 0], [0, 0]], 'name': 'QId_d0'}, {'samples': [[0, 0], [0, 0], [0, 0], [0, 0], [0, 0], [0, 0], [0, 0], [0, 0], [0, 0], [0, 0], [0, 0], [0, 0], [0, 0], [0, 0], [0, 0], [0, 0], [0, 0], [0, 0], [0, 0], [0, 0], [0, 0], [0, 0], [0, 0], [0, 0], [0, 0], [0, 0], [0, 0], [0, 0]], 'name': 'QId_d1'}, {'samples': [[0, 0], [0, 0], [0, 0], [0, 0], [0, 0], [0, 0], [0, 0], [0, 0], [0, 0], [0, 0], [0, 0], [0, 0], [0, 0], [0, 0], [0, 0], [0, 0], [0, 0], [0, 0], [0, 0], [0, 0], [0, 0], [0, 0], [0, 0], [0, 0], [0, 0], [0, 0], [0, 0], [0, 0]], 'name': 'QId_d10'}, {'samples': [[0, 0], [0, 0], [0, 0], [0, 0], [0, 0], [0, 0], [0, 0], [0, 0], [0, 0], [0, 0], [0, 0], [0, 0], [0, 0], [0, 0], [0, 0], [0, 0], [0, 0], [0, 0], [0, 0], [0, 0], [0, 0], [0, 0], [0, 0], [0, 0], [0, 0], [0, 0], [0, 0], [0, 0]], 'name': 'QId_d11'}, {'samples': [[0, 0], [0, 0], [0, 0], [0, 0], [0, 0], [0, 0], [0, 0], [0, 0], [0, 0], [0, 0], [0, 0], [0, 0], [0, 0], [0, 0], [0, 0], [0, 0], [0, 0], [0, 0], [0, 0], [0, 0], [0, 0], [0, 0], [0, 0], [0, 0], [0, 0], [0, 0], [0, 0], [0, 0]], 'name': 'QId_d12'}, {'samples': [[0, 0], [0, 0], [0, 0], [0, 0], [0, 0], [0, 0], [0, 0], [0, 0], [0, 0], [0, 0], [0, 0], [0, 0], [0, 0], [0, 0], [0, 0], [0, 0], [0, 0], [0, 0], [0, 0], [0, 0], [0, 0], [0, 0], [0, 0], [0, 0], [0, 0], [0, 0], [0, 0], [0, 0]], 'name': 'QId_d13'}, {'samples': [[0, 0], [0, 0], [0, 0], [0, 0], [0, 0], [0, 0], [0, 0], [0, 0], [0, 0], [0, 0], [0, 0], [0, 0], [0, 0], [0, 0], [0, 0], [0, 0], [0, 0], [0, 0], [0, 0], [0, 0], [0, 0], [0, 0], [0, 0], [0, 0], [0, 0], [0, 0], [0, 0], [0, 0]], 'name': 'QId_d14'}, {'samples': [[0, 0], [0, 0], [0, 0], [0, 0], [0, 0], [0, 0], [0, 0], [0, 0], [0, 0], [0, 0], [0, 0], [0, 0], [0, 0], [0, 0], [0, 0], [0, 0], [0, 0], [0, 0], [0, 0], [0, 0], [0, 0], [0, 0], [0, 0], [0, 0], [0, 0], [0, 0], [0, 0], [0, 0]], 'name': 'QId_d15'}, {'samples': [[0, 0], [0, 0], [0, 0], [0, 0], [0, 0], [0, 0], [0, 0], [0, 0], [0, 0], [0, 0], [0, 0], [0, 0], [0, 0], [0, 0], [0, 0], [0, 0], [0, 0], [0, 0], [0, 0], [0, 0], [0, 0], [0, 0], [0, 0], [0, 0], [0, 0], [0, 0], [0, 0], [0, 0]], 'name': 'QId_d16'}, {'samples': [[0, 0], [0, 0], [0, 0], [0, 0], [0, 0], [0, 0], [0, 0], [0, 0], [0, 0], [0, 0], [0, 0], [0, 0], [0, 0], [0, 0], [0, 0], [0, 0], [0, 0], [0, 0], [0, 0], [0, 0], [0, 0], [0, 0], [0, 0], [0, 0], [0, 0], [0, 0], [0, 0], [0, 0]], 'name': 'QId_d17'}, {'samples': [[0, 0], [0, 0], [0, 0], [0, 0], [0, 0], [0, 0], [0, 0], [0, 0], [0, 0], [0, 0], [0, 0], [0, 0], [0, 0], [0, 0], [0, 0], [0, 0], [0, 0], [0, 0], [0, 0], [0, 0], [0, 0], [0, 0], [0, 0], [0, 0], [0, 0], [0, 0], [0, 0], [0, 0]], 'name': 'QId_d18'}, {'samples': [[0, 0], [0, 0], [0, 0], [0, 0], [0, 0], [0, 0], [0, 0], [0, 0], [0, 0], [0, 0], [0, 0], [0, 0], [0, 0], [0, 0], [0, 0], [0, 0], [0, 0], [0, 0], [0, 0], [0, 0], [0, 0], [0, 0], [0, 0], [0, 0], [0, 0], [0, 0], [0, 0], [0, 0]], 'name': 'QId_d19'}, {'samples': [[0, 0], [0, 0], [0, 0], [0, 0], [0, 0], [0, 0], [0, 0], [0, 0], [0, 0], [0, 0], [0, 0], [0, 0], [0, 0], [0, 0], [0, 0], [0, 0], [0, 0], [0, 0], [0, 0], [0, 0], [0, 0], [0, 0], [0, 0], [0, 0], [0, 0], [0, 0], [0, 0], [0, 0]], 'name': 'QId_d2'}, {'samples': [[0, 0], [0, 0], [0, 0], [0, 0], [0, 0], [0, 0], [0, 0], [0, 0], [0, 0], [0, 0], [0, 0], [0, 0], [0, 0], [0, 0], [0, 0], [0, 0], [0, 0], [0, 0], [0, 0], [0, 0], [0, 0], [0, 0], [0, 0], [0, 0], [0, 0], [0, 0], [0, 0], [0, 0]], 'name': 'QId_d3'}, {'samples': [[0, 0], [0, 0], [0, 0], [0, 0], [0, 0], [0, 0], [0, 0], [0, 0], [0, 0], [0, 0], [0, 0], [0, 0], [0, 0], [0, 0], [0, 0], [0, 0], [0, 0], [0, 0], [0, 0], [0, 0], [0, 0], [0, 0], [0, 0], [0, 0], [0, 0], [0, 0], [0, 0], [0, 0]], 'name': 'QId_d4'}, {'samples': [[0, 0], [0, 0], [0, 0], [0, 0], [0, 0], [0, 0], [0, 0], [0, 0], [0, 0], [0, 0], [0, 0], [0, 0], [0, 0], [0, 0], [0, 0], [0, 0], [0, 0], [0, 0], [0, 0], [0, 0], [0, 0], [0, 0], [0, 0], [0, 0], [0, 0], [0, 0], [0, 0], [0, 0]], 'name': 'QId_d5'}, {'samples': [[0, 0], [0, 0], [0, 0], [0, 0], [0, 0], [0, 0], [0, 0], [0, 0], [0, 0], [0, 0], [0, 0], [0, 0], [0, 0], [0, 0], [0, 0], [0, 0], [0, 0], [0, 0], [0, 0], [0, 0], [0, 0], [0, 0], [0, 0], [0, 0], [0, 0], [0, 0], [0, 0], [0, 0]], 'name': 'QId_d6'}, {'samples': [[0, 0], [0, 0], [0, 0], [0, 0], [0, 0], [0, 0], [0, 0], [0, 0], [0, 0], [0, 0], [0, 0], [0, 0], [0, 0], [0, 0], [0, 0], [0, 0], [0, 0], [0, 0], [0, 0], [0, 0], [0, 0], [0, 0], [0, 0], [0, 0], [0, 0], [0, 0], [0, 0], [0, 0]], 'name': 'QId_d7'}, {'samples': [[0, 0], [0, 0], [0, 0], [0, 0], [0, 0], [0, 0], [0, 0], [0, 0], [0, 0], [0, 0], [0, 0], [0, 0], [0, 0], [0, 0], [0, 0], [0, 0], [0, 0], [0, 0], [0, 0], [0, 0], [0, 0], [0, 0], [0, 0], [0, 0], [0, 0], [0, 0], [0, 0], [0, 0]], 'name': 'QId_d8'}, {'samples': [[0, 0], [0, 0], [0, 0], [0, 0], [0, 0], [0, 0], [0, 0], [0, 0], [0, 0], [0, 0], [0, 0], [0, 0], [0, 0], [0, 0], [0, 0], [0, 0], [0, 0], [0, 0], [0, 0], [0, 0], [0, 0], [0, 0], [0, 0], [0, 0], [0, 0], [0, 0], [0, 0], [0, 0]], 'name': 'QId_d9'}, {'samples': [[-0.0010166364954784513, 0.0010708471527323127], [-0.0022254802752286196, 0.0012623798102140427], [-0.003663793206214905, 0.001451739459298551], [-0.005328916013240814, 0.0016243333229795098], [-0.007202038075774908, 0.0017630961956456304], [-0.009245874360203743, 0.0018498020945116878], [-0.011403844691812992, 0.0018668548436835408], [-0.013601216487586498, 0.001799390185624361], [-0.01574844680726528, 0.001637422596104443], [-0.017746664583683014, 0.001377723179757595], [-0.01949491910636425, 0.0010251046624034643], [-0.02089850977063179, 0.0005928319878876209], [-0.021877415478229523, 0.00010201206896454096], [-0.02237386256456375, -0.00042004825081676245], [-0.02235795557498932, -0.0009423451265320182], [-0.02183065563440323, -0.0014332253485918045], [-0.02082369476556778, -0.0018635618034750223], [-0.019396400079131126, -0.002209614496678114], [-0.017629925161600113, -0.002455185167491436], [-0.015619607642292976, -0.002592796925455332], [-0.01346650067716837, -0.0026237894780933857], [-0.011269095353782177, -0.0025574027094990015], [-0.009116163477301598, -0.0024090532679110765], [-0.007081391755491495, -0.0021981254685670137], [-0.005220185965299606, -0.0019456265727058053], [-0.003568653017282486, -0.0016720175044611096], [-0.0021445301827043295, -0.00139547698199749], [-0.000949583132751286, -0.0011307321256026626]], 'name': 'X90m_d0'}, {'samples': [[-0.001367609016597271, 0.003188465489074588], [-0.002940464997664094, 0.003810269758105278], [-0.004809989593923092, 0.0044372170232236385], [-0.00697202468290925, 0.005026419181376696], [-0.00940140150487423, 0.00552693335339427], [-0.012048999778926373, 0.005883486475795507], [-0.014840776100754738, 0.0060416897758841515], [-0.01767934486269951, 0.005954240448772907], [-0.020448407158255577, 0.005587392020970583], [-0.023019934073090553, 0.004926726687699556], [-0.025263601914048195, 0.003981279209256172], [-0.027057578787207603, 0.0027851660270243883], [-0.028299424797296524, 0.0013962136581540108], [-0.028915757313370705, -0.00010846910299733281], [-0.028869440779089928, -0.0016395437996834517], [-0.028163284063339233, -0.003104221075773239], [-0.02683975361287594, -0.004415570292621851], [-0.024976758286356926, -0.00550105981528759], [-0.022680046036839485, -0.006309159565716982], [-0.020073289051651955, -0.006813181098550558], [-0.017287112772464752, -0.00701198261231184], [-0.01444844901561737, -0.006927694194018841], [-0.011671341024339199, -0.0066010314039886], [-0.009050136432051659, -0.006085095461457968], [-0.00665545416995883, -0.005438653286546469], [-0.004532987251877785, -0.004719843622297049], [-0.0027047765906900167, -0.003981039393693209], [-0.001172381453216076, -0.0032653005328029394]], 'name': 'X90m_d1'}, {'samples': [[-0.0017796576721593738, -0.0024703277740627527], [-0.004024666268378496, -0.003035259433090687], [-0.006700425408780575, -0.0036229270044714212], [-0.009803682565689087, -0.004201008938252926], [-0.013301187194883823, -0.004729824606329203], [-0.01712515577673912, -0.0051649329252541065], [-0.02117154188454151, -0.005460964050143957], [-0.025301918387413025, -0.00557636097073555], [-0.029349487274885178, -0.005478492937982082], [-0.03312914818525314, -0.0051484303548932076], [-0.036450937390327454, -0.004584627691656351], [-0.03913561999797821, -0.003804826643317938], [-0.04103055223822594, -0.0028457269072532654], [-0.04202410578727722, -0.0017602909356355667], [-0.04205649346113205, -0.000612930569332093], [-0.041125740855932236, 0.000526819727383554], [-0.03928792476654053, 0.00159127835649997], [-0.03665150701999664, 0.0025212704204022884], [-0.03336680680513382, 0.00327154528349638], [-0.029611781239509583, 0.003814278170466423], [-0.02557617798447609, 0.004140298813581467], [-0.02144586853682995, 0.004258064087480307], [-0.01738922670483589, 0.004190745297819376], [-0.013546801172196865, 0.0039720251224935055], [-0.010025037452578545, 0.0036413324996829033], [-0.0068941134959459305, 0.0032392137218266726], [-0.004189465660601854, 0.002803410869091749], [-0.0019161660457029939, 0.0023660112638026476]], 'name': 'X90m_d10'}, {'samples': [[-0.0012943174224346876, 0.0015491722151637077], [-0.0028287998866289854, 0.0018325948622077703], [-0.004654404241591692, 0.0021143024787306786], [-0.006767695304006338, 0.002373252995312214], [-0.009144735522568226, 0.00258474238216877], [-0.011738146655261517, 0.00272227986715734], [-0.014476067386567593, 0.0027601642068475485], [-0.01726362481713295, 0.0026765167713165283], [-0.019987167790532112, 0.0024563975166529417], [-0.0225212462246418, 0.0020945463329553604], [-0.024737805128097534, 0.0015972721157595515], [-0.026516741141676903, 0.0009831038769334555], [-0.02775663696229458, 0.0002819594810716808], [-0.028384294360876083, -0.0004671734932344407], [-0.02836192026734352, -0.0012198083568364382], [-0.027690866962075233, -0.0019303325098007917], [-0.02641151286661625, -0.0025565833784639835], [-0.024599231779575348, -0.0030639898031949997], [-0.022357046604156494, -0.003428712021559477], [-0.019805947318673134, -0.003639388596639037], [-0.017074137926101685, -0.003697328269481659], [-0.014286535792052746, -0.0036152342800050974], [-0.011555700562894344, -0.0034147717524319887], [-0.008975041098892689, -0.0031234165653586388], [-0.006614760961383581, -0.002771093975752592], [-0.004520585294812918, -0.0023870612494647503], [-0.002714939648285508, -0.0019974021706730127], [-0.00120000378228724, -0.001623324817046523]], 'name': 'X90m_d11'}, {'samples': [[-0.000990494852885604, -0.003221743507310748], [-0.0023418543860316277, -0.003939418122172356], [-0.003955918829888105, -0.004682440310716629], [-0.005831990856677294, -0.005408447235822678], [-0.007951301522552967, -0.00606573699042201], [-0.010274148546159267, -0.006596723571419716], [-0.012738662771880627, -0.006942977197468281], [-0.015261789783835411, -0.007051427382975817], [-0.017742754891514778, -0.006881005596369505], [-0.02006903663277626, -0.006408807821571827], [-0.022124439477920532, -0.005634778644889593], [-0.023798560723662376, -0.004584051668643951], [-0.024996530264616013, -0.003306350903585553], [-0.025647908449172974, -0.0018723045941442251], [-0.025713536888360977, -0.00036702019860967994], [-0.025189440697431564, 0.001118276035413146], [-0.02410721965134144, 0.002495391760021448], [-0.022530898451805115, 0.0036878357641398907], [-0.02055066078901291, 0.004637815989553928], [-0.018274305388331413, 0.0053106858395040035], [-0.015817586332559586, 0.005696387495845556], [-0.013294595293700695, 0.005807944573462009], [-0.010809295810759068, 0.005677499808371067], [-0.008449050597846508, 0.005350692663341761], [-0.006280575413256884, 0.004880347289144993], [-0.004348435904830694, 0.004320375621318817], [-0.0026758280582726, 0.0037206506822258234], [-0.0012671351432800293, 0.0031233124900609255]], 'name': 'X90m_d12'}, {'samples': [[-0.0015808803727850318, 0.004222638439387083], [-0.00347757781855762, 0.005084645934402943], [-0.0057349191047251225, 0.005962148308753967], [-0.008348953910171986, 0.006798767484724522], [-0.011290390975773335, 0.007526938337832689], [-0.014500917866826057, 0.008072714321315289], [-0.0178918968886137, 0.008362564258277416], [-0.021346116438508034, 0.008331574499607086], [-0.02472301945090294, 0.007932046428322792], [-0.027867281809449196, 0.007141293492168188], [-0.030620180070400238, 0.005967324133962393], [-0.03283267840743065, 0.004451292101293802], [-0.034378714859485626, 0.00266603147611022], [-0.03516705334186554, 0.000710519147105515], [-0.035150229930877686, -0.001299154362641275], [-0.03432926535606384, -0.0032411948777735233], [-0.032753560692071915, -0.00500032352283597], [-0.030515991151332855, -0.006479102652519941], [-0.02774382196366787, -0.007606821600347757], [-0.024586763232946396, -0.008344825357198715], [-0.021203646436333656, -0.008687764406204224], [-0.01774938963353634, -0.008660922758281231], [-0.014363739639520645, -0.008314344100654125], [-0.011162799783051014, -0.0077148969285190105], [-0.008233965374529362, -0.006937584839761257], [-0.005634302739053965, -0.006057321093976498], [-0.0033919678535312414, -0.00514215137809515], [-0.0015099671436473727, -0.00424851244315505]], 'name': 'X90m_d13'}, {'samples': [[-0.0011907288571819663, 0.005303758662194014], [-0.002549469470977783, 0.006383011117577553], [-0.0041640992276370525, 0.00748094730079174], [-0.006030880846083164, 0.008526716381311417], [-0.008127928711473942, 0.00943546462804079], [-0.010412681847810745, 0.010114376433193684], [-0.012821090407669544, 0.010471235029399395], [-0.015268995426595211, 0.010424705222249031], [-0.01765597052872181, 0.009915146976709366], [-0.01987154223024845, 0.008914387784898281], [-0.021803343668580055, 0.0074328407645225525], [-0.023346416652202606, 0.00552256079390645], [-0.02441260777413845, 0.003275360679253936], [-0.024938901886343956, 0.000815842708107084], [-0.02489358000457287, -0.0017099808901548386], [-0.024279391393065453, -0.0041490355506539345], [-0.02313327044248581, -0.006356540601700544], [-0.021522661671042442, -0.008210234344005585], [-0.01953895576298237, -0.00962152611464262], [-0.01728890649974346, -0.010542158037424088], [-0.014885188080370426, -0.010965758934617043], [-0.012437189929187298, -0.010924440808594227], [-0.010043134912848473, -0.010481412522494793], [-0.007784207351505756, -0.00972097460180521], [-0.0057211099192500114, -0.008737580850720406], [-0.0038930459413677454, -0.0076255155727267265], [-0.002318842802196741, -0.006470362655818462], [-0.0009996943408623338, -0.005343061406165361]], 'name': 'X90m_d14'}, {'samples': [[-0.0013931550784036517, 0.00291105592623353], [-0.0029940560925751925, 0.0034696352668106556], [-0.004896867088973522, 0.0040308525785803795], [-0.007097335532307625, 0.004555452149361372], [-0.00956982932984829, 0.004996946547180414], [-0.012264332734048367, 0.005305048543959856], [-0.015105473808944225, 0.005430456716567278], [-0.017994126304984093, 0.005330522544682026], [-0.02081192284822464, 0.0049751452170312405], [-0.02342856675386429, 0.0043520149774849415], [-0.025711435824632645, 0.003470316296443343], [-0.02753656730055809, 0.00236215116456151], [-0.02879972942173481, 0.0010812050895765424], [-0.02942628785967827, -0.00030137947760522366], [-0.029378484934568405, -0.001703508896753192], [-0.028659215196967125, -0.0030402089469134808], [-0.027311742305755615, -0.004232148174196482], [-0.025415372103452682, -0.005213432479649782], [-0.02307775244116783, -0.005937600042670965], [-0.020424745976924896, -0.006381066981703043], [-0.01758928783237934, -0.006543702445924282], [-0.014700534753501415, -0.00644666189327836], [-0.011874533258378506, -0.0061280387453734875], [-0.009207271039485931, -0.0056371320970356464], [-0.006770588457584381, -0.0050282650627195835], [-0.004610959440469742, -0.004355012439191341], [-0.002750790910795331, -0.0036654998548328876], [-0.0011916515650227666, -0.0029991823248565197]], 'name': 'X90m_d15'}, {'samples': [[-0.0011766013922169805, 0.0010330817895010114], [-0.002590895164757967, 0.001220894162543118], [-0.004274200648069382, 0.001407294301316142], [-0.0062236059457063675, 0.001578237395733595], [-0.008417303673923016, 0.0017172517254948616], [-0.010811842046678066, 0.001806695363484323], [-0.013341149315237999, 0.0018294753972440958], [-0.015917832031846046, 0.0017710716929286718], [-0.01843707449734211, 0.0016216146759688854], [-0.020783018320798874, 0.0013777068816125393], [-0.02283727377653122, 0.0010436787270009518], [-0.024488631635904312, 0.000632010807748884], [-0.025643011555075645, 0.00016276969108730555], [-0.026232296600937843, -0.0003379479458089918], [-0.026221008971333504, -0.0008404069812968373], [-0.025609834119677544, -0.0013141564559191465], [-0.02443554624915123, -0.0017310844268649817], [-0.022767364978790283, -0.0020681796595454216], [-0.020700182765722275, -0.0023096203804016113], [-0.018345652148127556, -0.002447932492941618], [-0.015822241082787514, -0.002484107157215476], [-0.013245534151792526, -0.0024267409462481737], [-0.010719801299273968, -0.0022904002107679844], [-0.008331694640219212, -0.002093515358865261], [-0.006146453320980072, -0.0018561286851763725], [-0.004206690937280655, -0.0015978161245584488], [-0.0025334549136459827, -0.0013360119191929698], [-0.0011290217516943812, -0.0010848772944882512]], 'name': 'X90m_d16'}, {'samples': [[-0.0018323190743103623, 0.001160528277978301], [-0.004032596480101347, 0.0013424463104456663], [-0.006651308853179216, 0.001516225398518145], [-0.009683897718787193, 0.001665771589614451], [-0.013096407987177372, 0.0017726548248901963], [-0.01682121679186821, 0.001817622222006321], [-0.02075551450252533, 0.0017826005350798368], [-0.024763334542512894, 0.0016529943095520139], [-0.028681615367531776, 0.0014199817087501287], [-0.032330144196748734, 0.0010824579512700438], [-0.03552476316690445, 0.0006482733879238367], [-0.038092538714408875, 0.00013448484241962433], [-0.03988715633749962, -0.00043353409273549914], [-0.0408027209341526, -0.0010240984847769141], [-0.040784116834402084, -0.0016021259361878037], [-0.0398324616253376, -0.0021325857378542423], [-0.038005031645298004, -0.0025840133894234896], [-0.035409532487392426, -0.0029315997380763292], [-0.03219359740614891, -0.0031594326719641685], [-0.028530916199088097, -0.003261613892391324], [-0.02460576221346855, -0.0032421518117189407], [-0.020597904920578003, -0.0031137384939938784], [-0.01666950061917305, -0.002895665355026722], [-0.012955293990671635, -0.002611241303384304], [-0.009556721895933151, -0.002285114023834467], [-0.006540027912706137, -0.001940845395438373], [-0.00393791263923049, -0.0015990114770829678], [-0.0017538900719955564, -0.0012759659439325333]], 'name': 'X90m_d17'}, {'samples': [[-0.0013675391674041748, 0.0011885124258697033], [-0.003001121338456869, 0.0013934052549302578], [-0.004945064894855022, 0.0015941536985337734], [-0.00719587504863739, 0.0017744777724146843], [-0.00972823053598404, 0.001915456261485815], [-0.012491829693317413, 0.001997010549530387], [-0.015410271473228931, 0.0019999092910438776], [-0.018382588401436806, 0.001908108126372099], [-0.021287746727466583, 0.0017111236229538918], [-0.02399204857647419, 0.0014060898683965206], [-0.02635893039405346, 0.0009991370607167482], [-0.028260216116905212, 0.0005057912785559893], [-0.02958754450082779, -4.977290518581867e-05], [-0.03026258386671543, -0.0006366218440234661], [-0.03024468757212162, -0.001219900674186647], [-0.02953493967652321, -0.0017642605816945434], [-0.028176046907901764, -0.002237404463812709], [-0.026248091831803322, -0.002613259246572852], [-0.023860713467001915, -0.002874338533729315], [-0.02114279940724373, -0.0030130045488476753], [-0.01823102869093418, -0.003031510394066572], [-0.015258674509823322, -0.0029409134294837713], [-0.012345898896455765, -0.0027590973768383265], [-0.00959249958395958, -0.002508267294615507], [-0.00707355048507452, -0.0022123013623058796], [-0.00483802892267704, -0.0018943247850984335], [-0.002910049632191658, -0.0015747756697237492], [-0.001292102038860321, -0.001270117238163948]], 'name': 'X90m_d18'}, {'samples': [[-0.001315524335950613, 0.0030035499949008226], [-0.0028474517166614532, 0.0035948229487985373], [-0.004669026471674442, 0.004192186985164881], [-0.006776455324143171, 0.004755301866680384], [-0.009145481511950493, 0.005236164201050997], [-0.011728483252227306, 0.005582601763308048], [-0.014453503303229809, 0.005743161775171757], [-0.01722574420273304, 0.005672961473464966], [-0.0199318565428257, 0.0053397780284285545], [-0.02244691736996174, 0.004729514941573143], [-0.02464361861348152, 0.0038501154631376266], [-0.026402782648801804, 0.0027331376913934946], [-0.02762402594089508, 0.001432518009096384], [-0.028235213831067085, 2.0441191736608744e-05], [-0.02819952927529812, -0.001419254345819354], [-0.02751913294196129, -0.002799317240715027], [-0.026234954595565796, -0.004037836566567421], [-0.02442261204123497, -0.005066289566457272], [-0.02218504063785076, -0.005835779942572117], [-0.019642837345600128, -0.006320691667497158], [-0.016923541203141212, -0.0065193986520171165], [-0.014151225797832012, -0.006452169269323349], [-0.011437506414949894, -0.006156803108751774], [-0.008874839171767235, -0.005682822782546282], [-0.006532545667141676, -0.005085183773189783], [-0.00445560272783041, -0.004418353084474802], [-0.002665859181433916, -0.0037314777728170156], [-0.0011651059612631798, -0.0030650359112769365]], 'name': 'X90m_d19'}, {'samples': [[-0.0005328026018105447, 1.7782109352992848e-05], [-0.0011814151657745242, -9.104533091885969e-06], [-0.0019536877516657114, -4.2805695557035506e-05], [-0.0028483914211392403, -8.389145659748465e-05], [-0.003855629125609994, -0.00013256882084533572], [-0.004955566953867674, -0.0001885554229374975], [-0.006117966957390308, -0.0002509760670363903], [-0.007302772719413042, -0.00031830277293920517], [-0.00846188236027956, -0.0003883575554937124], [-0.0095420703291893, -0.0004583889967761934], [-0.010488882660865784, -0.0005252279806882143], [-0.011251111514866352, -0.0005855131312273443], [-0.011785352602601051, -0.0006359645049087703], [-0.012060096487402916, -0.0006736782379448414], [-0.012058805674314499, -0.0006964025087654591], [-0.011781558394432068, -0.0007027601241134107], [-0.011245041154325008, -0.0006923868204466999], [-0.010480888187885284, -0.0006659653736278415], [-0.009532596915960312, -0.0006251525483094156], [-0.008451427333056927, -0.0005724075017496943], [-0.007291840855032206, -0.0005107481265440583], [-0.006107032299041748, -0.0004434682778082788], [-0.00494504114612937, -0.0003738512459676713], [-0.003845839062705636, -0.0003049151273444295], [-0.0028395680710673332, -0.0002392145834164694], [-0.0019459674367681146, -0.00017871525778900832], [-0.0011748463148251176, -0.00012474352843128145], [-0.0005273613496683538, -7.800500316079706e-05]], 'name': 'X90m_d2'}, {'samples': [[-0.001213398645631969, 0.0006414934759959579], [-0.0026516588404774666, 0.0007005198858678341], [-0.004362775012850761, 0.0007456847233697772], [-0.006343523971736431, 0.0007676387904211879], [-0.008571467362344265, 0.0007563008111901581], [-0.011002189479768276, 0.0007018363103270531], [-0.013568337075412273, 0.0005958672845736146], [-0.016180982813239098, 0.0004327779170125723], [-0.018733609467744827, 0.00021092896349728107], [-0.021108631044626236, -6.641563959419727e-05], [-0.023186028003692627, -0.00039064965676516294], [-0.024853238835930824, -0.0007480059284716845], [-0.026015209034085274, -0.001120412489399314], [-0.026603350415825844, -0.0014869710430502892], [-0.02658223919570446, -0.0018258898053318262], [-0.025953156873583794, -0.0021166291553527117], [-0.024753952398896217, -0.0023419614881277084], [-0.02305528149008751, -0.002489660866558552], [-0.0209537073969841, -0.002553592436015606], [-0.018562626093626022, -0.002534062834456563], [-0.016002202406525612, -0.0024374264758080244], [-0.013389511965215206, -0.00227503664791584], [-0.010830049403011799, -0.00206173793412745], [-0.00841135811060667, -0.0018141388427466154], [-0.006199229508638382, -0.0015489106299355626], [-0.004236515611410141, -0.001281323260627687], [-0.002544230315834284, -0.0010241650743409991], [-0.0011244126362726092, -0.0007871127454563975]], 'name': 'X90m_d3'}, {'samples': [[-0.0013899292098358274, -0.0021714363247156143], [-0.003165140515193343, -0.002673956099897623], [-0.005281694699078798, -0.0031978001352399588], [-0.007737291045486927, -0.003714622464030981], [-0.010505903512239456, -0.0041895280592143536], [-0.013534169644117355, -0.004583337344229221], [-0.0167399775236845, -0.004855940118432045], [-0.020013926550745964, -0.004970455076545477], [-0.02322404272854328, -0.004897738806903362], [-0.02622372657060623, -0.004620595835149288], [-0.028862373903393745, -0.004137057811021805], [-0.030997704714536667, -0.0034620994701981544], [-0.03250839188694954, -0.002627401379868388], [-0.03330545872449875, -0.0016790337394922972], [-0.03334096074104309, -0.0006732716574333608], [-0.03261273726820946, 0.00032893172465264797], [-0.031164657324552536, 0.0012680604122579098], [-0.029082225635647774, 0.002091885544359684], [-0.026484236121177673, 0.0027602522168308496], [-0.023511556908488274, 0.0032481916714459658], [-0.020314553752541542, 0.0035470493603497744], [-0.01704067923128605, 0.003663641633465886], [-0.013823628425598145, 0.003617735579609871], [-0.010775133967399597, 0.0034384073223918676], [-0.007979928515851498, 0.003159878309816122], [-0.005494005512446165, 0.002817468484863639], [-0.003345785429701209, 0.002444150857627392], [-0.0015395627124235034, 0.0020680390298366547]], 'name': 'X90m_d4'}, {'samples': [[-0.001049053855240345, 0.003177501494064927], [-0.002239347668364644, 0.0038084641564637423], [-0.0036535554099828005, 0.004447098355740309], [-0.005288310348987579, 0.00505078723654151], [-0.007124349474906921, 0.005568732973188162], [-0.009124306961894035, 0.005945635959506035], [-0.011232014745473862, 0.006126852240413427], [-0.013373730704188347, 0.006064577493816614], [-0.015461505390703678, 0.005724298767745495], [-0.017398642376065254, 0.005090595223009586], [-0.019086839631199837, 0.004171309992671013], [-0.020434334874153137, 0.0029992617201060057], [-0.021364128217101097, 0.0016309774946421385], [-0.02182125300168991, 0.00014238059520721436], [-0.021778155118227005, -0.0013781504239887], [-0.0212374459952116, -0.002838465152308345], [-0.020231645554304123, -0.004151887260377407], [-0.01881992630660534, -0.005245729349553585], [-0.017082368955016136, -0.006067915819585323], [-0.015112447552382946, -0.006590878590941429], [-0.013008750975131989, -0.006812355015426874], [-0.01086694560945034, -0.006753218825906515], [-0.00877288542687893, -0.006452908739447594], [-0.006797487847507, -0.005963329691439867], [-0.004993733949959278, -0.005342218559235334], [-0.0033957974519580603, -0.004646903369575739], [-0.002020033774897456, -0.003929190803319216], [-0.0008673897827975452, -0.003231820883229375]], 'name': 'X90m_d5'}, {'samples': [[-0.0010731758084148169, 0.003608583938330412], [-0.0022909860126674175, 0.004331048112362623], [-0.003737892024219036, 0.0050635552033782005], [-0.00541045144200325, 0.005757770035415888], [-0.007288957014679909, 0.006355989724397659], [-0.009335181675851345, 0.00679529644548893], [-0.01149166189134121, 0.007013403344899416], [-0.013682947494089603, 0.006955673918128014], [-0.015819057822227478, 0.006582451518625021], [-0.017801057547330856, 0.005875673610717058], [-0.019528372213244438, 0.004843640606850386], [-0.02090711146593094, 0.003523005871102214], [-0.021858489140868187, 0.001977392239496112], [-0.022326264530420303, 0.00029254209948703647], [-0.022282246500253677, -0.001431517070159316], [-0.02172909863293171, -0.003090300364419818], [-0.020700082182884216, -0.004585349000990391], [-0.0192557442933321, -0.005833902861922979], [-0.017478015273809433, -0.006776443216949701], [-0.01546252891421318, -0.00738115468993783], [-0.01331015583127737, -0.007644880563020706], [-0.011118778958916664, -0.007590708788484335], [-0.008976240642368793, -0.007262836210429668], [-0.0069551002234220505, -0.006719678640365601], [-0.005109570920467377, -0.006026374641805887], [-0.0034746178425848484, -0.005247710272669792], [-0.0020669782534241676, -0.004442318808287382], [-0.0008876238134689629, -0.003658648580312729]], 'name': 'X90m_d6'}, {'samples': [[-0.0014904991257935762, 0.0068843853659927845], [-0.0030907236505299807, 0.008270403370261192], [-0.004988582339137793, 0.00967731885612011], [-0.0071783000603318214, 0.011013006791472435], [-0.009632737375795841, 0.012167359702289104], [-0.012300577946007252, 0.013020194135606289], [-0.01510554738342762, 0.013452384620904922], [-0.017948240041732788, 0.013359235599637032], [-0.020710786804556847, 0.0126644941046834], [-0.023264285176992416, 0.0113329803571105], [-0.025478417053818703, 0.0093797342851758], [-0.027232302352786064, 0.006873880047351122], [-0.02842540293931961, 0.003936043940484524], [-0.02898702770471573, 0.0007291720248758793], [-0.02888329327106476, -0.0025563486851751804], [-0.028120480477809906, -0.005721403285861015], [-0.026744427159428596, -0.008578121662139893], [-0.02483595348894596, -0.010968341492116451], [-0.022503014653921127, -0.012778020463883877], [-0.01987060345709324, -0.01394579652696848], [-0.017069730907678604, -0.014464879408478737], [-0.014226824045181274, -0.014378514140844345], [-0.011454706080257893, -0.013770234771072865], [-0.008845980279147625, -0.012750799767673016], [-0.006469253450632095, -0.011443909257650375], [-0.004368158522993326, -0.009972745552659035], [-0.002562834182754159, -0.008448906242847443], [-0.001053233165293932, -0.0069646998308598995]], 'name': 'X90m_d7'}, {'samples': [[-0.0009719699155539274, 0.0023818514309823513], [-0.0021169031970202923, 0.002858696738258004], [-0.003478789236396551, 0.003342166543006897], [-0.005054967477917671, 0.003800357226282358], [-0.006827482488006353, 0.004195182118564844], [-0.00876089558005333, 0.0044851116836071014], [-0.010801533237099648, 0.004629035945981741], [-0.012878581881523132, 0.004590890370309353], [-0.01490727812051773, 0.004344502929598093], [-0.016794098541140556, 0.0038779533933848143], [-0.01844364032149315, 0.0031967204995453358], [-0.019766487181186676, 0.0023250014055520296], [-0.02068719081580639, 0.0013047910761088133], [-0.02115139551460743, 0.00019268528558313847], [-0.021131141111254692, -0.0009452913654968143], [-0.02062765322625637, -0.0020401726942509413], [-0.019671224057674408, -0.00302697136066854], [-0.018318194895982742, -0.0038510612212121487], [-0.01664545200765133, -0.004473159089684486], [-0.014743223786354065, -0.004872265737503767], [-0.012707045301795006, -0.0050463005900382996], [-0.010629953816533089, -0.005010504741221666], [-0.008595731109380722, -0.004794050008058548], [-0.00667386082932353, -0.004435498733073473], [-0.004916519857943058, -0.00397784449160099], [-0.003357646055519581, -0.003463851287961006], [-0.0020138281397521496, -0.002932221395894885], [-0.0008865897543728352, -0.0024149329401552677]], 'name': 'X90m_d8'}, {'samples': [[-0.0008553169900551438, -0.000599054095800966], [-0.0019088543485850096, -0.0007347727078013122], [-0.003163680201396346, -0.000875716854352504], [-0.004617955069988966, -0.001014034729450941], [-0.006255761254578829, -0.001140106818638742], [-0.008045018650591373, -0.0012431812938302755], [-0.009936707094311714, -0.0013123053358867764], [-0.011865800246596336, -0.00133747688960284], [-0.01375411357730627, -0.001310882274992764], [-0.015515062026679516, -0.001228050678037107], [-0.017059961333870888, -0.0010887382086366415], [-0.018305320292711258, -0.0008973806980066001], [-0.019180260598659515, -0.0006630023708567023], [-0.019633203744888306, -0.0003985506482422352], [-0.019636884331703186, -0.0001197190722450614], [-0.01919107884168625, 0.00015659400378353894], [-0.018322627991437912, 0.00041398085886612535], [-0.017082752659916878, 0.0006381373386830091], [-0.015542066656053066, 0.0008181721204891801], [-0.013783917762339115, 0.0009474471444264054], [-0.01189696416258812, 0.0010238661197945476], [-0.009967878460884094, 0.0010496132308617234], [-0.008075024001300335, 0.0010304360184818506], [-0.006283670198172331, 0.0009746168507263064], [-0.004643107298761606, 0.0008918112725950778], [-0.0031856887508183718, 0.000791920640040189], [-0.001927580451592803, 0.0006841411232016981], [-0.0008708284003660083, 0.0005762731307186186]], 'name': 'X90m_d9'}, {'samples': [[0.0010166364954784513, -0.0010708471527323127], [0.0022254802752286196, -0.0012623798102140427], [0.003663793206214905, -0.001451739459298551], [0.005328916013240814, -0.0016243333229795098], [0.007202038075774908, -0.0017630961956456304], [0.009245874360203743, -0.0018498020945116878], [0.011403844691812992, -0.0018668548436835408], [0.013601216487586498, -0.001799390185624361], [0.01574844680726528, -0.001637422596104443], [0.017746664583683014, -0.001377723179757595], [0.01949491910636425, -0.0010251046624034643], [0.02089850977063179, -0.0005928319878876209], [0.021877415478229523, -0.00010201206896454096], [0.02237386256456375, 0.00042004825081676245], [0.02235795557498932, 0.0009423451265320182], [0.02183065563440323, 0.0014332253485918045], [0.02082369476556778, 0.0018635618034750223], [0.019396400079131126, 0.002209614496678114], [0.017629925161600113, 0.002455185167491436], [0.015619607642292976, 0.002592796925455332], [0.01346650067716837, 0.0026237894780933857], [0.011269095353782177, 0.0025574027094990015], [0.009116163477301598, 0.0024090532679110765], [0.007081391755491495, 0.0021981254685670137], [0.005220185965299606, 0.0019456265727058053], [0.003568653017282486, 0.0016720175044611096], [0.0021445301827043295, 0.00139547698199749], [0.000949583132751286, 0.0011307321256026626]], 'name': 'X90p_d0'}, {'samples': [[0.001367609016597271, -0.003188465489074588], [0.002940464997664094, -0.003810269758105278], [0.004809989593923092, -0.0044372170232236385], [0.00697202468290925, -0.005026419181376696], [0.00940140150487423, -0.00552693335339427], [0.012048999778926373, -0.005883486475795507], [0.014840776100754738, -0.0060416897758841515], [0.01767934486269951, -0.005954240448772907], [0.020448407158255577, -0.005587392020970583], [0.023019934073090553, -0.004926726687699556], [0.025263601914048195, -0.003981279209256172], [0.027057578787207603, -0.0027851660270243883], [0.028299424797296524, -0.0013962136581540108], [0.028915757313370705, 0.00010846910299733281], [0.028869440779089928, 0.0016395437996834517], [0.028163284063339233, 0.003104221075773239], [0.02683975361287594, 0.004415570292621851], [0.024976758286356926, 0.00550105981528759], [0.022680046036839485, 0.006309159565716982], [0.020073289051651955, 0.006813181098550558], [0.017287112772464752, 0.00701198261231184], [0.01444844901561737, 0.006927694194018841], [0.011671341024339199, 0.0066010314039886], [0.009050136432051659, 0.006085095461457968], [0.00665545416995883, 0.005438653286546469], [0.004532987251877785, 0.004719843622297049], [0.0027047765906900167, 0.003981039393693209], [0.001172381453216076, 0.0032653005328029394]], 'name': 'X90p_d1'}, {'samples': [[0.0017796576721593738, 0.0024703277740627527], [0.004024666268378496, 0.003035259433090687], [0.006700425408780575, 0.0036229270044714212], [0.009803682565689087, 0.004201008938252926], [0.013301187194883823, 0.004729824606329203], [0.01712515577673912, 0.0051649329252541065], [0.02117154188454151, 0.005460964050143957], [0.025301918387413025, 0.00557636097073555], [0.029349487274885178, 0.005478492937982082], [0.03312914818525314, 0.0051484303548932076], [0.036450937390327454, 0.004584627691656351], [0.03913561999797821, 0.003804826643317938], [0.04103055223822594, 0.0028457269072532654], [0.04202410578727722, 0.0017602909356355667], [0.04205649346113205, 0.000612930569332093], [0.041125740855932236, -0.000526819727383554], [0.03928792476654053, -0.00159127835649997], [0.03665150701999664, -0.0025212704204022884], [0.03336680680513382, -0.00327154528349638], [0.029611781239509583, -0.003814278170466423], [0.02557617798447609, -0.004140298813581467], [0.02144586853682995, -0.004258064087480307], [0.01738922670483589, -0.004190745297819376], [0.013546801172196865, -0.0039720251224935055], [0.010025037452578545, -0.0036413324996829033], [0.0068941134959459305, -0.0032392137218266726], [0.004189465660601854, -0.002803410869091749], [0.0019161660457029939, -0.0023660112638026476]], 'name': 'X90p_d10'}, {'samples': [[0.0012943174224346876, -0.0015491722151637077], [0.0028287998866289854, -0.0018325948622077703], [0.004654404241591692, -0.0021143024787306786], [0.006767695304006338, -0.002373252995312214], [0.009144735522568226, -0.00258474238216877], [0.011738146655261517, -0.00272227986715734], [0.014476067386567593, -0.0027601642068475485], [0.01726362481713295, -0.0026765167713165283], [0.019987167790532112, -0.0024563975166529417], [0.0225212462246418, -0.0020945463329553604], [0.024737805128097534, -0.0015972721157595515], [0.026516741141676903, -0.0009831038769334555], [0.02775663696229458, -0.0002819594810716808], [0.028384294360876083, 0.0004671734932344407], [0.02836192026734352, 0.0012198083568364382], [0.027690866962075233, 0.0019303325098007917], [0.02641151286661625, 0.0025565833784639835], [0.024599231779575348, 0.0030639898031949997], [0.022357046604156494, 0.003428712021559477], [0.019805947318673134, 0.003639388596639037], [0.017074137926101685, 0.003697328269481659], [0.014286535792052746, 0.0036152342800050974], [0.011555700562894344, 0.0034147717524319887], [0.008975041098892689, 0.0031234165653586388], [0.006614760961383581, 0.002771093975752592], [0.004520585294812918, 0.0023870612494647503], [0.002714939648285508, 0.0019974021706730127], [0.00120000378228724, 0.001623324817046523]], 'name': 'X90p_d11'}, {'samples': [[0.000990494852885604, 0.003221743507310748], [0.0023418543860316277, 0.003939418122172356], [0.003955918829888105, 0.004682440310716629], [0.005831990856677294, 0.005408447235822678], [0.007951301522552967, 0.00606573699042201], [0.010274148546159267, 0.006596723571419716], [0.012738662771880627, 0.006942977197468281], [0.015261789783835411, 0.007051427382975817], [0.017742754891514778, 0.006881005596369505], [0.02006903663277626, 0.006408807821571827], [0.022124439477920532, 0.005634778644889593], [0.023798560723662376, 0.004584051668643951], [0.024996530264616013, 0.003306350903585553], [0.025647908449172974, 0.0018723045941442251], [0.025713536888360977, 0.00036702019860967994], [0.025189440697431564, -0.001118276035413146], [0.02410721965134144, -0.002495391760021448], [0.022530898451805115, -0.0036878357641398907], [0.02055066078901291, -0.004637815989553928], [0.018274305388331413, -0.0053106858395040035], [0.015817586332559586, -0.005696387495845556], [0.013294595293700695, -0.005807944573462009], [0.010809295810759068, -0.005677499808371067], [0.008449050597846508, -0.005350692663341761], [0.006280575413256884, -0.004880347289144993], [0.004348435904830694, -0.004320375621318817], [0.0026758280582726, -0.0037206506822258234], [0.0012671351432800293, -0.0031233124900609255]], 'name': 'X90p_d12'}, {'samples': [[0.0015808803727850318, -0.004222638439387083], [0.00347757781855762, -0.005084645934402943], [0.0057349191047251225, -0.005962148308753967], [0.008348953910171986, -0.006798767484724522], [0.011290390975773335, -0.007526938337832689], [0.014500917866826057, -0.008072714321315289], [0.0178918968886137, -0.008362564258277416], [0.021346116438508034, -0.008331574499607086], [0.02472301945090294, -0.007932046428322792], [0.027867281809449196, -0.007141293492168188], [0.030620180070400238, -0.005967324133962393], [0.03283267840743065, -0.004451292101293802], [0.034378714859485626, -0.00266603147611022], [0.03516705334186554, -0.000710519147105515], [0.035150229930877686, 0.001299154362641275], [0.03432926535606384, 0.0032411948777735233], [0.032753560692071915, 0.00500032352283597], [0.030515991151332855, 0.006479102652519941], [0.02774382196366787, 0.007606821600347757], [0.024586763232946396, 0.008344825357198715], [0.021203646436333656, 0.008687764406204224], [0.01774938963353634, 0.008660922758281231], [0.014363739639520645, 0.008314344100654125], [0.011162799783051014, 0.0077148969285190105], [0.008233965374529362, 0.006937584839761257], [0.005634302739053965, 0.006057321093976498], [0.0033919678535312414, 0.00514215137809515], [0.0015099671436473727, 0.00424851244315505]], 'name': 'X90p_d13'}, {'samples': [[0.0011907288571819663, -0.005303758662194014], [0.002549469470977783, -0.006383011117577553], [0.0041640992276370525, -0.00748094730079174], [0.006030880846083164, -0.008526716381311417], [0.008127928711473942, -0.00943546462804079], [0.010412681847810745, -0.010114376433193684], [0.012821090407669544, -0.010471235029399395], [0.015268995426595211, -0.010424705222249031], [0.01765597052872181, -0.009915146976709366], [0.01987154223024845, -0.008914387784898281], [0.021803343668580055, -0.0074328407645225525], [0.023346416652202606, -0.00552256079390645], [0.02441260777413845, -0.003275360679253936], [0.024938901886343956, -0.000815842708107084], [0.02489358000457287, 0.0017099808901548386], [0.024279391393065453, 0.0041490355506539345], [0.02313327044248581, 0.006356540601700544], [0.021522661671042442, 0.008210234344005585], [0.01953895576298237, 0.00962152611464262], [0.01728890649974346, 0.010542158037424088], [0.014885188080370426, 0.010965758934617043], [0.012437189929187298, 0.010924440808594227], [0.010043134912848473, 0.010481412522494793], [0.007784207351505756, 0.00972097460180521], [0.0057211099192500114, 0.008737580850720406], [0.0038930459413677454, 0.0076255155727267265], [0.002318842802196741, 0.006470362655818462], [0.0009996943408623338, 0.005343061406165361]], 'name': 'X90p_d14'}, {'samples': [[0.0013931550784036517, -0.00291105592623353], [0.0029940560925751925, -0.0034696352668106556], [0.004896867088973522, -0.0040308525785803795], [0.007097335532307625, -0.004555452149361372], [0.00956982932984829, -0.004996946547180414], [0.012264332734048367, -0.005305048543959856], [0.015105473808944225, -0.005430456716567278], [0.017994126304984093, -0.005330522544682026], [0.02081192284822464, -0.0049751452170312405], [0.02342856675386429, -0.0043520149774849415], [0.025711435824632645, -0.003470316296443343], [0.02753656730055809, -0.00236215116456151], [0.02879972942173481, -0.0010812050895765424], [0.02942628785967827, 0.00030137947760522366], [0.029378484934568405, 0.001703508896753192], [0.028659215196967125, 0.0030402089469134808], [0.027311742305755615, 0.004232148174196482], [0.025415372103452682, 0.005213432479649782], [0.02307775244116783, 0.005937600042670965], [0.020424745976924896, 0.006381066981703043], [0.01758928783237934, 0.006543702445924282], [0.014700534753501415, 0.00644666189327836], [0.011874533258378506, 0.0061280387453734875], [0.009207271039485931, 0.0056371320970356464], [0.006770588457584381, 0.0050282650627195835], [0.004610959440469742, 0.004355012439191341], [0.002750790910795331, 0.0036654998548328876], [0.0011916515650227666, 0.0029991823248565197]], 'name': 'X90p_d15'}, {'samples': [[0.0011766013922169805, -0.0010330817895010114], [0.002590895164757967, -0.001220894162543118], [0.004274200648069382, -0.001407294301316142], [0.0062236059457063675, -0.001578237395733595], [0.008417303673923016, -0.0017172517254948616], [0.010811842046678066, -0.001806695363484323], [0.013341149315237999, -0.0018294753972440958], [0.015917832031846046, -0.0017710716929286718], [0.01843707449734211, -0.0016216146759688854], [0.020783018320798874, -0.0013777068816125393], [0.02283727377653122, -0.0010436787270009518], [0.024488631635904312, -0.000632010807748884], [0.025643011555075645, -0.00016276969108730555], [0.026232296600937843, 0.0003379479458089918], [0.026221008971333504, 0.0008404069812968373], [0.025609834119677544, 0.0013141564559191465], [0.02443554624915123, 0.0017310844268649817], [0.022767364978790283, 0.0020681796595454216], [0.020700182765722275, 0.0023096203804016113], [0.018345652148127556, 0.002447932492941618], [0.015822241082787514, 0.002484107157215476], [0.013245534151792526, 0.0024267409462481737], [0.010719801299273968, 0.0022904002107679844], [0.008331694640219212, 0.002093515358865261], [0.006146453320980072, 0.0018561286851763725], [0.004206690937280655, 0.0015978161245584488], [0.0025334549136459827, 0.0013360119191929698], [0.0011290217516943812, 0.0010848772944882512]], 'name': 'X90p_d16'}, {'samples': [[0.0018323190743103623, -0.001160528277978301], [0.004032596480101347, -0.0013424463104456663], [0.006651308853179216, -0.001516225398518145], [0.009683897718787193, -0.001665771589614451], [0.013096407987177372, -0.0017726548248901963], [0.01682121679186821, -0.001817622222006321], [0.02075551450252533, -0.0017826005350798368], [0.024763334542512894, -0.0016529943095520139], [0.028681615367531776, -0.0014199817087501287], [0.032330144196748734, -0.0010824579512700438], [0.03552476316690445, -0.0006482733879238367], [0.038092538714408875, -0.00013448484241962433], [0.03988715633749962, 0.00043353409273549914], [0.0408027209341526, 0.0010240984847769141], [0.040784116834402084, 0.0016021259361878037], [0.0398324616253376, 0.0021325857378542423], [0.038005031645298004, 0.0025840133894234896], [0.035409532487392426, 0.0029315997380763292], [0.03219359740614891, 0.0031594326719641685], [0.028530916199088097, 0.003261613892391324], [0.02460576221346855, 0.0032421518117189407], [0.020597904920578003, 0.0031137384939938784], [0.01666950061917305, 0.002895665355026722], [0.012955293990671635, 0.002611241303384304], [0.009556721895933151, 0.002285114023834467], [0.006540027912706137, 0.001940845395438373], [0.00393791263923049, 0.0015990114770829678], [0.0017538900719955564, 0.0012759659439325333]], 'name': 'X90p_d17'}, {'samples': [[0.0013675391674041748, -0.0011885124258697033], [0.003001121338456869, -0.0013934052549302578], [0.004945064894855022, -0.0015941536985337734], [0.00719587504863739, -0.0017744777724146843], [0.00972823053598404, -0.001915456261485815], [0.012491829693317413, -0.001997010549530387], [0.015410271473228931, -0.0019999092910438776], [0.018382588401436806, -0.001908108126372099], [0.021287746727466583, -0.0017111236229538918], [0.02399204857647419, -0.0014060898683965206], [0.02635893039405346, -0.0009991370607167482], [0.028260216116905212, -0.0005057912785559893], [0.02958754450082779, 4.977290518581867e-05], [0.03026258386671543, 0.0006366218440234661], [0.03024468757212162, 0.001219900674186647], [0.02953493967652321, 0.0017642605816945434], [0.028176046907901764, 0.002237404463812709], [0.026248091831803322, 0.002613259246572852], [0.023860713467001915, 0.002874338533729315], [0.02114279940724373, 0.0030130045488476753], [0.01823102869093418, 0.003031510394066572], [0.015258674509823322, 0.0029409134294837713], [0.012345898896455765, 0.0027590973768383265], [0.00959249958395958, 0.002508267294615507], [0.00707355048507452, 0.0022123013623058796], [0.00483802892267704, 0.0018943247850984335], [0.002910049632191658, 0.0015747756697237492], [0.001292102038860321, 0.001270117238163948]], 'name': 'X90p_d18'}, {'samples': [[0.001315524335950613, -0.0030035499949008226], [0.0028474517166614532, -0.0035948229487985373], [0.004669026471674442, -0.004192186985164881], [0.006776455324143171, -0.004755301866680384], [0.009145481511950493, -0.005236164201050997], [0.011728483252227306, -0.005582601763308048], [0.014453503303229809, -0.005743161775171757], [0.01722574420273304, -0.005672961473464966], [0.0199318565428257, -0.0053397780284285545], [0.02244691736996174, -0.004729514941573143], [0.02464361861348152, -0.0038501154631376266], [0.026402782648801804, -0.0027331376913934946], [0.02762402594089508, -0.001432518009096384], [0.028235213831067085, -2.0441191736608744e-05], [0.02819952927529812, 0.001419254345819354], [0.02751913294196129, 0.002799317240715027], [0.026234954595565796, 0.004037836566567421], [0.02442261204123497, 0.005066289566457272], [0.02218504063785076, 0.005835779942572117], [0.019642837345600128, 0.006320691667497158], [0.016923541203141212, 0.0065193986520171165], [0.014151225797832012, 0.006452169269323349], [0.011437506414949894, 0.006156803108751774], [0.008874839171767235, 0.005682822782546282], [0.006532545667141676, 0.005085183773189783], [0.00445560272783041, 0.004418353084474802], [0.002665859181433916, 0.0037314777728170156], [0.0011651059612631798, 0.0030650359112769365]], 'name': 'X90p_d19'}, {'samples': [[0.0005328026018105447, -1.7782109352992848e-05], [0.0011814151657745242, 9.104533091885969e-06], [0.0019536877516657114, 4.2805695557035506e-05], [0.0028483914211392403, 8.389145659748465e-05], [0.003855629125609994, 0.00013256882084533572], [0.004955566953867674, 0.0001885554229374975], [0.006117966957390308, 0.0002509760670363903], [0.007302772719413042, 0.00031830277293920517], [0.00846188236027956, 0.0003883575554937124], [0.0095420703291893, 0.0004583889967761934], [0.010488882660865784, 0.0005252279806882143], [0.011251111514866352, 0.0005855131312273443], [0.011785352602601051, 0.0006359645049087703], [0.012060096487402916, 0.0006736782379448414], [0.012058805674314499, 0.0006964025087654591], [0.011781558394432068, 0.0007027601241134107], [0.011245041154325008, 0.0006923868204466999], [0.010480888187885284, 0.0006659653736278415], [0.009532596915960312, 0.0006251525483094156], [0.008451427333056927, 0.0005724075017496943], [0.007291840855032206, 0.0005107481265440583], [0.006107032299041748, 0.0004434682778082788], [0.00494504114612937, 0.0003738512459676713], [0.003845839062705636, 0.0003049151273444295], [0.0028395680710673332, 0.0002392145834164694], [0.0019459674367681146, 0.00017871525778900832], [0.0011748463148251176, 0.00012474352843128145], [0.0005273613496683538, 7.800500316079706e-05]], 'name': 'X90p_d2'}, {'samples': [[0.001213398645631969, -0.0006414934759959579], [0.0026516588404774666, -0.0007005198858678341], [0.004362775012850761, -0.0007456847233697772], [0.006343523971736431, -0.0007676387904211879], [0.008571467362344265, -0.0007563008111901581], [0.011002189479768276, -0.0007018363103270531], [0.013568337075412273, -0.0005958672845736146], [0.016180982813239098, -0.0004327779170125723], [0.018733609467744827, -0.00021092896349728107], [0.021108631044626236, 6.641563959419727e-05], [0.023186028003692627, 0.00039064965676516294], [0.024853238835930824, 0.0007480059284716845], [0.026015209034085274, 0.001120412489399314], [0.026603350415825844, 0.0014869710430502892], [0.02658223919570446, 0.0018258898053318262], [0.025953156873583794, 0.0021166291553527117], [0.024753952398896217, 0.0023419614881277084], [0.02305528149008751, 0.002489660866558552], [0.0209537073969841, 0.002553592436015606], [0.018562626093626022, 0.002534062834456563], [0.016002202406525612, 0.0024374264758080244], [0.013389511965215206, 0.00227503664791584], [0.010830049403011799, 0.00206173793412745], [0.00841135811060667, 0.0018141388427466154], [0.006199229508638382, 0.0015489106299355626], [0.004236515611410141, 0.001281323260627687], [0.002544230315834284, 0.0010241650743409991], [0.0011244126362726092, 0.0007871127454563975]], 'name': 'X90p_d3'}, {'samples': [[0.0013899292098358274, 0.0021714363247156143], [0.003165140515193343, 0.002673956099897623], [0.005281694699078798, 0.0031978001352399588], [0.007737291045486927, 0.003714622464030981], [0.010505903512239456, 0.0041895280592143536], [0.013534169644117355, 0.004583337344229221], [0.0167399775236845, 0.004855940118432045], [0.020013926550745964, 0.004970455076545477], [0.02322404272854328, 0.004897738806903362], [0.02622372657060623, 0.004620595835149288], [0.028862373903393745, 0.004137057811021805], [0.030997704714536667, 0.0034620994701981544], [0.03250839188694954, 0.002627401379868388], [0.03330545872449875, 0.0016790337394922972], [0.03334096074104309, 0.0006732716574333608], [0.03261273726820946, -0.00032893172465264797], [0.031164657324552536, -0.0012680604122579098], [0.029082225635647774, -0.002091885544359684], [0.026484236121177673, -0.0027602522168308496], [0.023511556908488274, -0.0032481916714459658], [0.020314553752541542, -0.0035470493603497744], [0.01704067923128605, -0.003663641633465886], [0.013823628425598145, -0.003617735579609871], [0.010775133967399597, -0.0034384073223918676], [0.007979928515851498, -0.003159878309816122], [0.005494005512446165, -0.002817468484863639], [0.003345785429701209, -0.002444150857627392], [0.0015395627124235034, -0.0020680390298366547]], 'name': 'X90p_d4'}, {'samples': [[0.001049053855240345, -0.003177501494064927], [0.002239347668364644, -0.0038084641564637423], [0.0036535554099828005, -0.004447098355740309], [0.005288310348987579, -0.00505078723654151], [0.007124349474906921, -0.005568732973188162], [0.009124306961894035, -0.005945635959506035], [0.011232014745473862, -0.006126852240413427], [0.013373730704188347, -0.006064577493816614], [0.015461505390703678, -0.005724298767745495], [0.017398642376065254, -0.005090595223009586], [0.019086839631199837, -0.004171309992671013], [0.020434334874153137, -0.0029992617201060057], [0.021364128217101097, -0.0016309774946421385], [0.02182125300168991, -0.00014238059520721436], [0.021778155118227005, 0.0013781504239887], [0.0212374459952116, 0.002838465152308345], [0.020231645554304123, 0.004151887260377407], [0.01881992630660534, 0.005245729349553585], [0.017082368955016136, 0.006067915819585323], [0.015112447552382946, 0.006590878590941429], [0.013008750975131989, 0.006812355015426874], [0.01086694560945034, 0.006753218825906515], [0.00877288542687893, 0.006452908739447594], [0.006797487847507, 0.005963329691439867], [0.004993733949959278, 0.005342218559235334], [0.0033957974519580603, 0.004646903369575739], [0.002020033774897456, 0.003929190803319216], [0.0008673897827975452, 0.003231820883229375]], 'name': 'X90p_d5'}, {'samples': [[0.0010731758084148169, -0.003608583938330412], [0.0022909860126674175, -0.004331048112362623], [0.003737892024219036, -0.0050635552033782005], [0.00541045144200325, -0.005757770035415888], [0.007288957014679909, -0.006355989724397659], [0.009335181675851345, -0.00679529644548893], [0.01149166189134121, -0.007013403344899416], [0.013682947494089603, -0.006955673918128014], [0.015819057822227478, -0.006582451518625021], [0.017801057547330856, -0.005875673610717058], [0.019528372213244438, -0.004843640606850386], [0.02090711146593094, -0.003523005871102214], [0.021858489140868187, -0.001977392239496112], [0.022326264530420303, -0.00029254209948703647], [0.022282246500253677, 0.001431517070159316], [0.02172909863293171, 0.003090300364419818], [0.020700082182884216, 0.004585349000990391], [0.0192557442933321, 0.005833902861922979], [0.017478015273809433, 0.006776443216949701], [0.01546252891421318, 0.00738115468993783], [0.01331015583127737, 0.007644880563020706], [0.011118778958916664, 0.007590708788484335], [0.008976240642368793, 0.007262836210429668], [0.0069551002234220505, 0.006719678640365601], [0.005109570920467377, 0.006026374641805887], [0.0034746178425848484, 0.005247710272669792], [0.0020669782534241676, 0.004442318808287382], [0.0008876238134689629, 0.003658648580312729]], 'name': 'X90p_d6'}, {'samples': [[0.0014904991257935762, -0.0068843853659927845], [0.0030907236505299807, -0.008270403370261192], [0.004988582339137793, -0.00967731885612011], [0.0071783000603318214, -0.011013006791472435], [0.009632737375795841, -0.012167359702289104], [0.012300577946007252, -0.013020194135606289], [0.01510554738342762, -0.013452384620904922], [0.017948240041732788, -0.013359235599637032], [0.020710786804556847, -0.0126644941046834], [0.023264285176992416, -0.0113329803571105], [0.025478417053818703, -0.0093797342851758], [0.027232302352786064, -0.006873880047351122], [0.02842540293931961, -0.003936043940484524], [0.02898702770471573, -0.0007291720248758793], [0.02888329327106476, 0.0025563486851751804], [0.028120480477809906, 0.005721403285861015], [0.026744427159428596, 0.008578121662139893], [0.02483595348894596, 0.010968341492116451], [0.022503014653921127, 0.012778020463883877], [0.01987060345709324, 0.01394579652696848], [0.017069730907678604, 0.014464879408478737], [0.014226824045181274, 0.014378514140844345], [0.011454706080257893, 0.013770234771072865], [0.008845980279147625, 0.012750799767673016], [0.006469253450632095, 0.011443909257650375], [0.004368158522993326, 0.009972745552659035], [0.002562834182754159, 0.008448906242847443], [0.001053233165293932, 0.0069646998308598995]], 'name': 'X90p_d7'}, {'samples': [[0.0009719699155539274, -0.0023818514309823513], [0.0021169031970202923, -0.002858696738258004], [0.003478789236396551, -0.003342166543006897], [0.005054967477917671, -0.003800357226282358], [0.006827482488006353, -0.004195182118564844], [0.00876089558005333, -0.0044851116836071014], [0.010801533237099648, -0.004629035945981741], [0.012878581881523132, -0.004590890370309353], [0.01490727812051773, -0.004344502929598093], [0.016794098541140556, -0.0038779533933848143], [0.01844364032149315, -0.0031967204995453358], [0.019766487181186676, -0.0023250014055520296], [0.02068719081580639, -0.0013047910761088133], [0.02115139551460743, -0.00019268528558313847], [0.021131141111254692, 0.0009452913654968143], [0.02062765322625637, 0.0020401726942509413], [0.019671224057674408, 0.00302697136066854], [0.018318194895982742, 0.0038510612212121487], [0.01664545200765133, 0.004473159089684486], [0.014743223786354065, 0.004872265737503767], [0.012707045301795006, 0.0050463005900382996], [0.010629953816533089, 0.005010504741221666], [0.008595731109380722, 0.004794050008058548], [0.00667386082932353, 0.004435498733073473], [0.004916519857943058, 0.00397784449160099], [0.003357646055519581, 0.003463851287961006], [0.0020138281397521496, 0.002932221395894885], [0.0008865897543728352, 0.0024149329401552677]], 'name': 'X90p_d8'}, {'samples': [[0.0008553169900551438, 0.000599054095800966], [0.0019088543485850096, 0.0007347727078013122], [0.003163680201396346, 0.000875716854352504], [0.004617955069988966, 0.001014034729450941], [0.006255761254578829, 0.001140106818638742], [0.008045018650591373, 0.0012431812938302755], [0.009936707094311714, 0.0013123053358867764], [0.011865800246596336, 0.00133747688960284], [0.01375411357730627, 0.001310882274992764], [0.015515062026679516, 0.001228050678037107], [0.017059961333870888, 0.0010887382086366415], [0.018305320292711258, 0.0008973806980066001], [0.019180260598659515, 0.0006630023708567023], [0.019633203744888306, 0.0003985506482422352], [0.019636884331703186, 0.0001197190722450614], [0.01919107884168625, -0.00015659400378353894], [0.018322627991437912, -0.00041398085886612535], [0.017082752659916878, -0.0006381373386830091], [0.015542066656053066, -0.0008181721204891801], [0.013783917762339115, -0.0009474471444264054], [0.01189696416258812, -0.0010238661197945476], [0.009967878460884094, -0.0010496132308617234], [0.008075024001300335, -0.0010304360184818506], [0.006283670198172331, -0.0009746168507263064], [0.004643107298761606, -0.0008918112725950778], [0.0031856887508183718, -0.000791920640040189], [0.001927580451592803, -0.0006841411232016981], [0.0008708284003660083, -0.0005762731307186186]], 'name': 'X90p_d9'}, {'samples': [[0.0019581615924835205, 0.0006873651291243732], [0.004352101124823093, 0.0008298216271214187], [0.0072028059512376785, 0.000975282397121191], [0.01050586812198162, 0.0011145935859531164], [0.014224892482161522, 0.0012367513263598084], [0.01828678511083126, 0.0013296767137944698], [0.022580020129680634, 0.0013813178520649672], [0.02695678547024727, 0.0013809812953695655], [0.031239498406648636, 0.0013207360170781612], [0.03523160517215729, 0.0011966899037361145], [0.038731932640075684, 0.0010099264327436686], [0.04155121371150017, 0.0007669219630770385], [0.04352894425392151, 0.0004793235275428742], [0.04454849660396576, 0.00016306870384141803], [0.04454849660396576, -0.00016306870384141803], [0.04352894425392151, -0.0004793235275428742], [0.04155121371150017, -0.0007669219630770385], [0.038731932640075684, -0.0010099264327436686], [0.03523160517215729, -0.0011966899037361145], [0.031239498406648636, -0.0013207360170781612], [0.02695678547024727, -0.0013809812953695655], [0.022580020129680634, -0.0013813178520649672], [0.01828678511083126, -0.0013296767137944698], [0.014224892482161522, -0.0012367513263598084], [0.01050586812198162, -0.0011145935859531164], [0.0072028059512376785, -0.000975282397121191], [0.004352101124823093, -0.0008298216271214187], [0.0019581615924835205, -0.0006873651291243732]], 'name': 'Xp_d0'}, {'samples': [[0.0036690460983663797, 0.000667523592710495], [0.008154617622494698, 0.0008058678940869868], [0.013496040366590023, 0.0009471297962591052], [0.0196850523352623, 0.0010824196506291628], [0.026653463020920753, 0.0012010510545223951], [0.03426431119441986, 0.0012912941165268421], [0.04230862855911255, 0.0013414445566013455], [0.050509460270404816, 0.0013411176623776555], [0.05853406712412834, 0.0012826115125790238], [0.06601415574550629, 0.00116214610170573], [0.07257279008626938, 0.0009807738242670894], [0.07785533368587494, 0.0007447839016094804], [0.08156104385852814, 0.0004654873046092689], [0.0834713950753212, 0.00015836155216675252], [0.0834713950753212, -0.00015836155216675252], [0.08156104385852814, -0.0004654873046092689], [0.07785533368587494, -0.0007447839016094804], [0.07257279008626938, -0.0009807738242670894], [0.06601415574550629, -0.00116214610170573], [0.05853406712412834, -0.0012826115125790238], [0.050509460270404816, -0.0013411176623776555], [0.04230862855911255, -0.0013414445566013455], [0.03426431119441986, -0.0012912941165268421], [0.026653463020920753, -0.0012010510545223951], [0.0196850523352623, -0.0010824196506291628], [0.013496040366590023, -0.0009471297962591052], [0.008154617622494698, -0.0008058678940869868], [0.0036690460983663797, -0.000667523592710495]], 'name': 'Xp_d10'}, {'samples': [[0.002472905907779932, -0.0026785123627632856], [0.005496142897754908, -0.0032336341682821512], [0.009096216410398483, -0.0038004633970558643], [0.013267558068037033, -0.004343328531831503], [0.017964206635951996, -0.004819350317120552], [0.023093853145837784, -0.00518146064132452], [0.028515655547380447, -0.005382694769650698], [0.03404294699430466, -0.005381383467465639], [0.039451465010643005, -0.00514662079513073], [0.04449298232793808, -0.004663240164518356], [0.048913441598415375, -0.003935463726520538], [0.05247383192181587, -0.0029885279946029186], [0.054971449077129364, -0.0018678194610401988], [0.05625900998711586, -0.0006354432553052902], [0.05625900998711586, 0.0006354432553052902], [0.054971449077129364, 0.0018678194610401988], [0.05247383192181587, 0.0029885279946029186], [0.048913441598415375, 0.003935463726520538], [0.04449298232793808, 0.004663240164518356], [0.039451465010643005, 0.00514662079513073], [0.03404294699430466, 0.005381383467465639], [0.028515655547380447, 0.005382694769650698], [0.023093853145837784, 0.00518146064132452], [0.017964206635951996, 0.004819350317120552], [0.013267558068037033, 0.004343328531831503], [0.009096216410398483, 0.0038004633970558643], [0.005496142897754908, 0.0032336341682821512], [0.002472905907779932, 0.0026785123627632856]], 'name': 'Xp_d11'}, {'samples': [[0.0022404957562685013, -7.133510371204466e-05], [0.004979601129889488, -8.611930388724431e-05], [0.008241330273449421, -0.00010121530067408457], [0.012020638212561607, -0.00011567308683879673], [0.016275884583592415, -0.00012835067173000425], [0.02092343382537365, -0.00013799451699014753], [0.025835679844021797, -0.000143353856401518], [0.030843501910567284, -0.0001433189318049699], [0.03574370965361595, -0.0001370666577713564], [0.04031141474843025, -0.00012419308768585324], [0.044316429644823074, -0.00010481067874934524], [0.04754220321774483, -7.95915475464426e-05], [0.049805089831352234, -4.974443800165318e-05], [0.05097164213657379, -1.6923353541642427e-05], [0.05097164213657379, 1.6923353541642427e-05], [0.049805089831352234, 4.974443800165318e-05], [0.04754220321774483, 7.95915475464426e-05], [0.044316429644823074, 0.00010481067874934524], [0.04031141474843025, 0.00012419308768585324], [0.03574370965361595, 0.0001370666577713564], [0.030843501910567284, 0.0001433189318049699], [0.025835679844021797, 0.000143353856401518], [0.02092343382537365, 0.00013799451699014753], [0.016275884583592415, 0.00012835067173000425], [0.012020638212561607, 0.00011567308683879673], [0.008241330273449421, 0.00010121530067408457], [0.004979601129889488, 8.611930388724431e-05], [0.0022404957562685013, 7.133510371204466e-05]], 'name': 'Xp_d12'}, {'samples': [[0.003086705692112446, -0.003536991775035858], [0.006860340479761362, -0.004270033445209265], [0.011353987269103527, -0.005018534604460001], [0.016560697928071022, -0.0057353912852704525], [0.02242310158908367, -0.006363981403410435], [0.028825977817177773, -0.0068421498872339725], [0.03559352457523346, -0.007107880897819996], [0.04249274730682373, -0.007106149103492498], [0.049243707209825516, -0.00679614394903183], [0.05553658306598663, -0.00615783641114831], [0.06105424836277962, -0.0051968032494187355], [0.06549835950136185, -0.003946369048207998], [0.06861591339111328, -0.0024664667434990406], [0.07022305577993393, -0.0008391066803596914], [0.07022305577993393, 0.0008391066803596914], [0.06861591339111328, 0.0024664667434990406], [0.06549835950136185, 0.003946369048207998], [0.06105424836277962, 0.0051968032494187355], [0.05553658306598663, 0.00615783641114831], [0.049243707209825516, 0.00679614394903183], [0.04249274730682373, 0.007106149103492498], [0.03559352457523346, 0.007107880897819996], [0.028825977817177773, 0.0068421498872339725], [0.02242310158908367, 0.006363981403410435], [0.016560697928071022, 0.0057353912852704525], [0.011353987269103527, 0.005018534604460001], [0.006860340479761362, 0.004270033445209265], [0.003086705692112446, 0.003536991775035858]], 'name': 'Xp_d13'}, {'samples': [[0.0021540222223848104, -0.002888923278078437], [0.004787410143762827, -0.0034876528661698103], [0.007923250086605549, -0.004099009558558464], [0.011556693352758884, -0.004684519488364458], [0.015647705644369125, -0.005197935272008181], [0.02011587843298912, -0.0055884914472699165], [0.024838533252477646, -0.00580553337931633], [0.029653076082468033, -0.005804118700325489], [0.03436415642499924, -0.005550914444029331], [0.038755565881729126, -0.005029561463743448], [0.04260600730776787, -0.0042446148581802845], [0.045707277953624725, -0.0032232922967523336], [0.04788282513618469, -0.0020145464222878218], [0.04900435730814934, -0.0006853606319054961], [0.04900435730814934, 0.0006853606319054961], [0.04788282513618469, 0.0020145464222878218], [0.045707277953624725, 0.0032232922967523336], [0.04260600730776787, 0.0042446148581802845], [0.038755565881729126, 0.005029561463743448], [0.03436415642499924, 0.005550914444029331], [0.029653076082468033, 0.005804118700325489], [0.024838533252477646, 0.00580553337931633], [0.02011587843298912, 0.0055884914472699165], [0.015647705644369125, 0.005197935272008181], [0.011556693352758884, 0.004684519488364458], [0.007923250086605549, 0.004099009558558464], [0.004787410143762827, 0.0034876528661698103], [0.0021540222223848104, 0.002888923278078437]], 'name': 'Xp_d14'}, {'samples': [[0.002570897340774536, -0.002646190347149968], [0.005713933613151312, -0.0031946133822202682], [0.009456663392484188, -0.003754602512344718], [0.013793298974633217, -0.004290916956961155], [0.01867605745792389, -0.004761194344609976], [0.024008972570300102, -0.005118934903293848], [0.02964561991393566, -0.005317741073668003], [0.03539193421602249, -0.005316445138305426], [0.041014768183231354, -0.0050845155492424965], [0.046256061643362045, -0.00460696779191494], [0.050851691514253616, -0.003887973725795746], [0.054553162306547165, -0.0029524648562073708], [0.057149749249219894, -0.0018452800577506423], [0.05848833546042442, -0.0006277752690948546], [0.05848833546042442, 0.0006277752690948546], [0.057149749249219894, 0.0018452800577506423], [0.054553162306547165, 0.0029524648562073708], [0.050851691514253616, 0.003887973725795746], [0.046256061643362045, 0.00460696779191494], [0.041014768183231354, 0.0050845155492424965], [0.03539193421602249, 0.005316445138305426], [0.02964561991393566, 0.005317741073668003], [0.024008972570300102, 0.005118934903293848], [0.01867605745792389, 0.004761194344609976], [0.013793298974633217, 0.004290916956961155], [0.009456663392484188, 0.003754602512344718], [0.005713933613151312, 0.0031946133822202682], [0.002570897340774536, 0.002646190347149968]], 'name': 'Xp_d15'}, {'samples': [[0.002283844631165266, 0.0005241766339167953], [0.005075945984572172, 0.0006328122690320015], [0.008400782942771912, 0.0007437390158884227], [0.012253212742507458, 0.0008499760879203677], [0.016590788960456848, 0.0009431320941075683], [0.021328259259462357, 0.0010139959631487727], [0.026335546746850014, 0.0010533769382163882], [0.031440261751413345, 0.0010531202424317598], [0.03643527999520302, 0.0010071778669953346], [0.04109135642647743, 0.000912581745069474], [0.04517386108636856, 0.0007701581926085055], [0.048462044447660446, 0.0005848457803949714], [0.050768714398145676, 0.00036552653182297945], [0.051957838237285614, 0.0001243542938027531], [0.051957838237285614, -0.0001243542938027531], [0.050768714398145676, -0.00036552653182297945], [0.048462044447660446, -0.0005848457803949714], [0.04517386108636856, -0.0007701581926085055], [0.04109135642647743, -0.000912581745069474], [0.03643527999520302, -0.0010071778669953346], [0.031440261751413345, -0.0010531202424317598], [0.026335546746850014, -0.0010533769382163882], [0.021328259259462357, -0.0010139959631487727], [0.016590788960456848, -0.0009431320941075683], [0.012253212742507458, -0.0008499760879203677], [0.008400782942771912, -0.0007437390158884227], [0.005075945984572172, -0.0006328122690320015], [0.002283844631165266, -0.0005241766339167953]], 'name': 'Xp_d16'}, {'samples': [[0.0026450534351170063, 0.0012838065158575773], [0.005878748372197151, 0.0015498754801228642], [0.009729434736073017, 0.0018215557793155313], [0.014191159047186375, 0.0020817501936107874], [0.019214756786823273, 0.0023099067620933056], [0.024701496586203575, 0.002483465475961566], [0.030500728636980057, 0.0025799167342483997], [0.0364127941429615, 0.0025792880915105343], [0.0421978160738945, 0.0024667668621987104], [0.047590289264917374, 0.0022350831422954798], [0.052318476140499115, 0.0018862612778320909], [0.05612671375274658, 0.0014323964715003967], [0.05879820138216019, 0.0008952427306212485], [0.060175396502017975, 0.0003045669000130147], [0.060175396502017975, -0.0003045669000130147], [0.05879820138216019, -0.0008952427306212485], [0.05612671375274658, -0.0014323964715003967], [0.052318476140499115, -0.0018862612778320909], [0.047590289264917374, -0.0022350831422954798], [0.0421978160738945, -0.0024667668621987104], [0.0364127941429615, -0.0025792880915105343], [0.030500728636980057, -0.0025799167342483997], [0.024701496586203575, -0.002483465475961566], [0.019214756786823273, -0.0023099067620933056], [0.014191159047186375, -0.0020817501936107874], [0.009729434736073017, -0.0018215557793155313], [0.005878748372197151, -0.0015498754801228642], [0.0026450534351170063, -0.0012838065158575773]], 'name': 'Xp_d18'}, {'samples': [[0.002466210164129734, -0.0015688022831454873], [0.005481261294335127, -0.0018939366564154625], [0.009071586653590202, -0.002225928008556366], [0.01323163416236639, -0.0025438836310058832], [0.01791556552052498, -0.0028226892463862896], [0.0230313241481781, -0.0030347767751663923], [0.028438445180654526, -0.0031526396051049232], [0.033950772136449814, -0.0031518712639808655], [0.03934464231133461, -0.0030143712647259235], [0.04437251016497612, -0.0027312554884701967], [0.048781003803014755, -0.0023049975279718637], [0.052331749349832535, -0.0017503781709820032], [0.05482260510325432, -0.0010939801577478647], [0.05610668286681175, -0.0003721785615198314], [0.05610668286681175, 0.0003721785615198314], [0.05482260510325432, 0.0010939801577478647], [0.052331749349832535, 0.0017503781709820032], [0.048781003803014755, 0.0023049975279718637], [0.04437251016497612, 0.0027312554884701967], [0.03934464231133461, 0.0030143712647259235], [0.033950772136449814, 0.0031518712639808655], [0.028438445180654526, 0.0031526396051049232], [0.0230313241481781, 0.0030347767751663923], [0.01791556552052498, 0.0028226892463862896], [0.01323163416236639, 0.0025438836310058832], [0.009071586653590202, 0.002225928008556366], [0.005481261294335127, 0.0018939366564154625], [0.002466210164129734, 0.0015688022831454873]], 'name': 'Xp_d19'}, {'samples': [[0.0010513622546568513, -0.0007103501120582223], [0.0023366992827504873, -0.0008575702086091042], [0.0038672795053571463, -0.0010078951017931104], [0.005640736315399408, -0.0011518647661432624], [0.007637528702616692, -0.001278107287362218], [0.009818410500884056, -0.0013741400325670838], [0.012123503722250462, -0.001427508075721562], [0.01447344571352005, -0.001427160226739943], [0.016772890463471413, -0.0013649003813043237], [0.018916305154561996, -0.0012367062736302614], [0.020795674994587898, -0.0010436975862830877], [0.022309383377432823, -0.0007925672689452767], [0.023371251299977303, -0.0004953517345711589], [0.02391866222023964, -0.00016852159751579165], [0.02391866222023964, 0.00016852159751579165], [0.023371251299977303, 0.0004953517345711589], [0.022309383377432823, 0.0007925672689452767], [0.020795674994587898, 0.0010436975862830877], [0.018916305154561996, 0.0012367062736302614], [0.016772890463471413, 0.0013649003813043237], [0.01447344571352005, 0.001427160226739943], [0.012123503722250462, 0.001427508075721562], [0.009818410500884056, 0.0013741400325670838], [0.007637528702616692, 0.001278107287362218], [0.005640736315399408, 0.0011518647661432624], [0.0038672795053571463, 0.0010078951017931104], [0.0023366992827504873, 0.0008575702086091042], [0.0010513622546568513, 0.0007103501120582223]], 'name': 'Xp_d2'}, {'samples': [[0.0023265427444130182, -0.0016227640444412827], [0.005170844495296478, -0.0019590819720178843], [0.008557841181755066, -0.0023024927359074354], [0.012482295744121075, -0.002631385112181306], [0.016900965943932533, -0.0029197807889431715], [0.021727005019783974, -0.0031391633674502373], [0.02682790905237198, -0.0032610802445560694], [0.03202805668115616, -0.0032602855935692787], [0.037116460502147675, -0.003118055872619152], [0.04185958951711655, -0.002825201954692602], [0.04601841792464256, -0.002384281950071454], [0.049368079751729965, -0.0018105854978784919], [0.05171787366271019, -0.0011316095478832722], [0.05292922630906105, -0.00038498028879985213], [0.05292922630906105, 0.00038498028879985213], [0.05171787366271019, 0.0011316095478832722], [0.049368079751729965, 0.0018105854978784919], [0.04601841792464256, 0.002384281950071454], [0.04185958951711655, 0.002825201954692602], [0.037116460502147675, 0.003118055872619152], [0.03202805668115616, 0.0032602855935692787], [0.02682790905237198, 0.0032610802445560694], [0.021727005019783974, 0.0031391633674502373], [0.016900965943932533, 0.0029197807889431715], [0.012482295744121075, 0.002631385112181306], [0.008557841181755066, 0.0023024927359074354], [0.005170844495296478, 0.0019590819720178843], [0.0023265427444130182, 0.0016227640444412827]], 'name': 'Xp_d3'}, {'samples': [[0.002897304017096758, -0.0019539245404303074], [0.0064393868669867516, -0.002358875470235944], [0.010657302103936672, -0.002772366628050804], [0.015544526278972626, -0.0031683766283094883], [0.021047210320830345, -0.0035156256053596735], [0.027057204395532608, -0.0037797782570123672], [0.033409491181373596, -0.003926574718207121], [0.039885371923446655, -0.003925618249922991], [0.04622209444642067, -0.003754363162443042], [0.052128832787275314, -0.003401746042072773], [0.057307932525873184, -0.0028708467725664377], [0.0614793486893177, -0.002180075040087104], [0.06440560519695282, -0.001362539129331708], [0.06591413915157318, -0.00046354392543435097], [0.06591413915157318, 0.00046354392543435097], [0.06440560519695282, 0.001362539129331708], [0.0614793486893177, 0.002180075040087104], [0.057307932525873184, 0.0028708467725664377], [0.052128832787275314, 0.003401746042072773], [0.04622209444642067, 0.003754363162443042], [0.039885371923446655, 0.003925618249922991], [0.033409491181373596, 0.003926574718207121], [0.027057204395532608, 0.0037797782570123672], [0.021047210320830345, 0.0035156256053596735], [0.015544526278972626, 0.0031683766283094883], [0.010657302103936672, 0.002772366628050804], [0.0064393868669867516, 0.002358875470235944], [0.002897304017096758, 0.0019539245404303074]], 'name': 'Xp_d4'}, {'samples': [[0.0019043617649003863, -0.001960247289389372], [0.004232528619468212, -0.002366508822888136], [0.007004911545664072, -0.002781338058412075], [0.010217223316431046, -0.00317862955853343], [0.013834068551659584, -0.0035270024091005325], [0.0177843626588583, -0.0037920097820460796], [0.021959641948342323, -0.003939281217753887], [0.026216156780719757, -0.003938321489840746], [0.030381204560399055, -0.0037665124982595444], [0.03426362946629524, -0.0034127540420740843], [0.037667788565158844, -0.0028801369480788708], [0.04040960967540741, -0.002187129808589816], [0.04233299940824509, -0.0013669483596459031], [0.0433245413005352, -0.0004650439659599215], [0.0433245413005352, 0.0004650439659599215], [0.04233299940824509, 0.0013669483596459031], [0.04040960967540741, 0.002187129808589816], [0.037667788565158844, 0.0028801369480788708], [0.03426362946629524, 0.0034127540420740843], [0.030381204560399055, 0.0037665124982595444], [0.026216156780719757, 0.003938321489840746], [0.021959641948342323, 0.003939281217753887], [0.0177843626588583, 0.0037920097820460796], [0.013834068551659584, 0.0035270024091005325], [0.010217223316431046, 0.00317862955853343], [0.007004911545664072, 0.002781338058412075], [0.004232528619468212, 0.002366508822888136], [0.0019043617649003863, 0.001960247289389372]], 'name': 'Xp_d5'}, {'samples': [[0.002532592508941889, -0.00571709917858243], [0.0056287990882992744, -0.006901968270540237], [0.009315764531493187, -0.00811182614415884], [0.013587786816060543, -0.009270533919334412], [0.018397795036435127, -0.010286569595336914], [0.023651251569390297, -0.011059469543397427], [0.02920391596853733, -0.011488989926874638], [0.03486461564898491, -0.011486190371215343], [0.04040367156267166, -0.010985106229782104], [0.045566871762275696, -0.009953362867236137], [0.05009402707219124, -0.008399974554777145], [0.05374034866690636, -0.006378806196153164], [0.05629825219511986, -0.003986731171607971], [0.05761688947677612, -0.0013563096290454268], [0.05761688947677612, 0.0013563096290454268], [0.05629825219511986, 0.003986731171607971], [0.05374034866690636, 0.006378806196153164], [0.05009402707219124, 0.008399974554777145], [0.045566871762275696, 0.009953362867236137], [0.04040367156267166, 0.010985106229782104], [0.03486461564898491, 0.011486190371215343], [0.02920391596853733, 0.011488989926874638], [0.023651251569390297, 0.011059469543397427], [0.018397795036435127, 0.010286569595336914], [0.013587786816060543, 0.009270533919334412], [0.009315764531493187, 0.00811182614415884], [0.0056287990882992744, 0.006901968270540237], [0.002532592508941889, 0.00571709917858243]], 'name': 'Xp_d7'}, {'samples': [[0.0018461075378581882, 0.0005983219016343355], [0.004103056155145168, 0.0007223241846077144], [0.006790631916373968, 0.0008489415631629527], [0.009904679842293262, 0.0009702059905976057], [0.013410885818302631, 0.001076539047062397], [0.017240339890122414, 0.001157426624558866], [0.02128789760172367, 0.0012023780727759004], [0.025414207950234413, 0.001202085055410862], [0.029451847076416016, 0.0011496441438794136], [0.03321550786495209, 0.001041667303070426], [0.03651553392410278, 0.0008790977299213409], [0.03917348384857178, 0.000667572719976306], [0.041038040071725845, 0.00041723059257492423], [0.041999246925115585, 0.00014194432878866792], [0.041999246925115585, -0.00014194432878866792], [0.041038040071725845, -0.00041723059257492423], [0.03917348384857178, -0.000667572719976306], [0.03651553392410278, -0.0008790977299213409], [0.03321550786495209, -0.001041667303070426], [0.029451847076416016, -0.0011496441438794136], [0.025414207950234413, -0.001202085055410862], [0.02128789760172367, -0.0012023780727759004], [0.017240339890122414, -0.001157426624558866], [0.013410885818302631, -0.001076539047062397], [0.009904679842293262, -0.0009702059905976057], [0.006790631916373968, -0.0008489415631629527], [0.004103056155145168, -0.0007223241846077144], [0.0018461075378581882, -0.0005983219016343355]], 'name': 'Xp_d8'}, {'samples': [[0.001689952565357089, 0.0016515827737748623], [0.0037559946067631245, 0.0019938733894377947], [0.006216239184141159, 0.0023433826863765717], [0.009066881611943245, 0.002678115852177143], [0.012276512570679188, 0.002971633104607463], [0.01578204706311226, 0.0031949118711054325], [0.01948723942041397, 0.003318993840366602], [0.02326451987028122, 0.0033181849867105484], [0.02696063183248043, 0.0031734295189380646], [0.030405940487980843, 0.0028753746300935745], [0.03342682868242264, 0.0024266245309263468], [0.03585995361208916, 0.0018427397590130568], [0.03756679221987724, 0.0011517058592289686], [0.03844669833779335, 0.0003918171569239348], [0.03844669833779335, -0.0003918171569239348], [0.03756679221987724, -0.0011517058592289686], [0.03585995361208916, -0.0018427397590130568], [0.03342682868242264, -0.0024266245309263468], [0.030405940487980843, -0.0028753746300935745], [0.02696063183248043, -0.0031734295189380646], [0.02326451987028122, -0.0033181849867105484], [0.01948723942041397, -0.003318993840366602], [0.01578204706311226, -0.0031949118711054325], [0.012276512570679188, -0.002971633104607463], [0.009066881611943245, -0.002678115852177143], [0.006216239184141159, -0.0023433826863765717], [0.0037559946067631245, -0.0019938733894377947], [0.001689952565357089, -0.0016515827737748623]], 'name': 'Xp_d9'}, {'samples': [[-0.0010708471527323127, -0.0010166364954784513], [-0.0012623798102140427, -0.0022254802752286196], [-0.001451739459298551, -0.003663793206214905], [-0.0016243333229795098, -0.005328916013240814], [-0.0017630961956456304, -0.007202038075774908], [-0.0018498020945116878, -0.009245874360203743], [-0.0018668548436835408, -0.011403844691812992], [-0.001799390185624361, -0.013601216487586498], [-0.001637422596104443, -0.01574844680726528], [-0.001377723179757595, -0.017746664583683014], [-0.0010251046624034643, -0.01949491910636425], [-0.0005928319878876209, -0.02089850977063179], [-0.00010201206896454096, -0.021877415478229523], [0.00042004825081676245, -0.02237386256456375], [0.0009423451265320182, -0.02235795557498932], [0.0014332253485918045, -0.02183065563440323], [0.0018635618034750223, -0.02082369476556778], [0.002209614496678114, -0.019396400079131126], [0.002455185167491436, -0.017629925161600113], [0.002592796925455332, -0.015619607642292976], [0.0026237894780933857, -0.01346650067716837], [0.0025574027094990015, -0.011269095353782177], [0.0024090532679110765, -0.009116163477301598], [0.0021981254685670137, -0.007081391755491495], [0.0019456265727058053, -0.005220185965299606], [0.0016720175044611096, -0.003568653017282486], [0.00139547698199749, -0.0021445301827043295], [0.0011307321256026626, -0.000949583132751286]], 'name': 'Y90m_d0'}, {'samples': [[0.0024703277740627527, -0.0017796576721593738], [0.003035259433090687, -0.004024666268378496], [0.0036229270044714212, -0.006700425408780575], [0.004201008938252926, -0.009803682565689087], [0.004729824606329203, -0.013301187194883823], [0.0051649329252541065, -0.01712515577673912], [0.005460964050143957, -0.02117154188454151], [0.00557636097073555, -0.025301918387413025], [0.005478492937982082, -0.029349487274885178], [0.0051484303548932076, -0.03312914818525314], [0.004584627691656351, -0.036450937390327454], [0.003804826643317938, -0.03913561999797821], [0.0028457269072532654, -0.04103055223822594], [0.0017602909356355667, -0.04202410578727722], [0.000612930569332093, -0.04205649346113205], [-0.000526819727383554, -0.041125740855932236], [-0.00159127835649997, -0.03928792476654053], [-0.0025212704204022884, -0.03665150701999664], [-0.00327154528349638, -0.03336680680513382], [-0.003814278170466423, -0.029611781239509583], [-0.004140298813581467, -0.02557617798447609], [-0.004258064087480307, -0.02144586853682995], [-0.004190745297819376, -0.01738922670483589], [-0.0039720251224935055, -0.013546801172196865], [-0.0036413324996829033, -0.010025037452578545], [-0.0032392137218266726, -0.0068941134959459305], [-0.002803410869091749, -0.004189465660601854], [-0.0023660112638026476, -0.0019161660457029939]], 'name': 'Y90m_d10'}, {'samples': [[-0.0015491722151637077, -0.0012943174224346876], [-0.0018325948622077703, -0.0028287998866289854], [-0.0021143024787306786, -0.004654404241591692], [-0.002373252995312214, -0.006767695304006338], [-0.00258474238216877, -0.009144735522568226], [-0.00272227986715734, -0.011738146655261517], [-0.0027601642068475485, -0.014476067386567593], [-0.0026765167713165283, -0.01726362481713295], [-0.0024563975166529417, -0.019987167790532112], [-0.0020945463329553604, -0.0225212462246418], [-0.0015972721157595515, -0.024737805128097534], [-0.0009831038769334555, -0.026516741141676903], [-0.0002819594810716808, -0.02775663696229458], [0.0004671734932344407, -0.028384294360876083], [0.0012198083568364382, -0.02836192026734352], [0.0019303325098007917, -0.027690866962075233], [0.0025565833784639835, -0.02641151286661625], [0.0030639898031949997, -0.024599231779575348], [0.003428712021559477, -0.022357046604156494], [0.003639388596639037, -0.019805947318673134], [0.003697328269481659, -0.017074137926101685], [0.0036152342800050974, -0.014286535792052746], [0.0034147717524319887, -0.011555700562894344], [0.0031234165653586388, -0.008975041098892689], [0.002771093975752592, -0.006614760961383581], [0.0023870612494647503, -0.004520585294812918], [0.0019974021706730127, -0.002714939648285508], [0.001623324817046523, -0.00120000378228724]], 'name': 'Y90m_d11'}, {'samples': [[0.003221743507310748, -0.000990494852885604], [0.003939418122172356, -0.0023418543860316277], [0.004682440310716629, -0.003955918829888105], [0.005408447235822678, -0.005831990856677294], [0.00606573699042201, -0.007951301522552967], [0.006596723571419716, -0.010274148546159267], [0.006942977197468281, -0.012738662771880627], [0.007051427382975817, -0.015261789783835411], [0.006881005596369505, -0.017742754891514778], [0.006408807821571827, -0.02006903663277626], [0.005634778644889593, -0.022124439477920532], [0.004584051668643951, -0.023798560723662376], [0.003306350903585553, -0.024996530264616013], [0.0018723045941442251, -0.025647908449172974], [0.00036702019860967994, -0.025713536888360977], [-0.001118276035413146, -0.025189440697431564], [-0.002495391760021448, -0.02410721965134144], [-0.0036878357641398907, -0.022530898451805115], [-0.004637815989553928, -0.02055066078901291], [-0.0053106858395040035, -0.018274305388331413], [-0.005696387495845556, -0.015817586332559586], [-0.005807944573462009, -0.013294595293700695], [-0.005677499808371067, -0.010809295810759068], [-0.005350692663341761, -0.008449050597846508], [-0.004880347289144993, -0.006280575413256884], [-0.004320375621318817, -0.004348435904830694], [-0.0037206506822258234, -0.0026758280582726], [-0.0031233124900609255, -0.0012671351432800293]], 'name': 'Y90m_d12'}, {'samples': [[-0.004222638439387083, -0.0015808803727850318], [-0.005084645934402943, -0.00347757781855762], [-0.005962148308753967, -0.0057349191047251225], [-0.006798767484724522, -0.008348953910171986], [-0.007526938337832689, -0.011290390975773335], [-0.008072714321315289, -0.014500917866826057], [-0.008362564258277416, -0.0178918968886137], [-0.008331574499607086, -0.021346116438508034], [-0.007932046428322792, -0.02472301945090294], [-0.007141293492168188, -0.027867281809449196], [-0.005967324133962393, -0.030620180070400238], [-0.004451292101293802, -0.03283267840743065], [-0.00266603147611022, -0.034378714859485626], [-0.000710519147105515, -0.03516705334186554], [0.001299154362641275, -0.035150229930877686], [0.0032411948777735233, -0.03432926535606384], [0.00500032352283597, -0.032753560692071915], [0.006479102652519941, -0.030515991151332855], [0.007606821600347757, -0.02774382196366787], [0.008344825357198715, -0.024586763232946396], [0.008687764406204224, -0.021203646436333656], [0.008660922758281231, -0.01774938963353634], [0.008314344100654125, -0.014363739639520645], [0.0077148969285190105, -0.011162799783051014], [0.006937584839761257, -0.008233965374529362], [0.006057321093976498, -0.005634302739053965], [0.00514215137809515, -0.0033919678535312414], [0.00424851244315505, -0.0015099671436473727]], 'name': 'Y90m_d13'}, {'samples': [[-0.005303758662194014, -0.0011907288571819663], [-0.006383011117577553, -0.002549469470977783], [-0.00748094730079174, -0.0041640992276370525], [-0.008526716381311417, -0.006030880846083164], [-0.00943546462804079, -0.008127928711473942], [-0.010114376433193684, -0.010412681847810745], [-0.010471235029399395, -0.012821090407669544], [-0.010424705222249031, -0.015268995426595211], [-0.009915146976709366, -0.01765597052872181], [-0.008914387784898281, -0.01987154223024845], [-0.0074328407645225525, -0.021803343668580055], [-0.00552256079390645, -0.023346416652202606], [-0.003275360679253936, -0.02441260777413845], [-0.000815842708107084, -0.024938901886343956], [0.0017099808901548386, -0.02489358000457287], [0.0041490355506539345, -0.024279391393065453], [0.006356540601700544, -0.02313327044248581], [0.008210234344005585, -0.021522661671042442], [0.00962152611464262, -0.01953895576298237], [0.010542158037424088, -0.01728890649974346], [0.010965758934617043, -0.014885188080370426], [0.010924440808594227, -0.012437189929187298], [0.010481412522494793, -0.010043134912848473], [0.00972097460180521, -0.007784207351505756], [0.008737580850720406, -0.0057211099192500114], [0.0076255155727267265, -0.0038930459413677454], [0.006470362655818462, -0.002318842802196741], [0.005343061406165361, -0.0009996943408623338]], 'name': 'Y90m_d14'}, {'samples': [[-0.00291105592623353, -0.0013931550784036517], [-0.0034696352668106556, -0.0029940560925751925], [-0.0040308525785803795, -0.004896867088973522], [-0.004555452149361372, -0.007097335532307625], [-0.004996946547180414, -0.00956982932984829], [-0.005305048543959856, -0.012264332734048367], [-0.005430456716567278, -0.015105473808944225], [-0.005330522544682026, -0.017994126304984093], [-0.0049751452170312405, -0.02081192284822464], [-0.0043520149774849415, -0.02342856675386429], [-0.003470316296443343, -0.025711435824632645], [-0.00236215116456151, -0.02753656730055809], [-0.0010812050895765424, -0.02879972942173481], [0.00030137947760522366, -0.02942628785967827], [0.001703508896753192, -0.029378484934568405], [0.0030402089469134808, -0.028659215196967125], [0.004232148174196482, -0.027311742305755615], [0.005213432479649782, -0.025415372103452682], [0.005937600042670965, -0.02307775244116783], [0.006381066981703043, -0.020424745976924896], [0.006543702445924282, -0.01758928783237934], [0.00644666189327836, -0.014700534753501415], [0.0061280387453734875, -0.011874533258378506], [0.0056371320970356464, -0.009207271039485931], [0.0050282650627195835, -0.006770588457584381], [0.004355012439191341, -0.004610959440469742], [0.0036654998548328876, -0.002750790910795331], [0.0029991823248565197, -0.0011916515650227666]], 'name': 'Y90m_d15'}, {'samples': [[-0.0010330817895010114, -0.0011766013922169805], [-0.001220894162543118, -0.002590895164757967], [-0.001407294301316142, -0.004274200648069382], [-0.001578237395733595, -0.0062236059457063675], [-0.0017172517254948616, -0.008417303673923016], [-0.001806695363484323, -0.010811842046678066], [-0.0018294753972440958, -0.013341149315237999], [-0.0017710716929286718, -0.015917832031846046], [-0.0016216146759688854, -0.01843707449734211], [-0.0013777068816125393, -0.020783018320798874], [-0.0010436787270009518, -0.02283727377653122], [-0.000632010807748884, -0.024488631635904312], [-0.00016276969108730555, -0.025643011555075645], [0.0003379479458089918, -0.026232296600937843], [0.0008404069812968373, -0.026221008971333504], [0.0013141564559191465, -0.025609834119677544], [0.0017310844268649817, -0.02443554624915123], [0.0020681796595454216, -0.022767364978790283], [0.0023096203804016113, -0.020700182765722275], [0.002447932492941618, -0.018345652148127556], [0.002484107157215476, -0.015822241082787514], [0.0024267409462481737, -0.013245534151792526], [0.0022904002107679844, -0.010719801299273968], [0.002093515358865261, -0.008331694640219212], [0.0018561286851763725, -0.006146453320980072], [0.0015978161245584488, -0.004206690937280655], [0.0013360119191929698, -0.0025334549136459827], [0.0010848772944882512, -0.0011290217516943812]], 'name': 'Y90m_d16'}, {'samples': [[-0.0011885124258697033, -0.0013675391674041748], [-0.0013934052549302578, -0.003001121338456869], [-0.0015941536985337734, -0.004945064894855022], [-0.0017744777724146843, -0.00719587504863739], [-0.001915456261485815, -0.00972823053598404], [-0.001997010549530387, -0.012491829693317413], [-0.0019999092910438776, -0.015410271473228931], [-0.001908108126372099, -0.018382588401436806], [-0.0017111236229538918, -0.021287746727466583], [-0.0014060898683965206, -0.02399204857647419], [-0.0009991370607167482, -0.02635893039405346], [-0.0005057912785559893, -0.028260216116905212], [4.977290518581867e-05, -0.02958754450082779], [0.0006366218440234661, -0.03026258386671543], [0.001219900674186647, -0.03024468757212162], [0.0017642605816945434, -0.02953493967652321], [0.002237404463812709, -0.028176046907901764], [0.002613259246572852, -0.026248091831803322], [0.002874338533729315, -0.023860713467001915], [0.0030130045488476753, -0.02114279940724373], [0.003031510394066572, -0.01823102869093418], [0.0029409134294837713, -0.015258674509823322], [0.0027590973768383265, -0.012345898896455765], [0.002508267294615507, -0.00959249958395958], [0.0022123013623058796, -0.00707355048507452], [0.0018943247850984335, -0.00483802892267704], [0.0015747756697237492, -0.002910049632191658], [0.001270117238163948, -0.001292102038860321]], 'name': 'Y90m_d18'}, {'samples': [[-0.0030035499949008226, -0.001315524335950613], [-0.0035948229487985373, -0.0028474517166614532], [-0.004192186985164881, -0.004669026471674442], [-0.004755301866680384, -0.006776455324143171], [-0.005236164201050997, -0.009145481511950493], [-0.005582601763308048, -0.011728483252227306], [-0.005743161775171757, -0.014453503303229809], [-0.005672961473464966, -0.01722574420273304], [-0.0053397780284285545, -0.0199318565428257], [-0.004729514941573143, -0.02244691736996174], [-0.0038501154631376266, -0.02464361861348152], [-0.0027331376913934946, -0.026402782648801804], [-0.001432518009096384, -0.02762402594089508], [-2.0441191736608744e-05, -0.028235213831067085], [0.001419254345819354, -0.02819952927529812], [0.002799317240715027, -0.02751913294196129], [0.004037836566567421, -0.026234954595565796], [0.005066289566457272, -0.02442261204123497], [0.005835779942572117, -0.02218504063785076], [0.006320691667497158, -0.019642837345600128], [0.0065193986520171165, -0.016923541203141212], [0.006452169269323349, -0.014151225797832012], [0.006156803108751774, -0.011437506414949894], [0.005682822782546282, -0.008874839171767235], [0.005085183773189783, -0.006532545667141676], [0.004418353084474802, -0.00445560272783041], [0.0037314777728170156, -0.002665859181433916], [0.0030650359112769365, -0.0011651059612631798]], 'name': 'Y90m_d19'}, {'samples': [[-1.7782109352992848e-05, -0.0005328026018105447], [9.104533091885969e-06, -0.0011814151657745242], [4.2805695557035506e-05, -0.0019536877516657114], [8.389145659748465e-05, -0.0028483914211392403], [0.00013256882084533572, -0.003855629125609994], [0.0001885554229374975, -0.004955566953867674], [0.0002509760670363903, -0.006117966957390308], [0.00031830277293920517, -0.007302772719413042], [0.0003883575554937124, -0.00846188236027956], [0.0004583889967761934, -0.0095420703291893], [0.0005252279806882143, -0.010488882660865784], [0.0005855131312273443, -0.011251111514866352], [0.0006359645049087703, -0.011785352602601051], [0.0006736782379448414, -0.012060096487402916], [0.0006964025087654591, -0.012058805674314499], [0.0007027601241134107, -0.011781558394432068], [0.0006923868204466999, -0.011245041154325008], [0.0006659653736278415, -0.010480888187885284], [0.0006251525483094156, -0.009532596915960312], [0.0005724075017496943, -0.008451427333056927], [0.0005107481265440583, -0.007291840855032206], [0.0004434682778082788, -0.006107032299041748], [0.0003738512459676713, -0.00494504114612937], [0.0003049151273444295, -0.003845839062705636], [0.0002392145834164694, -0.0028395680710673332], [0.00017871525778900832, -0.0019459674367681146], [0.00012474352843128145, -0.0011748463148251176], [7.800500316079706e-05, -0.0005273613496683538]], 'name': 'Y90m_d2'}, {'samples': [[-0.0006414934759959579, -0.001213398645631969], [-0.0007005198858678341, -0.0026516588404774666], [-0.0007456847233697772, -0.004362775012850761], [-0.0007676387904211879, -0.006343523971736431], [-0.0007563008111901581, -0.008571467362344265], [-0.0007018363103270531, -0.011002189479768276], [-0.0005958672845736146, -0.013568337075412273], [-0.0004327779170125723, -0.016180982813239098], [-0.00021092896349728107, -0.018733609467744827], [6.641563959419727e-05, -0.021108631044626236], [0.00039064965676516294, -0.023186028003692627], [0.0007480059284716845, -0.024853238835930824], [0.001120412489399314, -0.026015209034085274], [0.0014869710430502892, -0.026603350415825844], [0.0018258898053318262, -0.02658223919570446], [0.0021166291553527117, -0.025953156873583794], [0.0023419614881277084, -0.024753952398896217], [0.002489660866558552, -0.02305528149008751], [0.002553592436015606, -0.0209537073969841], [0.002534062834456563, -0.018562626093626022], [0.0024374264758080244, -0.016002202406525612], [0.00227503664791584, -0.013389511965215206], [0.00206173793412745, -0.010830049403011799], [0.0018141388427466154, -0.00841135811060667], [0.0015489106299355626, -0.006199229508638382], [0.001281323260627687, -0.004236515611410141], [0.0010241650743409991, -0.002544230315834284], [0.0007871127454563975, -0.0011244126362726092]], 'name': 'Y90m_d3'}, {'samples': [[0.0021714363247156143, -0.0013899292098358274], [0.002673956099897623, -0.003165140515193343], [0.0031978001352399588, -0.005281694699078798], [0.003714622464030981, -0.007737291045486927], [0.0041895280592143536, -0.010505903512239456], [0.004583337344229221, -0.013534169644117355], [0.004855940118432045, -0.0167399775236845], [0.004970455076545477, -0.020013926550745964], [0.004897738806903362, -0.02322404272854328], [0.004620595835149288, -0.02622372657060623], [0.004137057811021805, -0.028862373903393745], [0.0034620994701981544, -0.030997704714536667], [0.002627401379868388, -0.03250839188694954], [0.0016790337394922972, -0.03330545872449875], [0.0006732716574333608, -0.03334096074104309], [-0.00032893172465264797, -0.03261273726820946], [-0.0012680604122579098, -0.031164657324552536], [-0.002091885544359684, -0.029082225635647774], [-0.0027602522168308496, -0.026484236121177673], [-0.0032481916714459658, -0.023511556908488274], [-0.0035470493603497744, -0.020314553752541542], [-0.003663641633465886, -0.01704067923128605], [-0.003617735579609871, -0.013823628425598145], [-0.0034384073223918676, -0.010775133967399597], [-0.003159878309816122, -0.007979928515851498], [-0.002817468484863639, -0.005494005512446165], [-0.002444150857627392, -0.003345785429701209], [-0.0020680390298366547, -0.0015395627124235034]], 'name': 'Y90m_d4'}, {'samples': [[-0.003177501494064927, -0.001049053855240345], [-0.0038084641564637423, -0.002239347668364644], [-0.004447098355740309, -0.0036535554099828005], [-0.00505078723654151, -0.005288310348987579], [-0.005568732973188162, -0.007124349474906921], [-0.005945635959506035, -0.009124306961894035], [-0.006126852240413427, -0.011232014745473862], [-0.006064577493816614, -0.013373730704188347], [-0.005724298767745495, -0.015461505390703678], [-0.005090595223009586, -0.017398642376065254], [-0.004171309992671013, -0.019086839631199837], [-0.0029992617201060057, -0.020434334874153137], [-0.0016309774946421385, -0.021364128217101097], [-0.00014238059520721436, -0.02182125300168991], [0.0013781504239887, -0.021778155118227005], [0.002838465152308345, -0.0212374459952116], [0.004151887260377407, -0.020231645554304123], [0.005245729349553585, -0.01881992630660534], [0.006067915819585323, -0.017082368955016136], [0.006590878590941429, -0.015112447552382946], [0.006812355015426874, -0.013008750975131989], [0.006753218825906515, -0.01086694560945034], [0.006452908739447594, -0.00877288542687893], [0.005963329691439867, -0.006797487847507], [0.005342218559235334, -0.004993733949959278], [0.004646903369575739, -0.0033957974519580603], [0.003929190803319216, -0.002020033774897456], [0.003231820883229375, -0.0008673897827975452]], 'name': 'Y90m_d5'}, {'samples': [[-0.0068843853659927845, -0.0014904991257935762], [-0.008270403370261192, -0.0030907236505299807], [-0.00967731885612011, -0.004988582339137793], [-0.011013006791472435, -0.0071783000603318214], [-0.012167359702289104, -0.009632737375795841], [-0.013020194135606289, -0.012300577946007252], [-0.013452384620904922, -0.01510554738342762], [-0.013359235599637032, -0.017948240041732788], [-0.0126644941046834, -0.020710786804556847], [-0.0113329803571105, -0.023264285176992416], [-0.0093797342851758, -0.025478417053818703], [-0.006873880047351122, -0.027232302352786064], [-0.003936043940484524, -0.02842540293931961], [-0.0007291720248758793, -0.02898702770471573], [0.0025563486851751804, -0.02888329327106476], [0.005721403285861015, -0.028120480477809906], [0.008578121662139893, -0.026744427159428596], [0.010968341492116451, -0.02483595348894596], [0.012778020463883877, -0.022503014653921127], [0.01394579652696848, -0.01987060345709324], [0.014464879408478737, -0.017069730907678604], [0.014378514140844345, -0.014226824045181274], [0.013770234771072865, -0.011454706080257893], [0.012750799767673016, -0.008845980279147625], [0.011443909257650375, -0.006469253450632095], [0.009972745552659035, -0.004368158522993326], [0.008448906242847443, -0.002562834182754159], [0.0069646998308598995, -0.001053233165293932]], 'name': 'Y90m_d7'}, {'samples': [[-0.0023818514309823513, -0.0009719699155539274], [-0.002858696738258004, -0.0021169031970202923], [-0.003342166543006897, -0.003478789236396551], [-0.003800357226282358, -0.005054967477917671], [-0.004195182118564844, -0.006827482488006353], [-0.0044851116836071014, -0.00876089558005333], [-0.004629035945981741, -0.010801533237099648], [-0.004590890370309353, -0.012878581881523132], [-0.004344502929598093, -0.01490727812051773], [-0.0038779533933848143, -0.016794098541140556], [-0.0031967204995453358, -0.01844364032149315], [-0.0023250014055520296, -0.019766487181186676], [-0.0013047910761088133, -0.02068719081580639], [-0.00019268528558313847, -0.02115139551460743], [0.0009452913654968143, -0.021131141111254692], [0.0020401726942509413, -0.02062765322625637], [0.00302697136066854, -0.019671224057674408], [0.0038510612212121487, -0.018318194895982742], [0.004473159089684486, -0.01664545200765133], [0.004872265737503767, -0.014743223786354065], [0.0050463005900382996, -0.012707045301795006], [0.005010504741221666, -0.010629953816533089], [0.004794050008058548, -0.008595731109380722], [0.004435498733073473, -0.00667386082932353], [0.00397784449160099, -0.004916519857943058], [0.003463851287961006, -0.003357646055519581], [0.002932221395894885, -0.0020138281397521496], [0.0024149329401552677, -0.0008865897543728352]], 'name': 'Y90m_d8'}, {'samples': [[0.000599054095800966, -0.0008553169900551438], [0.0007347727078013122, -0.0019088543485850096], [0.000875716854352504, -0.003163680201396346], [0.001014034729450941, -0.004617955069988966], [0.001140106818638742, -0.006255761254578829], [0.0012431812938302755, -0.008045018650591373], [0.0013123053358867764, -0.009936707094311714], [0.00133747688960284, -0.011865800246596336], [0.001310882274992764, -0.01375411357730627], [0.001228050678037107, -0.015515062026679516], [0.0010887382086366415, -0.017059961333870888], [0.0008973806980066001, -0.018305320292711258], [0.0006630023708567023, -0.019180260598659515], [0.0003985506482422352, -0.019633203744888306], [0.0001197190722450614, -0.019636884331703186], [-0.00015659400378353894, -0.01919107884168625], [-0.00041398085886612535, -0.018322627991437912], [-0.0006381373386830091, -0.017082752659916878], [-0.0008181721204891801, -0.015542066656053066], [-0.0009474471444264054, -0.013783917762339115], [-0.0010238661197945476, -0.01189696416258812], [-0.0010496132308617234, -0.009967878460884094], [-0.0010304360184818506, -0.008075024001300335], [-0.0009746168507263064, -0.006283670198172331], [-0.0008918112725950778, -0.004643107298761606], [-0.000791920640040189, -0.0031856887508183718], [-0.0006841411232016981, -0.001927580451592803], [-0.0005762731307186186, -0.0008708284003660083]], 'name': 'Y90m_d9'}, {'samples': [[0.0010708471527323127, 0.0010166364954784513], [0.0012623798102140427, 0.0022254802752286196], [0.001451739459298551, 0.003663793206214905], [0.0016243333229795098, 0.005328916013240814], [0.0017630961956456304, 0.007202038075774908], [0.0018498020945116878, 0.009245874360203743], [0.0018668548436835408, 0.011403844691812992], [0.001799390185624361, 0.013601216487586498], [0.001637422596104443, 0.01574844680726528], [0.001377723179757595, 0.017746664583683014], [0.0010251046624034643, 0.01949491910636425], [0.0005928319878876209, 0.02089850977063179], [0.00010201206896454096, 0.021877415478229523], [-0.00042004825081676245, 0.02237386256456375], [-0.0009423451265320182, 0.02235795557498932], [-0.0014332253485918045, 0.02183065563440323], [-0.0018635618034750223, 0.02082369476556778], [-0.002209614496678114, 0.019396400079131126], [-0.002455185167491436, 0.017629925161600113], [-0.002592796925455332, 0.015619607642292976], [-0.0026237894780933857, 0.01346650067716837], [-0.0025574027094990015, 0.011269095353782177], [-0.0024090532679110765, 0.009116163477301598], [-0.0021981254685670137, 0.007081391755491495], [-0.0019456265727058053, 0.005220185965299606], [-0.0016720175044611096, 0.003568653017282486], [-0.00139547698199749, 0.0021445301827043295], [-0.0011307321256026626, 0.000949583132751286]], 'name': 'Y90p_d0'}, {'samples': [[0.003188465489074588, 0.001367609016597271], [0.003810269758105278, 0.002940464997664094], [0.0044372170232236385, 0.004809989593923092], [0.005026419181376696, 0.00697202468290925], [0.00552693335339427, 0.00940140150487423], [0.005883486475795507, 0.012048999778926373], [0.0060416897758841515, 0.014840776100754738], [0.005954240448772907, 0.01767934486269951], [0.005587392020970583, 0.020448407158255577], [0.004926726687699556, 0.023019934073090553], [0.003981279209256172, 0.025263601914048195], [0.0027851660270243883, 0.027057578787207603], [0.0013962136581540108, 0.028299424797296524], [-0.00010846910299733281, 0.028915757313370705], [-0.0016395437996834517, 0.028869440779089928], [-0.003104221075773239, 0.028163284063339233], [-0.004415570292621851, 0.02683975361287594], [-0.00550105981528759, 0.024976758286356926], [-0.006309159565716982, 0.022680046036839485], [-0.006813181098550558, 0.020073289051651955], [-0.00701198261231184, 0.017287112772464752], [-0.006927694194018841, 0.01444844901561737], [-0.0066010314039886, 0.011671341024339199], [-0.006085095461457968, 0.009050136432051659], [-0.005438653286546469, 0.00665545416995883], [-0.004719843622297049, 0.004532987251877785], [-0.003981039393693209, 0.0027047765906900167], [-0.0032653005328029394, 0.001172381453216076]], 'name': 'Y90p_d1'}, {'samples': [[-0.0024703277740627527, 0.0017796576721593738], [-0.003035259433090687, 0.004024666268378496], [-0.0036229270044714212, 0.006700425408780575], [-0.004201008938252926, 0.009803682565689087], [-0.004729824606329203, 0.013301187194883823], [-0.0051649329252541065, 0.01712515577673912], [-0.005460964050143957, 0.02117154188454151], [-0.00557636097073555, 0.025301918387413025], [-0.005478492937982082, 0.029349487274885178], [-0.0051484303548932076, 0.03312914818525314], [-0.004584627691656351, 0.036450937390327454], [-0.003804826643317938, 0.03913561999797821], [-0.0028457269072532654, 0.04103055223822594], [-0.0017602909356355667, 0.04202410578727722], [-0.000612930569332093, 0.04205649346113205], [0.000526819727383554, 0.041125740855932236], [0.00159127835649997, 0.03928792476654053], [0.0025212704204022884, 0.03665150701999664], [0.00327154528349638, 0.03336680680513382], [0.003814278170466423, 0.029611781239509583], [0.004140298813581467, 0.02557617798447609], [0.004258064087480307, 0.02144586853682995], [0.004190745297819376, 0.01738922670483589], [0.0039720251224935055, 0.013546801172196865], [0.0036413324996829033, 0.010025037452578545], [0.0032392137218266726, 0.0068941134959459305], [0.002803410869091749, 0.004189465660601854], [0.0023660112638026476, 0.0019161660457029939]], 'name': 'Y90p_d10'}, {'samples': [[0.0015491722151637077, 0.0012943174224346876], [0.0018325948622077703, 0.0028287998866289854], [0.0021143024787306786, 0.004654404241591692], [0.002373252995312214, 0.006767695304006338], [0.00258474238216877, 0.009144735522568226], [0.00272227986715734, 0.011738146655261517], [0.0027601642068475485, 0.014476067386567593], [0.0026765167713165283, 0.01726362481713295], [0.0024563975166529417, 0.019987167790532112], [0.0020945463329553604, 0.0225212462246418], [0.0015972721157595515, 0.024737805128097534], [0.0009831038769334555, 0.026516741141676903], [0.0002819594810716808, 0.02775663696229458], [-0.0004671734932344407, 0.028384294360876083], [-0.0012198083568364382, 0.02836192026734352], [-0.0019303325098007917, 0.027690866962075233], [-0.0025565833784639835, 0.02641151286661625], [-0.0030639898031949997, 0.024599231779575348], [-0.003428712021559477, 0.022357046604156494], [-0.003639388596639037, 0.019805947318673134], [-0.003697328269481659, 0.017074137926101685], [-0.0036152342800050974, 0.014286535792052746], [-0.0034147717524319887, 0.011555700562894344], [-0.0031234165653586388, 0.008975041098892689], [-0.002771093975752592, 0.006614760961383581], [-0.0023870612494647503, 0.004520585294812918], [-0.0019974021706730127, 0.002714939648285508], [-0.001623324817046523, 0.00120000378228724]], 'name': 'Y90p_d11'}, {'samples': [[-0.003221743507310748, 0.000990494852885604], [-0.003939418122172356, 0.0023418543860316277], [-0.004682440310716629, 0.003955918829888105], [-0.005408447235822678, 0.005831990856677294], [-0.00606573699042201, 0.007951301522552967], [-0.006596723571419716, 0.010274148546159267], [-0.006942977197468281, 0.012738662771880627], [-0.007051427382975817, 0.015261789783835411], [-0.006881005596369505, 0.017742754891514778], [-0.006408807821571827, 0.02006903663277626], [-0.005634778644889593, 0.022124439477920532], [-0.004584051668643951, 0.023798560723662376], [-0.003306350903585553, 0.024996530264616013], [-0.0018723045941442251, 0.025647908449172974], [-0.00036702019860967994, 0.025713536888360977], [0.001118276035413146, 0.025189440697431564], [0.002495391760021448, 0.02410721965134144], [0.0036878357641398907, 0.022530898451805115], [0.004637815989553928, 0.02055066078901291], [0.0053106858395040035, 0.018274305388331413], [0.005696387495845556, 0.015817586332559586], [0.005807944573462009, 0.013294595293700695], [0.005677499808371067, 0.010809295810759068], [0.005350692663341761, 0.008449050597846508], [0.004880347289144993, 0.006280575413256884], [0.004320375621318817, 0.004348435904830694], [0.0037206506822258234, 0.0026758280582726], [0.0031233124900609255, 0.0012671351432800293]], 'name': 'Y90p_d12'}, {'samples': [[0.004222638439387083, 0.0015808803727850318], [0.005084645934402943, 0.00347757781855762], [0.005962148308753967, 0.0057349191047251225], [0.006798767484724522, 0.008348953910171986], [0.007526938337832689, 0.011290390975773335], [0.008072714321315289, 0.014500917866826057], [0.008362564258277416, 0.0178918968886137], [0.008331574499607086, 0.021346116438508034], [0.007932046428322792, 0.02472301945090294], [0.007141293492168188, 0.027867281809449196], [0.005967324133962393, 0.030620180070400238], [0.004451292101293802, 0.03283267840743065], [0.00266603147611022, 0.034378714859485626], [0.000710519147105515, 0.03516705334186554], [-0.001299154362641275, 0.035150229930877686], [-0.0032411948777735233, 0.03432926535606384], [-0.00500032352283597, 0.032753560692071915], [-0.006479102652519941, 0.030515991151332855], [-0.007606821600347757, 0.02774382196366787], [-0.008344825357198715, 0.024586763232946396], [-0.008687764406204224, 0.021203646436333656], [-0.008660922758281231, 0.01774938963353634], [-0.008314344100654125, 0.014363739639520645], [-0.0077148969285190105, 0.011162799783051014], [-0.006937584839761257, 0.008233965374529362], [-0.006057321093976498, 0.005634302739053965], [-0.00514215137809515, 0.0033919678535312414], [-0.00424851244315505, 0.0015099671436473727]], 'name': 'Y90p_d13'}, {'samples': [[0.005303758662194014, 0.0011907288571819663], [0.006383011117577553, 0.002549469470977783], [0.00748094730079174, 0.0041640992276370525], [0.008526716381311417, 0.006030880846083164], [0.00943546462804079, 0.008127928711473942], [0.010114376433193684, 0.010412681847810745], [0.010471235029399395, 0.012821090407669544], [0.010424705222249031, 0.015268995426595211], [0.009915146976709366, 0.01765597052872181], [0.008914387784898281, 0.01987154223024845], [0.0074328407645225525, 0.021803343668580055], [0.00552256079390645, 0.023346416652202606], [0.003275360679253936, 0.02441260777413845], [0.000815842708107084, 0.024938901886343956], [-0.0017099808901548386, 0.02489358000457287], [-0.0041490355506539345, 0.024279391393065453], [-0.006356540601700544, 0.02313327044248581], [-0.008210234344005585, 0.021522661671042442], [-0.00962152611464262, 0.01953895576298237], [-0.010542158037424088, 0.01728890649974346], [-0.010965758934617043, 0.014885188080370426], [-0.010924440808594227, 0.012437189929187298], [-0.010481412522494793, 0.010043134912848473], [-0.00972097460180521, 0.007784207351505756], [-0.008737580850720406, 0.0057211099192500114], [-0.0076255155727267265, 0.0038930459413677454], [-0.006470362655818462, 0.002318842802196741], [-0.005343061406165361, 0.0009996943408623338]], 'name': 'Y90p_d14'}, {'samples': [[0.00291105592623353, 0.0013931550784036517], [0.0034696352668106556, 0.0029940560925751925], [0.0040308525785803795, 0.004896867088973522], [0.004555452149361372, 0.007097335532307625], [0.004996946547180414, 0.00956982932984829], [0.005305048543959856, 0.012264332734048367], [0.005430456716567278, 0.015105473808944225], [0.005330522544682026, 0.017994126304984093], [0.0049751452170312405, 0.02081192284822464], [0.0043520149774849415, 0.02342856675386429], [0.003470316296443343, 0.025711435824632645], [0.00236215116456151, 0.02753656730055809], [0.0010812050895765424, 0.02879972942173481], [-0.00030137947760522366, 0.02942628785967827], [-0.001703508896753192, 0.029378484934568405], [-0.0030402089469134808, 0.028659215196967125], [-0.004232148174196482, 0.027311742305755615], [-0.005213432479649782, 0.025415372103452682], [-0.005937600042670965, 0.02307775244116783], [-0.006381066981703043, 0.020424745976924896], [-0.006543702445924282, 0.01758928783237934], [-0.00644666189327836, 0.014700534753501415], [-0.0061280387453734875, 0.011874533258378506], [-0.0056371320970356464, 0.009207271039485931], [-0.0050282650627195835, 0.006770588457584381], [-0.004355012439191341, 0.004610959440469742], [-0.0036654998548328876, 0.002750790910795331], [-0.0029991823248565197, 0.0011916515650227666]], 'name': 'Y90p_d15'}, {'samples': [[0.0010330817895010114, 0.0011766013922169805], [0.001220894162543118, 0.002590895164757967], [0.001407294301316142, 0.004274200648069382], [0.001578237395733595, 0.0062236059457063675], [0.0017172517254948616, 0.008417303673923016], [0.001806695363484323, 0.010811842046678066], [0.0018294753972440958, 0.013341149315237999], [0.0017710716929286718, 0.015917832031846046], [0.0016216146759688854, 0.01843707449734211], [0.0013777068816125393, 0.020783018320798874], [0.0010436787270009518, 0.02283727377653122], [0.000632010807748884, 0.024488631635904312], [0.00016276969108730555, 0.025643011555075645], [-0.0003379479458089918, 0.026232296600937843], [-0.0008404069812968373, 0.026221008971333504], [-0.0013141564559191465, 0.025609834119677544], [-0.0017310844268649817, 0.02443554624915123], [-0.0020681796595454216, 0.022767364978790283], [-0.0023096203804016113, 0.020700182765722275], [-0.002447932492941618, 0.018345652148127556], [-0.002484107157215476, 0.015822241082787514], [-0.0024267409462481737, 0.013245534151792526], [-0.0022904002107679844, 0.010719801299273968], [-0.002093515358865261, 0.008331694640219212], [-0.0018561286851763725, 0.006146453320980072], [-0.0015978161245584488, 0.004206690937280655], [-0.0013360119191929698, 0.0025334549136459827], [-0.0010848772944882512, 0.0011290217516943812]], 'name': 'Y90p_d16'}, {'samples': [[0.001160528277978301, 0.0018323190743103623], [0.0013424463104456663, 0.004032596480101347], [0.001516225398518145, 0.006651308853179216], [0.001665771589614451, 0.009683897718787193], [0.0017726548248901963, 0.013096407987177372], [0.001817622222006321, 0.01682121679186821], [0.0017826005350798368, 0.02075551450252533], [0.0016529943095520139, 0.024763334542512894], [0.0014199817087501287, 0.028681615367531776], [0.0010824579512700438, 0.032330144196748734], [0.0006482733879238367, 0.03552476316690445], [0.00013448484241962433, 0.038092538714408875], [-0.00043353409273549914, 0.03988715633749962], [-0.0010240984847769141, 0.0408027209341526], [-0.0016021259361878037, 0.040784116834402084], [-0.0021325857378542423, 0.0398324616253376], [-0.0025840133894234896, 0.038005031645298004], [-0.0029315997380763292, 0.035409532487392426], [-0.0031594326719641685, 0.03219359740614891], [-0.003261613892391324, 0.028530916199088097], [-0.0032421518117189407, 0.02460576221346855], [-0.0031137384939938784, 0.020597904920578003], [-0.002895665355026722, 0.01666950061917305], [-0.002611241303384304, 0.012955293990671635], [-0.002285114023834467, 0.009556721895933151], [-0.001940845395438373, 0.006540027912706137], [-0.0015990114770829678, 0.00393791263923049], [-0.0012759659439325333, 0.0017538900719955564]], 'name': 'Y90p_d17'}, {'samples': [[0.0011885124258697033, 0.0013675391674041748], [0.0013934052549302578, 0.003001121338456869], [0.0015941536985337734, 0.004945064894855022], [0.0017744777724146843, 0.00719587504863739], [0.001915456261485815, 0.00972823053598404], [0.001997010549530387, 0.012491829693317413], [0.0019999092910438776, 0.015410271473228931], [0.001908108126372099, 0.018382588401436806], [0.0017111236229538918, 0.021287746727466583], [0.0014060898683965206, 0.02399204857647419], [0.0009991370607167482, 0.02635893039405346], [0.0005057912785559893, 0.028260216116905212], [-4.977290518581867e-05, 0.02958754450082779], [-0.0006366218440234661, 0.03026258386671543], [-0.001219900674186647, 0.03024468757212162], [-0.0017642605816945434, 0.02953493967652321], [-0.002237404463812709, 0.028176046907901764], [-0.002613259246572852, 0.026248091831803322], [-0.002874338533729315, 0.023860713467001915], [-0.0030130045488476753, 0.02114279940724373], [-0.003031510394066572, 0.01823102869093418], [-0.0029409134294837713, 0.015258674509823322], [-0.0027590973768383265, 0.012345898896455765], [-0.002508267294615507, 0.00959249958395958], [-0.0022123013623058796, 0.00707355048507452], [-0.0018943247850984335, 0.00483802892267704], [-0.0015747756697237492, 0.002910049632191658], [-0.001270117238163948, 0.001292102038860321]], 'name': 'Y90p_d18'}, {'samples': [[0.0030035499949008226, 0.001315524335950613], [0.0035948229487985373, 0.0028474517166614532], [0.004192186985164881, 0.004669026471674442], [0.004755301866680384, 0.006776455324143171], [0.005236164201050997, 0.009145481511950493], [0.005582601763308048, 0.011728483252227306], [0.005743161775171757, 0.014453503303229809], [0.005672961473464966, 0.01722574420273304], [0.0053397780284285545, 0.0199318565428257], [0.004729514941573143, 0.02244691736996174], [0.0038501154631376266, 0.02464361861348152], [0.0027331376913934946, 0.026402782648801804], [0.001432518009096384, 0.02762402594089508], [2.0441191736608744e-05, 0.028235213831067085], [-0.001419254345819354, 0.02819952927529812], [-0.002799317240715027, 0.02751913294196129], [-0.004037836566567421, 0.026234954595565796], [-0.005066289566457272, 0.02442261204123497], [-0.005835779942572117, 0.02218504063785076], [-0.006320691667497158, 0.019642837345600128], [-0.0065193986520171165, 0.016923541203141212], [-0.006452169269323349, 0.014151225797832012], [-0.006156803108751774, 0.011437506414949894], [-0.005682822782546282, 0.008874839171767235], [-0.005085183773189783, 0.006532545667141676], [-0.004418353084474802, 0.00445560272783041], [-0.0037314777728170156, 0.002665859181433916], [-0.0030650359112769365, 0.0011651059612631798]], 'name': 'Y90p_d19'}, {'samples': [[1.7782109352992848e-05, 0.0005328026018105447], [-9.104533091885969e-06, 0.0011814151657745242], [-4.2805695557035506e-05, 0.0019536877516657114], [-8.389145659748465e-05, 0.0028483914211392403], [-0.00013256882084533572, 0.003855629125609994], [-0.0001885554229374975, 0.004955566953867674], [-0.0002509760670363903, 0.006117966957390308], [-0.00031830277293920517, 0.007302772719413042], [-0.0003883575554937124, 0.00846188236027956], [-0.0004583889967761934, 0.0095420703291893], [-0.0005252279806882143, 0.010488882660865784], [-0.0005855131312273443, 0.011251111514866352], [-0.0006359645049087703, 0.011785352602601051], [-0.0006736782379448414, 0.012060096487402916], [-0.0006964025087654591, 0.012058805674314499], [-0.0007027601241134107, 0.011781558394432068], [-0.0006923868204466999, 0.011245041154325008], [-0.0006659653736278415, 0.010480888187885284], [-0.0006251525483094156, 0.009532596915960312], [-0.0005724075017496943, 0.008451427333056927], [-0.0005107481265440583, 0.007291840855032206], [-0.0004434682778082788, 0.006107032299041748], [-0.0003738512459676713, 0.00494504114612937], [-0.0003049151273444295, 0.003845839062705636], [-0.0002392145834164694, 0.0028395680710673332], [-0.00017871525778900832, 0.0019459674367681146], [-0.00012474352843128145, 0.0011748463148251176], [-7.800500316079706e-05, 0.0005273613496683538]], 'name': 'Y90p_d2'}, {'samples': [[0.0006414934759959579, 0.001213398645631969], [0.0007005198858678341, 0.0026516588404774666], [0.0007456847233697772, 0.004362775012850761], [0.0007676387904211879, 0.006343523971736431], [0.0007563008111901581, 0.008571467362344265], [0.0007018363103270531, 0.011002189479768276], [0.0005958672845736146, 0.013568337075412273], [0.0004327779170125723, 0.016180982813239098], [0.00021092896349728107, 0.018733609467744827], [-6.641563959419727e-05, 0.021108631044626236], [-0.00039064965676516294, 0.023186028003692627], [-0.0007480059284716845, 0.024853238835930824], [-0.001120412489399314, 0.026015209034085274], [-0.0014869710430502892, 0.026603350415825844], [-0.0018258898053318262, 0.02658223919570446], [-0.0021166291553527117, 0.025953156873583794], [-0.0023419614881277084, 0.024753952398896217], [-0.002489660866558552, 0.02305528149008751], [-0.002553592436015606, 0.0209537073969841], [-0.002534062834456563, 0.018562626093626022], [-0.0024374264758080244, 0.016002202406525612], [-0.00227503664791584, 0.013389511965215206], [-0.00206173793412745, 0.010830049403011799], [-0.0018141388427466154, 0.00841135811060667], [-0.0015489106299355626, 0.006199229508638382], [-0.001281323260627687, 0.004236515611410141], [-0.0010241650743409991, 0.002544230315834284], [-0.0007871127454563975, 0.0011244126362726092]], 'name': 'Y90p_d3'}, {'samples': [[-0.0021714363247156143, 0.0013899292098358274], [-0.002673956099897623, 0.003165140515193343], [-0.0031978001352399588, 0.005281694699078798], [-0.003714622464030981, 0.007737291045486927], [-0.0041895280592143536, 0.010505903512239456], [-0.004583337344229221, 0.013534169644117355], [-0.004855940118432045, 0.0167399775236845], [-0.004970455076545477, 0.020013926550745964], [-0.004897738806903362, 0.02322404272854328], [-0.004620595835149288, 0.02622372657060623], [-0.004137057811021805, 0.028862373903393745], [-0.0034620994701981544, 0.030997704714536667], [-0.002627401379868388, 0.03250839188694954], [-0.0016790337394922972, 0.03330545872449875], [-0.0006732716574333608, 0.03334096074104309], [0.00032893172465264797, 0.03261273726820946], [0.0012680604122579098, 0.031164657324552536], [0.002091885544359684, 0.029082225635647774], [0.0027602522168308496, 0.026484236121177673], [0.0032481916714459658, 0.023511556908488274], [0.0035470493603497744, 0.020314553752541542], [0.003663641633465886, 0.01704067923128605], [0.003617735579609871, 0.013823628425598145], [0.0034384073223918676, 0.010775133967399597], [0.003159878309816122, 0.007979928515851498], [0.002817468484863639, 0.005494005512446165], [0.002444150857627392, 0.003345785429701209], [0.0020680390298366547, 0.0015395627124235034]], 'name': 'Y90p_d4'}, {'samples': [[0.003177501494064927, 0.001049053855240345], [0.0038084641564637423, 0.002239347668364644], [0.004447098355740309, 0.0036535554099828005], [0.00505078723654151, 0.005288310348987579], [0.005568732973188162, 0.007124349474906921], [0.005945635959506035, 0.009124306961894035], [0.006126852240413427, 0.011232014745473862], [0.006064577493816614, 0.013373730704188347], [0.005724298767745495, 0.015461505390703678], [0.005090595223009586, 0.017398642376065254], [0.004171309992671013, 0.019086839631199837], [0.0029992617201060057, 0.020434334874153137], [0.0016309774946421385, 0.021364128217101097], [0.00014238059520721436, 0.02182125300168991], [-0.0013781504239887, 0.021778155118227005], [-0.002838465152308345, 0.0212374459952116], [-0.004151887260377407, 0.020231645554304123], [-0.005245729349553585, 0.01881992630660534], [-0.006067915819585323, 0.017082368955016136], [-0.006590878590941429, 0.015112447552382946], [-0.006812355015426874, 0.013008750975131989], [-0.006753218825906515, 0.01086694560945034], [-0.006452908739447594, 0.00877288542687893], [-0.005963329691439867, 0.006797487847507], [-0.005342218559235334, 0.004993733949959278], [-0.004646903369575739, 0.0033957974519580603], [-0.003929190803319216, 0.002020033774897456], [-0.003231820883229375, 0.0008673897827975452]], 'name': 'Y90p_d5'}, {'samples': [[0.003608583938330412, 0.0010731758084148169], [0.004331048112362623, 0.0022909860126674175], [0.0050635552033782005, 0.003737892024219036], [0.005757770035415888, 0.00541045144200325], [0.006355989724397659, 0.007288957014679909], [0.00679529644548893, 0.009335181675851345], [0.007013403344899416, 0.01149166189134121], [0.006955673918128014, 0.013682947494089603], [0.006582451518625021, 0.015819057822227478], [0.005875673610717058, 0.017801057547330856], [0.004843640606850386, 0.019528372213244438], [0.003523005871102214, 0.02090711146593094], [0.001977392239496112, 0.021858489140868187], [0.00029254209948703647, 0.022326264530420303], [-0.001431517070159316, 0.022282246500253677], [-0.003090300364419818, 0.02172909863293171], [-0.004585349000990391, 0.020700082182884216], [-0.005833902861922979, 0.0192557442933321], [-0.006776443216949701, 0.017478015273809433], [-0.00738115468993783, 0.01546252891421318], [-0.007644880563020706, 0.01331015583127737], [-0.007590708788484335, 0.011118778958916664], [-0.007262836210429668, 0.008976240642368793], [-0.006719678640365601, 0.0069551002234220505], [-0.006026374641805887, 0.005109570920467377], [-0.005247710272669792, 0.0034746178425848484], [-0.004442318808287382, 0.0020669782534241676], [-0.003658648580312729, 0.0008876238134689629]], 'name': 'Y90p_d6'}, {'samples': [[0.0068843853659927845, 0.0014904991257935762], [0.008270403370261192, 0.0030907236505299807], [0.00967731885612011, 0.004988582339137793], [0.011013006791472435, 0.0071783000603318214], [0.012167359702289104, 0.009632737375795841], [0.013020194135606289, 0.012300577946007252], [0.013452384620904922, 0.01510554738342762], [0.013359235599637032, 0.017948240041732788], [0.0126644941046834, 0.020710786804556847], [0.0113329803571105, 0.023264285176992416], [0.0093797342851758, 0.025478417053818703], [0.006873880047351122, 0.027232302352786064], [0.003936043940484524, 0.02842540293931961], [0.0007291720248758793, 0.02898702770471573], [-0.0025563486851751804, 0.02888329327106476], [-0.005721403285861015, 0.028120480477809906], [-0.008578121662139893, 0.026744427159428596], [-0.010968341492116451, 0.02483595348894596], [-0.012778020463883877, 0.022503014653921127], [-0.01394579652696848, 0.01987060345709324], [-0.014464879408478737, 0.017069730907678604], [-0.014378514140844345, 0.014226824045181274], [-0.013770234771072865, 0.011454706080257893], [-0.012750799767673016, 0.008845980279147625], [-0.011443909257650375, 0.006469253450632095], [-0.009972745552659035, 0.004368158522993326], [-0.008448906242847443, 0.002562834182754159], [-0.0069646998308598995, 0.001053233165293932]], 'name': 'Y90p_d7'}, {'samples': [[0.0023818514309823513, 0.0009719699155539274], [0.002858696738258004, 0.0021169031970202923], [0.003342166543006897, 0.003478789236396551], [0.003800357226282358, 0.005054967477917671], [0.004195182118564844, 0.006827482488006353], [0.0044851116836071014, 0.00876089558005333], [0.004629035945981741, 0.010801533237099648], [0.004590890370309353, 0.012878581881523132], [0.004344502929598093, 0.01490727812051773], [0.0038779533933848143, 0.016794098541140556], [0.0031967204995453358, 0.01844364032149315], [0.0023250014055520296, 0.019766487181186676], [0.0013047910761088133, 0.02068719081580639], [0.00019268528558313847, 0.02115139551460743], [-0.0009452913654968143, 0.021131141111254692], [-0.0020401726942509413, 0.02062765322625637], [-0.00302697136066854, 0.019671224057674408], [-0.0038510612212121487, 0.018318194895982742], [-0.004473159089684486, 0.01664545200765133], [-0.004872265737503767, 0.014743223786354065], [-0.0050463005900382996, 0.012707045301795006], [-0.005010504741221666, 0.010629953816533089], [-0.004794050008058548, 0.008595731109380722], [-0.004435498733073473, 0.00667386082932353], [-0.00397784449160099, 0.004916519857943058], [-0.003463851287961006, 0.003357646055519581], [-0.002932221395894885, 0.0020138281397521496], [-0.0024149329401552677, 0.0008865897543728352]], 'name': 'Y90p_d8'}, {'samples': [[-0.000599054095800966, 0.0008553169900551438], [-0.0007347727078013122, 0.0019088543485850096], [-0.000875716854352504, 0.003163680201396346], [-0.001014034729450941, 0.004617955069988966], [-0.001140106818638742, 0.006255761254578829], [-0.0012431812938302755, 0.008045018650591373], [-0.0013123053358867764, 0.009936707094311714], [-0.00133747688960284, 0.011865800246596336], [-0.001310882274992764, 0.01375411357730627], [-0.001228050678037107, 0.015515062026679516], [-0.0010887382086366415, 0.017059961333870888], [-0.0008973806980066001, 0.018305320292711258], [-0.0006630023708567023, 0.019180260598659515], [-0.0003985506482422352, 0.019633203744888306], [-0.0001197190722450614, 0.019636884331703186], [0.00015659400378353894, 0.01919107884168625], [0.00041398085886612535, 0.018322627991437912], [0.0006381373386830091, 0.017082752659916878], [0.0008181721204891801, 0.015542066656053066], [0.0009474471444264054, 0.013783917762339115], [0.0010238661197945476, 0.01189696416258812], [0.0010496132308617234, 0.009967878460884094], [0.0010304360184818506, 0.008075024001300335], [0.0009746168507263064, 0.006283670198172331], [0.0008918112725950778, 0.004643107298761606], [0.000791920640040189, 0.0031856887508183718], [0.0006841411232016981, 0.001927580451592803], [0.0005762731307186186, 0.0008708284003660083]], 'name': 'Y90p_d9'}, {'samples': [[0.0006873651291243732, -0.0019581615924835205], [0.0008298216271214187, -0.004352101124823093], [0.000975282397121191, -0.0072028059512376785], [0.0011145935859531164, -0.01050586812198162], [0.0012367513263598084, -0.014224892482161522], [0.0013296767137944698, -0.01828678511083126], [0.0013813178520649672, -0.022580020129680634], [0.0013809812953695655, -0.02695678547024727], [0.0013207360170781612, -0.031239498406648636], [0.0011966899037361145, -0.03523160517215729], [0.0010099264327436686, -0.038731932640075684], [0.0007669219630770385, -0.04155121371150017], [0.0004793235275428742, -0.04352894425392151], [0.00016306870384141803, -0.04454849660396576], [-0.00016306870384141803, -0.04454849660396576], [-0.0004793235275428742, -0.04352894425392151], [-0.0007669219630770385, -0.04155121371150017], [-0.0010099264327436686, -0.038731932640075684], [-0.0011966899037361145, -0.03523160517215729], [-0.0013207360170781612, -0.031239498406648636], [-0.0013809812953695655, -0.02695678547024727], [-0.0013813178520649672, -0.022580020129680634], [-0.0013296767137944698, -0.01828678511083126], [-0.0012367513263598084, -0.014224892482161522], [-0.0011145935859531164, -0.01050586812198162], [-0.000975282397121191, -0.0072028059512376785], [-0.0008298216271214187, -0.004352101124823093], [-0.0006873651291243732, -0.0019581615924835205]], 'name': 'Ym_d0'}, {'samples': [[0.000667523592710495, -0.0036690460983663797], [0.0008058678940869868, -0.008154617622494698], [0.0009471297962591052, -0.013496040366590023], [0.0010824196506291628, -0.0196850523352623], [0.0012010510545223951, -0.026653463020920753], [0.0012912941165268421, -0.03426431119441986], [0.0013414445566013455, -0.04230862855911255], [0.0013411176623776555, -0.050509460270404816], [0.0012826115125790238, -0.05853406712412834], [0.00116214610170573, -0.06601415574550629], [0.0009807738242670894, -0.07257279008626938], [0.0007447839016094804, -0.07785533368587494], [0.0004654873046092689, -0.08156104385852814], [0.00015836155216675252, -0.0834713950753212], [-0.00015836155216675252, -0.0834713950753212], [-0.0004654873046092689, -0.08156104385852814], [-0.0007447839016094804, -0.07785533368587494], [-0.0009807738242670894, -0.07257279008626938], [-0.00116214610170573, -0.06601415574550629], [-0.0012826115125790238, -0.05853406712412834], [-0.0013411176623776555, -0.050509460270404816], [-0.0013414445566013455, -0.04230862855911255], [-0.0012912941165268421, -0.03426431119441986], [-0.0012010510545223951, -0.026653463020920753], [-0.0010824196506291628, -0.0196850523352623], [-0.0009471297962591052, -0.013496040366590023], [-0.0008058678940869868, -0.008154617622494698], [-0.000667523592710495, -0.0036690460983663797]], 'name': 'Ym_d10'}, {'samples': [[-0.0026785123627632856, -0.002472905907779932], [-0.0032336341682821512, -0.005496142897754908], [-0.0038004633970558643, -0.009096216410398483], [-0.004343328531831503, -0.013267558068037033], [-0.004819350317120552, -0.017964206635951996], [-0.00518146064132452, -0.023093853145837784], [-0.005382694769650698, -0.028515655547380447], [-0.005381383467465639, -0.03404294699430466], [-0.00514662079513073, -0.039451465010643005], [-0.004663240164518356, -0.04449298232793808], [-0.003935463726520538, -0.048913441598415375], [-0.0029885279946029186, -0.05247383192181587], [-0.0018678194610401988, -0.054971449077129364], [-0.0006354432553052902, -0.05625900998711586], [0.0006354432553052902, -0.05625900998711586], [0.0018678194610401988, -0.054971449077129364], [0.0029885279946029186, -0.05247383192181587], [0.003935463726520538, -0.048913441598415375], [0.004663240164518356, -0.04449298232793808], [0.00514662079513073, -0.039451465010643005], [0.005381383467465639, -0.03404294699430466], [0.005382694769650698, -0.028515655547380447], [0.00518146064132452, -0.023093853145837784], [0.004819350317120552, -0.017964206635951996], [0.004343328531831503, -0.013267558068037033], [0.0038004633970558643, -0.009096216410398483], [0.0032336341682821512, -0.005496142897754908], [0.0026785123627632856, -0.002472905907779932]], 'name': 'Ym_d11'}, {'samples': [[-7.133510371204466e-05, -0.0022404957562685013], [-8.611930388724431e-05, -0.004979601129889488], [-0.00010121530067408457, -0.008241330273449421], [-0.00011567308683879673, -0.012020638212561607], [-0.00012835067173000425, -0.016275884583592415], [-0.00013799451699014753, -0.02092343382537365], [-0.000143353856401518, -0.025835679844021797], [-0.0001433189318049699, -0.030843501910567284], [-0.0001370666577713564, -0.03574370965361595], [-0.00012419308768585324, -0.04031141474843025], [-0.00010481067874934524, -0.044316429644823074], [-7.95915475464426e-05, -0.04754220321774483], [-4.974443800165318e-05, -0.049805089831352234], [-1.6923353541642427e-05, -0.05097164213657379], [1.6923353541642427e-05, -0.05097164213657379], [4.974443800165318e-05, -0.049805089831352234], [7.95915475464426e-05, -0.04754220321774483], [0.00010481067874934524, -0.044316429644823074], [0.00012419308768585324, -0.04031141474843025], [0.0001370666577713564, -0.03574370965361595], [0.0001433189318049699, -0.030843501910567284], [0.000143353856401518, -0.025835679844021797], [0.00013799451699014753, -0.02092343382537365], [0.00012835067173000425, -0.016275884583592415], [0.00011567308683879673, -0.012020638212561607], [0.00010121530067408457, -0.008241330273449421], [8.611930388724431e-05, -0.004979601129889488], [7.133510371204466e-05, -0.0022404957562685013]], 'name': 'Ym_d12'}, {'samples': [[-0.003536991775035858, -0.003086705692112446], [-0.004270033445209265, -0.006860340479761362], [-0.005018534604460001, -0.011353987269103527], [-0.0057353912852704525, -0.016560697928071022], [-0.006363981403410435, -0.02242310158908367], [-0.0068421498872339725, -0.028825977817177773], [-0.007107880897819996, -0.03559352457523346], [-0.007106149103492498, -0.04249274730682373], [-0.00679614394903183, -0.049243707209825516], [-0.00615783641114831, -0.05553658306598663], [-0.0051968032494187355, -0.06105424836277962], [-0.003946369048207998, -0.06549835950136185], [-0.0024664667434990406, -0.06861591339111328], [-0.0008391066803596914, -0.07022305577993393], [0.0008391066803596914, -0.07022305577993393], [0.0024664667434990406, -0.06861591339111328], [0.003946369048207998, -0.06549835950136185], [0.0051968032494187355, -0.06105424836277962], [0.00615783641114831, -0.05553658306598663], [0.00679614394903183, -0.049243707209825516], [0.007106149103492498, -0.04249274730682373], [0.007107880897819996, -0.03559352457523346], [0.0068421498872339725, -0.028825977817177773], [0.006363981403410435, -0.02242310158908367], [0.0057353912852704525, -0.016560697928071022], [0.005018534604460001, -0.011353987269103527], [0.004270033445209265, -0.006860340479761362], [0.003536991775035858, -0.003086705692112446]], 'name': 'Ym_d13'}, {'samples': [[-0.002888923278078437, -0.0021540222223848104], [-0.0034876528661698103, -0.004787410143762827], [-0.004099009558558464, -0.007923250086605549], [-0.004684519488364458, -0.011556693352758884], [-0.005197935272008181, -0.015647705644369125], [-0.0055884914472699165, -0.02011587843298912], [-0.00580553337931633, -0.024838533252477646], [-0.005804118700325489, -0.029653076082468033], [-0.005550914444029331, -0.03436415642499924], [-0.005029561463743448, -0.038755565881729126], [-0.0042446148581802845, -0.04260600730776787], [-0.0032232922967523336, -0.045707277953624725], [-0.0020145464222878218, -0.04788282513618469], [-0.0006853606319054961, -0.04900435730814934], [0.0006853606319054961, -0.04900435730814934], [0.0020145464222878218, -0.04788282513618469], [0.0032232922967523336, -0.045707277953624725], [0.0042446148581802845, -0.04260600730776787], [0.005029561463743448, -0.038755565881729126], [0.005550914444029331, -0.03436415642499924], [0.005804118700325489, -0.029653076082468033], [0.00580553337931633, -0.024838533252477646], [0.0055884914472699165, -0.02011587843298912], [0.005197935272008181, -0.015647705644369125], [0.004684519488364458, -0.011556693352758884], [0.004099009558558464, -0.007923250086605549], [0.0034876528661698103, -0.004787410143762827], [0.002888923278078437, -0.0021540222223848104]], 'name': 'Ym_d14'}, {'samples': [[-0.002646190347149968, -0.002570897340774536], [-0.0031946133822202682, -0.005713933613151312], [-0.003754602512344718, -0.009456663392484188], [-0.004290916956961155, -0.013793298974633217], [-0.004761194344609976, -0.01867605745792389], [-0.005118934903293848, -0.024008972570300102], [-0.005317741073668003, -0.02964561991393566], [-0.005316445138305426, -0.03539193421602249], [-0.0050845155492424965, -0.041014768183231354], [-0.00460696779191494, -0.046256061643362045], [-0.003887973725795746, -0.050851691514253616], [-0.0029524648562073708, -0.054553162306547165], [-0.0018452800577506423, -0.057149749249219894], [-0.0006277752690948546, -0.05848833546042442], [0.0006277752690948546, -0.05848833546042442], [0.0018452800577506423, -0.057149749249219894], [0.0029524648562073708, -0.054553162306547165], [0.003887973725795746, -0.050851691514253616], [0.00460696779191494, -0.046256061643362045], [0.0050845155492424965, -0.041014768183231354], [0.005316445138305426, -0.03539193421602249], [0.005317741073668003, -0.02964561991393566], [0.005118934903293848, -0.024008972570300102], [0.004761194344609976, -0.01867605745792389], [0.004290916956961155, -0.013793298974633217], [0.003754602512344718, -0.009456663392484188], [0.0031946133822202682, -0.005713933613151312], [0.002646190347149968, -0.002570897340774536]], 'name': 'Ym_d15'}, {'samples': [[0.0005241766339167953, -0.002283844631165266], [0.0006328122690320015, -0.005075945984572172], [0.0007437390158884227, -0.008400782942771912], [0.0008499760879203677, -0.012253212742507458], [0.0009431320941075683, -0.016590788960456848], [0.0010139959631487727, -0.021328259259462357], [0.0010533769382163882, -0.026335546746850014], [0.0010531202424317598, -0.031440261751413345], [0.0010071778669953346, -0.03643527999520302], [0.000912581745069474, -0.04109135642647743], [0.0007701581926085055, -0.04517386108636856], [0.0005848457803949714, -0.048462044447660446], [0.00036552653182297945, -0.050768714398145676], [0.0001243542938027531, -0.051957838237285614], [-0.0001243542938027531, -0.051957838237285614], [-0.00036552653182297945, -0.050768714398145676], [-0.0005848457803949714, -0.048462044447660446], [-0.0007701581926085055, -0.04517386108636856], [-0.000912581745069474, -0.04109135642647743], [-0.0010071778669953346, -0.03643527999520302], [-0.0010531202424317598, -0.031440261751413345], [-0.0010533769382163882, -0.026335546746850014], [-0.0010139959631487727, -0.021328259259462357], [-0.0009431320941075683, -0.016590788960456848], [-0.0008499760879203677, -0.012253212742507458], [-0.0007437390158884227, -0.008400782942771912], [-0.0006328122690320015, -0.005075945984572172], [-0.0005241766339167953, -0.002283844631165266]], 'name': 'Ym_d16'}, {'samples': [[0.0012838065158575773, -0.0026450534351170063], [0.0015498754801228642, -0.005878748372197151], [0.0018215557793155313, -0.009729434736073017], [0.0020817501936107874, -0.014191159047186375], [0.0023099067620933056, -0.019214756786823273], [0.002483465475961566, -0.024701496586203575], [0.0025799167342483997, -0.030500728636980057], [0.0025792880915105343, -0.0364127941429615], [0.0024667668621987104, -0.0421978160738945], [0.0022350831422954798, -0.047590289264917374], [0.0018862612778320909, -0.052318476140499115], [0.0014323964715003967, -0.05612671375274658], [0.0008952427306212485, -0.05879820138216019], [0.0003045669000130147, -0.060175396502017975], [-0.0003045669000130147, -0.060175396502017975], [-0.0008952427306212485, -0.05879820138216019], [-0.0014323964715003967, -0.05612671375274658], [-0.0018862612778320909, -0.052318476140499115], [-0.0022350831422954798, -0.047590289264917374], [-0.0024667668621987104, -0.0421978160738945], [-0.0025792880915105343, -0.0364127941429615], [-0.0025799167342483997, -0.030500728636980057], [-0.002483465475961566, -0.024701496586203575], [-0.0023099067620933056, -0.019214756786823273], [-0.0020817501936107874, -0.014191159047186375], [-0.0018215557793155313, -0.009729434736073017], [-0.0015498754801228642, -0.005878748372197151], [-0.0012838065158575773, -0.0026450534351170063]], 'name': 'Ym_d18'}, {'samples': [[-0.0015688022831454873, -0.002466210164129734], [-0.0018939366564154625, -0.005481261294335127], [-0.002225928008556366, -0.009071586653590202], [-0.0025438836310058832, -0.01323163416236639], [-0.0028226892463862896, -0.01791556552052498], [-0.0030347767751663923, -0.0230313241481781], [-0.0031526396051049232, -0.028438445180654526], [-0.0031518712639808655, -0.033950772136449814], [-0.0030143712647259235, -0.03934464231133461], [-0.0027312554884701967, -0.04437251016497612], [-0.0023049975279718637, -0.048781003803014755], [-0.0017503781709820032, -0.052331749349832535], [-0.0010939801577478647, -0.05482260510325432], [-0.0003721785615198314, -0.05610668286681175], [0.0003721785615198314, -0.05610668286681175], [0.0010939801577478647, -0.05482260510325432], [0.0017503781709820032, -0.052331749349832535], [0.0023049975279718637, -0.048781003803014755], [0.0027312554884701967, -0.04437251016497612], [0.0030143712647259235, -0.03934464231133461], [0.0031518712639808655, -0.033950772136449814], [0.0031526396051049232, -0.028438445180654526], [0.0030347767751663923, -0.0230313241481781], [0.0028226892463862896, -0.01791556552052498], [0.0025438836310058832, -0.01323163416236639], [0.002225928008556366, -0.009071586653590202], [0.0018939366564154625, -0.005481261294335127], [0.0015688022831454873, -0.002466210164129734]], 'name': 'Ym_d19'}, {'samples': [[-0.0007103501120582223, -0.0010513622546568513], [-0.0008575702086091042, -0.0023366992827504873], [-0.0010078951017931104, -0.0038672795053571463], [-0.0011518647661432624, -0.005640736315399408], [-0.001278107287362218, -0.007637528702616692], [-0.0013741400325670838, -0.009818410500884056], [-0.001427508075721562, -0.012123503722250462], [-0.001427160226739943, -0.01447344571352005], [-0.0013649003813043237, -0.016772890463471413], [-0.0012367062736302614, -0.018916305154561996], [-0.0010436975862830877, -0.020795674994587898], [-0.0007925672689452767, -0.022309383377432823], [-0.0004953517345711589, -0.023371251299977303], [-0.00016852159751579165, -0.02391866222023964], [0.00016852159751579165, -0.02391866222023964], [0.0004953517345711589, -0.023371251299977303], [0.0007925672689452767, -0.022309383377432823], [0.0010436975862830877, -0.020795674994587898], [0.0012367062736302614, -0.018916305154561996], [0.0013649003813043237, -0.016772890463471413], [0.001427160226739943, -0.01447344571352005], [0.001427508075721562, -0.012123503722250462], [0.0013741400325670838, -0.009818410500884056], [0.001278107287362218, -0.007637528702616692], [0.0011518647661432624, -0.005640736315399408], [0.0010078951017931104, -0.0038672795053571463], [0.0008575702086091042, -0.0023366992827504873], [0.0007103501120582223, -0.0010513622546568513]], 'name': 'Ym_d2'}, {'samples': [[-0.0016227640444412827, -0.0023265427444130182], [-0.0019590819720178843, -0.005170844495296478], [-0.0023024927359074354, -0.008557841181755066], [-0.002631385112181306, -0.012482295744121075], [-0.0029197807889431715, -0.016900965943932533], [-0.0031391633674502373, -0.021727005019783974], [-0.0032610802445560694, -0.02682790905237198], [-0.0032602855935692787, -0.03202805668115616], [-0.003118055872619152, -0.037116460502147675], [-0.002825201954692602, -0.04185958951711655], [-0.002384281950071454, -0.04601841792464256], [-0.0018105854978784919, -0.049368079751729965], [-0.0011316095478832722, -0.05171787366271019], [-0.00038498028879985213, -0.05292922630906105], [0.00038498028879985213, -0.05292922630906105], [0.0011316095478832722, -0.05171787366271019], [0.0018105854978784919, -0.049368079751729965], [0.002384281950071454, -0.04601841792464256], [0.002825201954692602, -0.04185958951711655], [0.003118055872619152, -0.037116460502147675], [0.0032602855935692787, -0.03202805668115616], [0.0032610802445560694, -0.02682790905237198], [0.0031391633674502373, -0.021727005019783974], [0.0029197807889431715, -0.016900965943932533], [0.002631385112181306, -0.012482295744121075], [0.0023024927359074354, -0.008557841181755066], [0.0019590819720178843, -0.005170844495296478], [0.0016227640444412827, -0.0023265427444130182]], 'name': 'Ym_d3'}, {'samples': [[-0.0019539245404303074, -0.002897304017096758], [-0.002358875470235944, -0.0064393868669867516], [-0.002772366628050804, -0.010657302103936672], [-0.0031683766283094883, -0.015544526278972626], [-0.0035156256053596735, -0.021047210320830345], [-0.0037797782570123672, -0.027057204395532608], [-0.003926574718207121, -0.033409491181373596], [-0.003925618249922991, -0.039885371923446655], [-0.003754363162443042, -0.04622209444642067], [-0.003401746042072773, -0.052128832787275314], [-0.0028708467725664377, -0.057307932525873184], [-0.002180075040087104, -0.0614793486893177], [-0.001362539129331708, -0.06440560519695282], [-0.00046354392543435097, -0.06591413915157318], [0.00046354392543435097, -0.06591413915157318], [0.001362539129331708, -0.06440560519695282], [0.002180075040087104, -0.0614793486893177], [0.0028708467725664377, -0.057307932525873184], [0.003401746042072773, -0.052128832787275314], [0.003754363162443042, -0.04622209444642067], [0.003925618249922991, -0.039885371923446655], [0.003926574718207121, -0.033409491181373596], [0.0037797782570123672, -0.027057204395532608], [0.0035156256053596735, -0.021047210320830345], [0.0031683766283094883, -0.015544526278972626], [0.002772366628050804, -0.010657302103936672], [0.002358875470235944, -0.0064393868669867516], [0.0019539245404303074, -0.002897304017096758]], 'name': 'Ym_d4'}, {'samples': [[-0.001960247289389372, -0.0019043617649003863], [-0.002366508822888136, -0.004232528619468212], [-0.002781338058412075, -0.007004911545664072], [-0.00317862955853343, -0.010217223316431046], [-0.0035270024091005325, -0.013834068551659584], [-0.0037920097820460796, -0.0177843626588583], [-0.003939281217753887, -0.021959641948342323], [-0.003938321489840746, -0.026216156780719757], [-0.0037665124982595444, -0.030381204560399055], [-0.0034127540420740843, -0.03426362946629524], [-0.0028801369480788708, -0.037667788565158844], [-0.002187129808589816, -0.04040960967540741], [-0.0013669483596459031, -0.04233299940824509], [-0.0004650439659599215, -0.0433245413005352], [0.0004650439659599215, -0.0433245413005352], [0.0013669483596459031, -0.04233299940824509], [0.002187129808589816, -0.04040960967540741], [0.0028801369480788708, -0.037667788565158844], [0.0034127540420740843, -0.03426362946629524], [0.0037665124982595444, -0.030381204560399055], [0.003938321489840746, -0.026216156780719757], [0.003939281217753887, -0.021959641948342323], [0.0037920097820460796, -0.0177843626588583], [0.0035270024091005325, -0.013834068551659584], [0.00317862955853343, -0.010217223316431046], [0.002781338058412075, -0.007004911545664072], [0.002366508822888136, -0.004232528619468212], [0.001960247289389372, -0.0019043617649003863]], 'name': 'Ym_d5'}, {'samples': [[-0.00571709917858243, -0.002532592508941889], [-0.006901968270540237, -0.0056287990882992744], [-0.00811182614415884, -0.009315764531493187], [-0.009270533919334412, -0.013587786816060543], [-0.010286569595336914, -0.018397795036435127], [-0.011059469543397427, -0.023651251569390297], [-0.011488989926874638, -0.02920391596853733], [-0.011486190371215343, -0.03486461564898491], [-0.010985106229782104, -0.04040367156267166], [-0.009953362867236137, -0.045566871762275696], [-0.008399974554777145, -0.05009402707219124], [-0.006378806196153164, -0.05374034866690636], [-0.003986731171607971, -0.05629825219511986], [-0.0013563096290454268, -0.05761688947677612], [0.0013563096290454268, -0.05761688947677612], [0.003986731171607971, -0.05629825219511986], [0.006378806196153164, -0.05374034866690636], [0.008399974554777145, -0.05009402707219124], [0.009953362867236137, -0.045566871762275696], [0.010985106229782104, -0.04040367156267166], [0.011486190371215343, -0.03486461564898491], [0.011488989926874638, -0.02920391596853733], [0.011059469543397427, -0.023651251569390297], [0.010286569595336914, -0.018397795036435127], [0.009270533919334412, -0.013587786816060543], [0.00811182614415884, -0.009315764531493187], [0.006901968270540237, -0.0056287990882992744], [0.00571709917858243, -0.002532592508941889]], 'name': 'Ym_d7'}, {'samples': [[0.0005983219016343355, -0.0018461075378581882], [0.0007223241846077144, -0.004103056155145168], [0.0008489415631629527, -0.006790631916373968], [0.0009702059905976057, -0.009904679842293262], [0.001076539047062397, -0.013410885818302631], [0.001157426624558866, -0.017240339890122414], [0.0012023780727759004, -0.02128789760172367], [0.001202085055410862, -0.025414207950234413], [0.0011496441438794136, -0.029451847076416016], [0.001041667303070426, -0.03321550786495209], [0.0008790977299213409, -0.03651553392410278], [0.000667572719976306, -0.03917348384857178], [0.00041723059257492423, -0.041038040071725845], [0.00014194432878866792, -0.041999246925115585], [-0.00014194432878866792, -0.041999246925115585], [-0.00041723059257492423, -0.041038040071725845], [-0.000667572719976306, -0.03917348384857178], [-0.0008790977299213409, -0.03651553392410278], [-0.001041667303070426, -0.03321550786495209], [-0.0011496441438794136, -0.029451847076416016], [-0.001202085055410862, -0.025414207950234413], [-0.0012023780727759004, -0.02128789760172367], [-0.001157426624558866, -0.017240339890122414], [-0.001076539047062397, -0.013410885818302631], [-0.0009702059905976057, -0.009904679842293262], [-0.0008489415631629527, -0.006790631916373968], [-0.0007223241846077144, -0.004103056155145168], [-0.0005983219016343355, -0.0018461075378581882]], 'name': 'Ym_d8'}, {'samples': [[0.0016515827737748623, -0.001689952565357089], [0.0019938733894377947, -0.0037559946067631245], [0.0023433826863765717, -0.006216239184141159], [0.002678115852177143, -0.009066881611943245], [0.002971633104607463, -0.012276512570679188], [0.0031949118711054325, -0.01578204706311226], [0.003318993840366602, -0.01948723942041397], [0.0033181849867105484, -0.02326451987028122], [0.0031734295189380646, -0.02696063183248043], [0.0028753746300935745, -0.030405940487980843], [0.0024266245309263468, -0.03342682868242264], [0.0018427397590130568, -0.03585995361208916], [0.0011517058592289686, -0.03756679221987724], [0.0003918171569239348, -0.03844669833779335], [-0.0003918171569239348, -0.03844669833779335], [-0.0011517058592289686, -0.03756679221987724], [-0.0018427397590130568, -0.03585995361208916], [-0.0024266245309263468, -0.03342682868242264], [-0.0028753746300935745, -0.030405940487980843], [-0.0031734295189380646, -0.02696063183248043], [-0.0033181849867105484, -0.02326451987028122], [-0.003318993840366602, -0.01948723942041397], [-0.0031949118711054325, -0.01578204706311226], [-0.002971633104607463, -0.012276512570679188], [-0.002678115852177143, -0.009066881611943245], [-0.0023433826863765717, -0.006216239184141159], [-0.0019938733894377947, -0.0037559946067631245], [-0.0016515827737748623, -0.001689952565357089]], 'name': 'Ym_d9'}], 'buffer': 1}, description='20 qubit device Poughkeepsie', discriminators=['linear_discriminator', 'quadratic_discriminator'], dt=3.5555555555555554, dtm=3.5555555555555554, gates=[GateConfig(coupling_map=[[0], [1], [2], [3], [4], [5], [6], [7], [8], [9], [10], [11], [12], [13], [14], [15], [16], [17], [18], [19]], name='id', parameters=[], qasm_def='gate id q { U(0,0,0) q; }'), GateConfig(coupling_map=[[0], [1], [2], [3], [4], [5], [6], [7], [8], [9], [10], [11], [12], [13], [14], [15], [16], [17], [18], [19]], name='u1', parameters=['lambda'], qasm_def='gate u1(lambda) q { U(0,0,lambda) q; }'), GateConfig(coupling_map=[[0], [1], [2], [3], [4], [5], [6], [7], [8], [9], [10], [11], [12], [13], [14], [15], [16], [17], [18], [19]], name='u2', parameters=['phi', 'lambda'], qasm_def='gate u2(phi,lambda) q { U(pi/2,phi,lambda) q; }'), GateConfig(coupling_map=[[0], [1], [2], [3], [4], [5], [6], [7], [8], [9], [10], [11], [12], [13], [14], [15], [16], [17], [18], [19]], name='u3', parameters=['theta', 'phi', 'lambda'], qasm_def='u3(theta,phi,lambda) q { U(theta,phi,lambda) q; }'), GateConfig(coupling_map=[[0, 1], [0, 5], [1, 0], [1, 2], [2, 1], [2, 3], [3, 2], [3, 4], [4, 3], [4, 9], [5, 0], [5, 6], [5, 10], [6, 5], [6, 7], [7, 6], [7, 8], [7, 12], [8, 7], [8, 9], [9, 4], [9, 8], [9, 14], [10, 5], [10, 11], [10, 15], [11, 10], [11, 12], [12, 7], [12, 11], [12, 13], [13, 12], [13, 14], [14, 9], [14, 13], [14, 19], [15, 10], [15, 16], [16, 15], [16, 17], [17, 16], [17, 18], [18, 17], [18, 19], [19, 14], [19, 18]], name='cx', parameters=[], qasm_def='gate cx q1,q2 { CX q1,q2; }')], hamiltonian={'osc': {'0': 3, '1': 3, '2': 3, '3': 3, '4': 3, '5': 3, '6': 3, '7': 3, '8': 3, '9': 3, '10': 3, '11': 3, '12': 3, '13': 3, '14': 3, '15': 3, '16': 3, '17': 3, '18': 3, '19': 3}, 'h_str': ['_SUM[i,0,19,wq{i}/2*(I{i}-Z{i})]', '_SUM[i,0,19,Omegad{i}*D||X]', 'J10_11*(Sp10*Sm11+Sm10*Sp11)', 'J5_6*(Sp5*Sm6+Sm5*Sp6)', 'J7_12*(Sp7*Sm12+Sm7*Sp12)', 'J9_8*(Sp9*Sm8+Sm9*Sp8)', 'J2_1*(Sp2*Sm1+Sm2*Sp1)', 'J14_13*(Sp14*Sm13+Sm14*Sp13)', 'J8_9*(Sp8*Sm9+Sm8*Sp9)', 'J10_15*(Sp10*Sm15+Sm10*Sp15)', 'J15_16*(Sp15*Sm16+Sm15*Sp16)', 'J18_19*(Sp18*Sm19+Sm18*Sp19)', 'J9_4*(Sp9*Sm4+Sm9*Sp4)', 'J14_9*(Sp14*Sm9+Sm14*Sp9)', 'J17_16*(Sp17*Sm16+Sm17*Sp16)', 'J1_2*(Sp1*Sm2+Sm1*Sp2)', 'J16_17*(Sp16*Sm17+Sm16*Sp17)', 'J11_10*(Sp11*Sm10+Sm11*Sp10)', 'J13_12*(Sp13*Sm12+Sm13*Sp12)', 'J4_9*(Sp4*Sm9+Sm4*Sp9)', 'J6_7*(Sp6*Sm7+Sm6*Sp7)', 'J19_18*(Sp19*Sm18+Sm19*Sp18)', 'J12_13*(Sp12*Sm13+Sm12*Sp13)', 'J7_6*(Sp7*Sm6+Sm7*Sp6)', 'J19_14*(Sp19*Sm14+Sm19*Sp14)', 'J5_0*(Sp5*Sm0+Sm5*Sp0)', 'J16_15*(Sp16*Sm15+Sm16*Sp15)', 'J3_4*(Sp3*Sm4+Sm3*Sp4)', 'J3_2*(Sp3*Sm2+Sm3*Sp2)', 'J9_14*(Sp9*Sm14+Sm9*Sp14)', 'J14_19*(Sp14*Sm19+Sm14*Sp19)', 'J12_7*(Sp12*Sm7+Sm12*Sp7)', 'J15_10*(Sp15*Sm10+Sm15*Sp10)', 'J18_17*(Sp18*Sm17+Sm18*Sp17)', 'J0_5*(Sp0*Sm5+Sm0*Sp5)', 'J2_3*(Sp2*Sm3+Sm2*Sp3)', 'J8_7*(Sp8*Sm7+Sm8*Sp7)', 'J12_11*(Sp12*Sm11+Sm12*Sp11)', 'J1_0*(Sp1*Sm0+Sm1*Sp0)', 'J11_12*(Sp11*Sm12+Sm11*Sp12)', 'J6_5*(Sp6*Sm5+Sm6*Sp5)', 'J0_1*(Sp0*Sm1+Sm0*Sp1)', 'J17_18*(Sp17*Sm18+Sm17*Sp18)', 'J10_5*(Sp10*Sm5+Sm10*Sp5)', 'J5_10*(Sp5*Sm10+Sm5*Sp10)', 'J13_14*(Sp13*Sm14+Sm13*Sp14)', 'J4_3*(Sp4*Sm3+Sm4*Sp3)', 'J7_8*(Sp7*Sm8+Sm7*Sp8)', 'Omegad*U0||X', 'Omegad*U1||X', 'Omegad*U2||X', 'Omegad*U3||X', 'Omegad*U4||X', 'Omegad*U5||X', 'Omegad*U7||X', 'Omegad*U6||X', 'Omegad*U8||X', 'Omegad*U9||X', 'Omegad*U10||X', 'Omegad*U12||X', 'Omegad*U11||X', 'Omegad*U14||X', 'Omegad*U13||X', 'Omegad*U15||X', 'Omegad*U16||X', 'Omegad*U17||X', 'Omegad*U18||X', 'Omegad*U19||X', 'Omegad*U20||X', 'Omegad*U21||X', 'Omegad*U22||X', 'Omegad*U24||X', 'Omegad*U23||X', 'Omegad*U25||X', 'Omegad*U27||X', 'Omegad*U26||X', 'Omegad*U28||X', 'Omegad*U30||X', 'Omegad*U29||X', 'Omegad*U31||X', 'Omegad*U32||X', 'Omegad*U35||X', 'Omegad*U34||X', 'Omegad*U33||X', 'Omegad*U36||X', 'Omegad*U37||X', 'Omegad*U38||X', 'Omegad*U39||X', 'Omegad*U41||X', 'Omegad*U40||X', 'Omegad*U43||X', 'Omegad*U42||X', 'Omegad*U45||X', 'Omegad*U44||X', '_SUM[i,0,19,wm{i}*O{i}]', '_SUM[i,0,19,gm{i}*(C{i}*Sm{i}+A{i}*Sp{i})]', '_SUM[i,0,19,Omegam{i}*(M{i}||C{i}+M{i}||A{i})]'], 'h_latex': '\\\\mathcal{H} = \\\\sum_{i=0}^{19}\\\\left(\\\\frac{\\\\omega_{q,i}}{2} (\\\\mathbb{1}-\\\\sigma_i^{(z)})+\\\\Omega_{d,i}D_i(t)\\\\sigma_i^{X}\\\\right) + J_{10,11}(\\\\sigma_{10}^{+}\\\\sigma_{11}^{-}+\\\\sigma_{10}^{-}\\\\sigma_{11}^{+}) + J_{5,6}(\\\\sigma_{5}^{+}\\\\sigma_{6}^{-}+\\\\sigma_{5}^{-}\\\\sigma_{6}^{+}) + J_{7,12}(\\\\sigma_{7}^{+}\\\\sigma_{12}^{-}+\\\\sigma_{7}^{-}\\\\sigma_{12}^{+}) + J_{9,8}(\\\\sigma_{9}^{+}\\\\sigma_{8}^{-}+\\\\sigma_{9}^{-}\\\\sigma_{8}^{+}) + J_{2,1}(\\\\sigma_{2}^{+}\\\\sigma_{1}^{-}+\\\\sigma_{2}^{-}\\\\sigma_{1}^{+}) + J_{14,13}(\\\\sigma_{14}^{+}\\\\sigma_{13}^{-}+\\\\sigma_{14}^{-}\\\\sigma_{13}^{+}) + J_{8,9}(\\\\sigma_{8}^{+}\\\\sigma_{9}^{-}+\\\\sigma_{8}^{-}\\\\sigma_{9}^{+}) + J_{10,15}(\\\\sigma_{10}^{+}\\\\sigma_{15}^{-}+\\\\sigma_{10}^{-}\\\\sigma_{15}^{+}) + J_{15,16}(\\\\sigma_{15}^{+}\\\\sigma_{16}^{-}+\\\\sigma_{15}^{-}\\\\sigma_{16}^{+}) + J_{18,19}(\\\\sigma_{18}^{+}\\\\sigma_{19}^{-}+\\\\sigma_{18}^{-}\\\\sigma_{19}^{+}) + J_{9,4}(\\\\sigma_{9}^{+}\\\\sigma_{4}^{-}+\\\\sigma_{9}^{-}\\\\sigma_{4}^{+}) + J_{14,9}(\\\\sigma_{14}^{+}\\\\sigma_{9}^{-}+\\\\sigma_{14}^{-}\\\\sigma_{9}^{+}) + J_{17,16}(\\\\sigma_{17}^{+}\\\\sigma_{16}^{-}+\\\\sigma_{17}^{-}\\\\sigma_{16}^{+}) + J_{1,2}(\\\\sigma_{1}^{+}\\\\sigma_{2}^{-}+\\\\sigma_{1}^{-}\\\\sigma_{2}^{+}) + J_{16,17}(\\\\sigma_{16}^{+}\\\\sigma_{17}^{-}+\\\\sigma_{16}^{-}\\\\sigma_{17}^{+}) + J_{11,10}(\\\\sigma_{11}^{+}\\\\sigma_{10}^{-}+\\\\sigma_{11}^{-}\\\\sigma_{10}^{+}) + J_{13,12}(\\\\sigma_{13}^{+}\\\\sigma_{12}^{-}+\\\\sigma_{13}^{-}\\\\sigma_{12}^{+}) + J_{4,9}(\\\\sigma_{4}^{+}\\\\sigma_{9}^{-}+\\\\sigma_{4}^{-}\\\\sigma_{9}^{+}) + J_{6,7}(\\\\sigma_{6}^{+}\\\\sigma_{7}^{-}+\\\\sigma_{6}^{-}\\\\sigma_{7}^{+}) + J_{19,18}(\\\\sigma_{19}^{+}\\\\sigma_{18}^{-}+\\\\sigma_{19}^{-}\\\\sigma_{18}^{+}) + J_{12,13}(\\\\sigma_{12}^{+}\\\\sigma_{13}^{-}+\\\\sigma_{12}^{-}\\\\sigma_{13}^{+}) + J_{7,6}(\\\\sigma_{7}^{+}\\\\sigma_{6}^{-}+\\\\sigma_{7}^{-}\\\\sigma_{6}^{+}) + J_{19,14}(\\\\sigma_{19}^{+}\\\\sigma_{14}^{-}+\\\\sigma_{19}^{-}\\\\sigma_{14}^{+}) + J_{5,0}(\\\\sigma_{5}^{+}\\\\sigma_{0}^{-}+\\\\sigma_{5}^{-}\\\\sigma_{0}^{+}) + J_{16,15}(\\\\sigma_{16}^{+}\\\\sigma_{15}^{-}+\\\\sigma_{16}^{-}\\\\sigma_{15}^{+}) + J_{3,4}(\\\\sigma_{3}^{+}\\\\sigma_{4}^{-}+\\\\sigma_{3}^{-}\\\\sigma_{4}^{+}) + J_{3,2}(\\\\sigma_{3}^{+}\\\\sigma_{2}^{-}+\\\\sigma_{3}^{-}\\\\sigma_{2}^{+}) + J_{9,14}(\\\\sigma_{9}^{+}\\\\sigma_{14}^{-}+\\\\sigma_{9}^{-}\\\\sigma_{14}^{+}) + J_{14,19}(\\\\sigma_{14}^{+}\\\\sigma_{19}^{-}+\\\\sigma_{14}^{-}\\\\sigma_{19}^{+}) + J_{12,7}(\\\\sigma_{12}^{+}\\\\sigma_{7}^{-}+\\\\sigma_{12}^{-}\\\\sigma_{7}^{+}) + J_{15,10}(\\\\sigma_{15}^{+}\\\\sigma_{10}^{-}+\\\\sigma_{15}^{-}\\\\sigma_{10}^{+}) + J_{18,17}(\\\\sigma_{18}^{+}\\\\sigma_{17}^{-}+\\\\sigma_{18}^{-}\\\\sigma_{17}^{+}) + J_{0,5}(\\\\sigma_{0}^{+}\\\\sigma_{5}^{-}+\\\\sigma_{0}^{-}\\\\sigma_{5}^{+}) + J_{2,3}(\\\\sigma_{2}^{+}\\\\sigma_{3}^{-}+\\\\sigma_{2}^{-}\\\\sigma_{3}^{+}) + J_{8,7}(\\\\sigma_{8}^{+}\\\\sigma_{7}^{-}+\\\\sigma_{8}^{-}\\\\sigma_{7}^{+}) + J_{12,11}(\\\\sigma_{12}^{+}\\\\sigma_{11}^{-}+\\\\sigma_{12}^{-}\\\\sigma_{11}^{+}) + J_{1,0}(\\\\sigma_{1}^{+}\\\\sigma_{0}^{-}+\\\\sigma_{1}^{-}\\\\sigma_{0}^{+}) + J_{11,12}(\\\\sigma_{11}^{+}\\\\sigma_{12}^{-}+\\\\sigma_{11}^{-}\\\\sigma_{12}^{+}) + J_{6,5}(\\\\sigma_{6}^{+}\\\\sigma_{5}^{-}+\\\\sigma_{6}^{-}\\\\sigma_{5}^{+}) + J_{0,1}(\\\\sigma_{0}^{+}\\\\sigma_{1}^{-}+\\\\sigma_{0}^{-}\\\\sigma_{1}^{+}) + J_{17,18}(\\\\sigma_{17}^{+}\\\\sigma_{18}^{-}+\\\\sigma_{17}^{-}\\\\sigma_{18}^{+}) + J_{10,5}(\\\\sigma_{10}^{+}\\\\sigma_{5}^{-}+\\\\sigma_{10}^{-}\\\\sigma_{5}^{+}) + J_{5,10}(\\\\sigma_{5}^{+}\\\\sigma_{10}^{-}+\\\\sigma_{5}^{-}\\\\sigma_{10}^{+}) + J_{13,14}(\\\\sigma_{13}^{+}\\\\sigma_{14}^{-}+\\\\sigma_{13}^{-}\\\\sigma_{14}^{+}) + J_{4,3}(\\\\sigma_{4}^{+}\\\\sigma_{3}^{-}+\\\\sigma_{4}^{-}\\\\sigma_{3}^{+}) + J_{7,8}(\\\\sigma_{7}^{+}\\\\sigma_{8}^{-}+\\\\sigma_{7}^{-}\\\\sigma_{8}^{+}) + \\\\Omega_{d,0}(U_{0}^{(0,1)}(t)+U_{1}^{(0,5)}(t))\\\\sigma_{0}^{X} + \\\\Omega_{d,1}(U_{2}^{(1,0)}(t)+U_{3}^{(1,2)}(t))\\\\sigma_{1}^{X} + \\\\Omega_{d,2}(U_{4}^{(2,1)}(t)+U_{5}^{(2,3)}(t))\\\\sigma_{2}^{X} + \\\\Omega_{d,3}(U_{7}^{(3,4)}(t)+U_{6}^{(3,2)}(t))\\\\sigma_{3}^{X} + \\\\Omega_{d,4}(U_{8}^{(4,3)}(t)+U_{9}^{(4,9)}(t))\\\\sigma_{4}^{X} + \\\\Omega_{d,5}(U_{10}^{(5,0)}(t)+U_{12}^{(5,10)}(t)+U_{11}^{(5,6)}(t))\\\\sigma_{5}^{X} + \\\\Omega_{d,6}(U_{14}^{(6,7)}(t)+U_{13}^{(6,5)}(t))\\\\sigma_{6}^{X} + \\\\Omega_{d,7}(U_{15}^{(7,6)}(t)+U_{16}^{(7,8)}(t)+U_{17}^{(7,12)}(t))\\\\sigma_{7}^{X} + \\\\Omega_{d,8}(U_{18}^{(8,7)}(t)+U_{19}^{(8,9)}(t))\\\\sigma_{8}^{X} + \\\\Omega_{d,9}(U_{20}^{(9,4)}(t)+U_{21}^{(9,8)}(t)+U_{22}^{(9,14)}(t))\\\\sigma_{9}^{X} + \\\\Omega_{d,10}(U_{24}^{(10,11)}(t)+U_{23}^{(10,5)}(t)+U_{25}^{(10,15)}(t))\\\\sigma_{10}^{X} + \\\\Omega_{d,11}(U_{27}^{(11,12)}(t)+U_{26}^{(11,10)}(t))\\\\sigma_{11}^{X} + \\\\Omega_{d,12}(U_{28}^{(12,7)}(t)+U_{30}^{(12,13)}(t)+U_{29}^{(12,11)}(t))\\\\sigma_{12}^{X} + \\\\Omega_{d,13}(U_{31}^{(13,12)}(t)+U_{32}^{(13,14)}(t))\\\\sigma_{13}^{X} + \\\\Omega_{d,14}(U_{35}^{(14,19)}(t)+U_{34}^{(14,13)}(t)+U_{33}^{(14,9)}(t))\\\\sigma_{14}^{X} + \\\\Omega_{d,15}(U_{36}^{(15,10)}(t)+U_{37}^{(15,16)}(t))\\\\sigma_{15}^{X} + \\\\Omega_{d,16}(U_{38}^{(16,15)}(t)+U_{39}^{(16,17)}(t))\\\\sigma_{16}^{X} + \\\\Omega_{d,17}(U_{41}^{(17,18)}(t)+U_{40}^{(17,16)}(t))\\\\sigma_{17}^{X} + \\\\Omega_{d,18}(U_{43}^{(18,19)}(t)+U_{42}^{(18,17)}(t))\\\\sigma_{18}^{X} + \\\\Omega_{d,19}(U_{45}^{(19,18)}(t)+U_{44}^{(19,14)}(t))\\\\sigma_{19}^{X} + \\\\sum_{i=0}^{19} \\\\left(\\\\omega_{m,i} a_i^\\\\dagger a_i + g_{m,i}(a_i^\\\\dagger\\\\sigma_i^{-} + a_i\\\\sigma_i^{+}) + M_i(t)\\\\Omega_{m,i}(a_i^\\\\dagger+a_i)\\\\right)', 'description': 'Qubits are modelled as a two level system. Qubits are coupled through resonator buses. The provided Hamiltonian has been projected into the zero excitation subspace of the resonator buses leading to an effective qubit-qubit flip-flop interaction. The qubit resonance frequencies in the Hamiltonian are the cavity dressed frequencies and not exactly what is returned by the backend defaults, which also includes the dressing due to the qubit-qubit interactions.\\nWarning: Currently not all system Hamiltonian information is available to the public, missing values have been replaced with 0. Measurement is performed by probing a measurement cavity that is coupled to a respective qubit. The frequency of this cavity will depend on the state of the cavity. An input microwave pulse at a given frequency will acquire a different phase depending on the state of the qubit.\\nWarning: Currently not all measurement Hamiltonian information is available to the public, missing values have been replaced with 0.\\n', 'vars': {'wq18': 30.3374034219498, 'wm18': 44.00177738718703, 'J7_8': 0, 'J18_19': 0, 'wm1': 43.91009487506063, 'wq5': 31.146595689334653, 'wm9': 43.36172020755434, 'wq12': 29.985928865335016, 'J4_3': 0, 'J3_2': 0, 'gm6': 0, 'wm3': 43.444848483327476, 'gm14': 0, 'Omegam2': 0, 'Omegad16': 0, 'gm2': 0, 'wq10': 29.654732638140736, 'wq11': 30.78867677772697, 'J14_19': 0, 'J14_9': 0, 'wq15': 30.199917955112024, 'J0_5': 0, 'Omegad8': 0, 'Omegam18': 0, 'J13_12': 0, 'J4_9': 0, 'J12_7': 0, 'J12_13': 0, 'gm7': 0, 'gm16': 0, 'wq1': 30.360294878976635, 'J3_4': 0, 'J17_18': 0, 'Omegad5': 0, 'J19_18': 0, 'wq2': 31.03758861164014, 'gm19': 0, 'gm3': 0, 'J7_12': 0, 'J15_10': 0, 'wm8': 43.95040845172595, 'J11_10': 0, 'Omegam0': 0, 'wm0': 44.12711615211928, 'gm12': 0, 'Omegam19': 0, 'wm5': 43.6636134197071, 'J12_11': 0, 'J11_12': 0, 'J8_9': 0, 'wq7': 30.228735813119904, 'wm12': 44.33831840161895, 'Omegam9': 0, 'wq16': 31.138823568813407, 'J10_11': 0, 'gm1': 0, 'J10_15': 0, 'Omegad13': 0, 'J5_10': 0, 'Omegam14': 0, 'J2_3': 0, 'Omegam4': 0, 'wm4': 44.519711203118874, 'Omegad6': 0, 'wm11': 43.99924740607443, 'J13_14': 0, 'Omegam3': 0, 'J1_2': 0, 'gm4': 0, 'J6_5': 0, 'wq13': 32.11023434460654, 'Omegad19': 0, 'Omegad18': 0, 'gm15': 0, 'wm2': 44.11479417856382, 'gm8': 0, 'Omegam5': 0, 'Omegam13': 0, 'wm13': 43.6306703586991, 'Omegad15': 0, 'J6_7': 0, 'Omegam6': 0, 'gm9': 0, 'J2_1': 0, 'J17_16': 0, 'Omegam10': 0, 'Omegad10': 0, 'wq8': 31.499757980174856, 'J9_8': 0, 'wq4': 29.296118872966314, 'Omegam12': 0, 'Omegam1': 0, 'J15_16': 0, 'wm14': 44.62481629552145, 'J0_1': 0, 'J1_0': 0, 'gm10': 0, 'Omegad9': 0, 'J16_15': 0, 'J10_5': 0, 'wq17': 28.90084785263834, 'J18_17': 0, 'gm18': 0, 'Omegad0': 0, 'wm17': 43.32764905717312, 'wm19': 43.32762210230815, 'wq9': 31.772732717159357, 'Omegad2': 0, 'J9_4': 0, 'wm10': 44.27701658585086, 'J9_14': 0, 'J7_6': 0, 'J19_14': 0, 'gm5': 0, 'wq6': 31.387056406502516, 'Omegam7': 0, 'Omegam15': 0, 'wq19': 31.02910842656627, 'Omegad12': 0, 'wm15': 43.62160095141612, 'J16_17': 0, 'Omegam17': 0, 'wm6': 44.66682942354688, 'Omegam8': 0, 'Omegad4': 0, 'Omegad1': 0, 'gm13': 0, 'Omegam11': 0, 'J14_13': 0, 'gm17': 0, 'gm0': 0, 'Omegad14': 0, 'wq14': 31.35706209212292, 'J5_6': 0, 'J8_7': 0, 'Omegam16': 0, 'J5_0': 0, 'gm11': 0, 'Omegad17': 0, 'wq0': 30.913201156879158, 'wq3': 28.36925929289773, 'Omegad11': 0, 'Omegad7': 0, 'wm16': 44.53397409659803, 'Omegad3': 0, 'wm7': 43.41160840358364}}, local=False, max_experiments=900, max_shots=8192, meas_kernels=['boxcar'], meas_levels=[1, 2], meas_lo_range=[[6.72304866, 7.3230486599999995], [6.688508651, 7.288508651], [6.721087557000001, 7.321087557], [6.614462388, 7.214462387999999], [6.785532103, 7.385532103], [6.6492799090000005, 7.249279909], [6.808946695, 7.408946695], [6.609172065, 7.209172065], [6.694924756, 7.2949247559999995], [6.601232112, 7.201232112], [6.746906055, 7.346906055], [6.702697717, 7.302697717], [6.756662542, 7.356662542], [6.644036858, 7.244036857999999], [6.8022600980000005, 7.402260098], [6.6425934170000005, 7.242593417], [6.787802113000001, 7.387802113], [6.59580952, 7.19580952], [6.703100376, 7.303100376], [6.59580523, 7.1958052299999995]], meas_map=[[0, 1, 2, 3, 4, 5, 6, 7, 8, 9, 10, 11, 12, 13, 14, 15, 16, 17, 18, 19]], memory=True, n_qubits=20, n_registers=1, n_uchannels=0, online_date=datetime.datetime(2018, 8, 29, 4, 0, tzinfo=tzutc()), open_pulse=False, qubit_lo_range=[[4.619988770911415, 5.2199887709114146], [4.531991003716688, 5.131991003716688], [4.639785649195245, 5.239785649195245], [4.215107848320361, 4.815107848320361], [4.362622132040355, 4.962622132040354], [4.65713466444233, 5.257134664442329], [4.695405176199016, 5.295405176199016], [4.511052728077037, 5.111052728077037], [4.713342188743205, 5.313342188743205], [4.756787467473498, 5.356787467473498], [4.4196972854286605, 5.01969728542866], [4.600170100433895, 5.200170100433895], [4.472408802120016, 5.072408802120016], [4.8105025197832765, 5.410502519783276], [4.690631432800852, 5.2906314328008515], [4.506466223525763, 5.1064662235257625], [4.655897693043067, 5.2558976930430665], [4.29971279529418, 4.89971279529418], [4.528347715176292, 5.128347715176291], [4.638435985822405, 5.238435985822405]], rep_times=[50, 500, 1000], sample_name='Hexbert', simulator=False, u_channel_lo=[], url='None')\n"
     ]
    }
   ],
   "source": [
    "configuration = q_backend.configuration()\n",
    "print(configuration)"
   ]
  },
  {
   "cell_type": "code",
   "execution_count": 40,
   "metadata": {
    "slideshow": {
     "slide_type": "slide"
    }
   },
   "outputs": [
    {
     "name": "stdout",
     "output_type": "stream",
     "text": [
      "BackendProperties(backend_name='ibmq_poughkeepsie', backend_version='1.1.1', gates=[Gate(gate='u1', parameters=[Nduv(date=datetime.datetime(2019, 4, 23, 20, 48, 46, tzinfo=tzutc()), name='gate_error', unit='', value=0.0)], qubits=[0]), Gate(gate='u2', parameters=[Nduv(date=datetime.datetime(2019, 4, 23, 20, 48, 46, tzinfo=tzutc()), name='gate_error', unit='', value=0.0023536063142292063)], qubits=[0]), Gate(gate='u3', parameters=[Nduv(date=datetime.datetime(2019, 4, 23, 20, 48, 46, tzinfo=tzutc()), name='gate_error', unit='', value=0.004707212628458413)], qubits=[0]), Gate(gate='u1', parameters=[Nduv(date=datetime.datetime(2019, 4, 23, 20, 48, 46, tzinfo=tzutc()), name='gate_error', unit='', value=0.0)], qubits=[1]), Gate(gate='u2', parameters=[Nduv(date=datetime.datetime(2019, 4, 23, 20, 48, 46, tzinfo=tzutc()), name='gate_error', unit='', value=0.0006009641889474504)], qubits=[1]), Gate(gate='u3', parameters=[Nduv(date=datetime.datetime(2019, 4, 23, 20, 48, 46, tzinfo=tzutc()), name='gate_error', unit='', value=0.0012019283778949008)], qubits=[1]), Gate(gate='u1', parameters=[Nduv(date=datetime.datetime(2019, 4, 23, 20, 48, 46, tzinfo=tzutc()), name='gate_error', unit='', value=0.0)], qubits=[2]), Gate(gate='u2', parameters=[Nduv(date=datetime.datetime(2019, 4, 23, 20, 48, 46, tzinfo=tzutc()), name='gate_error', unit='', value=0.0008803586903540217)], qubits=[2]), Gate(gate='u3', parameters=[Nduv(date=datetime.datetime(2019, 4, 23, 20, 48, 46, tzinfo=tzutc()), name='gate_error', unit='', value=0.0017607173807080434)], qubits=[2]), Gate(gate='u1', parameters=[Nduv(date=datetime.datetime(2019, 4, 23, 20, 48, 46, tzinfo=tzutc()), name='gate_error', unit='', value=0.0)], qubits=[3]), Gate(gate='u2', parameters=[Nduv(date=datetime.datetime(2019, 4, 23, 20, 48, 46, tzinfo=tzutc()), name='gate_error', unit='', value=0.000631409181801379)], qubits=[3]), Gate(gate='u3', parameters=[Nduv(date=datetime.datetime(2019, 4, 23, 20, 48, 46, tzinfo=tzutc()), name='gate_error', unit='', value=0.001262818363602758)], qubits=[3]), Gate(gate='u1', parameters=[Nduv(date=datetime.datetime(2019, 4, 23, 20, 48, 46, tzinfo=tzutc()), name='gate_error', unit='', value=0.0)], qubits=[4]), Gate(gate='u2', parameters=[Nduv(date=datetime.datetime(2019, 4, 23, 20, 48, 46, tzinfo=tzutc()), name='gate_error', unit='', value=0.0008642313098533583)], qubits=[4]), Gate(gate='u3', parameters=[Nduv(date=datetime.datetime(2019, 4, 23, 20, 48, 46, tzinfo=tzutc()), name='gate_error', unit='', value=0.0017284626197067166)], qubits=[4]), Gate(gate='u1', parameters=[Nduv(date=datetime.datetime(2019, 4, 23, 20, 48, 46, tzinfo=tzutc()), name='gate_error', unit='', value=0.0)], qubits=[5]), Gate(gate='u2', parameters=[Nduv(date=datetime.datetime(2019, 4, 23, 20, 48, 46, tzinfo=tzutc()), name='gate_error', unit='', value=0.0009262024726124363)], qubits=[5]), Gate(gate='u3', parameters=[Nduv(date=datetime.datetime(2019, 4, 23, 20, 48, 46, tzinfo=tzutc()), name='gate_error', unit='', value=0.0018524049452248725)], qubits=[5]), Gate(gate='u1', parameters=[Nduv(date=datetime.datetime(2019, 4, 23, 20, 48, 46, tzinfo=tzutc()), name='gate_error', unit='', value=0.0)], qubits=[6]), Gate(gate='u2', parameters=[Nduv(date=datetime.datetime(2019, 4, 23, 20, 48, 46, tzinfo=tzutc()), name='gate_error', unit='', value=0.000979730940549206)], qubits=[6]), Gate(gate='u3', parameters=[Nduv(date=datetime.datetime(2019, 4, 23, 20, 48, 46, tzinfo=tzutc()), name='gate_error', unit='', value=0.001959461881098412)], qubits=[6]), Gate(gate='u1', parameters=[Nduv(date=datetime.datetime(2019, 4, 23, 20, 48, 46, tzinfo=tzutc()), name='gate_error', unit='', value=0.0)], qubits=[7]), Gate(gate='u2', parameters=[Nduv(date=datetime.datetime(2019, 4, 23, 20, 48, 46, tzinfo=tzutc()), name='gate_error', unit='', value=0.0025955695319545558)], qubits=[7]), Gate(gate='u3', parameters=[Nduv(date=datetime.datetime(2019, 4, 23, 20, 48, 46, tzinfo=tzutc()), name='gate_error', unit='', value=0.0051911390639091115)], qubits=[7]), Gate(gate='u1', parameters=[Nduv(date=datetime.datetime(2019, 4, 23, 20, 48, 46, tzinfo=tzutc()), name='gate_error', unit='', value=0.0)], qubits=[8]), Gate(gate='u2', parameters=[Nduv(date=datetime.datetime(2019, 4, 23, 20, 48, 46, tzinfo=tzutc()), name='gate_error', unit='', value=0.001306857642162651)], qubits=[8]), Gate(gate='u3', parameters=[Nduv(date=datetime.datetime(2019, 4, 23, 20, 48, 46, tzinfo=tzutc()), name='gate_error', unit='', value=0.002613715284325302)], qubits=[8]), Gate(gate='u1', parameters=[Nduv(date=datetime.datetime(2019, 4, 23, 20, 48, 46, tzinfo=tzutc()), name='gate_error', unit='', value=0.0)], qubits=[9]), Gate(gate='u2', parameters=[Nduv(date=datetime.datetime(2019, 4, 23, 20, 48, 46, tzinfo=tzutc()), name='gate_error', unit='', value=0.001141226117403027)], qubits=[9]), Gate(gate='u3', parameters=[Nduv(date=datetime.datetime(2019, 4, 23, 20, 48, 46, tzinfo=tzutc()), name='gate_error', unit='', value=0.002282452234806054)], qubits=[9]), Gate(gate='u1', parameters=[Nduv(date=datetime.datetime(2019, 4, 23, 20, 51, 20, tzinfo=tzutc()), name='gate_error', unit='', value=0.0)], qubits=[10]), Gate(gate='u2', parameters=[Nduv(date=datetime.datetime(2019, 4, 23, 20, 51, 20, tzinfo=tzutc()), name='gate_error', unit='', value=0.0014184757942972137)], qubits=[10]), Gate(gate='u3', parameters=[Nduv(date=datetime.datetime(2019, 4, 23, 20, 51, 20, tzinfo=tzutc()), name='gate_error', unit='', value=0.0028369515885944274)], qubits=[10]), Gate(gate='u1', parameters=[Nduv(date=datetime.datetime(2019, 4, 23, 20, 48, 46, tzinfo=tzutc()), name='gate_error', unit='', value=0.0)], qubits=[11]), Gate(gate='u2', parameters=[Nduv(date=datetime.datetime(2019, 4, 23, 20, 48, 46, tzinfo=tzutc()), name='gate_error', unit='', value=0.0005319152328537302)], qubits=[11]), Gate(gate='u3', parameters=[Nduv(date=datetime.datetime(2019, 4, 23, 20, 48, 46, tzinfo=tzutc()), name='gate_error', unit='', value=0.0010638304657074604)], qubits=[11]), Gate(gate='u1', parameters=[Nduv(date=datetime.datetime(2019, 4, 23, 20, 51, 20, tzinfo=tzutc()), name='gate_error', unit='', value=0.0)], qubits=[12]), Gate(gate='u2', parameters=[Nduv(date=datetime.datetime(2019, 4, 23, 20, 51, 20, tzinfo=tzutc()), name='gate_error', unit='', value=0.0014015141427099476)], qubits=[12]), Gate(gate='u3', parameters=[Nduv(date=datetime.datetime(2019, 4, 23, 20, 51, 20, tzinfo=tzutc()), name='gate_error', unit='', value=0.002803028285419895)], qubits=[12]), Gate(gate='u1', parameters=[Nduv(date=datetime.datetime(2019, 4, 23, 20, 48, 46, tzinfo=tzutc()), name='gate_error', unit='', value=0.0)], qubits=[13]), Gate(gate='u2', parameters=[Nduv(date=datetime.datetime(2019, 4, 23, 20, 48, 46, tzinfo=tzutc()), name='gate_error', unit='', value=0.0029051200454511816)], qubits=[13]), Gate(gate='u3', parameters=[Nduv(date=datetime.datetime(2019, 4, 23, 20, 48, 46, tzinfo=tzutc()), name='gate_error', unit='', value=0.005810240090902363)], qubits=[13]), Gate(gate='u1', parameters=[Nduv(date=datetime.datetime(2019, 4, 23, 20, 48, 46, tzinfo=tzutc()), name='gate_error', unit='', value=0.0)], qubits=[14]), Gate(gate='u2', parameters=[Nduv(date=datetime.datetime(2019, 4, 23, 20, 48, 46, tzinfo=tzutc()), name='gate_error', unit='', value=0.0012445310585307845)], qubits=[14]), Gate(gate='u3', parameters=[Nduv(date=datetime.datetime(2019, 4, 23, 20, 48, 46, tzinfo=tzutc()), name='gate_error', unit='', value=0.002489062117061569)], qubits=[14]), Gate(gate='u1', parameters=[Nduv(date=datetime.datetime(2019, 4, 23, 20, 48, 46, tzinfo=tzutc()), name='gate_error', unit='', value=0.0)], qubits=[15]), Gate(gate='u2', parameters=[Nduv(date=datetime.datetime(2019, 4, 23, 20, 48, 46, tzinfo=tzutc()), name='gate_error', unit='', value=0.0008554782538927053)], qubits=[15]), Gate(gate='u3', parameters=[Nduv(date=datetime.datetime(2019, 4, 23, 20, 48, 46, tzinfo=tzutc()), name='gate_error', unit='', value=0.0017109565077854105)], qubits=[15]), Gate(gate='u1', parameters=[Nduv(date=datetime.datetime(2019, 4, 23, 20, 48, 46, tzinfo=tzutc()), name='gate_error', unit='', value=0.0)], qubits=[16]), Gate(gate='u2', parameters=[Nduv(date=datetime.datetime(2019, 4, 23, 20, 48, 46, tzinfo=tzutc()), name='gate_error', unit='', value=0.0006266524877751589)], qubits=[16]), Gate(gate='u3', parameters=[Nduv(date=datetime.datetime(2019, 4, 23, 20, 48, 46, tzinfo=tzutc()), name='gate_error', unit='', value=0.0012533049755503178)], qubits=[16]), Gate(gate='u1', parameters=[Nduv(date=datetime.datetime(2019, 4, 23, 20, 51, 20, tzinfo=tzutc()), name='gate_error', unit='', value=0.0)], qubits=[17]), Gate(gate='u2', parameters=[Nduv(date=datetime.datetime(2019, 4, 23, 20, 51, 20, tzinfo=tzutc()), name='gate_error', unit='', value=0.000816844442418585)], qubits=[17]), Gate(gate='u3', parameters=[Nduv(date=datetime.datetime(2019, 4, 23, 20, 51, 20, tzinfo=tzutc()), name='gate_error', unit='', value=0.00163368888483717)], qubits=[17]), Gate(gate='u1', parameters=[Nduv(date=datetime.datetime(2019, 4, 23, 20, 48, 46, tzinfo=tzutc()), name='gate_error', unit='', value=0.0)], qubits=[18]), Gate(gate='u2', parameters=[Nduv(date=datetime.datetime(2019, 4, 23, 20, 48, 46, tzinfo=tzutc()), name='gate_error', unit='', value=0.0007923988406196014)], qubits=[18]), Gate(gate='u3', parameters=[Nduv(date=datetime.datetime(2019, 4, 23, 20, 48, 46, tzinfo=tzutc()), name='gate_error', unit='', value=0.0015847976812392028)], qubits=[18]), Gate(gate='u1', parameters=[Nduv(date=datetime.datetime(2019, 4, 23, 20, 48, 46, tzinfo=tzutc()), name='gate_error', unit='', value=0.0)], qubits=[19]), Gate(gate='u2', parameters=[Nduv(date=datetime.datetime(2019, 4, 23, 20, 48, 46, tzinfo=tzutc()), name='gate_error', unit='', value=0.0009213469643168937)], qubits=[19]), Gate(gate='u3', parameters=[Nduv(date=datetime.datetime(2019, 4, 23, 20, 48, 46, tzinfo=tzutc()), name='gate_error', unit='', value=0.0018426939286337873)], qubits=[19]), Gate(gate='cx', name='cx0_1', parameters=[Nduv(date=datetime.datetime(2019, 4, 23, 21, 18, 52, tzinfo=tzutc()), name='gate_error', unit='', value=0.02133754525274903)], qubits=[0, 1]), Gate(gate='cx', name='CX0_5', parameters=[Nduv(date=datetime.datetime(2019, 4, 23, 21, 25, 56, tzinfo=tzutc()), name='gate_error', unit='', value=0.03710719150931241)], qubits=[0, 5]), Gate(gate='cx', name='CX1_0', parameters=[Nduv(date=datetime.datetime(2019, 4, 23, 21, 18, 52, tzinfo=tzutc()), name='gate_error', unit='', value=0.02133754525274903)], qubits=[1, 0]), Gate(gate='cx', name='CX1_2', parameters=[Nduv(date=datetime.datetime(2019, 4, 23, 21, 11, 38, tzinfo=tzutc()), name='gate_error', unit='', value=0.012175680856839538)], qubits=[1, 2]), Gate(gate='cx', name='cx2_1', parameters=[Nduv(date=datetime.datetime(2019, 4, 23, 21, 11, 38, tzinfo=tzutc()), name='gate_error', unit='', value=0.012175680856839538)], qubits=[2, 1]), Gate(gate='cx', name='CX2_3', parameters=[Nduv(date=datetime.datetime(2019, 4, 23, 21, 4, 10, tzinfo=tzutc()), name='gate_error', unit='', value=0.022053754657076124)], qubits=[2, 3]), Gate(gate='cx', name='cx3_2', parameters=[Nduv(date=datetime.datetime(2019, 4, 23, 21, 4, 10, tzinfo=tzutc()), name='gate_error', unit='', value=0.022053754657076124)], qubits=[3, 2]), Gate(gate='cx', name='CX3_4', parameters=[Nduv(date=datetime.datetime(2019, 4, 23, 20, 57, 4, tzinfo=tzutc()), name='gate_error', unit='', value=0.019631963653578832)], qubits=[3, 4]), Gate(gate='cx', name='cx4_3', parameters=[Nduv(date=datetime.datetime(2019, 4, 23, 20, 57, 4, tzinfo=tzutc()), name='gate_error', unit='', value=0.019631963653578832)], qubits=[4, 3]), Gate(gate='cx', name='CX4_9', parameters=[Nduv(date=datetime.datetime(2019, 4, 23, 21, 33, 1, tzinfo=tzutc()), name='gate_error', unit='', value=0.023320833289738524)], qubits=[4, 9]), Gate(gate='cx', name='cx5_0', parameters=[Nduv(date=datetime.datetime(2019, 4, 23, 21, 25, 56, tzinfo=tzutc()), name='gate_error', unit='', value=0.03710719150931241)], qubits=[5, 0]), Gate(gate='cx', name='cx5_6', parameters=[Nduv(date=datetime.datetime(2019, 4, 23, 22, 11, 21, tzinfo=tzutc()), name='gate_error', unit='', value=0.018379892368420025)], qubits=[5, 6]), Gate(gate='cx', name='cx5_10', parameters=[Nduv(date=datetime.datetime(2019, 4, 23, 22, 14, 55, tzinfo=tzutc()), name='gate_error', unit='', value=0.017903566367976825)], qubits=[5, 10]), Gate(gate='cx', name='CX6_5', parameters=[Nduv(date=datetime.datetime(2019, 4, 23, 22, 11, 21, tzinfo=tzutc()), name='gate_error', unit='', value=0.018379892368420025)], qubits=[6, 5]), Gate(gate='cx', name='CX6_7', parameters=[Nduv(date=datetime.datetime(2019, 4, 23, 22, 7, 43, tzinfo=tzutc()), name='gate_error', unit='', value=0.01522387728736882)], qubits=[6, 7]), Gate(gate='cx', name='cx7_6', parameters=[Nduv(date=datetime.datetime(2019, 4, 23, 22, 7, 43, tzinfo=tzutc()), name='gate_error', unit='', value=0.01522387728736882)], qubits=[7, 6]), Gate(gate='cx', name='CX7_8', parameters=[Nduv(date=datetime.datetime(2019, 4, 23, 21, 54, 21, tzinfo=tzutc()), name='gate_error', unit='', value=0.02163483000431371)], qubits=[7, 8]), Gate(gate='cx', name='cx7_12', parameters=[Nduv(date=datetime.datetime(2019, 4, 23, 22, 1, 30, tzinfo=tzutc()), name='gate_error', unit='', value=0.013769131545205038)], qubits=[7, 12]), Gate(gate='cx', name='cx8_7', parameters=[Nduv(date=datetime.datetime(2019, 4, 23, 21, 54, 21, tzinfo=tzutc()), name='gate_error', unit='', value=0.02163483000431371)], qubits=[8, 7]), Gate(gate='cx', name='CX8_9', parameters=[Nduv(date=datetime.datetime(2019, 4, 23, 21, 40, 5, tzinfo=tzutc()), name='gate_error', unit='', value=0.022027679681995066)], qubits=[8, 9]), Gate(gate='cx', name='cx9_4', parameters=[Nduv(date=datetime.datetime(2019, 4, 23, 21, 33, 1, tzinfo=tzutc()), name='gate_error', unit='', value=0.023320833289738524)], qubits=[9, 4]), Gate(gate='cx', name='cx9_8', parameters=[Nduv(date=datetime.datetime(2019, 4, 23, 21, 40, 5, tzinfo=tzutc()), name='gate_error', unit='', value=0.022027679681995066)], qubits=[9, 8]), Gate(gate='cx', name='cx9_14', parameters=[Nduv(date=datetime.datetime(2019, 4, 23, 21, 47, 12, tzinfo=tzutc()), name='gate_error', unit='', value=0.01572133832539313)], qubits=[9, 14]), Gate(gate='cx', name='CX10_5', parameters=[Nduv(date=datetime.datetime(2019, 4, 23, 22, 14, 55, tzinfo=tzutc()), name='gate_error', unit='', value=0.017903566367976825)], qubits=[10, 5]), Gate(gate='cx', name='cx10_11', parameters=[Nduv(date=datetime.datetime(2019, 4, 23, 22, 32, 50, tzinfo=tzutc()), name='gate_error', unit='', value=0.021005967053865787)], qubits=[10, 11]), Gate(gate='cx', name='CX10_15', parameters=[Nduv(date=datetime.datetime(2019, 4, 23, 22, 50, 47, tzinfo=tzutc()), name='gate_error', unit='', value=0.012872099469662501)], qubits=[10, 15]), Gate(gate='cx', name='CX11_10', parameters=[Nduv(date=datetime.datetime(2019, 4, 23, 22, 32, 50, tzinfo=tzutc()), name='gate_error', unit='', value=0.021005967053865787)], qubits=[11, 10]), Gate(gate='cx', name='cx11_12', parameters=[Nduv(date=datetime.datetime(2019, 4, 23, 22, 29, 16, tzinfo=tzutc()), name='gate_error', unit='', value=0.013723798588106406)], qubits=[11, 12]), Gate(gate='cx', name='CX12_7', parameters=[Nduv(date=datetime.datetime(2019, 4, 23, 22, 1, 30, tzinfo=tzutc()), name='gate_error', unit='', value=0.013769131545205038)], qubits=[12, 7]), Gate(gate='cx', name='CX12_11', parameters=[Nduv(date=datetime.datetime(2019, 4, 23, 22, 29, 16, tzinfo=tzutc()), name='gate_error', unit='', value=0.013723798588106406)], qubits=[12, 11]), Gate(gate='cx', name='cx12_13', parameters=[Nduv(date=datetime.datetime(2019, 4, 23, 22, 25, 44, tzinfo=tzutc()), name='gate_error', unit='', value=0.0322349628830417)], qubits=[12, 13]), Gate(gate='cx', name='CX13_12', parameters=[Nduv(date=datetime.datetime(2019, 4, 23, 22, 25, 44, tzinfo=tzutc()), name='gate_error', unit='', value=0.0322349628830417)], qubits=[13, 12]), Gate(gate='cx', name='cx13_14', parameters=[Nduv(date=datetime.datetime(2019, 4, 23, 22, 22, 10, tzinfo=tzutc()), name='gate_error', unit='', value=0.023617817170774186)], qubits=[13, 14]), Gate(gate='cx', name='CX14_9', parameters=[Nduv(date=datetime.datetime(2019, 4, 23, 21, 47, 12, tzinfo=tzutc()), name='gate_error', unit='', value=0.01572133832539313)], qubits=[14, 9]), Gate(gate='cx', name='CX14_13', parameters=[Nduv(date=datetime.datetime(2019, 4, 23, 22, 22, 10, tzinfo=tzutc()), name='gate_error', unit='', value=0.023617817170774186)], qubits=[14, 13]), Gate(gate='cx', name='cx14_19', parameters=[Nduv(date=datetime.datetime(2019, 4, 23, 22, 18, 30, tzinfo=tzutc()), name='gate_error', unit='', value=0.01630946293935634)], qubits=[14, 19]), Gate(gate='cx', name='cx15_10', parameters=[Nduv(date=datetime.datetime(2019, 4, 23, 22, 50, 47, tzinfo=tzutc()), name='gate_error', unit='', value=0.012872099469662501)], qubits=[15, 10]), Gate(gate='cx', name='CX15_16', parameters=[Nduv(date=datetime.datetime(2019, 4, 23, 22, 47, 10, tzinfo=tzutc()), name='gate_error', unit='', value=0.017864573401570272)], qubits=[15, 16]), Gate(gate='cx', name='cx16_15', parameters=[Nduv(date=datetime.datetime(2019, 4, 23, 22, 47, 10, tzinfo=tzutc()), name='gate_error', unit='', value=0.017864573401570272)], qubits=[16, 15]), Gate(gate='cx', name='cx16_17', parameters=[Nduv(date=datetime.datetime(2019, 4, 23, 22, 43, 37, tzinfo=tzutc()), name='gate_error', unit='', value=0.018426455909182266)], qubits=[16, 17]), Gate(gate='cx', name='CX17_16', parameters=[Nduv(date=datetime.datetime(2019, 4, 23, 22, 43, 37, tzinfo=tzutc()), name='gate_error', unit='', value=0.018426455909182266)], qubits=[17, 16]), Gate(gate='cx', name='CX17_18', parameters=[Nduv(date=datetime.datetime(2019, 4, 23, 22, 40, 1, tzinfo=tzutc()), name='gate_error', unit='', value=0.015430984255877717)], qubits=[17, 18]), Gate(gate='cx', name='cx18_17', parameters=[Nduv(date=datetime.datetime(2019, 4, 23, 22, 40, 1, tzinfo=tzutc()), name='gate_error', unit='', value=0.015430984255877717)], qubits=[18, 17]), Gate(gate='cx', name='CX18_19', parameters=[Nduv(date=datetime.datetime(2019, 4, 23, 22, 36, 24, tzinfo=tzutc()), name='gate_error', unit='', value=0.012865550754989297)], qubits=[18, 19]), Gate(gate='cx', name='CX19_14', parameters=[Nduv(date=datetime.datetime(2019, 4, 23, 22, 18, 30, tzinfo=tzutc()), name='gate_error', unit='', value=0.01630946293935634)], qubits=[19, 14]), Gate(gate='cx', name='cx19_18', parameters=[Nduv(date=datetime.datetime(2019, 4, 23, 22, 36, 24, tzinfo=tzutc()), name='gate_error', unit='', value=0.012865550754989297)], qubits=[19, 18])], general=[], last_update_date=datetime.datetime(2019, 4, 23, 22, 50, 47, tzinfo=tzutc()), qubits=[[Nduv(date=datetime.datetime(2019, 4, 21, 20, 22, 11, tzinfo=tzutc()), name='T1', unit='µs', value=53.714539532175465), Nduv(date=datetime.datetime(2019, 4, 23, 20, 42, 52, tzinfo=tzutc()), name='T2', unit='µs', value=41.36209625089153), Nduv(date=datetime.datetime(2019, 4, 23, 22, 50, 47, tzinfo=tzutc()), name='frequency', unit='GHz', value=4.919988770911416), Nduv(date=datetime.datetime(2019, 4, 23, 20, 37, 59, tzinfo=tzutc()), name='readout_error', unit='', value=0.06299999999999994)], [Nduv(date=datetime.datetime(2019, 4, 23, 20, 40, 14, tzinfo=tzutc()), name='T1', unit='µs', value=60.53849087316687), Nduv(date=datetime.datetime(2019, 4, 23, 20, 45, 48, tzinfo=tzutc()), name='T2', unit='µs', value=104.67746431352593), Nduv(date=datetime.datetime(2019, 4, 23, 22, 50, 47, tzinfo=tzutc()), name='frequency', unit='GHz', value=4.831991003716689), Nduv(date=datetime.datetime(2019, 4, 23, 20, 37, 59, tzinfo=tzutc()), name='readout_error', unit='', value=0.03300000000000003)], [Nduv(date=datetime.datetime(2019, 4, 23, 20, 40, 14, tzinfo=tzutc()), name='T1', unit='µs', value=45.92153545144271), Nduv(date=datetime.datetime(2019, 4, 23, 20, 42, 52, tzinfo=tzutc()), name='T2', unit='µs', value=78.23606756517954), Nduv(date=datetime.datetime(2019, 4, 23, 22, 50, 47, tzinfo=tzutc()), name='frequency', unit='GHz', value=4.939785649195245), Nduv(date=datetime.datetime(2019, 4, 23, 20, 37, 59, tzinfo=tzutc()), name='readout_error', unit='', value=0.03200000000000003)], [Nduv(date=datetime.datetime(2019, 4, 23, 20, 40, 14, tzinfo=tzutc()), name='T1', unit='µs', value=95.47513680772879), Nduv(date=datetime.datetime(2019, 4, 23, 20, 45, 48, tzinfo=tzutc()), name='T2', unit='µs', value=96.10520687737763), Nduv(date=datetime.datetime(2019, 4, 23, 22, 50, 47, tzinfo=tzutc()), name='frequency', unit='GHz', value=4.515107848320361), Nduv(date=datetime.datetime(2019, 4, 23, 20, 37, 59, tzinfo=tzutc()), name='readout_error', unit='', value=0.09299999999999997)], [Nduv(date=datetime.datetime(2019, 4, 23, 20, 40, 14, tzinfo=tzutc()), name='T1', unit='µs', value=99.09898491461252), Nduv(date=datetime.datetime(2019, 4, 23, 20, 42, 52, tzinfo=tzutc()), name='T2', unit='µs', value=91.85519681759962), Nduv(date=datetime.datetime(2019, 4, 23, 22, 50, 47, tzinfo=tzutc()), name='frequency', unit='GHz', value=4.662622132040355), Nduv(date=datetime.datetime(2019, 4, 23, 20, 37, 59, tzinfo=tzutc()), name='readout_error', unit='', value=0.050000000000000044)], [Nduv(date=datetime.datetime(2019, 4, 23, 20, 40, 14, tzinfo=tzutc()), name='T1', unit='µs', value=60.88941950442374), Nduv(date=datetime.datetime(2019, 4, 23, 20, 45, 48, tzinfo=tzutc()), name='T2', unit='µs', value=31.03511898946171), Nduv(date=datetime.datetime(2019, 4, 23, 22, 50, 47, tzinfo=tzutc()), name='frequency', unit='GHz', value=4.9571346644423295), Nduv(date=datetime.datetime(2019, 4, 23, 20, 37, 59, tzinfo=tzutc()), name='readout_error', unit='', value=0.04899999999999993)], [Nduv(date=datetime.datetime(2019, 4, 23, 20, 40, 14, tzinfo=tzutc()), name='T1', unit='µs', value=76.43598783405118), Nduv(date=datetime.datetime(2019, 4, 23, 20, 42, 52, tzinfo=tzutc()), name='T2', unit='µs', value=119.6381019129096), Nduv(date=datetime.datetime(2019, 4, 23, 22, 50, 47, tzinfo=tzutc()), name='frequency', unit='GHz', value=4.995405176199017), Nduv(date=datetime.datetime(2019, 4, 23, 20, 37, 59, tzinfo=tzutc()), name='readout_error', unit='', value=0.03299999999999992)], [Nduv(date=datetime.datetime(2019, 4, 23, 20, 40, 14, tzinfo=tzutc()), name='T1', unit='µs', value=24.384266718187273), Nduv(date=datetime.datetime(2019, 4, 8, 14, 32, 13, tzinfo=tzutc()), name='T2', unit='µs', value=65.94764092363593), Nduv(date=datetime.datetime(2019, 4, 23, 22, 50, 47, tzinfo=tzutc()), name='frequency', unit='GHz', value=4.811052728077037), Nduv(date=datetime.datetime(2019, 4, 23, 20, 37, 59, tzinfo=tzutc()), name='readout_error', unit='', value=0.05400000000000005)], [Nduv(date=datetime.datetime(2019, 4, 23, 20, 40, 14, tzinfo=tzutc()), name='T1', unit='µs', value=61.04840897219566), Nduv(date=datetime.datetime(2019, 4, 23, 20, 42, 52, tzinfo=tzutc()), name='T2', unit='µs', value=71.48505645640748), Nduv(date=datetime.datetime(2019, 4, 23, 22, 50, 47, tzinfo=tzutc()), name='frequency', unit='GHz', value=5.013342188743206), Nduv(date=datetime.datetime(2019, 4, 23, 20, 37, 59, tzinfo=tzutc()), name='readout_error', unit='', value=0.02200000000000002)], [Nduv(date=datetime.datetime(2019, 4, 23, 20, 40, 14, tzinfo=tzutc()), name='T1', unit='µs', value=73.31944622532455), Nduv(date=datetime.datetime(2019, 4, 23, 20, 45, 48, tzinfo=tzutc()), name='T2', unit='µs', value=96.03068782334459), Nduv(date=datetime.datetime(2019, 4, 23, 22, 50, 47, tzinfo=tzutc()), name='frequency', unit='GHz', value=5.056787467473499), Nduv(date=datetime.datetime(2019, 4, 23, 20, 37, 59, tzinfo=tzutc()), name='readout_error', unit='', value=0.019000000000000017)], [Nduv(date=datetime.datetime(2019, 4, 23, 20, 40, 14, tzinfo=tzutc()), name='T1', unit='µs', value=78.89033035340178), Nduv(date=datetime.datetime(2019, 4, 23, 20, 42, 52, tzinfo=tzutc()), name='T2', unit='µs', value=12.237969694223507), Nduv(date=datetime.datetime(2019, 4, 23, 22, 50, 47, tzinfo=tzutc()), name='frequency', unit='GHz', value=4.71969728542866), Nduv(date=datetime.datetime(2019, 4, 23, 20, 37, 59, tzinfo=tzutc()), name='readout_error', unit='', value=0.05800000000000005)], [Nduv(date=datetime.datetime(2019, 4, 23, 20, 40, 14, tzinfo=tzutc()), name='T1', unit='µs', value=75.87306413487298), Nduv(date=datetime.datetime(2019, 4, 23, 20, 45, 48, tzinfo=tzutc()), name='T2', unit='µs', value=106.93132572840997), Nduv(date=datetime.datetime(2019, 4, 23, 22, 50, 47, tzinfo=tzutc()), name='frequency', unit='GHz', value=4.900170100433895), Nduv(date=datetime.datetime(2019, 4, 23, 20, 37, 59, tzinfo=tzutc()), name='readout_error', unit='', value=0.04800000000000004)], [Nduv(date=datetime.datetime(2019, 4, 23, 20, 40, 14, tzinfo=tzutc()), name='T1', unit='µs', value=85.10614332551293), Nduv(date=datetime.datetime(2019, 4, 23, 20, 42, 52, tzinfo=tzutc()), name='T2', unit='µs', value=10.33052115009146), Nduv(date=datetime.datetime(2019, 4, 23, 22, 50, 47, tzinfo=tzutc()), name='frequency', unit='GHz', value=4.772408802120016), Nduv(date=datetime.datetime(2019, 4, 23, 20, 37, 59, tzinfo=tzutc()), name='readout_error', unit='', value=0.02200000000000002)], [Nduv(date=datetime.datetime(2019, 4, 23, 20, 40, 14, tzinfo=tzutc()), name='T1', unit='µs', value=55.630301857188456), Nduv(date=datetime.datetime(2019, 4, 8, 14, 34, 31, tzinfo=tzutc()), name='T2', unit='µs', value=54.995402907206554), Nduv(date=datetime.datetime(2019, 4, 23, 22, 50, 47, tzinfo=tzutc()), name='frequency', unit='GHz', value=5.110502519783277), Nduv(date=datetime.datetime(2019, 4, 23, 20, 37, 59, tzinfo=tzutc()), name='readout_error', unit='', value=0.050999999999999934)], [Nduv(date=datetime.datetime(2019, 4, 23, 20, 40, 14, tzinfo=tzutc()), name='T1', unit='µs', value=73.88332707840163), Nduv(date=datetime.datetime(2019, 4, 23, 20, 42, 52, tzinfo=tzutc()), name='T2', unit='µs', value=71.59583992677842), Nduv(date=datetime.datetime(2019, 4, 23, 22, 50, 47, tzinfo=tzutc()), name='frequency', unit='GHz', value=4.9906314328008525), Nduv(date=datetime.datetime(2019, 4, 23, 20, 37, 59, tzinfo=tzutc()), name='readout_error', unit='', value=0.04300000000000004)], [Nduv(date=datetime.datetime(2019, 4, 23, 20, 40, 14, tzinfo=tzutc()), name='T1', unit='µs', value=45.27033781396229), Nduv(date=datetime.datetime(2019, 4, 23, 20, 45, 48, tzinfo=tzutc()), name='T2', unit='µs', value=32.874709159200314), Nduv(date=datetime.datetime(2019, 4, 23, 22, 50, 47, tzinfo=tzutc()), name='frequency', unit='GHz', value=4.806466223525763), Nduv(date=datetime.datetime(2019, 4, 23, 20, 37, 59, tzinfo=tzutc()), name='readout_error', unit='', value=0.04299999999999993)], [Nduv(date=datetime.datetime(2019, 4, 23, 20, 40, 14, tzinfo=tzutc()), name='T1', unit='µs', value=97.26883951850655), Nduv(date=datetime.datetime(2019, 4, 23, 20, 42, 52, tzinfo=tzutc()), name='T2', unit='µs', value=64.74193055378683), Nduv(date=datetime.datetime(2019, 4, 23, 22, 50, 47, tzinfo=tzutc()), name='frequency', unit='GHz', value=4.955897693043068), Nduv(date=datetime.datetime(2019, 4, 23, 20, 37, 59, tzinfo=tzutc()), name='readout_error', unit='', value=0.025000000000000022)], [Nduv(date=datetime.datetime(2019, 4, 23, 20, 40, 14, tzinfo=tzutc()), name='T1', unit='µs', value=64.28012781032818), Nduv(date=datetime.datetime(2019, 4, 23, 20, 45, 48, tzinfo=tzutc()), name='T2', unit='µs', value=18.773916800777087), Nduv(date=datetime.datetime(2019, 4, 23, 22, 50, 47, tzinfo=tzutc()), name='frequency', unit='GHz', value=4.59971279529418), Nduv(date=datetime.datetime(2019, 4, 23, 20, 37, 59, tzinfo=tzutc()), name='readout_error', unit='', value=0.07899999999999996)], [Nduv(date=datetime.datetime(2019, 4, 23, 20, 40, 14, tzinfo=tzutc()), name='T1', unit='µs', value=98.44293498110775), Nduv(date=datetime.datetime(2019, 4, 23, 20, 42, 52, tzinfo=tzutc()), name='T2', unit='µs', value=116.0454313737687), Nduv(date=datetime.datetime(2019, 4, 23, 22, 50, 47, tzinfo=tzutc()), name='frequency', unit='GHz', value=4.8283477151762915), Nduv(date=datetime.datetime(2019, 4, 23, 20, 37, 59, tzinfo=tzutc()), name='readout_error', unit='', value=0.04800000000000004)], [Nduv(date=datetime.datetime(2019, 4, 23, 20, 40, 14, tzinfo=tzutc()), name='T1', unit='µs', value=68.06130764676172), Nduv(date=datetime.datetime(2019, 4, 23, 20, 45, 48, tzinfo=tzutc()), name='T2', unit='µs', value=107.39342069235805), Nduv(date=datetime.datetime(2019, 4, 23, 22, 50, 47, tzinfo=tzutc()), name='frequency', unit='GHz', value=4.938435985822405), Nduv(date=datetime.datetime(2019, 4, 23, 20, 37, 59, tzinfo=tzutc()), name='readout_error', unit='', value=0.050999999999999934)]])\n"
     ]
    }
   ],
   "source": [
    "properties = q_backend.properties()\n",
    "print(properties)"
   ]
  },
  {
   "cell_type": "markdown",
   "metadata": {
    "slideshow": {
     "slide_type": "slide"
    }
   },
   "source": [
    "# A Prettier Device Overview\n",
    "\n",
    "Terra's Jupyter tools can display this in human-readable format. Note that explanations of much of the data below can be found in the [Qiskit Backend Specifications for OpenQASM and OpenPulse Experiments](https://arxiv.org/abs/1809.03452) paper."
   ]
  },
  {
   "cell_type": "code",
   "execution_count": 41,
   "metadata": {
    "slideshow": {
     "slide_type": "-"
    }
   },
   "outputs": [],
   "source": [
    "from qiskit.tools.jupyter import *"
   ]
  },
  {
   "cell_type": "code",
   "execution_count": 42,
   "metadata": {
    "slideshow": {
     "slide_type": "slide"
    }
   },
   "outputs": [
    {
     "data": {
      "application/vnd.jupyter.widget-view+json": {
       "model_id": "587c8d5ed6894937be757c5872f38ad7",
       "version_major": 2,
       "version_minor": 0
      },
      "text/plain": [
       "VBox(children=(HTML(value=\"<h2 style ='color:#ffffff; background-color:#000000;padding-top: 1%; padding-bottom…"
      ]
     },
     "metadata": {},
     "output_type": "display_data"
    }
   ],
   "source": [
    "%qiskit_backend_overview"
   ]
  },
  {
   "cell_type": "markdown",
   "metadata": {
    "slideshow": {
     "slide_type": "slide"
    }
   },
   "source": [
    "# Diving into a Specific Backend"
   ]
  },
  {
   "cell_type": "code",
   "execution_count": 43,
   "metadata": {},
   "outputs": [
    {
     "data": {
      "application/vnd.jupyter.widget-view+json": {
       "model_id": "f7961af08cdc4b18ae41c2aa4d9bff08",
       "version_major": 2,
       "version_minor": 0
      },
      "text/plain": [
       "VBox(children=(HTML(value=\"<h1 style='color:#ffffff;background-color:#000000;padding-top: 1%;padding-bottom: 1…"
      ]
     },
     "metadata": {},
     "output_type": "display_data"
    }
   ],
   "source": [
    "%qiskit_backend_monitor q_backend"
   ]
  },
  {
   "cell_type": "markdown",
   "metadata": {
    "slideshow": {
     "slide_type": "slide"
    }
   },
   "source": [
    "# Modelling Noise in Aer Based on a Device's Properties\n",
    "\n",
    "Now that we have these properties, we want to create a noise model for the qasm_simulator which closely resembles this device. A new feature in Aer allows you to do just that. Much of the content below is drawn from [this notebook](https://github.com/Qiskit/qiskit-tutorials/blob/master/qiskit/aer/device_noise_simulation.ipynb) 📒."
   ]
  },
  {
   "cell_type": "code",
   "execution_count": 44,
   "metadata": {
    "slideshow": {
     "slide_type": "-"
    }
   },
   "outputs": [],
   "source": [
    "from qiskit.providers.aer import noise"
   ]
  },
  {
   "cell_type": "code",
   "execution_count": 51,
   "metadata": {
    "slideshow": {
     "slide_type": "-"
    }
   },
   "outputs": [
    {
     "name": "stdout",
     "output_type": "stream",
     "text": [
      "NoiseModel:\n",
      "  Instructions with noise: ['u2', 'cx', 'u3', 'measure']\n",
      "  Specific qubit errors: [('u2', [0]), ('u2', [1]), ('u2', [2]), ('u2', [3]), ('u2', [4]), ('u2', [5]), ('u2', [6]), ('u2', [7]), ('u2', [8]), ('u2', [9]), ('u2', [10]), ('u2', [11]), ('u2', [12]), ('u2', [13]), ('u2', [14]), ('u2', [15]), ('u2', [16]), ('u2', [17]), ('u2', [18]), ('u2', [19]), ('u3', [0]), ('u3', [1]), ('u3', [2]), ('u3', [3]), ('u3', [4]), ('u3', [5]), ('u3', [6]), ('u3', [7]), ('u3', [8]), ('u3', [9]), ('u3', [10]), ('u3', [11]), ('u3', [12]), ('u3', [13]), ('u3', [14]), ('u3', [15]), ('u3', [16]), ('u3', [17]), ('u3', [18]), ('u3', [19]), ('cx', [0, 1]), ('cx', [0, 5]), ('cx', [1, 0]), ('cx', [1, 2]), ('cx', [2, 1]), ('cx', [2, 3]), ('cx', [3, 2]), ('cx', [3, 4]), ('cx', [4, 3]), ('cx', [4, 9]), ('cx', [5, 0]), ('cx', [5, 6]), ('cx', [5, 10]), ('cx', [6, 5]), ('cx', [6, 7]), ('cx', [7, 6]), ('cx', [7, 8]), ('cx', [7, 12]), ('cx', [8, 7]), ('cx', [8, 9]), ('cx', [9, 4]), ('cx', [9, 8]), ('cx', [9, 14]), ('cx', [10, 5]), ('cx', [10, 11]), ('cx', [10, 15]), ('cx', [11, 10]), ('cx', [11, 12]), ('cx', [12, 7]), ('cx', [12, 11]), ('cx', [12, 13]), ('cx', [13, 12]), ('cx', [13, 14]), ('cx', [14, 9]), ('cx', [14, 13]), ('cx', [14, 19]), ('cx', [15, 10]), ('cx', [15, 16]), ('cx', [16, 15]), ('cx', [16, 17]), ('cx', [17, 16]), ('cx', [17, 18]), ('cx', [18, 17]), ('cx', [18, 19]), ('cx', [19, 14]), ('cx', [19, 18]), ('measure', [0]), ('measure', [1]), ('measure', [2]), ('measure', [3]), ('measure', [4]), ('measure', [5]), ('measure', [6]), ('measure', [7]), ('measure', [8]), ('measure', [9]), ('measure', [10]), ('measure', [11]), ('measure', [12]), ('measure', [13]), ('measure', [14]), ('measure', [15]), ('measure', [16]), ('measure', [17]), ('measure', [18]), ('measure', [19])]\n"
     ]
    },
    {
     "name": "stderr",
     "output_type": "stream",
     "text": [
      "/Users/donny.greenberg@ibm.com/code/lib/python3.6/site-packages/qiskit/providers/aer/noise/errors/quantum_error.py:405: DeprecationWarning: The kron() method is deprecated and will be removed in a future release. Use QuantumError.tensor instead.\n",
      "  DeprecationWarning)\n"
     ]
    }
   ],
   "source": [
    "# List of gate times for ibmq_14_melbourne device\n",
    "# Note that the None parameter for u1, u2, u3 is because gate\n",
    "# times are the same for all qubits\n",
    "gate_times = [\n",
    "    ('u1', None, 0), ('u2', None, 50), ('u3', None, 100),\n",
    "    ('cx', [1, 0], 478), # I can add gate times for specific couplings, or all couplings\n",
    "    ('cx', [], 400)\n",
    "]\n",
    "\n",
    "# Construct the noise model from backend properties\n",
    "# and custom gate times\n",
    "noise_model = noise.device.basic_device_noise_model(properties, gate_times=gate_times)\n",
    "print(noise_model)"
   ]
  },
  {
   "cell_type": "markdown",
   "metadata": {
    "slideshow": {
     "slide_type": "slide"
    }
   },
   "source": [
    "# Executing Our QPE Circuit with Our Noise Model\n",
    "\n",
    "Now, let's use this model to simulate our QPE circuit. Note, this can take a few minutes to run."
   ]
  },
  {
   "cell_type": "code",
   "execution_count": 68,
   "metadata": {
    "slideshow": {
     "slide_type": "-"
    }
   },
   "outputs": [
    {
     "data": {
      "image/png": "[encoded data removed]",
      "text/plain": [
       "<Figure size 504x360 with 1 Axes>"
      ]
     },
     "execution_count": 68,
     "metadata": {},
     "output_type": "execute_result"
    }
   ],
   "source": [
    "shots = 100\n",
    "basis_gates = noise_model.basis_gates\n",
    "\n",
    "# Select the QasmSimulator from the Aer provider\n",
    "simulator = Aer.get_backend('qasm_simulator')\n",
    "coupling_map = configuration.coupling_map\n",
    "\n",
    "# Execute noisy simulation and get counts\n",
    "result_noise = execute(x_qpe_qc, simulator, \n",
    "                       shots=shots,\n",
    "                       noise_model=noise_model,\n",
    "                       coupling_map=coupling_map,\n",
    "                       basis_gates=basis_gates).result()\n",
    "counts_noise = result_noise.get_counts(x_qpe_qc)\n",
    "plot_histogram(counts_noise, title=\"Counts for QPE circuit with depolarizing noise model\")"
   ]
  },
  {
   "cell_type": "code",
   "execution_count": 70,
   "metadata": {
    "slideshow": {
     "slide_type": "slide"
    }
   },
   "outputs": [
    {
     "data": {
      "text/plain": [
       "0.65"
      ]
     },
     "execution_count": 70,
     "metadata": {},
     "output_type": "execute_result"
    }
   ],
   "source": [
    "# And now our phase estimate:\n",
    "angles = np.array([v*int(k, 2) for k, v in counts_noise.items()]) / shots / 2**(n-1)\n",
    "res = 2*sum(angles)\n",
    "np.around(res, decimals=5)"
   ]
  },
  {
   "cell_type": "markdown",
   "metadata": {},
   "source": [
    "We seem to be getting a not terrible answer, so let's try running on the **Qauntum hardware**."
   ]
  },
  {
   "cell_type": "markdown",
   "metadata": {
    "slideshow": {
     "slide_type": "slide"
    }
   },
   "source": [
    "# Executing on Quantum Hardware\n",
    "\n",
    "### Back again to our circuit:"
   ]
  },
  {
   "cell_type": "code",
   "execution_count": 52,
   "metadata": {
    "slideshow": {
     "slide_type": "-"
    }
   },
   "outputs": [
    {
     "data": {
      "text/html": [
       "<pre style=\"word-wrap: normal;white-space: pre;line-height: 15px;\">                        ░ ┌───┐           ░ ┌───┐                                      ░ ┌─┐      \n",
       "q1_0: |0>───────────────░─┤ H ├──■────────░─┤ H ├─■────────■───────────────────────────░─┤M├──────\n",
       "                        ░ ├───┤  │        ░ └───┘ │1.5708  │       ┌───┐               ░ └╥┘┌─┐   \n",
       "q1_1: |0>───────────────░─┤ H ├──┼────────░───────■────────┼───────┤ H ├─■─────────────░──╫─┤M├───\n",
       "                        ░ ├───┤  │        ░                │0.7854 └───┘ │1.5708 ┌───┐ ░  ║ └╥┘┌─┐\n",
       "q1_2: |0>───────────────░─┤ H ├──┼────■───░────────────────■─────────────■───────┤ H ├─░──╫──╫─┤M├\n",
       "         ┌────────────┐ ░ └───┘┌─┴─┐┌─┴─┐ ░                                      └───┘ ░  ║  ║ └╥┘\n",
       "q1_3: |0>┤ Rx(1.5708) ├─░──────┤ X ├┤ X ├─░────────────────────────────────────────────░──╫──╫──╫─\n",
       "         └────────────┘ ░      └───┘└───┘ ░                                            ░  ║  ║  ║ \n",
       " c1_0: 0 ═════════════════════════════════════════════════════════════════════════════════╩══╬══╬═\n",
       "                                                                                             ║  ║ \n",
       " c1_1: 0 ════════════════════════════════════════════════════════════════════════════════════╩══╬═\n",
       "                                                                                                ║ \n",
       " c1_2: 0 ═══════════════════════════════════════════════════════════════════════════════════════╩═\n",
       "                                                                                                  \n",
       " c1_3: 0 ═════════════════════════════════════════════════════════════════════════════════════════\n",
       "                                                                                                  </pre>"
      ],
      "text/plain": [
       "<qiskit.visualization.text.TextDrawing at 0x1164db4a8>"
      ]
     },
     "execution_count": 52,
     "metadata": {},
     "output_type": "execute_result"
    }
   ],
   "source": [
    "x_qpe_qc.draw(line_length=200)"
   ]
  },
  {
   "cell_type": "markdown",
   "metadata": {
    "slideshow": {
     "slide_type": "slide"
    }
   },
   "source": [
    "Let's briefly peek at what the transpiler does to the circuit to allow it to execute on our selected device:"
   ]
  },
  {
   "cell_type": "code",
   "execution_count": 54,
   "metadata": {},
   "outputs": [
    {
     "data": {
      "text/html": [
       "<pre style=\"word-wrap: normal;white-space: pre;line-height: 15px;\">                                ░ ┌──────────────┐               ┌───┐          ┌───┐┌───┐ ░                           ┌───┐                                                                  ┌────────────┐                                        ┌──────────────┐ ░       ┌─┐\n",
       " q_0: |0>───────────────────────░─┤ U2(0,3.1416) ├──■────────────┤ X ├───────■──┤ X ├┤ X ├─░────────────────────────■──┤ X ├──────────────────────■────────────────────■───────────────────■──┤ U1(0.7854) ├─────────────────■───────────────────■──┤ U2(0,3.1416) ├─░───────┤M├\n",
       "                                ░ ├──────────────┤  │       ┌───┐└─┬─┘       │  └─┬─┘└─┬─┘ ░ ┌──────────────┐┌───┐  │  └─┬─┘┌─────────────┐┌───┐  │  ┌──────────────┐┌─┴─┐┌─────────────┐┌─┴─┐├────────────┤     ┌───┐     ┌─┴─┐┌─────────────┐┌─┴─┐├──────────────┤ ░    ┌─┐└╥┘\n",
       " q_1: |0>───────────────────────░─┤ U2(0,3.1416) ├──┼────■──┤ X ├──┼────■────┼────■────┼───░─┤ U2(0,3.1416) ├┤ X ├──┼────┼──┤ U1(-0.7854) ├┤ X ├──┼──┤  U1(0.7854)  ├┤ X ├┤ U1(-0.3927) ├┤ X ├┤ U1(0.3927) ├──■──┤ X ├──■──┤ X ├┤ U1(-0.7854) ├┤ X ├┤  U1(0.7854)  ├─░────┤M├─╫─\n",
       "                                ░ ├──────────────┤  │  ┌─┴─┐└─┬─┘  │  ┌─┴─┐  │         │   ░ ├──────────────┤└─┬─┘  │    │  └─────────────┘└─┬─┘  │  ├──────────────┤└───┘└─────────────┘└───┘└────────────┘┌─┴─┐└─┬─┘┌─┴─┐└───┘└─────────────┘└───┘└──────────────┘ ░ ┌─┐└╥┘ ║ \n",
       " q_2: |0>───────────────────────░─┤ U2(0,3.1416) ├──┼──┤ X ├──■────┼──┤ X ├──┼─────────┼───░─┤  U1(0.7854)  ├──■────┼────┼───────────────────■────┼──┤ U2(0,3.1416) ├───────────────────────────────────────┤ X ├──■──┤ X ├──────────────────────────────────────────░─┤M├─╫──╫─\n",
       "                                ░ └──────────────┘  │  └───┘       │  └───┘  │         │   ░ └──────────────┘       │    │                        │  └──────────────┘                                       └───┘     └───┘                                          ░ └╥┘ ║  ║ \n",
       " q_3: |0>───────────────────────────────────────────┼──────────────┼─────────┼─────────┼────────────────────────────┼────┼────────────────────────┼─────────────────────────────────────────────────────────────────────────────────────────────────────────────────────╫──╫──╫─\n",
       "                                                    │              │         │         │                            │    │                        │                                                                                                                     ║  ║  ║ \n",
       " q_4: |0>───────────────────────────────────────────┼──────────────┼─────────┼─────────┼────────────────────────────┼────┼────────────────────────┼─────────────────────────────────────────────────────────────────────────────────────────────────────────────────────╫──╫──╫─\n",
       "         ┌────────────────────┐ ░                 ┌─┴─┐            │       ┌─┴─┐       │   ░ ┌──────────────┐     ┌─┴─┐  │                      ┌─┴─┐                                                                                                                ░  ║  ║  ║ \n",
       " q_5: |0>┤ U2(-1.5708,1.5708) ├─░─────────────────┤ X ├────────────■───────┤ X ├───────■───░─┤  U1(0.3927)  ├─────┤ X ├──■──────────────────────┤ X ├────────────────────────────────────────────────────────────────────────────────────────────────────────────────░──╫──╫──╫─\n",
       "         └────────────────────┘ ░                 └───┘                    └───┘           ░ └──────────────┘     └───┘                         └───┘                                                                                                                ░  ║  ║  ║ \n",
       " q_6: |0>───────────────────────────────────────────────────────────────────────────────────────────────────────────────────────────────────────────────────────────────────────────────────────────────────────────────────────────────────────────────────────────────╫──╫──╫─\n",
       "                                                                                                                                                                                                                                                                        ║  ║  ║ \n",
       " q_7: |0>───────────────────────────────────────────────────────────────────────────────────────────────────────────────────────────────────────────────────────────────────────────────────────────────────────────────────────────────────────────────────────────────╫──╫──╫─\n",
       "                                                                                                                                                                                                                                                                        ║  ║  ║ \n",
       " q_8: |0>───────────────────────────────────────────────────────────────────────────────────────────────────────────────────────────────────────────────────────────────────────────────────────────────────────────────────────────────────────────────────────────────╫──╫──╫─\n",
       "                                                                                                                                                                                                                                                                        ║  ║  ║ \n",
       " q_9: |0>───────────────────────────────────────────────────────────────────────────────────────────────────────────────────────────────────────────────────────────────────────────────────────────────────────────────────────────────────────────────────────────────╫──╫──╫─\n",
       "                                                                                                                                                                                                                                                                        ║  ║  ║ \n",
       "q_10: |0>───────────────────────────────────────────────────────────────────────────────────────────────────────────────────────────────────────────────────────────────────────────────────────────────────────────────────────────────────────────────────────────────╫──╫──╫─\n",
       "                                                                                                                                                                                                                                                                        ║  ║  ║ \n",
       "q_11: |0>───────────────────────────────────────────────────────────────────────────────────────────────────────────────────────────────────────────────────────────────────────────────────────────────────────────────────────────────────────────────────────────────╫──╫──╫─\n",
       "                                                                                                                                                                                                                                                                        ║  ║  ║ \n",
       "q_12: |0>───────────────────────────────────────────────────────────────────────────────────────────────────────────────────────────────────────────────────────────────────────────────────────────────────────────────────────────────────────────────────────────────╫──╫──╫─\n",
       "                                                                                                                                                                                                                                                                        ║  ║  ║ \n",
       "q_13: |0>───────────────────────────────────────────────────────────────────────────────────────────────────────────────────────────────────────────────────────────────────────────────────────────────────────────────────────────────────────────────────────────────╫──╫──╫─\n",
       "                                                                                                                                                                                                                                                                        ║  ║  ║ \n",
       "q_14: |0>───────────────────────────────────────────────────────────────────────────────────────────────────────────────────────────────────────────────────────────────────────────────────────────────────────────────────────────────────────────────────────────────╫──╫──╫─\n",
       "                                                                                                                                                                                                                                                                        ║  ║  ║ \n",
       "q_15: |0>───────────────────────────────────────────────────────────────────────────────────────────────────────────────────────────────────────────────────────────────────────────────────────────────────────────────────────────────────────────────────────────────╫──╫──╫─\n",
       "                                                                                                                                                                                                                                                                        ║  ║  ║ \n",
       "q_16: |0>───────────────────────────────────────────────────────────────────────────────────────────────────────────────────────────────────────────────────────────────────────────────────────────────────────────────────────────────────────────────────────────────╫──╫──╫─\n",
       "                                                                                                                                                                                                                                                                        ║  ║  ║ \n",
       "q_17: |0>───────────────────────────────────────────────────────────────────────────────────────────────────────────────────────────────────────────────────────────────────────────────────────────────────────────────────────────────────────────────────────────────╫──╫──╫─\n",
       "                                                                                                                                                                                                                                                                        ║  ║  ║ \n",
       "q_18: |0>───────────────────────────────────────────────────────────────────────────────────────────────────────────────────────────────────────────────────────────────────────────────────────────────────────────────────────────────────────────────────────────────╫──╫──╫─\n",
       "                                                                                                                                                                                                                                                                        ║  ║  ║ \n",
       "q_19: |0>───────────────────────────────────────────────────────────────────────────────────────────────────────────────────────────────────────────────────────────────────────────────────────────────────────────────────────────────────────────────────────────────╫──╫──╫─\n",
       "                                                                                                                                                                                                                                                                        ║  ║  ║ \n",
       " c1_0: 0 ═══════════════════════════════════════════════════════════════════════════════════════════════════════════════════════════════════════════════════════════════════════════════════════════════════════════════════════════════════════════════════════════════╩══╬══╬═\n",
       "                                                                                                                                                                                                                                                                           ║  ║ \n",
       " c1_1: 0 ══════════════════════════════════════════════════════════════════════════════════════════════════════════════════════════════════════════════════════════════════════════════════════════════════════════════════════════════════════════════════════════════════╩══╬═\n",
       "                                                                                                                                                                                                                                                                              ║ \n",
       " c1_2: 0 ═════════════════════════════════════════════════════════════════════════════════════════════════════════════════════════════════════════════════════════════════════════════════════════════════════════════════════════════════════════════════════════════════════╩═\n",
       "                                                                                                                                                                                                                                                                                \n",
       " c1_3: 0 ═══════════════════════════════════════════════════════════════════════════════════════════════════════════════════════════════════════════════════════════════════════════════════════════════════════════════════════════════════════════════════════════════════════\n",
       "                                                                                                                                                                                                                                                                                </pre>"
      ],
      "text/plain": [
       "<qiskit.visualization.text.TextDrawing at 0x11832cfd0>"
      ]
     },
     "execution_count": 54,
     "metadata": {},
     "output_type": "execute_result"
    }
   ],
   "source": [
    "chewed_x_qpe = transpile(x_qpe_qc, q_backend)\n",
    "chewed_x_qpe.draw(line_length=400)"
   ]
  },
  {
   "cell_type": "markdown",
   "metadata": {
    "slideshow": {
     "slide_type": "slide"
    }
   },
   "source": [
    "# Now, Executing Our Circuit:"
   ]
  },
  {
   "cell_type": "code",
   "execution_count": 55,
   "metadata": {
    "slideshow": {
     "slide_type": "-"
    }
   },
   "outputs": [],
   "source": [
    "shots = 8192        # Number of shots to run the program (experiment); maximum is 8192 shots.\n",
    "job_exp = execute(x_qpe_qc, q_backend, shots = shots)"
   ]
  },
  {
   "cell_type": "code",
   "execution_count": 62,
   "metadata": {
    "slideshow": {
     "slide_type": "fragment"
    }
   },
   "outputs": [
    {
     "data": {
      "text/plain": [
       "<JobStatus.DONE: 'job has successfully run'>"
      ]
     },
     "execution_count": 62,
     "metadata": {},
     "output_type": "execute_result"
    }
   ],
   "source": [
    "# Check the job status\n",
    "job_exp.status()"
   ]
  },
  {
   "cell_type": "markdown",
   "metadata": {},
   "source": [
    "# 🚨Note🚨: 'job is actively running' includes waiting in the queue!"
   ]
  },
  {
   "cell_type": "markdown",
   "metadata": {
    "slideshow": {
     "slide_type": "slide"
    }
   },
   "source": [
    "Note that I increase the timeout and wait time below considerably - this is completely necessary. The defaults are way too short."
   ]
  },
  {
   "cell_type": "code",
   "execution_count": 66,
   "metadata": {
    "slideshow": {
     "slide_type": "fragment"
    }
   },
   "outputs": [
    {
     "data": {
      "image/png": "[encoded data removed]",
      "text/plain": [
       "<Figure size 504x360 with 1 Axes>"
      ]
     },
     "execution_count": 66,
     "metadata": {},
     "output_type": "execute_result"
    }
   ],
   "source": [
    "# We recommend increasing the timeout to 30 minutes to avoid timeout errors when the queue is long.\n",
    "result_real = job_exp.result(timeout=3600, wait=5)\n",
    "counts = result_real.get_counts(x_qpe_qc)\n",
    "plot_histogram(counts)"
   ]
  },
  {
   "cell_type": "code",
   "execution_count": 67,
   "metadata": {
    "slideshow": {
     "slide_type": "fragment"
    }
   },
   "outputs": [
    {
     "data": {
      "text/plain": [
       "0.81467"
      ]
     },
     "execution_count": 67,
     "metadata": {},
     "output_type": "execute_result"
    }
   ],
   "source": [
    "angles = np.array([v*int(k, 2) for k, v in counts.items()]) / shots / 2**(n-1)\n",
    "res = 2*sum(angles)\n",
    "np.around(res, decimals=5)"
   ]
  },
  {
   "cell_type": "markdown",
   "metadata": {
    "slideshow": {
     "slide_type": "-"
    }
   },
   "source": [
    "Uh... not ideal, but the important peaks are coming through. More work to do..."
   ]
  },
  {
   "cell_type": "markdown",
   "metadata": {
    "slideshow": {
     "slide_type": "slide"
    }
   },
   "source": [
    "FYI, you can also retrieve an old job by its job_id."
   ]
  },
  {
   "cell_type": "code",
   "execution_count": 64,
   "metadata": {
    "slideshow": {
     "slide_type": "-"
    }
   },
   "outputs": [
    {
     "name": "stdout",
     "output_type": "stream",
     "text": [
      "JOB ID: 5cc04d41b36f880068e238df\n"
     ]
    },
    {
     "data": {
      "text/plain": [
       "{'0101': 1173,\n",
       " '0100': 1209,\n",
       " '0011': 1071,\n",
       " '0111': 1123,\n",
       " '0110': 539,\n",
       " '0001': 784,\n",
       " '0010': 451,\n",
       " '0000': 1842}"
      ]
     },
     "execution_count": 64,
     "metadata": {},
     "output_type": "execute_result"
    }
   ],
   "source": [
    "jobID = job_exp.job_id()\n",
    "\n",
    "print('JOB ID: {}'.format(jobID))\n",
    "\n",
    "job_get=q_backend.retrieve_job(jobID)\n",
    "job_get.result().get_counts(x_qpe_qc)"
   ]
  },
  {
   "cell_type": "markdown",
   "metadata": {
    "slideshow": {
     "slide_type": "slide"
    }
   },
   "source": [
    "# Tips and tricks\n",
    "\n",
    "* Put many circuits into a single execution!\n",
    "  * Simulators will (generally) execute these in parallel\n",
    "  * Quantum Hardware does a lot of calibration for each new job, so if you send 100 jobs it will generally take ~100x as long as one job with 100 circuits, even if the circuits are completely different!\n",
    "* Increase your timeout when waiting for results! Default is 30 seconds, better to set to 1800 (30 mins)\n",
    "  * See notebook above (ctrl-f for 'timeout')\n",
    "* Consider commenting out Qobj validation if you need more speed in an iterative algo, but don’t tell anyone who told you so!\n",
    "* Use an IDE!! A lot of people at IBM use Pycharm. Being able to step through the code is critical!"
   ]
  },
  {
   "cell_type": "markdown",
   "metadata": {
    "slideshow": {
     "slide_type": "slide"
    }
   },
   "source": [
    "* Look at the debug log messages. There is a ton of important info in there.\n",
    "  * Even better, save them to a file."
   ]
  },
  {
   "cell_type": "code",
   "execution_count": 74,
   "metadata": {
    "slideshow": {
     "slide_type": "fragment"
    }
   },
   "outputs": [],
   "source": [
    "import logging\n",
    "logging.getLogger('qiskit').setLevel(logging.DEBUG)"
   ]
  },
  {
   "cell_type": "markdown",
   "metadata": {
    "slideshow": {
     "slide_type": "fragment"
    }
   },
   "source": [
    "Redirecting logs to a file:\n",
    "\n",
    "```\n",
    "# Redirecting debug logs to a file (can't be done in colab):\n",
    "    loggerc = logging.getLogger('qiskit_aqua_chemistry')\n",
    "    loggerc.setLevel(logging.DEBUG)\n",
    "    loggera = logging.getLogger('qiskit_aqua')\n",
    "    loggera.setLevel(logging.DEBUG)\n",
    "    loggerq = logging.getLogger('qiskit')\n",
    "    loggerq.setLevel(logging.DEBUG)\n",
    "    formatter = logging.Formatter(fmt='%(asctime)s %(levelname)-8s %(message)s', datefmt='%Y-%m-%d %H:%M:%S')\n",
    "    hdlr = logging.FileHandler(outdir + log_file_name, mode='w')\n",
    "    hdlr.setFormatter(formatter)\n",
    "    loggerc.addHandler(hdlr)\n",
    "    loggera.addHandler(hdlr)\n",
    "    loggerq.addHandler(hdlr)\n",
    "    print('\\nlog file: {}'.format(outdir + log_file_name))\n",
    "# <build, execute, etc.>\n",
    "# close up handlers\n",
    "    loggerc.removeHandler(hdlr)\n",
    "    loggera.removeHandler(hdlr)\n",
    "    loggerq.removeHandler(hdlr)\n",
    "    hdlr.close()\n",
    "```"
   ]
  },
  {
   "cell_type": "markdown",
   "metadata": {
    "slideshow": {
     "slide_type": "slide"
    }
   },
   "source": [
    "Handling errors from the hardware and APIs is hard! Don't reinvent the wheel. The Aqua team have built a sophisticated system for robust and fault-resilient execution. I highly recommend you use it, or copy its methods: [run_circuits.py](https://github.com/Qiskit/aqua/blob/master/qiskit_aqua/utils/run_circuits.py)"
   ]
  },
  {
   "cell_type": "markdown",
   "metadata": {
    "slideshow": {
     "slide_type": "slide"
    }
   },
   "source": [
    "# Learning more\n",
    "\n",
    "The [qiskit-tutorials](https://github.com/Qiskit/qiskit-tutorials) 📒 repo on Github has dozens of thoughtful and sophisticated tutorials. I highly recommend going through both the “[qiskit/](https://github.com/Qiskit/qiskit-tutorials/tree/master/qiskit)” directory and the “[community/](https://github.com/Qiskit/qiskit-tutorials/tree/master/community)” directory. I learn new things every time I look through them, and reference them regularly.\n",
    "\n",
    "The order in which I investigate if I'm confused about something:\n",
    "* Look at the tutorials for an example\n",
    "* Look at the code directly to understand the behavior\n",
    "* Look at the tests for an example\n",
    "* Debug in my IDE, relying heavily on inspecting objects during execution\n",
    "* Look at the documentation"
   ]
  },
  {
   "cell_type": "markdown",
   "metadata": {
    "slideshow": {
     "slide_type": "slide"
    }
   },
   "source": [
    "# Review - Quantum Algorithm Building Blocks\n",
    "\n",
    "Four major building blocks of quantum algorithms:\n",
    "\n",
    "* Quantum Fourier Transform\n",
    "   * Period-finding and phase↔norm swapping\n",
    "   * Speedup from O(n2n) to O(n2)\n",
    "   * E.g. Shor’s algorithm, Quantum Phase Estimation\n",
    "* Hamiltonian Evolution\n",
    "   * Applying a Hamiltonian to an initial state over an arbitrary time period\n",
    "   * Exponential speedup (mostly, with complicated factors)\n",
    "   * E.g. HHL, QAOA, QPE\n",
    "* Unstructured Search (Grover’s)\n",
    "   * Search for a state (string) exhibiting a binary condition (e.g. satisfy my 3SAT problem…)\n",
    "   * Speedup of O(√n)\n",
    "* Variational Optimization\n",
    "   * Prepare a quantum state using a parameterized short circuit, use a classical optimizer to optimize parameters toward some desired quality evaluated on the QC (e.g. binary classification)\n",
    "   * Speedups vary, usually no guaranteed speedup, but good for NISQ machines\n",
    "   * E.g. VQE, VSVM, QAOA"
   ]
  },
  {
   "cell_type": "markdown",
   "metadata": {
    "slideshow": {
     "slide_type": "slide"
    }
   },
   "source": [
    "# Quantum Fourier Transform\n",
    "\n",
    "We've used it above and it is straightforward to implement, but it is not very intuitive as a building block, and I recommend the [tutorial dedicated to it](https://github.com/Qiskit/qiskit-tutorial/blob/master/community/terra/qis_adv/fourier_transform.ipynb) 📒 by Anna Phan. I also highly recommmend 3Blue1Brown's video on the [continuous fourier transform](https://www.youtube.com/watch?v=spUNpyF58BY)."
   ]
  },
  {
   "cell_type": "markdown",
   "metadata": {
    "slideshow": {
     "slide_type": "slide"
    }
   },
   "source": [
    "# Hamiltonian Evolution\n",
    "\n",
    "This is trickier, we're working on it. For now, the best way to learn about this in Qiskit is in the [Aqua operator class](https://github.com/Qiskit/aqua/blob/master/qiskit_aqua/operator.py#L1119), which includes lots of evolution logic."
   ]
  },
  {
   "cell_type": "markdown",
   "metadata": {
    "slideshow": {
     "slide_type": "slide"
    }
   },
   "source": [
    "# Grover’s Algorithm\n",
    "\n",
    "Pretty straightforward in Terra. See [this notebook](https://github.com/Qiskit/qiskit-tutorial/blob/master/community/algorithms/grover_algorithm.ipynb) 📒 by Giacomo Nannicini and Raymond Harry Rudy.\n",
    "\n"
   ]
  },
  {
   "cell_type": "markdown",
   "metadata": {
    "slideshow": {
     "slide_type": "slide"
    }
   },
   "source": [
    "# Variational Optimization\n",
    "\n",
    "This also doesn't have a standalone tutorial, but the [Aqua VQE](https://github.com/Qiskit/aqua/blob/master/qiskit_aqua/algorithms/adaptive/vqe/vqe.py) is a straightforward, well engineered example of variational optimization. The [Aqua Variational SVM](https://github.com/Qiskit/aqua/blob/master/qiskit_aqua/algorithms/adaptive/qsvm/qsvm_variational.py) is also a good example."
   ]
  },
  {
   "cell_type": "markdown",
   "metadata": {
    "slideshow": {
     "slide_type": "slide"
    }
   },
   "source": [
    "# Learning More - A Longer Course\n",
    "\n",
    "[This doc](https://docs.google.com/document/d/1WoUQky2NXdbrdGkxaUA28VE7W3fryTQG6ezn8Fw-l4E/edit) details a longer course to fluency in Quantum Programming."
   ]
  }
 ],
 "metadata": {
  "celltoolbar": "Slideshow",
  "kernelspec": {
   "display_name": "code",
   "language": "python",
   "name": "code"
  },
  "language_info": {
   "codemirror_mode": {
    "name": "ipython",
    "version": 3
   },
   "file_extension": ".py",
   "mimetype": "text/x-python",
   "name": "python",
   "nbconvert_exporter": "python",
   "pygments_lexer": "ipython3",
   "version": "3.6.5"
  }
 },
 "nbformat": 4,
 "nbformat_minor": 2
}
